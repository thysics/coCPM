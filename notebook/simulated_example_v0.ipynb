{
 "cells": [
  {
   "cell_type": "markdown",
   "id": "8af6f1be",
   "metadata": {},
   "source": [
    "## Purpose\n",
    "\n",
    "This notebook demonstrates the application of our method to a simulated example. The goal is to examine whether the addition of consistecy constraint to the DeSurv model makes it produce survival prediction that is more in-line with the baseline approach in the out-of-distribution dataset. \n",
    "\n",
    "\n",
    "## Covariates\n",
    "We have a 2-dimensional covariate vector $\\mathbf{x} = [x_1, x_2]$. The first three covariates, $x_1$, $x_2$ are drawn from a bivariate normal distribution.\n",
    "\n",
    "- In **dataset H1**\n",
    "$$\\mathbf{x} \\sim \\text{Normal}(\\mathbf{0}, I)$$\n",
    "\n",
    "- In **dataset H2**\n",
    "$$\\mathbf{x} \\sim \\text{Normal}([-1, 1]^{T}, I)$$\n",
    "\n",
    "\n",
    "### Dataset\n",
    "\n",
    "Given $\\mathbf{x}_{i} \\sim \\text{H2}$, we categorize them into two datasets:\n",
    "\n",
    "- **In-distribution dataset (ID)**\n",
    "    $$\n",
    "    \\{\\mathbf{x}_{i} \\mid p_{H1}(x_i) > \\alpha\\}\n",
    "    $$\n",
    "\n",
    "- **Out-of-distribution dataset (OOD)**\n",
    "    $$\n",
    "    \\{\\mathbf{x}_{i} \\mid p_{H1}(x_i) \\leq \\alpha\\}\n",
    "    $$\n",
    "\n",
    "where $p_{H1}(\\cdot)$ denotes probability density function (pdf) of (standard) bivariate normal as in H1, and $\\alpha = P_{(0.05)}$, such that $P_{\\beta}$ is defined as the $\\beta$-quantile of the PDF of each covariate $x_{i} \\sim \\text{H1}$. Specifically, $D_{\\beta}$ is the value for which:\n",
    "\n",
    "$$\n",
    "P(p_{H1}(x) \\leq P_{\\beta}) = \\beta \\quad \\forall \\mathbf{x} \\sim P_{H1}\n",
    "$$\n",
    "\n",
    "In other words, the in-distribution dataset contains samples that likely to occur under covariate distribution H1, while the out-of-distribution dataset contains samples that rarely occur under H1.\n",
    "\n",
    "### Data Generating Processes (DGP)\n",
    "\n",
    "Given covariates, we generate time-to-event ($t$), following DGP:\n",
    "\n",
    "- **DGP: G**\n",
    "    $$ \\ln Y = \\sum_{j=1}^{2}w_{2j}x_{j} + w_{23}x_{1}x_{2} + w_{24}(x_{1} + x_{2} - 0.5)^{2} + \\frac{Z}{3}, \\quad Z \\sim \\text{Gumbel}(0, 1)$$\n",
    "    \n",
    "    - Here, the weights $\\mathbf{w}_{2} = [0.2, 0.15, -0.1, -0.1]$.\n",
    "    \n",
    "## Methods\n",
    "\n",
    "### Training & Test set\n",
    "\n",
    "For training, we use the following dataset:\n",
    "\n",
    "- ID_Train (D1): $\\{t_{i}, \\mathbf{x}_{i}\\}_{i=1}^{1000}$ such that $t \\sim G(\\mathbf{x})$, $\\mathbf{x} \\sim P_{H1}$\n",
    "- OOD_Train (D2): $\\{t_{i}, \\mathbf{x}_{i}: P_{H1}(\\mathbf{x}_{i}) \\leq P_{0.05}\\}_{i=1}^{86}$ such that $t \\sim G(\\mathbf{x})$, $\\mathbf{x} \\sim P_{H2}$,\n",
    "\n",
    "\n",
    "For testing, we use the following:\n",
    "\n",
    "- ID_Test (D1*): $\\{t_{i}, \\mathbf{x}_{i}: P_{H1}(\\mathbf{x}_{i}) \\geq P_{0.05}\\}_{i=1}^{130}$ such that $t \\sim G(\\mathbf{x})$, $\\mathbf{x} \\sim P_{H2}$\n",
    "- OOD_Test (D2*): $\\{t_{i}, \\mathbf{x}_{i}: P_{H1}(\\mathbf{x}_{i}) \\leq P_{0.05}\\}_{i=1}^{130}$ such that $t \\sim G(\\mathbf{x})$, $\\mathbf{x} \\sim P_{H2}$\n",
    "\n",
    "where $P_{0.05}$ is 5-percentile value of the set $\\{p_{H1}(\\mathbf{x}): \\mathbf{x} \\in \\text{ID_Train}\\}$\n",
    "\n",
    "### Models\n",
    "\n",
    "We train four models: the AFT Weibull model (AFT), DeSurv with consistency constraint (coDeSurv) and DeSurvs each of which is trained on D1 (D1_DeSurv) and D1&2 (DeSurv).\n",
    "\n",
    "Note that:\n",
    "\n",
    "\t1.The AFT model is trained using only D1.\n",
    "    2.DeSurv is trained trained on D1.\n",
    "\t3.coDeSurv is trained on both D1 (and D2).\n",
    "\n",
    "### Training\n",
    "\n",
    "To train coDeSurv, we carry out stochastic gradient descent using Adam to minimise the objective consisting of likelihood and (consistency) regularisation term:\n",
    "\n",
    "$$\\Big[\\sum_{i: s_{i} = 1}\\log p_{\\boldsymbol{\\theta}}(t_i|\\mathbf{x}_i) + \\sum_{i: s_i = 0}(\\log (1- F_{\\boldsymbol{\\theta}}(t_{i}|\\mathbf{x}_i))\\Big] + \\Big[\\mathbb{E}_{\\mathbf{x} \\sim {\\mathcal X_{D2}}} \\mathbb{E}_{t \\sim p_{\\boldsymbol{\\theta}}(t)} [ (F_\\theta(t|\\mathbf{x}) - \\hat{F}(t|\\mathbf{x}) )^2  ]\\Big]$$\n",
    "\n",
    "where $s \\in \\{0, 1\\}$ denotes time-to-event indicator. The gradient of the regularisation term is estimated using the Score function estimator. \n",
    "\n",
    "Hyperparameters are set as follows: the number of epochs (300), the network architecture (1-hidden layer with 8 hidden units), and learning rate (0.001). When training coDeSurv, we pre-train the model for 20 epochs without regularisation term, and then introduce it to the training objective afterward.\n",
    "\n",
    "### Evaluation\n",
    "\n",
    "We test each model's predictive performance and consistency based on the test set (D1* and D2*). Predictive performance is measured in terms of log-likelihood and concordance index. The consistency is computed based on a Monte Carlo estimate of the following quantity: \n",
    "\n",
    "$$\\mathbb{E}_{\\mathbf{x} \\sim {\\mathcal X}} \\mathbb{E}_{t \\sim p_{\\theta}(t)} [ (F_\\theta(t|\\mathbf{x}) - \\hat{F}(t|\\mathbf{x}) )^2  ]$$\n",
    "\n",
    "where $\\mathcal X \\in \\{\\mathcal X_{D1*}, \\mathcal X_{D2*}\\}$\n",
    "\n",
    "## Outcome\n",
    "\n",
    "This notebook demonstrates that:\n",
    "\n",
    "\t1. coDeSurv's predicted survival curves are closer to the baseline model than D1_DeSurv on both D1 and D2.\n",
    "    2. In D1, DeSurv (D1 & D2) results in a closer prediction than coDeSurv.\n",
    "    3. DeSurv (D1 & D2) results in the best predictive performance in terms of LIK and C-index.\n",
    "    \n",
    "    \n",
    "\n",
    "## Appendix\n",
    "\n",
    "- **DGP G1**\n",
    "    $$ \\ln Y = \\sum_{j=1}^{2} w_{1j} x_j + \\frac{Z}{3}, \\quad Z \\sim \\text{Gumbel}(0, 1) $$\n",
    "    \n",
    "    - Here, the weights $\\mathbf{w}_1 = [0.2, 0.15]$.\n",
    "\n",
    "**Note: In the end, we didn't simulate time-to-events from G1. Given t ~ G1, baseline model's predictive performance is more accurate in D2 than D1 even if it is trained only on D1.**"
   ]
  },
  {
   "cell_type": "code",
   "execution_count": 1,
   "id": "0b0db56d",
   "metadata": {},
   "outputs": [],
   "source": [
    "import numpy as np\n",
    "import torch\n",
    "import torch.nn as nn\n",
    "import pandas as pd\n",
    "import matplotlib.pylab as plt\n",
    "import seaborn as sns\n",
    "import tqdm as tq\n",
    "import pickle\n",
    "\n",
    "\n",
    "from sklearn.model_selection import train_test_split\n",
    "from scipy.stats import multivariate_normal\n",
    "from torch.utils.data import TensorDataset, DataLoader\n",
    "from torch.nn.functional import softplus, softmax\n",
    "\n",
    "\n",
    "from torch.distributions import Distribution\n",
    "from scipy.optimize import root_scalar\n",
    "\n",
    "from lifelines import WeibullAFTFitter, KaplanMeierFitter\n",
    "\n",
    "from sksurv.metrics import concordance_index_censored\n",
    "\n",
    "from typing import Union, List, Tuple\n",
    "\n",
    "from model.coDeSurv import ConsistentDeSurv\n",
    "from model.DeSurv import DeSurv\n",
    "from model.utils import F_theta"
   ]
  },
  {
   "cell_type": "markdown",
   "id": "9ad67477",
   "metadata": {},
   "source": [
    "## Simulating data"
   ]
  },
  {
   "cell_type": "code",
   "execution_count": 2,
   "id": "87ac6819",
   "metadata": {},
   "outputs": [],
   "source": [
    "class DGP:\n",
    "    \"\"\"\n",
    "    Weibull Accelerated Failure Time (AFT) model for generating synthetic data.\n",
    "\n",
    "    Methods:\n",
    "        gumbel_samples(N: int) -> np.ndarray:\n",
    "            Generate Gumbel(0,1) samples.\n",
    "        \n",
    "        generate_ood(X: np.ndarray, k: float, weights: np.ndarray, censoring_rate: float = 0.0) -> Tuple[np.ndarray, np.ndarray]:\n",
    "            Generate out-of-distribution (OOD) data.\n",
    "        \n",
    "        generate_indist(X: np.ndarray, k: float, weights: np.ndarray, censoring_rate: float = 0.0) -> Tuple[np.ndarray, np.ndarray]:\n",
    "            Generate in-distribution (ID) data.\n",
    "    \"\"\"\n",
    "\n",
    "    def __init__(self) -> None:\n",
    "        pass\n",
    "\n",
    "    def gumbel_samples(self, N: int) -> np.ndarray:\n",
    "        \"\"\"\n",
    "        Generate Gumbel(0,1) samples.\n",
    "\n",
    "        Args:\n",
    "            N (int): Number of samples to generate.\n",
    "\n",
    "        Returns:\n",
    "            np.ndarray: Array of Gumbel(0,1) samples.\n",
    "        \"\"\"\n",
    "        # Generate uniform random samples\n",
    "        U = np.random.uniform(size=N)\n",
    "\n",
    "        # Transform to Gumbel(0,1) distribution\n",
    "        return -np.log(-np.log(U))\n",
    "    \n",
    "    def log_normal_samples(self, N: int, mean: float, sigma: float) -> np.ndarray:\n",
    "        \"\"\"\n",
    "        Generate log-normal samples.\n",
    "\n",
    "        Args:\n",
    "            N (int): Number of samples to generate.\n",
    "            mean (float): Mean of the underlying normal distribution.\n",
    "            sigma (float): Standard deviation of the underlying normal distribution.\n",
    "\n",
    "        Returns:\n",
    "            np.ndarray: Array of log-normal samples.\n",
    "        \"\"\"\n",
    "        # Generate normal random samples\n",
    "        normal_samples = np.random.normal(loc=mean, scale=sigma, size=N)\n",
    "\n",
    "        # Transform to log-normal distribution\n",
    "        log_normal_samples = np.exp(normal_samples)\n",
    "\n",
    "        return log_normal_samples\n",
    "    \n",
    "    def generate_covariates(self, type: str = \"H1\", N: int = 1000):\n",
    "        \n",
    "        if type == \"H1\":\n",
    "            res = np.random.normal(0, 1, size=(N, 2))\n",
    "        else:\n",
    "            # Define the mean vector (all zeros)\n",
    "            mean_ = [-1, 1]\n",
    "\n",
    "            # Define the covariance matrix\n",
    "            cov_matrix = np.array([\n",
    "                [1.0, 0.0],\n",
    "                [0.0, 1.0],\n",
    "            ])\n",
    "\n",
    "            # Generate samples from the multivariate normal distribution\n",
    "            res = np.random.multivariate_normal(mean_, cov_matrix, size=N)\n",
    "            \n",
    "        return res\n",
    "    \n",
    "    def generate_survival_time(self, X:np.ndarray, k:float, weights: np.ndarray, censoring_rate: float, type: str = \"H1\") -> Tuple[np.ndarray, np.ndarray]:\n",
    "        assert type in [\"G1\" , \"G2\"], \"You must choose either type G1 or G2.\"\n",
    "        \n",
    "        N = X.shape[0]\n",
    "        Z = self.gumbel_samples(N=N)\n",
    "        Y = np.zeros(N)\n",
    "        event_indicator = np.ones(N)\n",
    "        \n",
    "        if type == \"G1\":\n",
    "            assert len(weights) == 2, \"In type G1, weights must have 2-dimension.\"\n",
    "            for i in range(N):\n",
    "                ln_Y = (weights * X[i]).sum() + 1 / k * Z[i]\n",
    "                Y[i] = np.exp(ln_Y)\n",
    "        else:\n",
    "            assert len(weights) == 4, \"In type G2, weights must have 4-dimension.\"\n",
    "            \n",
    "            for i in range(N):\n",
    "                ln_Y = (weights[:2] * X[i]).sum() + weights[2] * (X[i, 0] * X[i, 1]) + weights[3] * (X[i, 0] + X[i, 1] - 0.5) ** 2 + 1 / k * Z[i]\n",
    "                Y[i] = np.exp(ln_Y)\n",
    "        \n",
    "        if censoring_rate > 0:\n",
    "            num_censored = int(N * censoring_rate)\n",
    "            censored_indices = np.random.choice(N, num_censored, replace=False)\n",
    "\n",
    "            for idx in censored_indices:\n",
    "                event_indicator[idx] = 0\n",
    "                Y[idx] = np.random.uniform(0, Y[idx])\n",
    "        \n",
    "        return Y, event_indicator\n",
    "        "
   ]
  },
  {
   "cell_type": "code",
   "execution_count": 3,
   "id": "3f0cd5ef",
   "metadata": {},
   "outputs": [],
   "source": [
    "random_seed = 13\n",
    "torch.manual_seed(random_seed)\n",
    "np.random.seed(random_seed)"
   ]
  },
  {
   "cell_type": "code",
   "execution_count": 4,
   "id": "c3212118",
   "metadata": {},
   "outputs": [],
   "source": [
    "x_label = [\"x1\", \"x2\"]\n",
    "t_label = \"Duration\"\n",
    "e_label = \"Censor\"\n",
    "o_label = \"OOD\""
   ]
  },
  {
   "cell_type": "code",
   "execution_count": 5,
   "id": "6203f756",
   "metadata": {},
   "outputs": [],
   "source": [
    "N = 1000"
   ]
  },
  {
   "cell_type": "markdown",
   "id": "2d53959a",
   "metadata": {},
   "source": [
    "## Simulating covariates"
   ]
  },
  {
   "cell_type": "code",
   "execution_count": 6,
   "id": "9e14ab9b",
   "metadata": {},
   "outputs": [],
   "source": [
    "dgp = DGP()"
   ]
  },
  {
   "cell_type": "code",
   "execution_count": 7,
   "id": "1e8e999c",
   "metadata": {},
   "outputs": [],
   "source": [
    "x_h1 = dgp.generate_covariates(type = \"H1\", N = 1000)\n",
    "x_h2 = dgp.generate_covariates(type = \"H2\", N = 2000)"
   ]
  },
  {
   "cell_type": "markdown",
   "id": "47c8f68e",
   "metadata": {},
   "source": [
    "### Define ID & OOD"
   ]
  },
  {
   "cell_type": "code",
   "execution_count": 8,
   "id": "b1020946",
   "metadata": {},
   "outputs": [
    {
     "data": {
      "image/png": "[encoded data removed]",
      "text/plain": [
       "<Figure size 864x360 with 2 Axes>"
      ]
     },
     "metadata": {
      "needs_background": "light"
     },
     "output_type": "display_data"
    }
   ],
   "source": [
    "fig, axs = plt.subplots(nrows = 1, ncols = 2, figsize = (12, 5))\n",
    "\n",
    "axs[0].scatter(*x_h1.T, color = \"tab:grey\", label = \"H1\")\n",
    "axs[1].scatter(*x_h2.T, color = \"tab:red\", label = \"H2\")\n",
    "\n",
    "for ax in axs.ravel():\n",
    "    ax.set_xlim([-6, 6])\n",
    "    ax.set_ylim([-6, 6])\n",
    "    ax.axvline(0, linestyle = \"--\", color = 'black')\n",
    "    ax.axhline(0, linestyle = \"--\", color = 'black')\n",
    "    ax.set_xlabel(\"x1\")\n",
    "    ax.set_ylabel(\"x2\")\n",
    "    ax.legend()\n",
    "    \n",
    "plt.show()"
   ]
  },
  {
   "cell_type": "code",
   "execution_count": 9,
   "id": "11f980c3",
   "metadata": {},
   "outputs": [],
   "source": [
    "def compute_pdf(data):\n",
    "    \"\"\"\n",
    "    Compute the probability density function (PDF) values for a given N x 2 numpy array.\n",
    "    Each row of the array is assumed to be drawn from a bivariate normal distribution with mean 0 and variance 1.\n",
    "\n",
    "    Parameters:\n",
    "    data (numpy.ndarray): N x 2 array where each row represents a 2D point.\n",
    "\n",
    "    Returns:\n",
    "    numpy.ndarray: N-dimensional array containing the PDF values for each point.\n",
    "    \"\"\"\n",
    "    # Define the mean and covariance matrix for the bivariate normal distribution\n",
    "    mean = np.array([0, 0])  # Mean vector [0, 0]\n",
    "    cov = np.array([[1, 0], [0, 1]])  # Covariance matrix (identity matrix for independent variables)\n",
    "\n",
    "    # Create a multivariate normal distribution object\n",
    "    rv = multivariate_normal(mean, cov)\n",
    "\n",
    "    # Compute the PDF values for each point in the input data\n",
    "    pdf_values = rv.pdf(data)\n",
    "\n",
    "    return pdf_values\n",
    "\n",
    "\n",
    "def create_ood_indicator(arr, pdf = True, threshold = None):\n",
    "    \"\"\"\n",
    "    Takes an N x D numpy array and returns a binary N x 1 numpy array.\n",
    "    Each entry is 0 if the Euclidean distance of the n-th dimension is less than the 90th percentile,\n",
    "    and 1 if it exceeds that.\n",
    "\n",
    "    Parameters:\n",
    "        arr (numpy.ndarray): An N x D numpy array.\n",
    "\n",
    "    Returns:\n",
    "        numpy.ndarray: An N x 1 binary numpy array.\n",
    "    \"\"\"\n",
    "    if pdf:\n",
    "        distances = compute_pdf(arr)\n",
    "    else:\n",
    "        # Compute the Euclidean distance of each row from the origin\n",
    "        distances = np.linalg.norm(arr, axis=1)\n",
    "\n",
    "    if threshold is None:\n",
    "        # Find the 90th percentile of the distances\n",
    "        threshold = np.percentile(distances, 90)\n",
    "    \n",
    "    if pdf:\n",
    "        binary_array = (distances <= threshold).astype(int)\n",
    "    else:\n",
    "        # Create a binary array based on the threshold\n",
    "        binary_array = (distances >= threshold).astype(int)\n",
    "\n",
    "    return binary_array\n",
    "\n"
   ]
  },
  {
   "cell_type": "code",
   "execution_count": 10,
   "id": "49f9685c",
   "metadata": {},
   "outputs": [],
   "source": [
    "thres = np.percentile(compute_pdf(x_h1), 5)"
   ]
  },
  {
   "cell_type": "code",
   "execution_count": 11,
   "id": "ac9f401b",
   "metadata": {},
   "outputs": [],
   "source": [
    "ood_indicator = create_ood_indicator(x_h2, threshold = thres)"
   ]
  },
  {
   "cell_type": "code",
   "execution_count": 12,
   "id": "5a2bc517",
   "metadata": {},
   "outputs": [],
   "source": [
    "x_ood = x_h2[ood_indicator == 1.]\n",
    "x_id = x_h2[ood_indicator == 0.]"
   ]
  },
  {
   "cell_type": "code",
   "execution_count": 13,
   "id": "cf1dd2fb",
   "metadata": {},
   "outputs": [
    {
     "data": {
      "image/png": "[encoded data removed]",
      "text/plain": [
       "<Figure size 864x360 with 2 Axes>"
      ]
     },
     "metadata": {
      "needs_background": "light"
     },
     "output_type": "display_data"
    }
   ],
   "source": [
    "fig, axs = plt.subplots(nrows = 1, ncols = 2, figsize = (12, 5))\n",
    "\n",
    "axs[0].scatter(*x_h1.T, color = \"black\", label = \"ID\", alpha = 0.3)\n",
    "axs[0].set_title(\"Training set: H1\")\n",
    "\n",
    "axs[1].scatter(*x_ood.T, color = \"tab:red\", label = \"OOD\")\n",
    "axs[1].scatter(*x_id.T, color = \"tab:grey\", alpha = 0.01,)\n",
    "axs[1].set_title(\"Training set: H2\")\n",
    "\n",
    "for ax in axs.ravel():\n",
    "    ax.set_xlim([-6, 6])\n",
    "    ax.set_ylim([-6, 6])\n",
    "    ax.axvline(0, linestyle = \"--\", color = 'black')\n",
    "    ax.axhline(0, linestyle = \"--\", color = 'black')\n",
    "    ax.set_xlabel(\"x1\")\n",
    "    ax.set_ylabel(\"x2\")\n",
    "    ax.legend()\n",
    "    \n",
    "plt.show()\n"
   ]
  },
  {
   "cell_type": "markdown",
   "id": "6d47a996",
   "metadata": {},
   "source": [
    "## Simulating time-to-events"
   ]
  },
  {
   "cell_type": "code",
   "execution_count": 14,
   "id": "cfa5ae1c",
   "metadata": {},
   "outputs": [],
   "source": [
    "y_h1, s_h1 = dgp.generate_survival_time(X = x_h1, k = 3, weights = [0.2, 0.5, -0.1, -0.4], censoring_rate = 0.3, type = \"G2\")"
   ]
  },
  {
   "cell_type": "code",
   "execution_count": 15,
   "id": "50eb373c",
   "metadata": {},
   "outputs": [],
   "source": [
    "y_ood, s_ood = dgp.generate_survival_time(X = x_ood, k = 3, weights = [0.2, 0.5, -0.1, -0.4], censoring_rate = 0.3, type = \"G2\")\n",
    "y_id, s_id = dgp.generate_survival_time(X = x_id, k = 3, weights = [0.2, 0.5, -0.1, -0.4], censoring_rate = 0.3, type = \"G2\")"
   ]
  },
  {
   "cell_type": "markdown",
   "id": "a0fc2b62",
   "metadata": {},
   "source": [
    "## Creating dataset: ID & OOD"
   ]
  },
  {
   "cell_type": "code",
   "execution_count": 16,
   "id": "c0a94f64",
   "metadata": {},
   "outputs": [],
   "source": [
    "data_train = pd.DataFrame(\n",
    "    np.column_stack([y_h1, s_h1, x_h1]), columns=[\"Duration\", \"Censor\", \"x1\", \"x2\"]\n",
    ")"
   ]
  },
  {
   "cell_type": "code",
   "execution_count": 17,
   "id": "33ad15ae",
   "metadata": {},
   "outputs": [
    {
     "data": {
      "text/plain": [
       "(1000, 4)"
      ]
     },
     "execution_count": 17,
     "metadata": {},
     "output_type": "execute_result"
    }
   ],
   "source": [
    "data_train.shape"
   ]
  },
  {
   "cell_type": "markdown",
   "id": "7804a96f",
   "metadata": {},
   "source": [
    "### Split OOD dataset into training and test set"
   ]
  },
  {
   "cell_type": "code",
   "execution_count": 18,
   "id": "ecdd21f6",
   "metadata": {},
   "outputs": [],
   "source": [
    "random_state = 13"
   ]
  },
  {
   "cell_type": "code",
   "execution_count": 19,
   "id": "3e6ea988",
   "metadata": {},
   "outputs": [],
   "source": [
    "data_ood = pd.DataFrame(\n",
    "    np.column_stack([y_ood, s_ood, x_ood]), columns=[\"Duration\", \"Censor\", \"x1\", \"x2\"]\n",
    ")"
   ]
  },
  {
   "cell_type": "code",
   "execution_count": 20,
   "id": "611e0fa2",
   "metadata": {},
   "outputs": [],
   "source": [
    "data_ood_train, data_ood_test = train_test_split(data_ood, test_size = 0.6, train_size = 0.4, random_state = random_state)"
   ]
  },
  {
   "cell_type": "code",
   "execution_count": 21,
   "id": "91b9ecde",
   "metadata": {},
   "outputs": [
    {
     "data": {
      "text/plain": [
       "(207, 4)"
      ]
     },
     "execution_count": 21,
     "metadata": {},
     "output_type": "execute_result"
    }
   ],
   "source": [
    "data_ood_train.shape"
   ]
  },
  {
   "cell_type": "code",
   "execution_count": 22,
   "id": "9a6ee8a1",
   "metadata": {},
   "outputs": [],
   "source": [
    "data_id_test = pd.DataFrame(\n",
    "    np.column_stack([y_id, s_id, x_id]), columns=[\"Duration\", \"Censor\", \"x1\", \"x2\"]\n",
    ")"
   ]
  },
  {
   "cell_type": "code",
   "execution_count": 23,
   "id": "7a80f459",
   "metadata": {},
   "outputs": [],
   "source": [
    "data_id_test = data_id_test.sample(data_ood_test.shape[0], random_state = random_state)"
   ]
  },
  {
   "cell_type": "code",
   "execution_count": 24,
   "id": "1a2196b6",
   "metadata": {},
   "outputs": [
    {
     "data": {
      "text/plain": [
       "((312, 4), (312, 4))"
      ]
     },
     "execution_count": 24,
     "metadata": {},
     "output_type": "execute_result"
    }
   ],
   "source": [
    "data_ood_test.shape, data_id_test.shape"
   ]
  },
  {
   "cell_type": "code",
   "execution_count": 25,
   "id": "bbda5052",
   "metadata": {},
   "outputs": [
    {
     "data": {
      "text/plain": [
       "(27.2246737157156, 6.256953239933458e-05)"
      ]
     },
     "execution_count": 25,
     "metadata": {},
     "output_type": "execute_result"
    }
   ],
   "source": [
    "data_ood_train[\"Duration\"].max(), data_ood_train[\"Duration\"].min()"
   ]
  },
  {
   "cell_type": "code",
   "execution_count": 26,
   "id": "b5e9384d",
   "metadata": {},
   "outputs": [
    {
     "data": {
      "image/png": "[encoded data removed]",
      "text/plain": [
       "<Figure size 864x360 with 2 Axes>"
      ]
     },
     "metadata": {
      "needs_background": "light"
     },
     "output_type": "display_data"
    }
   ],
   "source": [
    "fig, axs = plt.subplots(nrows = 1, ncols = 2, figsize = (12, 5))\n",
    "\n",
    "axs[0].scatter(*data_id_test[x_label].values.T, color = \"black\", label = \"ID\", alpha = 0.3)\n",
    "axs[0].scatter(*data_ood_test[x_label].values.T, color = \"grey\", label = \"OOD\", alpha = 0.05)\n",
    "axs[0].set_title(\"Test set: ID\")\n",
    "\n",
    "axs[1].scatter(*data_ood_test[x_label].values.T, color = \"tab:red\", label = \"OOD\")\n",
    "axs[1].scatter(*data_id_test[x_label].values.T, color = \"grey\", label = \"ID\", alpha = 0.05)\n",
    "axs[1].set_title(\"Test set: OOD\")\n",
    "\n",
    "for ax in axs.ravel():\n",
    "    ax.set_xlim([-6, 6])\n",
    "    ax.set_ylim([-6, 6])\n",
    "    ax.axvline(0, linestyle = \"--\", color = 'black')\n",
    "    ax.axhline(0, linestyle = \"--\", color = 'black')\n",
    "    ax.set_xlabel(\"x1\")\n",
    "    ax.set_ylabel(\"x2\")\n",
    "    ax.legend()\n",
    "    \n",
    "plt.show()\n"
   ]
  },
  {
   "cell_type": "code",
   "execution_count": 27,
   "id": "4a90065a",
   "metadata": {},
   "outputs": [],
   "source": [
    "# Saving the array to a file using pickle\n",
    "with open('posted/EX05_DATA_FIG.pkl', 'wb') as file:  # 'wb' means write binary\n",
    "    pickle.dump({\"D1\": data_id_test, \"D2\": data_ood_test}, file)"
   ]
  },
  {
   "cell_type": "markdown",
   "id": "f0055c19",
   "metadata": {},
   "source": [
    "## Normalise the duration column\n",
    "\n",
    "1. Remove outliers (i.e., $t_{j} \\quad s.t. \\quad t_{j} >= t_{(99)}$)\n",
    "\n",
    "2. Normalise the value by min-max\n",
    "\n",
    "This steps is necessary to avoid numerical instability of the optimisation step. "
   ]
  },
  {
   "cell_type": "code",
   "execution_count": 28,
   "id": "7b675f89",
   "metadata": {},
   "outputs": [],
   "source": [
    "# Save training data\n",
    "data_train.to_csv(\"data/sim_train\")"
   ]
  },
  {
   "cell_type": "code",
   "execution_count": 29,
   "id": "8f673265",
   "metadata": {},
   "outputs": [],
   "source": [
    "def drop_high_duration(df: pd.DataFrame) -> pd.DataFrame:\n",
    "    # Calculate the 99th percentile for the 'duration' column\n",
    "    percentile_99 = df['Duration'].quantile(0.99)\n",
    "    \n",
    "    # Filter out rows where 'duration' is greater than the 99th percentile\n",
    "    df_filtered = df[df['Duration'] <= percentile_99]\n",
    "    \n",
    "    return df_filtered"
   ]
  },
  {
   "cell_type": "code",
   "execution_count": 30,
   "id": "95a695cc",
   "metadata": {},
   "outputs": [],
   "source": [
    "d1_data = drop_high_duration(data_train)\n",
    "d2_data = drop_high_duration(data_ood_train)"
   ]
  },
  {
   "cell_type": "code",
   "execution_count": 31,
   "id": "773d4088",
   "metadata": {},
   "outputs": [],
   "source": [
    "def normalize_column(df, ref_df, column_name):\n",
    "    \"\"\"\n",
    "    Normalize the specified column in the DataFrame to be between 0 and 1.\n",
    "\n",
    "    Parameters:\n",
    "    df (pd.DataFrame): The input DataFrame.\n",
    "    ref_df (pd.DataFrame): The reference DataFrame.\n",
    "    column_name (str): The column to be normalized.\n",
    "\n",
    "    Returns:\n",
    "    pd.DataFrame: The DataFrame with the normalized column.\n",
    "    \"\"\"\n",
    "    df = df.copy()  # To avoid modifying the original DataFrame\n",
    "    min_value = ref_df[column_name].min()\n",
    "    max_value = ref_df[column_name].max()\n",
    "    df[column_name] = (df[column_name] - min_value) / (max_value - min_value)\n",
    "    df[column_name] += 1e-8\n",
    "    return df"
   ]
  },
  {
   "cell_type": "code",
   "execution_count": 32,
   "id": "0216ae7d",
   "metadata": {},
   "outputs": [],
   "source": [
    "d1_data = normalize_column(d1_data, d1_data, \"Duration\")\n",
    "d2_data = normalize_column(d2_data, d1_data, \"Duration\")"
   ]
  },
  {
   "cell_type": "code",
   "execution_count": 33,
   "id": "8ca3cea3",
   "metadata": {},
   "outputs": [
    {
     "data": {
      "text/plain": [
       "9.986554406479824"
      ]
     },
     "execution_count": 33,
     "metadata": {},
     "output_type": "execute_result"
    }
   ],
   "source": [
    "d2_data[\"Duration\"].max()"
   ]
  },
  {
   "cell_type": "markdown",
   "id": "ffa4bc55",
   "metadata": {},
   "source": [
    "## Comparison: D1 and D2"
   ]
  },
  {
   "cell_type": "code",
   "execution_count": 34,
   "id": "08f34db0",
   "metadata": {},
   "outputs": [],
   "source": [
    "import pandas as pd\n",
    "import matplotlib.pyplot as plt\n",
    "import numpy as np\n",
    "\n",
    "def plot_duration_hist_and_cdf(d1_data: pd.DataFrame, d2_data: pd.DataFrame):\n",
    "    # Extract 'Duration' columns and sort them for both datasets\n",
    "    d1_duration = d1_data['Duration'].sort_values()\n",
    "    d2_duration = d2_data['Duration'].sort_values()\n",
    "    \n",
    "    # Create subplots: 1 row, 2 columns\n",
    "    fig, (ax1, ax2) = plt.subplots(1, 2, figsize=(14, 6))\n",
    "\n",
    "    # Plot the histogram on the left subplot\n",
    "    ax1.hist(d1_duration, bins=30, color='red', alpha=0.4, label='D1', edgecolor='black')\n",
    "    ax1.hist(d2_duration, bins=30, color='blue', alpha=0.4, label='D2', edgecolor='black')\n",
    "    \n",
    "    ax1.set_xlabel('Duration')\n",
    "    ax1.set_ylabel('Frequency')\n",
    "    ax1.set_title('Histogram of Duration')\n",
    "    ax1.legend()\n",
    "\n",
    "    # Compute empirical CDFs\n",
    "    d1_n = len(d1_duration)\n",
    "    d2_n = len(d2_duration)\n",
    "    \n",
    "    d1_y_vals = np.arange(1, d1_n + 1) / d1_n\n",
    "    d2_y_vals = np.arange(1, d2_n + 1) / d2_n\n",
    "    \n",
    "    # Plot the empirical CDF on the right subplot\n",
    "    ax2.plot(d1_duration.values, d1_y_vals, marker='.', linestyle='none', color='red', label='D1')\n",
    "    ax2.plot(d2_duration.values, d2_y_vals, marker='.', linestyle='none', color='blue', label='D2')\n",
    "\n",
    "    ax2.set_xlabel('Duration')\n",
    "    ax2.set_ylabel('Empirical CDF')\n",
    "    ax2.set_title('Empirical CDF of Duration')\n",
    "    ax2.legend()\n",
    "\n",
    "    # Adjust layout for a cleaner appearance\n",
    "    plt.tight_layout()\n",
    "\n",
    "    # Show the plot\n",
    "    plt.show()\n"
   ]
  },
  {
   "cell_type": "code",
   "execution_count": 35,
   "id": "f65e03cc",
   "metadata": {},
   "outputs": [
    {
     "data": {
      "image/png": "[encoded data removed]",
      "text/plain": [
       "<Figure size 1008x432 with 2 Axes>"
      ]
     },
     "metadata": {
      "needs_background": "light"
     },
     "output_type": "display_data"
    }
   ],
   "source": [
    "plot_duration_hist_and_cdf(d1_data, d2_data)"
   ]
  },
  {
   "cell_type": "markdown",
   "id": "1cce83dc",
   "metadata": {},
   "source": [
    "\n",
    "## Baseline model: AFT"
   ]
  },
  {
   "cell_type": "code",
   "execution_count": 36,
   "id": "af3a7e33",
   "metadata": {},
   "outputs": [
    {
     "name": "stdout",
     "output_type": "stream",
     "text": [
      "Optimization terminated successfully    (Exit mode 0)\n",
      "            Current function value: -0.40801870559917525\n",
      "            Iterations: 10\n",
      "            Function evaluations: 11\n",
      "            Gradient evaluations: 10\n",
      " message: Optimization terminated successfully\n",
      " success: True\n",
      "  status: 0\n",
      "     fun: -0.40801870559917525\n",
      "       x: [ 6.347e-01  8.139e-01 -1.469e+00  2.694e-01]\n",
      "     nit: 10\n",
      "     jac: [ 6.482e-07 -1.007e-06 -1.195e-07  5.001e-07]\n",
      "    nfev: 11\n",
      "    njev: 10\n"
     ]
    },
    {
     "data": {
      "text/html": [
       "<div>\n",
       "<style scoped>\n",
       "    .dataframe tbody tr th:only-of-type {\n",
       "        vertical-align: middle;\n",
       "    }\n",
       "\n",
       "    .dataframe tbody tr th {\n",
       "        vertical-align: top;\n",
       "    }\n",
       "\n",
       "    .dataframe thead th {\n",
       "        text-align: right;\n",
       "    }\n",
       "</style>\n",
       "<table border=\"1\" class=\"dataframe\">\n",
       "  <tbody>\n",
       "    <tr>\n",
       "      <th>model</th>\n",
       "      <td>lifelines.WeibullAFTFitter</td>\n",
       "    </tr>\n",
       "    <tr>\n",
       "      <th>duration col</th>\n",
       "      <td>'Duration'</td>\n",
       "    </tr>\n",
       "    <tr>\n",
       "      <th>event col</th>\n",
       "      <td>'Censor'</td>\n",
       "    </tr>\n",
       "    <tr>\n",
       "      <th>number of observations</th>\n",
       "      <td>990</td>\n",
       "    </tr>\n",
       "    <tr>\n",
       "      <th>number of events observed</th>\n",
       "      <td>690</td>\n",
       "    </tr>\n",
       "    <tr>\n",
       "      <th>log-likelihood</th>\n",
       "      <td>403.939</td>\n",
       "    </tr>\n",
       "    <tr>\n",
       "      <th>time fit was run</th>\n",
       "      <td>2024-10-06 14:28:11 UTC</td>\n",
       "    </tr>\n",
       "  </tbody>\n",
       "</table>\n",
       "</div><table border=\"1\" class=\"dataframe\">\n",
       "  <thead>\n",
       "    <tr style=\"text-align: right;\">\n",
       "      <th style=\"min-width: 12px;\"></th>\n",
       "      <th style=\"min-width: 12px;\"></th>\n",
       "      <th style=\"min-width: 12px;\">coef</th>\n",
       "      <th style=\"min-width: 12px;\">exp(coef)</th>\n",
       "      <th style=\"min-width: 12px;\">se(coef)</th>\n",
       "      <th style=\"min-width: 12px;\">coef lower 95%</th>\n",
       "      <th style=\"min-width: 12px;\">coef upper 95%</th>\n",
       "      <th style=\"min-width: 12px;\">exp(coef) lower 95%</th>\n",
       "      <th style=\"min-width: 12px;\">exp(coef) upper 95%</th>\n",
       "      <th style=\"min-width: 12px;\">cmp to</th>\n",
       "      <th style=\"min-width: 12px;\">z</th>\n",
       "      <th style=\"min-width: 12px;\">p</th>\n",
       "      <th style=\"min-width: 12px;\">-log2(p)</th>\n",
       "    </tr>\n",
       "  </thead>\n",
       "  <tbody>\n",
       "    <tr>\n",
       "      <th rowspan=\"3\" valign=\"top\">lambda_</th>\n",
       "      <th>x1</th>\n",
       "      <td>0.646</td>\n",
       "      <td>1.908</td>\n",
       "      <td>0.043</td>\n",
       "      <td>0.561</td>\n",
       "      <td>0.731</td>\n",
       "      <td>1.753</td>\n",
       "      <td>2.077</td>\n",
       "      <td>0.000</td>\n",
       "      <td>14.909</td>\n",
       "      <td>&lt;0.0005</td>\n",
       "      <td>164.569</td>\n",
       "    </tr>\n",
       "    <tr>\n",
       "      <th>x2</th>\n",
       "      <td>0.822</td>\n",
       "      <td>2.276</td>\n",
       "      <td>0.042</td>\n",
       "      <td>0.739</td>\n",
       "      <td>0.905</td>\n",
       "      <td>2.094</td>\n",
       "      <td>2.472</td>\n",
       "      <td>0.000</td>\n",
       "      <td>19.419</td>\n",
       "      <td>&lt;0.0005</td>\n",
       "      <td>276.628</td>\n",
       "    </tr>\n",
       "    <tr>\n",
       "      <th>Intercept</th>\n",
       "      <td>-1.469</td>\n",
       "      <td>0.230</td>\n",
       "      <td>0.029</td>\n",
       "      <td>-1.526</td>\n",
       "      <td>-1.411</td>\n",
       "      <td>0.217</td>\n",
       "      <td>0.244</td>\n",
       "      <td>0.000</td>\n",
       "      <td>-49.994</td>\n",
       "      <td>&lt;0.0005</td>\n",
       "      <td>inf</td>\n",
       "    </tr>\n",
       "    <tr>\n",
       "      <th>rho_</th>\n",
       "      <th>Intercept</th>\n",
       "      <td>0.269</td>\n",
       "      <td>1.309</td>\n",
       "      <td>0.029</td>\n",
       "      <td>0.213</td>\n",
       "      <td>0.326</td>\n",
       "      <td>1.237</td>\n",
       "      <td>1.385</td>\n",
       "      <td>0.000</td>\n",
       "      <td>9.333</td>\n",
       "      <td>&lt;0.0005</td>\n",
       "      <td>66.402</td>\n",
       "    </tr>\n",
       "  </tbody>\n",
       "</table><br><div>\n",
       "<style scoped>\n",
       "    .dataframe tbody tr th:only-of-type {\n",
       "        vertical-align: middle;\n",
       "    }\n",
       "\n",
       "    .dataframe tbody tr th {\n",
       "        vertical-align: top;\n",
       "    }\n",
       "\n",
       "    .dataframe thead th {\n",
       "        text-align: right;\n",
       "    }\n",
       "</style>\n",
       "<table border=\"1\" class=\"dataframe\">\n",
       "  <tbody>\n",
       "    <tr>\n",
       "      <th>Concordance</th>\n",
       "      <td>0.777</td>\n",
       "    </tr>\n",
       "    <tr>\n",
       "      <th>AIC</th>\n",
       "      <td>-799.877</td>\n",
       "    </tr>\n",
       "    <tr>\n",
       "      <th>log-likelihood ratio test</th>\n",
       "      <td>363.740 on 2 df</td>\n",
       "    </tr>\n",
       "    <tr>\n",
       "      <th>-log2(p) of ll-ratio test</th>\n",
       "      <td>262.383</td>\n",
       "    </tr>\n",
       "  </tbody>\n",
       "</table>\n",
       "</div>"
      ],
      "text/latex": [
       "\\begin{tabular}{llrrrrrrrrrrr}\n",
       " &  & coef & exp(coef) & se(coef) & coef lower 95% & coef upper 95% & exp(coef) lower 95% & exp(coef) upper 95% & cmp to & z & p & -log2(p) \\\\\n",
       "param & covariate &  &  &  &  &  &  &  &  &  &  &  \\\\\n",
       "\\multirow[c]{3}{*}{lambda_} & x1 & 0.646 & 1.908 & 0.043 & 0.561 & 0.731 & 1.753 & 2.077 & 0.000 & 14.909 & 0.000 & 164.569 \\\\\n",
       " & x2 & 0.822 & 2.276 & 0.042 & 0.739 & 0.905 & 2.094 & 2.472 & 0.000 & 19.419 & 0.000 & 276.628 \\\\\n",
       " & Intercept & -1.469 & 0.230 & 0.029 & -1.526 & -1.411 & 0.217 & 0.244 & 0.000 & -49.994 & 0.000 & inf \\\\\n",
       "rho_ & Intercept & 0.269 & 1.309 & 0.029 & 0.213 & 0.326 & 1.237 & 1.385 & 0.000 & 9.333 & 0.000 & 66.402 \\\\\n",
       "\\end{tabular}\n"
      ],
      "text/plain": [
       "<lifelines.WeibullAFTFitter: fitted with 990 total observations, 300 right-censored observations>\n",
       "             duration col = 'Duration'\n",
       "                event col = 'Censor'\n",
       "   number of observations = 990\n",
       "number of events observed = 690\n",
       "           log-likelihood = 403.939\n",
       "         time fit was run = 2024-10-06 14:28:11 UTC\n",
       "\n",
       "---\n",
       "                    coef exp(coef)  se(coef)  coef lower 95%  coef upper 95% exp(coef) lower 95% exp(coef) upper 95%\n",
       "param   covariate                                                                                                   \n",
       "lambda_ x1         0.646     1.908     0.043           0.561           0.731               1.753               2.077\n",
       "        x2         0.822     2.276     0.042           0.739           0.905               2.094               2.472\n",
       "        Intercept -1.469     0.230     0.029          -1.526          -1.411               0.217               0.244\n",
       "rho_    Intercept  0.269     1.309     0.029           0.213           0.326               1.237               1.385\n",
       "\n",
       "                   cmp to       z       p  -log2(p)\n",
       "param   covariate                                  \n",
       "lambda_ x1          0.000  14.909 <0.0005   164.569\n",
       "        x2          0.000  19.419 <0.0005   276.628\n",
       "        Intercept   0.000 -49.994 <0.0005       inf\n",
       "rho_    Intercept   0.000   9.333 <0.0005    66.402\n",
       "---\n",
       "Concordance = 0.777\n",
       "AIC = -799.877\n",
       "log-likelihood ratio test = 363.740 on 2 df\n",
       "-log2(p) of ll-ratio test = 262.383"
      ]
     },
     "metadata": {},
     "output_type": "display_data"
    }
   ],
   "source": [
    "aft = WeibullAFTFitter()\n",
    "aft.fit(d1_data[[t_label] + [e_label] + x_label], duration_col=t_label, event_col=e_label, show_progress = True)\n",
    "\n",
    "aft.print_summary(3)  # access the results using aft.summary"
   ]
  },
  {
   "cell_type": "markdown",
   "id": "90e376a1",
   "metadata": {},
   "source": [
    "## Evaluation (using training dataset: D1)"
   ]
  },
  {
   "cell_type": "code",
   "execution_count": 37,
   "id": "187180b3",
   "metadata": {
    "scrolled": true
   },
   "outputs": [
    {
     "data": {
      "text/plain": [
       "(0.7772862519458511, 236679, 67815, 0, 0)"
      ]
     },
     "execution_count": 37,
     "metadata": {},
     "output_type": "execute_result"
    }
   ],
   "source": [
    "concordance_index_censored(d1_data[\"Censor\"] == 1.0, d1_data[\"Duration\"], -aft.predict_median(d1_data))"
   ]
  },
  {
   "cell_type": "markdown",
   "id": "61c16042",
   "metadata": {},
   "source": [
    "## Evaluation (using test dataset: D2)"
   ]
  },
  {
   "cell_type": "code",
   "execution_count": 38,
   "id": "2c39aecd",
   "metadata": {},
   "outputs": [
    {
     "data": {
      "text/plain": [
       "(0.681119648737651, 8687, 4067, 0, 0)"
      ]
     },
     "execution_count": 38,
     "metadata": {},
     "output_type": "execute_result"
    }
   ],
   "source": [
    "concordance_index_censored(d2_data[\"Censor\"] == 1.0, d2_data[\"Duration\"], -aft.predict_median(d2_data))"
   ]
  },
  {
   "cell_type": "markdown",
   "id": "45afcf40",
   "metadata": {},
   "source": [
    "### To check whether .predict_survival_function does what I believe it does."
   ]
  },
  {
   "cell_type": "code",
   "execution_count": 39,
   "id": "14d4ee0e",
   "metadata": {},
   "outputs": [
    {
     "data": {
      "image/png": "[encoded data removed]",
      "text/plain": [
       "<Figure size 1440x504 with 1 Axes>"
      ]
     },
     "metadata": {
      "needs_background": "light"
     },
     "output_type": "display_data"
    }
   ],
   "source": [
    "plt.figure(figsize=(20, 7))\n",
    "plt.bar(\n",
    "    np.arange(50),\n",
    "    torch.diagonal(\n",
    "        torch.tensor(\n",
    "            aft.predict_survival_function(\n",
    "                df=d2_data, times=d2_data[\"Duration\"]\n",
    "            ).values\n",
    "        )\n",
    "    )[:50],\n",
    "    label = \"Survival distribution\"\n",
    ")\n",
    "plt.scatter(np.arange(50), d2_data[\"Censor\"].values[:50], label = \"Censored\")\n",
    "plt.ylabel(\"Event indicator\")\n",
    "plt.xlabel(\"Observations\")\n",
    "plt.legend(\"upper right\")\n",
    "plt.tight_layout()\n",
    "plt.show()"
   ]
  },
  {
   "cell_type": "markdown",
   "id": "296173d3",
   "metadata": {},
   "source": [
    "The circle represents the event indicator, indicating whether a subject experienced the event. The bar shows the predicted survival function. The graph above demonstrates that the trained model makes reasonable predictions, as the event indicator being 1 frequently aligns with a relatively low predicted survival function."
   ]
  },
  {
   "cell_type": "markdown",
   "id": "07c11939",
   "metadata": {},
   "source": [
    "## Define necessary UDF"
   ]
  },
  {
   "cell_type": "code",
   "execution_count": 40,
   "id": "f9ea7328",
   "metadata": {},
   "outputs": [],
   "source": [
    "def split_dataframe(df, train_size=0.8, val_size=0.2, random_state=None):\n",
    "    \"\"\"\n",
    "    Splits the DataFrame into train, validation, and test sets.\n",
    "\n",
    "    Parameters:\n",
    "    df (pd.DataFrame): The DataFrame to split.\n",
    "    train_size (float): Proportion of the data to be used for the training set.\n",
    "    val_size (float): Proportion of the data to be used for the validation set.\n",
    "    random_state (int, optional): Random seed for reproducibility.\n",
    "\n",
    "    Returns:\n",
    "    tuple: A tuple containing the train, validation, and test DataFrames.\n",
    "    \"\"\"\n",
    "    assert train_size + val_size == 1, \"Proportions must sum to 1.\"\n",
    "\n",
    "    # Split the DataFrame into train and remaining sets\n",
    "    df_train, df_val = train_test_split(\n",
    "        df, train_size=train_size, random_state=random_state\n",
    "    )\n",
    "\n",
    "    return df_train, df_val"
   ]
  },
  {
   "cell_type": "code",
   "execution_count": 41,
   "id": "a93fe6a8",
   "metadata": {},
   "outputs": [],
   "source": [
    "def split_df(df, x_label, t_label, e_label, o_label):\n",
    "    return (\n",
    "        df[x_label].values,\n",
    "        df[t_label].values,\n",
    "        df[e_label].values,\n",
    "        df[o_label].values,\n",
    "    )"
   ]
  },
  {
   "cell_type": "code",
   "execution_count": 42,
   "id": "041ce82b",
   "metadata": {},
   "outputs": [],
   "source": [
    "def predict_cif( method, df ):\n",
    "    x_cov = torch.tensor(df[x_label].values, dtype = torch.float32)\n",
    "    t = torch.tensor(df[t_label].values, dtype = torch.float32)\n",
    "    \n",
    "    cif = method.predict(x_cov, t)\n",
    "    \n",
    "    return cif"
   ]
  },
  {
   "cell_type": "code",
   "execution_count": 43,
   "id": "bff4dba8",
   "metadata": {},
   "outputs": [],
   "source": [
    "def compute_timediff( model, data_loader_val, n_sample, df_type, verbose ):\n",
    "    \n",
    "    if df_type == \"D1\":\n",
    "        idx_in = 1.0\n",
    "        idx_ood = 0.0\n",
    "    else:\n",
    "        idx_in = 0.0\n",
    "        idx_ood = 1.0\n",
    "    \n",
    "\n",
    "    reg_loss = 0\n",
    "    for batch_idx, (x, t, k, o) in tq.tqdm(enumerate(data_loader_val)):\n",
    "        argsort_t = torch.argsort(t)\n",
    "        x_ = x[argsort_t, :].to(model.device)\n",
    "        t_ = t[argsort_t].to(model.device)\n",
    "        k_ = k[argsort_t].to(model.device)\n",
    "        o_ = o[argsort_t].to(model.device)\n",
    "\n",
    "        # Split x_ into in-distribution and out-of-distribution\n",
    "        x_in = x_[o_ == idx_in]\n",
    "        t_in = t_[o_ == idx_in]\n",
    "        k_in = k_[o_ == idx_in]\n",
    "\n",
    "        x_ood = x_[o_ == idx_ood]\n",
    "        t_ood = t_[o_ == idx_ood]\n",
    "        k_ood = k_[o_ == idx_ood]\n",
    "        \n",
    "        regloss = 0.0\n",
    "        if x_ood.shape[0] > 0:\n",
    "            _, regloss_ = model.regularisation(x=x_ood, verbose = verbose, n_sample=n_sample)\n",
    "            regloss = regloss_.item()\n",
    "            \n",
    "        reg_loss += regloss\n",
    "\n",
    "    return reg_loss"
   ]
  },
  {
   "cell_type": "markdown",
   "id": "450d75ea",
   "metadata": {},
   "source": [
    "## coDeSurv: DeSurv with consistency constraint."
   ]
  },
  {
   "cell_type": "markdown",
   "id": "adf70891",
   "metadata": {},
   "source": [
    "Data preparation step includes:\n",
    "1. Split training data (i.e. D1 and D2) into train and validation set\n",
    "2. Apply likelihood-based training w.r.t. D1 while regularising the model using the baseline based on D2.\n",
    "3. Generate test set (D1 and D2) using the data generating process and use them for the final evaluation"
   ]
  },
  {
   "cell_type": "markdown",
   "id": "2e57e153",
   "metadata": {},
   "source": [
    "First, we create train_data by combining the D1 and D2 generated above. Recall that we require indicator for the source of data (i.e., out-of-distribution / in-distribution) to determine which objective function to optimise depending on the source of D1 data will be used for consistency regularsation whereas the D2 data will be used for likelihood term. Note that the baseline model was trained on D2 and tested on D1. "
   ]
  },
  {
   "cell_type": "code",
   "execution_count": 44,
   "id": "a3059ecd",
   "metadata": {},
   "outputs": [],
   "source": [
    "d1_data[o_label] = 0.0\n",
    "d2_data[o_label] = 1.0"
   ]
  },
  {
   "cell_type": "code",
   "execution_count": 45,
   "id": "84b706f4",
   "metadata": {},
   "outputs": [],
   "source": [
    "train_data = pd.concat([d1_data, d2_data], axis=0)"
   ]
  },
  {
   "cell_type": "code",
   "execution_count": 46,
   "id": "f1902c0e",
   "metadata": {},
   "outputs": [],
   "source": [
    "df_train, df_val = split_dataframe(train_data)"
   ]
  },
  {
   "cell_type": "code",
   "execution_count": 47,
   "id": "c0fec5d5",
   "metadata": {},
   "outputs": [],
   "source": [
    "x_train, t_train, e_train, o_train = split_df(\n",
    "    df_train, x_label, t_label, e_label, o_label\n",
    ")\n",
    "x_val, t_val, e_val, o_val = split_df(df_val, x_label, t_label, e_label, o_label)"
   ]
  },
  {
   "cell_type": "code",
   "execution_count": 48,
   "id": "0440e428",
   "metadata": {},
   "outputs": [],
   "source": [
    "batch_size = 128"
   ]
  },
  {
   "cell_type": "code",
   "execution_count": 49,
   "id": "4e12f892",
   "metadata": {},
   "outputs": [],
   "source": [
    "dataset_train = TensorDataset(\n",
    "    *[\n",
    "        torch.tensor(u, dtype=dtype_)\n",
    "        for u, dtype_ in [\n",
    "            (x_train, torch.float32),\n",
    "            (t_train, torch.float32),\n",
    "            (e_train, torch.long),\n",
    "            (o_train, torch.long),\n",
    "        ]\n",
    "    ]\n",
    ")\n",
    "data_loader_train = DataLoader(\n",
    "    dataset_train, batch_size=batch_size, pin_memory=True, shuffle=True, drop_last=True\n",
    ")\n",
    "\n",
    "dataset_val = TensorDataset(\n",
    "    *[\n",
    "        torch.tensor(u, dtype=dtype_)\n",
    "        for u, dtype_ in [\n",
    "            (x_val, torch.float32),\n",
    "            (t_val, torch.float32),\n",
    "            (e_val, torch.long),\n",
    "            (o_val, torch.long),\n",
    "        ]\n",
    "    ]\n",
    ")\n",
    "data_loader_val = DataLoader(\n",
    "    dataset_val, batch_size=batch_size, pin_memory=True, shuffle=True\n",
    ")"
   ]
  },
  {
   "cell_type": "markdown",
   "id": "acc9e470",
   "metadata": {},
   "source": [
    "In this section, we train the model. During training, you might encounter error messages such as “Error occurred with tensor([0.9990]). Retrying…”. This error indicates that the numerical solver, which is required during the sampling step from the predicted survival time CDF, fails to converge because the simulated failure time is very close to 1. When this occurs, we simply re-sample the survival time from the CDF.\n",
    "\n",
    "Note: it seems that this error can occur for the value not close to 1 as well. It would be important to investigate why this happens, and figure out how to make this operation more robust."
   ]
  },
  {
   "cell_type": "code",
   "execution_count": 95,
   "id": "63d0f1d3",
   "metadata": {},
   "outputs": [],
   "source": [
    "hidden_dim = 8\n",
    "training = False\n",
    "lr = 1e-3\n",
    "n_epochs = 300\n",
    "\n",
    "xdim = x_train.shape[1]\n"
   ]
  },
  {
   "cell_type": "code",
   "execution_count": 97,
   "id": "f322b59a",
   "metadata": {
    "scrolled": true
   },
   "outputs": [
    {
     "name": "stdout",
     "output_type": "stream",
     "text": [
      "CondODENet: cpu specified, cpu used\n"
     ]
    }
   ],
   "source": [
    "model = ConsistentDeSurv(\n",
    "    lr, xdim, hidden_dim, baseline=aft, nonlinearity=nn.ReLU, device=\"cpu\", n=15, df_columns = x_label\n",
    ")\n",
    " \n",
    "if training:\n",
    "    model.optimize(\n",
    "        data_loader_train,\n",
    "        n_sample=50,\n",
    "        n_epochs=n_epochs,\n",
    "        logging_freq=1,\n",
    "        data_loader_val=data_loader_val,\n",
    "        max_wait=20,\n",
    "        pretrain_epochs = 20,\n",
    "        verbose=True,\n",
    "    )\n",
    "    torch.save(model.state_dict(), \"desurv_consistent_ex05_correct\")\n",
    "    model.eval()\n",
    "else:\n",
    "    state_dict = torch.load(\"desurv_consistent_ex05_correct\")\n",
    "    model.load_state_dict(state_dict)\n",
    "    model.eval()"
   ]
  },
  {
   "cell_type": "markdown",
   "id": "127ebe0a",
   "metadata": {},
   "source": [
    "## D1_DeSurv: Train DeSurv using only D1"
   ]
  },
  {
   "cell_type": "code",
   "execution_count": 98,
   "id": "ddef7e31",
   "metadata": {},
   "outputs": [],
   "source": [
    "df_train_d1, df_val_d1 = split_dataframe(d1_data)"
   ]
  },
  {
   "cell_type": "code",
   "execution_count": 99,
   "id": "5771b9db",
   "metadata": {},
   "outputs": [],
   "source": [
    "x_train_d1, t_train_d1, e_train_d1, o_train_d1 = split_df(\n",
    "    df_train_d1, x_label, t_label, e_label, o_label\n",
    ")\n",
    "x_val_d1, t_val_d1, e_val_d1, o_val_d1 = split_df(df_val_d1, x_label, t_label, e_label, o_label)"
   ]
  },
  {
   "cell_type": "code",
   "execution_count": 100,
   "id": "2d42de1f",
   "metadata": {},
   "outputs": [],
   "source": [
    "batch_size = 128"
   ]
  },
  {
   "cell_type": "code",
   "execution_count": 101,
   "id": "6a7490aa",
   "metadata": {},
   "outputs": [],
   "source": [
    "dataset_train_d1 = TensorDataset(\n",
    "    *[\n",
    "        torch.tensor(u, dtype=dtype_)\n",
    "        for u, dtype_ in [\n",
    "            (x_train_d1, torch.float32),\n",
    "            (t_train_d1, torch.float32),\n",
    "            (e_train_d1, torch.long),\n",
    "            (o_train_d1, torch.long),\n",
    "        ]\n",
    "    ]\n",
    ")\n",
    "data_loader_train_d1 = DataLoader(\n",
    "    dataset_train_d1, batch_size=batch_size, pin_memory=True, shuffle=True, drop_last=True\n",
    ")\n",
    "\n",
    "dataset_val_d1 = TensorDataset(\n",
    "    *[\n",
    "        torch.tensor(u, dtype=dtype_)\n",
    "        for u, dtype_ in [\n",
    "            (x_val_d1, torch.float32),\n",
    "            (t_val_d1, torch.float32),\n",
    "            (e_val_d1, torch.long),\n",
    "            (o_val_d1, torch.long),\n",
    "        ]\n",
    "    ]\n",
    ")\n",
    "data_loader_val_d1 = DataLoader(\n",
    "    dataset_val_d1, batch_size=batch_size, pin_memory=True, shuffle=True\n",
    ")"
   ]
  },
  {
   "cell_type": "code",
   "execution_count": 102,
   "id": "13eb530a",
   "metadata": {
    "scrolled": true
   },
   "outputs": [
    {
     "name": "stdout",
     "output_type": "stream",
     "text": [
      "CondODENet: cpu specified, cpu used\n"
     ]
    }
   ],
   "source": [
    "model_v3 = DeSurv(\n",
    "    lr, xdim, hidden_dim, baseline=aft, nonlinearity=nn.ReLU, device=\"cpu\", n=15, df_columns = x_label\n",
    ")\n",
    "\n",
    "if training:\n",
    "    model_v3.optimize(\n",
    "        data_loader_train_d1,\n",
    "        n_sample=50,\n",
    "        n_epochs=n_epochs,\n",
    "        logging_freq=1,\n",
    "        data_loader_val=data_loader_val_d1,\n",
    "        max_wait=20,\n",
    "    )\n",
    "    torch.save(model_v3.state_dict(), \"desurv_d1_ex05_v1\")\n",
    "    model_v3.eval()\n",
    "else:\n",
    "    state_dict = torch.load(\"desurv_d1_ex05_v1\")\n",
    "    model_v3.load_state_dict(state_dict)\n",
    "    model_v3.eval()"
   ]
  },
  {
   "cell_type": "markdown",
   "id": "11c6d84e",
   "metadata": {},
   "source": [
    "## DeSurv: trained on both D1 & D2"
   ]
  },
  {
   "cell_type": "markdown",
   "id": "8b2621da",
   "metadata": {},
   "source": [
    "Given that we trained DeSurv with consistency constraint, the next step is to train a normal DeSurv without any constraint. "
   ]
  },
  {
   "cell_type": "code",
   "execution_count": 103,
   "id": "188b2075",
   "metadata": {
    "scrolled": true
   },
   "outputs": [
    {
     "name": "stdout",
     "output_type": "stream",
     "text": [
      "CondODENet: cpu specified, cpu used\n"
     ]
    }
   ],
   "source": [
    "model_v2 = DeSurv(\n",
    "    lr, xdim, hidden_dim, baseline=aft, nonlinearity=nn.ReLU, device=\"cpu\", n=15, df_columns = x_label\n",
    ")\n",
    "\n",
    "if training:\n",
    "    model_v2.optimize(\n",
    "        data_loader_train,\n",
    "        n_sample=30,\n",
    "        n_epochs=n_epochs,\n",
    "        logging_freq=1,\n",
    "        data_loader_val=data_loader_val,\n",
    "        max_wait=20,\n",
    "    )\n",
    "    torch.save(model_v2.state_dict(), \"desurv_normal_ex05_v1\")\n",
    "    model_v2.eval()\n",
    "else:\n",
    "    state_dict = torch.load(\"desurv_normal_ex05_v1\")\n",
    "    model_v2.load_state_dict(state_dict)\n",
    "    model_v2.eval()"
   ]
  },
  {
   "cell_type": "markdown",
   "id": "1f1a1117",
   "metadata": {},
   "source": [
    "## Evaluation"
   ]
  },
  {
   "cell_type": "markdown",
   "id": "6d88aaee",
   "metadata": {},
   "source": [
    "1. C-index\n",
    "2. Log-likelihood\n",
    "3. Expected discrepancy between survival trajectories"
   ]
  },
  {
   "cell_type": "markdown",
   "id": "e0369b81",
   "metadata": {},
   "source": [
    "### Prepare test set"
   ]
  },
  {
   "cell_type": "code",
   "execution_count": 104,
   "id": "794319aa",
   "metadata": {},
   "outputs": [],
   "source": [
    "data_id_test[\"OOD\"] = 0.0\n",
    "data_ood_test[\"OOD\"] = 1.0\n",
    "test_data = pd.concat([data_id_test, data_ood_test], axis=0)"
   ]
  },
  {
   "cell_type": "code",
   "execution_count": 105,
   "id": "93c25ed5",
   "metadata": {},
   "outputs": [],
   "source": [
    "x_test, t_test, e_test, o_test = split_df(test_data, x_label, t_label, e_label, o_label)\n",
    "\n",
    "dataset_test = TensorDataset(\n",
    "    *[\n",
    "        torch.tensor(u, dtype=dtype_)\n",
    "        for u, dtype_ in [\n",
    "            (x_test, torch.float32),\n",
    "            (t_test, torch.float32),\n",
    "            (e_test, torch.long),\n",
    "            (o_test, torch.long),\n",
    "        ]\n",
    "    ]\n",
    ")\n",
    "\n",
    "data_loader_test = DataLoader(\n",
    "    dataset_test, batch_size=batch_size, pin_memory=True, shuffle=True\n",
    ")"
   ]
  },
  {
   "cell_type": "code",
   "execution_count": 106,
   "id": "e2ea8c20",
   "metadata": {},
   "outputs": [],
   "source": [
    "# Save test data for the reference.\n",
    "test_data.to_csv(\"data/sim_test\")"
   ]
  },
  {
   "cell_type": "markdown",
   "id": "a1ca87bd",
   "metadata": {},
   "source": [
    "## Quantitative Assessment"
   ]
  },
  {
   "cell_type": "code",
   "execution_count": 61,
   "id": "e78c461b",
   "metadata": {},
   "outputs": [
    {
     "name": "stderr",
     "output_type": "stream",
     "text": [
      "5it [01:24, 16.87s/it]\n"
     ]
    }
   ],
   "source": [
    "loss_v1_d1 = compute_timediff(model, data_loader_test, n_sample = 50, df_type = \"D1\", verbose = True)"
   ]
  },
  {
   "cell_type": "code",
   "execution_count": 62,
   "id": "132fd7ed",
   "metadata": {},
   "outputs": [
    {
     "name": "stderr",
     "output_type": "stream",
     "text": [
      "5it [01:26, 17.33s/it]\n",
      "5it [01:34, 18.93s/it]\n"
     ]
    }
   ],
   "source": [
    "loss_v2_d1 = compute_timediff(model_v2, data_loader_test, n_sample = 50, df_type = \"D1\",  verbose = True)\n",
    "loss_v3_d1 = compute_timediff(model_v3, data_loader_test, n_sample = 50, df_type = \"D1\", verbose = True)"
   ]
  },
  {
   "cell_type": "code",
   "execution_count": 63,
   "id": "8d39bd6f",
   "metadata": {},
   "outputs": [
    {
     "name": "stdout",
     "output_type": "stream",
     "text": [
      "Similarity across survival trajectories\n",
      "Dataset: D1\n",
      "coDeSurv: 7.449743032455444, DeSurv (D1 & D2): 22.077842950820923, DeSurv (D1): 16.079979181289673\n"
     ]
    }
   ],
   "source": [
    "print(\"Similarity across survival trajectories\")\n",
    "print(\"Dataset: D1\")\n",
    "print(f\"coDeSurv: {loss_v1_d1}, DeSurv (D1 & D2): {loss_v2_d1}, DeSurv (D1): {loss_v3_d1}\")"
   ]
  },
  {
   "cell_type": "code",
   "execution_count": 64,
   "id": "dacb6460",
   "metadata": {},
   "outputs": [
    {
     "name": "stderr",
     "output_type": "stream",
     "text": [
      "5it [01:29, 17.86s/it]\n"
     ]
    }
   ],
   "source": [
    "loss_v1_d2 = compute_timediff(model, data_loader_test, n_sample = 50, df_type = \"D2\", verbose = True)"
   ]
  },
  {
   "cell_type": "code",
   "execution_count": 65,
   "id": "d1baedf0",
   "metadata": {},
   "outputs": [
    {
     "name": "stderr",
     "output_type": "stream",
     "text": [
      "5it [01:27, 17.53s/it]\n",
      "5it [01:32, 18.53s/it]\n"
     ]
    }
   ],
   "source": [
    "loss_v2_d2 = compute_timediff(model_v2, data_loader_test, n_sample = 50, df_type = \"D2\", verbose = True)\n",
    "loss_v3_d2 = compute_timediff(model_v3, data_loader_test, n_sample = 50, df_type = \"D2\", verbose = True)"
   ]
  },
  {
   "cell_type": "code",
   "execution_count": 66,
   "id": "3a1e3b3d",
   "metadata": {},
   "outputs": [
    {
     "name": "stdout",
     "output_type": "stream",
     "text": [
      "Similarity across survival trajectories\n",
      "Dataset: D2\n",
      "coDeSurv: 24.954199075698853, DeSurv (D1 & D2): 41.81464099884033, DeSurv (D1): 29.90416145324707\n"
     ]
    }
   ],
   "source": [
    "print(\"Similarity across survival trajectories\")\n",
    "print(\"Dataset: D2\")\n",
    "print(f\"coDeSurv: {loss_v1_d2}, DeSurv (D1 & D2): {loss_v2_d2}, DeSurv (D1): {loss_v3_d2}\")"
   ]
  },
  {
   "cell_type": "markdown",
   "id": "d7381c43",
   "metadata": {},
   "source": [
    "### Multiple iterations over consistency metrics"
   ]
  },
  {
   "cell_type": "code",
   "execution_count": 77,
   "id": "f8328294",
   "metadata": {},
   "outputs": [],
   "source": [
    "from collections import defaultdict\n",
    "import tqdm as tq"
   ]
  },
  {
   "cell_type": "code",
   "execution_count": 80,
   "id": "5a0626fd",
   "metadata": {},
   "outputs": [],
   "source": [
    "models = {\"coDeSurv\":defaultdict(list), \"D1_DeSurv\":defaultdict(list)}\n",
    "iterations = 100"
   ]
  },
  {
   "cell_type": "code",
   "execution_count": 82,
   "id": "514b7460",
   "metadata": {
    "scrolled": true
   },
   "outputs": [
    {
     "name": "stderr",
     "output_type": "stream",
     "text": [
      "\r",
      "  0%|                                                                                                                      | 0/100 [00:00<?, ?it/s]"
     ]
    },
    {
     "name": "stdout",
     "output_type": "stream",
     "text": [
      "Iteration: 0\n",
      "Iteration: 0 - coDeSurv - Computing the metric on D1\n"
     ]
    },
    {
     "name": "stderr",
     "output_type": "stream",
     "text": [
      "\n",
      "0it [00:00, ?it/s]\u001b[A\n",
      "1it [00:18, 18.27s/it]\u001b[A\n",
      "2it [00:38, 19.36s/it]\u001b[A\n",
      "3it [00:54, 17.89s/it]\u001b[A\n",
      "4it [01:13, 18.33s/it]\u001b[A\n",
      "5it [01:28, 17.72s/it]\u001b[A\n"
     ]
    },
    {
     "name": "stdout",
     "output_type": "stream",
     "text": [
      "Iteration: 0 - D1_DeSurv - Computing the metric on D1\n"
     ]
    },
    {
     "name": "stderr",
     "output_type": "stream",
     "text": [
      "\n",
      "0it [00:00, ?it/s]\u001b[A\n",
      "1it [00:19, 19.67s/it]\u001b[A\n",
      "2it [00:37, 18.60s/it]\u001b[A\n",
      "3it [00:57, 19.10s/it]\u001b[A\n",
      "4it [01:15, 18.70s/it]\u001b[A\n",
      "5it [01:32, 18.53s/it]\u001b[A\n"
     ]
    },
    {
     "name": "stdout",
     "output_type": "stream",
     "text": [
      "Iteration: 0 - coDeSurv - Computing the metric on D2\n"
     ]
    },
    {
     "name": "stderr",
     "output_type": "stream",
     "text": [
      "\n",
      "0it [00:00, ?it/s]\u001b[A\n",
      "1it [00:19, 19.74s/it]\u001b[A\n",
      "2it [00:37, 18.76s/it]\u001b[A\n",
      "3it [00:53, 17.39s/it]\u001b[A\n",
      "4it [01:10, 17.11s/it]\u001b[A\n",
      "5it [01:25, 17.17s/it]\u001b[A\n"
     ]
    },
    {
     "name": "stdout",
     "output_type": "stream",
     "text": [
      "Iteration: 0 - D1_DeSurv - Computing the metric on D2\n"
     ]
    },
    {
     "name": "stderr",
     "output_type": "stream",
     "text": [
      "\n",
      "0it [00:00, ?it/s]\u001b[A\n",
      "1it [00:20, 20.57s/it]\u001b[A\n",
      "2it [00:39, 19.41s/it]\u001b[A\n",
      "3it [00:58, 19.43s/it]\u001b[A\n",
      "4it [01:15, 18.53s/it]\u001b[A\n",
      "5it [01:33, 18.73s/it]\u001b[A\n",
      "  1%|█                                                                                                          | 1/100 [06:00<9:55:16, 360.78s/it]"
     ]
    },
    {
     "name": "stdout",
     "output_type": "stream",
     "text": [
      "Iteration: 1\n",
      "Iteration: 1 - coDeSurv - Computing the metric on D1\n"
     ]
    },
    {
     "name": "stderr",
     "output_type": "stream",
     "text": [
      "\n",
      "0it [00:00, ?it/s]\u001b[A\n",
      "1it [00:18, 18.29s/it]\u001b[A\n",
      "2it [00:35, 17.84s/it]\u001b[A\n",
      "3it [00:51, 16.83s/it]\u001b[A\n",
      "4it [01:07, 16.44s/it]\u001b[A\n",
      "5it [01:23, 16.80s/it]\u001b[A\n"
     ]
    },
    {
     "name": "stdout",
     "output_type": "stream",
     "text": [
      "Iteration: 1 - D1_DeSurv - Computing the metric on D1\n"
     ]
    },
    {
     "name": "stderr",
     "output_type": "stream",
     "text": [
      "\n",
      "0it [00:00, ?it/s]\u001b[A\n",
      "1it [00:20, 20.74s/it]\u001b[A\n",
      "2it [00:37, 18.58s/it]\u001b[A\n",
      "3it [00:56, 18.46s/it]\u001b[A\n",
      "4it [01:15, 18.67s/it]\u001b[A\n",
      "5it [01:32, 18.49s/it]\u001b[A\n"
     ]
    },
    {
     "name": "stdout",
     "output_type": "stream",
     "text": [
      "Iteration: 1 - coDeSurv - Computing the metric on D2\n"
     ]
    },
    {
     "name": "stderr",
     "output_type": "stream",
     "text": [
      "\n",
      "0it [00:00, ?it/s]\u001b[A\n",
      "1it [00:16, 16.72s/it]\u001b[A\n",
      "2it [00:34, 17.15s/it]\u001b[A\n",
      "3it [00:52, 17.64s/it]\u001b[A\n",
      "4it [01:08, 17.15s/it]\u001b[A\n",
      "5it [01:26, 17.24s/it]\u001b[A\n"
     ]
    },
    {
     "name": "stdout",
     "output_type": "stream",
     "text": [
      "Iteration: 1 - D1_DeSurv - Computing the metric on D2\n"
     ]
    },
    {
     "name": "stderr",
     "output_type": "stream",
     "text": [
      "\n",
      "0it [00:00, ?it/s]\u001b[A\n",
      "1it [00:18, 18.82s/it]\u001b[A\n",
      "2it [00:36, 18.35s/it]\u001b[A\n",
      "3it [00:55, 18.36s/it]\u001b[A\n",
      "4it [01:16, 19.66s/it]\u001b[A\n",
      "5it [01:36, 19.37s/it]\u001b[A\n",
      "  2%|██▏                                                                                                        | 2/100 [12:00<9:48:01, 360.02s/it]"
     ]
    },
    {
     "name": "stdout",
     "output_type": "stream",
     "text": [
      "Iteration: 2\n",
      "Iteration: 2 - coDeSurv - Computing the metric on D1\n"
     ]
    },
    {
     "name": "stderr",
     "output_type": "stream",
     "text": [
      "\n",
      "0it [00:00, ?it/s]\u001b[A\n",
      "1it [00:18, 18.69s/it]\u001b[A\n",
      "2it [00:36, 18.29s/it]\u001b[A\n",
      "3it [00:53, 17.71s/it]\u001b[A\n",
      "4it [01:11, 17.85s/it]\u001b[A\n",
      "5it [01:26, 17.32s/it]\u001b[A\n"
     ]
    },
    {
     "name": "stdout",
     "output_type": "stream",
     "text": [
      "Iteration: 2 - D1_DeSurv - Computing the metric on D1\n"
     ]
    },
    {
     "name": "stderr",
     "output_type": "stream",
     "text": [
      "\n",
      "0it [00:00, ?it/s]\u001b[A\n",
      "1it [00:20, 20.65s/it]\u001b[A\n",
      "2it [00:39, 19.41s/it]\u001b[A\n",
      "3it [00:56, 18.61s/it]\u001b[A\n",
      "4it [01:16, 19.18s/it]\u001b[A\n",
      "5it [01:32, 18.56s/it]\u001b[A\n"
     ]
    },
    {
     "name": "stdout",
     "output_type": "stream",
     "text": [
      "Iteration: 2 - coDeSurv - Computing the metric on D2\n"
     ]
    },
    {
     "name": "stderr",
     "output_type": "stream",
     "text": [
      "\n",
      "0it [00:00, ?it/s]\u001b[A\n",
      "1it [00:16, 16.41s/it]\u001b[A\n",
      "2it [00:32, 16.46s/it]\u001b[A\n",
      "3it [00:51, 17.22s/it]\u001b[A\n",
      "4it [01:10, 18.15s/it]\u001b[A\n",
      "5it [01:25, 17.11s/it]\u001b[A\n"
     ]
    },
    {
     "name": "stdout",
     "output_type": "stream",
     "text": [
      "Iteration: 2 - D1_DeSurv - Computing the metric on D2\n"
     ]
    },
    {
     "name": "stderr",
     "output_type": "stream",
     "text": [
      "\n",
      "0it [00:00, ?it/s]\u001b[A\n",
      "1it [00:21, 21.24s/it]\u001b[A\n",
      "2it [00:39, 19.35s/it]\u001b[A\n",
      "3it [00:59, 19.65s/it]\u001b[A\n",
      "4it [01:19, 19.70s/it]\u001b[A\n",
      "5it [01:33, 18.79s/it]\u001b[A\n",
      "  3%|███▏                                                                                                       | 3/100 [17:59<9:41:10, 359.49s/it]"
     ]
    },
    {
     "name": "stdout",
     "output_type": "stream",
     "text": [
      "Iteration: 3\n",
      "Iteration: 3 - coDeSurv - Computing the metric on D1\n"
     ]
    },
    {
     "name": "stderr",
     "output_type": "stream",
     "text": [
      "\n",
      "0it [00:00, ?it/s]\u001b[A\n",
      "1it [00:17, 17.60s/it]\u001b[A\n",
      "2it [00:35, 17.74s/it]\u001b[A\n",
      "3it [00:51, 17.07s/it]\u001b[A\n",
      "4it [01:08, 17.12s/it]\u001b[A\n",
      "5it [01:24, 16.86s/it]\u001b[A\n"
     ]
    },
    {
     "name": "stdout",
     "output_type": "stream",
     "text": [
      "Iteration: 3 - D1_DeSurv - Computing the metric on D1\n"
     ]
    },
    {
     "name": "stderr",
     "output_type": "stream",
     "text": [
      "\n",
      "0it [00:00, ?it/s]\u001b[A\n",
      "1it [00:19, 19.88s/it]\u001b[A\n",
      "2it [00:39, 19.70s/it]\u001b[A\n",
      "3it [00:56, 18.51s/it]\u001b[A\n",
      "4it [01:16, 18.98s/it]\u001b[A\n",
      "5it [01:32, 18.41s/it]\u001b[A\n"
     ]
    },
    {
     "name": "stdout",
     "output_type": "stream",
     "text": [
      "Iteration: 3 - coDeSurv - Computing the metric on D2\n"
     ]
    },
    {
     "name": "stderr",
     "output_type": "stream",
     "text": [
      "\n",
      "0it [00:00, ?it/s]\u001b[A\n",
      "1it [00:18, 18.60s/it]\u001b[A\n",
      "2it [00:37, 18.56s/it]\u001b[A\n",
      "3it [00:55, 18.65s/it]\u001b[A\n",
      "4it [01:10, 17.18s/it]\u001b[A\n",
      "5it [01:25, 17.07s/it]\u001b[A\n"
     ]
    },
    {
     "name": "stdout",
     "output_type": "stream",
     "text": [
      "Iteration: 3 - D1_DeSurv - Computing the metric on D2\n"
     ]
    },
    {
     "name": "stderr",
     "output_type": "stream",
     "text": [
      "\n",
      "0it [00:00, ?it/s]\u001b[A\n",
      "1it [00:20, 20.77s/it]\u001b[A\n",
      "2it [00:37, 18.58s/it]\u001b[A\n",
      "3it [00:58, 19.58s/it]\u001b[A\n",
      "4it [01:17, 19.31s/it]\u001b[A\n",
      "5it [01:33, 18.75s/it]\u001b[A\n",
      "  4%|████▎                                                                                                      | 4/100 [23:54<9:32:38, 357.90s/it]"
     ]
    },
    {
     "name": "stdout",
     "output_type": "stream",
     "text": [
      "Iteration: 4\n",
      "Iteration: 4 - coDeSurv - Computing the metric on D1\n"
     ]
    },
    {
     "name": "stderr",
     "output_type": "stream",
     "text": [
      "\n",
      "0it [00:00, ?it/s]\u001b[A\n",
      "1it [00:17, 17.35s/it]\u001b[A\n",
      "2it [00:33, 16.41s/it]\u001b[A\n",
      "3it [00:49, 16.34s/it]\u001b[A\n",
      "4it [01:08, 17.30s/it]\u001b[A\n",
      "5it [01:24, 16.82s/it]\u001b[A\n"
     ]
    },
    {
     "name": "stdout",
     "output_type": "stream",
     "text": [
      "Iteration: 4 - D1_DeSurv - Computing the metric on D1\n"
     ]
    },
    {
     "name": "stderr",
     "output_type": "stream",
     "text": [
      "\n",
      "0it [00:00, ?it/s]\u001b[A\n",
      "1it [00:19, 19.05s/it]\u001b[A\n",
      "2it [00:37, 18.53s/it]\u001b[A\n",
      "3it [00:56, 18.79s/it]\u001b[A\n",
      "4it [01:15, 18.75s/it]\u001b[A\n",
      "5it [01:32, 18.44s/it]\u001b[A\n"
     ]
    },
    {
     "name": "stdout",
     "output_type": "stream",
     "text": [
      "Iteration: 4 - coDeSurv - Computing the metric on D2\n"
     ]
    },
    {
     "name": "stderr",
     "output_type": "stream",
     "text": [
      "\n",
      "0it [00:00, ?it/s]\u001b[A\n",
      "1it [00:17, 17.11s/it]\u001b[A\n",
      "2it [00:35, 17.76s/it]\u001b[A\n",
      "3it [00:53, 17.73s/it]\u001b[A\n",
      "4it [01:11, 18.20s/it]\u001b[A\n",
      "5it [01:25, 17.12s/it]\u001b[A\n"
     ]
    },
    {
     "name": "stdout",
     "output_type": "stream",
     "text": [
      "Iteration: 4 - D1_DeSurv - Computing the metric on D2\n"
     ]
    },
    {
     "name": "stderr",
     "output_type": "stream",
     "text": [
      "\n",
      "0it [00:00, ?it/s]\u001b[A\n",
      "1it [00:19, 19.29s/it]\u001b[A\n",
      "2it [00:37, 18.39s/it]\u001b[A\n",
      "3it [00:55, 18.43s/it]\u001b[A\n",
      "4it [01:12, 18.03s/it]\u001b[A\n",
      "5it [01:33, 18.71s/it]\u001b[A\n",
      "  5%|█████▎                                                                                                     | 5/100 [29:50<9:25:17, 357.02s/it]"
     ]
    },
    {
     "name": "stdout",
     "output_type": "stream",
     "text": [
      "Iteration: 5\n",
      "Iteration: 5 - coDeSurv - Computing the metric on D1\n"
     ]
    },
    {
     "name": "stderr",
     "output_type": "stream",
     "text": [
      "\n",
      "0it [00:00, ?it/s]\u001b[A\n",
      "1it [00:18, 18.00s/it]\u001b[A\n",
      "2it [00:33, 16.76s/it]\u001b[A\n",
      "3it [00:51, 16.98s/it]\u001b[A\n",
      "4it [01:09, 17.57s/it]\u001b[A\n",
      "5it [01:24, 16.85s/it]\u001b[A\n"
     ]
    },
    {
     "name": "stdout",
     "output_type": "stream",
     "text": [
      "Iteration: 5 - D1_DeSurv - Computing the metric on D1\n"
     ]
    },
    {
     "name": "stderr",
     "output_type": "stream",
     "text": [
      "\n",
      "0it [00:00, ?it/s]\u001b[A\n",
      "1it [00:20, 20.23s/it]\u001b[A\n",
      "2it [00:40, 20.08s/it]\u001b[A\n",
      "3it [00:57, 18.86s/it]\u001b[A\n",
      "4it [01:16, 19.05s/it]\u001b[A\n",
      "5it [01:32, 18.42s/it]\u001b[A\n"
     ]
    },
    {
     "name": "stdout",
     "output_type": "stream",
     "text": [
      "Iteration: 5 - coDeSurv - Computing the metric on D2\n"
     ]
    },
    {
     "name": "stderr",
     "output_type": "stream",
     "text": [
      "\n",
      "0it [00:00, ?it/s]\u001b[A\n",
      "1it [00:15, 15.01s/it]\u001b[A\n",
      "2it [00:35, 18.21s/it]\u001b[A\n",
      "3it [00:54, 18.46s/it]\u001b[A\n",
      "4it [01:09, 17.16s/it]\u001b[A\n",
      "5it [01:25, 17.09s/it]\u001b[A\n"
     ]
    },
    {
     "name": "stdout",
     "output_type": "stream",
     "text": [
      "Iteration: 5 - D1_DeSurv - Computing the metric on D2\n"
     ]
    },
    {
     "name": "stderr",
     "output_type": "stream",
     "text": [
      "\n",
      "0it [00:00, ?it/s]\u001b[A\n",
      "1it [00:19, 19.09s/it]\u001b[A\n",
      "2it [00:36, 18.03s/it]\u001b[A\n",
      "3it [00:57, 19.64s/it]\u001b[A\n",
      "4it [01:19, 20.30s/it]\u001b[A\n",
      "5it [01:33, 18.64s/it]\u001b[A\n",
      "  6%|██████▍                                                                                                    | 6/100 [35:45<9:18:15, 356.34s/it]"
     ]
    },
    {
     "name": "stdout",
     "output_type": "stream",
     "text": [
      "Iteration: 6\n",
      "Iteration: 6 - coDeSurv - Computing the metric on D1\n"
     ]
    },
    {
     "name": "stderr",
     "output_type": "stream",
     "text": [
      "\n",
      "0it [00:00, ?it/s]\u001b[A\n",
      "1it [00:17, 17.41s/it]\u001b[A\n",
      "2it [00:34, 17.15s/it]\u001b[A\n",
      "3it [00:53, 17.90s/it]\u001b[A\n",
      "4it [01:10, 17.86s/it]\u001b[A\n",
      "5it [01:24, 16.85s/it]\u001b[A\n"
     ]
    },
    {
     "name": "stdout",
     "output_type": "stream",
     "text": [
      "Iteration: 6 - D1_DeSurv - Computing the metric on D1\n"
     ]
    },
    {
     "name": "stderr",
     "output_type": "stream",
     "text": [
      "\n",
      "0it [00:00, ?it/s]\u001b[A\n",
      "1it [00:18, 18.92s/it]\u001b[A\n",
      "2it [00:39, 19.74s/it]\u001b[A\n",
      "3it [00:58, 19.69s/it]\u001b[A\n",
      "4it [01:16, 18.75s/it]\u001b[A\n",
      "5it [01:32, 18.41s/it]\u001b[A\n"
     ]
    },
    {
     "name": "stdout",
     "output_type": "stream",
     "text": [
      "Iteration: 6 - coDeSurv - Computing the metric on D2\n"
     ]
    },
    {
     "name": "stderr",
     "output_type": "stream",
     "text": [
      "\n",
      "0it [00:00, ?it/s]\u001b[A\n",
      "1it [00:18, 18.80s/it]\u001b[A\n",
      "2it [00:36, 18.18s/it]\u001b[A\n",
      "3it [00:52, 17.26s/it]\u001b[A\n",
      "4it [01:11, 18.00s/it]\u001b[A\n",
      "5it [01:25, 17.06s/it]\u001b[A\n"
     ]
    },
    {
     "name": "stdout",
     "output_type": "stream",
     "text": [
      "Iteration: 6 - D1_DeSurv - Computing the metric on D2\n"
     ]
    },
    {
     "name": "stderr",
     "output_type": "stream",
     "text": [
      "\n",
      "0it [00:00, ?it/s]\u001b[A\n",
      "1it [00:18, 18.49s/it]\u001b[A\n",
      "2it [00:37, 18.60s/it]\u001b[A\n",
      "3it [00:58, 19.70s/it]\u001b[A\n",
      "4it [01:16, 18.99s/it]\u001b[A\n",
      "5it [01:33, 18.71s/it]\u001b[A\n",
      "  7%|███████▍                                                                                                   | 7/100 [41:40<9:11:43, 355.95s/it]"
     ]
    },
    {
     "name": "stdout",
     "output_type": "stream",
     "text": [
      "Iteration: 7\n",
      "Iteration: 7 - coDeSurv - Computing the metric on D1\n"
     ]
    },
    {
     "name": "stderr",
     "output_type": "stream",
     "text": [
      "\n",
      "0it [00:00, ?it/s]\u001b[A\n",
      "1it [00:17, 17.94s/it]\u001b[A\n",
      "2it [00:35, 17.82s/it]\u001b[A\n",
      "3it [00:53, 17.82s/it]\u001b[A\n",
      "4it [01:09, 17.24s/it]\u001b[A\n",
      "5it [01:24, 16.94s/it]\u001b[A\n"
     ]
    },
    {
     "name": "stdout",
     "output_type": "stream",
     "text": [
      "Iteration: 7 - D1_DeSurv - Computing the metric on D1\n"
     ]
    },
    {
     "name": "stderr",
     "output_type": "stream",
     "text": [
      "\n",
      "0it [00:00, ?it/s]\u001b[A\n",
      "1it [01:49, 109.69s/it]\u001b[A\n",
      "2it [02:08, 56.45s/it] \u001b[A\n",
      "3it [02:28, 39.58s/it]\u001b[A\n",
      "4it [02:44, 30.37s/it]\u001b[A\n",
      "5it [03:00, 36.20s/it]\u001b[A\n"
     ]
    },
    {
     "name": "stdout",
     "output_type": "stream",
     "text": [
      "Iteration: 7 - coDeSurv - Computing the metric on D2\n"
     ]
    },
    {
     "name": "stderr",
     "output_type": "stream",
     "text": [
      "\n",
      "0it [00:00, ?it/s]\u001b[A\n",
      "1it [00:16, 16.95s/it]\u001b[A\n",
      "2it [00:35, 18.06s/it]\u001b[A\n",
      "3it [00:51, 17.13s/it]\u001b[A\n",
      "4it [01:08, 17.11s/it]\u001b[A\n",
      "5it [01:25, 17.11s/it]\u001b[A\n"
     ]
    },
    {
     "name": "stdout",
     "output_type": "stream",
     "text": [
      "Iteration: 7 - D1_DeSurv - Computing the metric on D2\n"
     ]
    },
    {
     "name": "stderr",
     "output_type": "stream",
     "text": [
      "\n",
      "0it [00:00, ?it/s]\u001b[A\n",
      "1it [00:21, 21.34s/it]\u001b[A\n",
      "2it [00:39, 19.38s/it]\u001b[A\n",
      "3it [00:56, 18.23s/it]\u001b[A\n",
      "4it [01:17, 19.37s/it]\u001b[A\n",
      "5it [01:34, 18.89s/it]\u001b[A\n",
      "  8%|████████▌                                                                                                  | 8/100 [49:05<9:49:35, 384.52s/it]"
     ]
    },
    {
     "name": "stdout",
     "output_type": "stream",
     "text": [
      "Iteration: 8\n",
      "Iteration: 8 - coDeSurv - Computing the metric on D1\n"
     ]
    },
    {
     "name": "stderr",
     "output_type": "stream",
     "text": [
      "\n",
      "0it [00:00, ?it/s]\u001b[A\n",
      "1it [00:16, 16.36s/it]\u001b[A\n",
      "2it [00:33, 16.94s/it]\u001b[A\n",
      "3it [00:49, 16.47s/it]\u001b[A\n",
      "4it [01:07, 16.91s/it]\u001b[A\n",
      "5it [01:24, 16.99s/it]\u001b[A\n"
     ]
    },
    {
     "name": "stdout",
     "output_type": "stream",
     "text": [
      "Iteration: 8 - D1_DeSurv - Computing the metric on D1\n"
     ]
    },
    {
     "name": "stderr",
     "output_type": "stream",
     "text": [
      "\n",
      "0it [00:00, ?it/s]\u001b[A\n",
      "1it [00:19, 19.06s/it]\u001b[A\n",
      "2it [00:40, 20.44s/it]\u001b[A\n",
      "3it [00:58, 19.45s/it]\u001b[A\n",
      "4it [01:17, 19.30s/it]\u001b[A\n",
      "5it [01:32, 18.42s/it]\u001b[A\n"
     ]
    },
    {
     "name": "stdout",
     "output_type": "stream",
     "text": [
      "Iteration: 8 - coDeSurv - Computing the metric on D2\n"
     ]
    },
    {
     "name": "stderr",
     "output_type": "stream",
     "text": [
      "\n",
      "0it [00:00, ?it/s]\u001b[A\n",
      "1it [00:17, 17.86s/it]\u001b[A\n",
      "2it [00:37, 18.78s/it]\u001b[A\n",
      "3it [00:53, 17.76s/it]\u001b[A\n",
      "4it [01:12, 18.20s/it]\u001b[A\n",
      "5it [01:25, 17.12s/it]\u001b[A\n"
     ]
    },
    {
     "name": "stdout",
     "output_type": "stream",
     "text": [
      "Iteration: 8 - D1_DeSurv - Computing the metric on D2\n"
     ]
    },
    {
     "name": "stderr",
     "output_type": "stream",
     "text": [
      "\n",
      "0it [00:00, ?it/s]\u001b[A\n",
      "1it [00:17, 17.82s/it]\u001b[A\n",
      "2it [00:37, 19.19s/it]\u001b[A\n",
      "3it [00:57, 19.29s/it]\u001b[A\n",
      "4it [01:15, 18.65s/it]\u001b[A\n",
      "5it [01:33, 18.68s/it]\u001b[A\n",
      "  9%|█████████▋                                                                                                 | 9/100 [55:01<9:29:41, 375.62s/it]"
     ]
    },
    {
     "name": "stdout",
     "output_type": "stream",
     "text": [
      "Iteration: 9\n",
      "Iteration: 9 - coDeSurv - Computing the metric on D1\n"
     ]
    },
    {
     "name": "stderr",
     "output_type": "stream",
     "text": [
      "\n",
      "0it [00:00, ?it/s]\u001b[A\n",
      "1it [00:15, 15.93s/it]\u001b[A\n",
      "2it [00:30, 15.26s/it]\u001b[A\n",
      "3it [00:50, 17.35s/it]\u001b[A\n",
      "4it [01:06, 16.79s/it]\u001b[A\n",
      "5it [01:24, 16.88s/it]\u001b[A\n"
     ]
    },
    {
     "name": "stdout",
     "output_type": "stream",
     "text": [
      "Iteration: 9 - D1_DeSurv - Computing the metric on D1\n"
     ]
    },
    {
     "name": "stderr",
     "output_type": "stream",
     "text": [
      "\n",
      "0it [00:00, ?it/s]\u001b[A\n",
      "1it [00:17, 17.69s/it]\u001b[A\n",
      "2it [00:35, 17.75s/it]\u001b[A\n",
      "3it [00:54, 18.51s/it]\u001b[A\n",
      "4it [01:15, 19.30s/it]\u001b[A\n",
      "5it [01:32, 18.46s/it]\u001b[A\n"
     ]
    },
    {
     "name": "stdout",
     "output_type": "stream",
     "text": [
      "Iteration: 9 - coDeSurv - Computing the metric on D2\n"
     ]
    },
    {
     "name": "stderr",
     "output_type": "stream",
     "text": [
      "\n",
      "0it [00:00, ?it/s]\u001b[A\n",
      "1it [00:16, 16.03s/it]\u001b[A\n",
      "2it [00:32, 16.33s/it]\u001b[A\n",
      "3it [00:49, 16.47s/it]\u001b[A\n",
      "4it [01:10, 18.30s/it]\u001b[A\n",
      "5it [01:25, 17.15s/it]\u001b[A\n"
     ]
    },
    {
     "name": "stdout",
     "output_type": "stream",
     "text": [
      "Iteration: 9 - D1_DeSurv - Computing the metric on D2\n"
     ]
    },
    {
     "name": "stderr",
     "output_type": "stream",
     "text": [
      "\n",
      "0it [00:00, ?it/s]\u001b[A\n",
      "1it [00:16, 16.97s/it]\u001b[A\n",
      "2it [00:37, 19.00s/it]\u001b[A\n",
      "3it [00:58, 20.05s/it]\u001b[A\n",
      "4it [01:18, 19.90s/it]\u001b[A\n",
      "5it [01:33, 18.63s/it]\u001b[A\n",
      " 10%|██████████▍                                                                                             | 10/100 [1:00:57<9:14:10, 369.45s/it]"
     ]
    },
    {
     "name": "stdout",
     "output_type": "stream",
     "text": [
      "Iteration: 10\n",
      "Iteration: 10 - coDeSurv - Computing the metric on D1\n"
     ]
    },
    {
     "name": "stderr",
     "output_type": "stream",
     "text": [
      "\n",
      "0it [00:00, ?it/s]\u001b[A\n",
      "1it [00:16, 16.94s/it]\u001b[A\n",
      "2it [00:36, 18.73s/it]\u001b[A\n",
      "3it [00:52, 17.46s/it]\u001b[A\n",
      "4it [01:10, 17.48s/it]\u001b[A\n",
      "5it [01:24, 16.82s/it]\u001b[A\n"
     ]
    },
    {
     "name": "stdout",
     "output_type": "stream",
     "text": [
      "Iteration: 10 - D1_DeSurv - Computing the metric on D1\n"
     ]
    },
    {
     "name": "stderr",
     "output_type": "stream",
     "text": [
      "\n",
      "0it [00:00, ?it/s]\u001b[A\n",
      "1it [00:20, 20.12s/it]\u001b[A\n",
      "2it [00:39, 19.42s/it]\u001b[A\n",
      "3it [00:55, 17.95s/it]\u001b[A\n",
      "4it [01:12, 17.79s/it]\u001b[A\n",
      "5it [01:32, 18.49s/it]\u001b[A\n"
     ]
    },
    {
     "name": "stdout",
     "output_type": "stream",
     "text": [
      "Iteration: 10 - coDeSurv - Computing the metric on D2\n"
     ]
    },
    {
     "name": "stderr",
     "output_type": "stream",
     "text": [
      "\n",
      "0it [00:00, ?it/s]\u001b[A\n",
      "1it [00:17, 17.34s/it]\u001b[A\n",
      "2it [00:34, 17.09s/it]\u001b[A\n",
      "3it [00:50, 16.91s/it]\u001b[A\n",
      "4it [01:07, 16.80s/it]\u001b[A\n",
      "5it [01:25, 17.10s/it]\u001b[A\n"
     ]
    },
    {
     "name": "stdout",
     "output_type": "stream",
     "text": [
      "Iteration: 10 - D1_DeSurv - Computing the metric on D2\n"
     ]
    },
    {
     "name": "stderr",
     "output_type": "stream",
     "text": [
      "\n",
      "0it [00:00, ?it/s]\u001b[A\n",
      "1it [00:20, 20.43s/it]\u001b[A\n",
      "2it [00:38, 19.06s/it]\u001b[A\n",
      "3it [00:56, 18.76s/it]\u001b[A\n",
      "4it [01:17, 19.38s/it]\u001b[A\n",
      "5it [01:33, 18.68s/it]\u001b[A\n",
      " 11%|███████████▍                                                                                            | 11/100 [1:06:52<9:01:38, 365.15s/it]"
     ]
    },
    {
     "name": "stdout",
     "output_type": "stream",
     "text": [
      "Iteration: 11\n",
      "Iteration: 11 - coDeSurv - Computing the metric on D1\n"
     ]
    },
    {
     "name": "stderr",
     "output_type": "stream",
     "text": [
      "\n",
      "0it [00:00, ?it/s]\u001b[A\n",
      "1it [00:15, 15.39s/it]\u001b[A\n",
      "2it [00:31, 15.95s/it]\u001b[A\n",
      "3it [00:49, 16.91s/it]\u001b[A\n",
      "4it [01:09, 17.88s/it]\u001b[A\n",
      "5it [01:24, 16.81s/it]\u001b[A\n"
     ]
    },
    {
     "name": "stdout",
     "output_type": "stream",
     "text": [
      "Iteration: 11 - D1_DeSurv - Computing the metric on D1\n"
     ]
    },
    {
     "name": "stderr",
     "output_type": "stream",
     "text": [
      "\n",
      "0it [00:00, ?it/s]\u001b[A\n",
      "1it [00:19, 19.79s/it]\u001b[A\n",
      "2it [00:38, 19.17s/it]\u001b[A\n",
      "3it [00:58, 19.37s/it]\u001b[A\n",
      "4it [01:19, 20.00s/it]\u001b[A\n",
      "5it [01:32, 18.41s/it]\u001b[A\n"
     ]
    },
    {
     "name": "stdout",
     "output_type": "stream",
     "text": [
      "Iteration: 11 - coDeSurv - Computing the metric on D2\n"
     ]
    },
    {
     "name": "stderr",
     "output_type": "stream",
     "text": [
      "\n",
      "0it [00:00, ?it/s]\u001b[A\n",
      "1it [00:16, 16.40s/it]\u001b[A\n",
      "2it [00:34, 17.62s/it]\u001b[A\n",
      "3it [00:51, 17.09s/it]\u001b[A\n",
      "4it [01:10, 17.89s/it]\u001b[A\n",
      "5it [01:25, 17.12s/it]\u001b[A\n"
     ]
    },
    {
     "name": "stdout",
     "output_type": "stream",
     "text": [
      "Iteration: 11 - D1_DeSurv - Computing the metric on D2\n"
     ]
    },
    {
     "name": "stderr",
     "output_type": "stream",
     "text": [
      "\n",
      "0it [00:00, ?it/s]\u001b[A\n",
      "1it [00:21, 21.20s/it]\u001b[A\n",
      "2it [00:41, 20.42s/it]\u001b[A\n",
      "3it [00:58, 19.02s/it]\u001b[A\n",
      "4it [01:16, 18.78s/it]\u001b[A\n",
      "5it [01:33, 18.66s/it]\u001b[A\n",
      " 12%|████████████▍                                                                                           | 12/100 [1:12:47<8:51:00, 362.06s/it]"
     ]
    },
    {
     "name": "stdout",
     "output_type": "stream",
     "text": [
      "Iteration: 12\n",
      "Iteration: 12 - coDeSurv - Computing the metric on D1\n"
     ]
    },
    {
     "name": "stderr",
     "output_type": "stream",
     "text": [
      "\n",
      "0it [00:00, ?it/s]\u001b[A\n",
      "1it [00:16, 16.54s/it]\u001b[A\n",
      "2it [00:36, 18.33s/it]\u001b[A\n",
      "3it [00:54, 18.37s/it]\u001b[A\n",
      "4it [01:09, 17.13s/it]\u001b[A\n",
      "5it [01:24, 16.88s/it]\u001b[A\n"
     ]
    },
    {
     "name": "stdout",
     "output_type": "stream",
     "text": [
      "Iteration: 12 - D1_DeSurv - Computing the metric on D1\n"
     ]
    },
    {
     "name": "stderr",
     "output_type": "stream",
     "text": [
      "\n",
      "0it [00:00, ?it/s]\u001b[A\n",
      "1it [00:18, 18.19s/it]\u001b[A\n",
      "2it [00:38, 19.62s/it]\u001b[A\n",
      "3it [00:56, 18.51s/it]\u001b[A\n",
      "4it [01:14, 18.46s/it]\u001b[A\n",
      "5it [01:32, 18.50s/it]\u001b[A\n"
     ]
    },
    {
     "name": "stdout",
     "output_type": "stream",
     "text": [
      "Iteration: 12 - coDeSurv - Computing the metric on D2\n"
     ]
    },
    {
     "name": "stderr",
     "output_type": "stream",
     "text": [
      "\n",
      "0it [00:00, ?it/s]\u001b[A\n",
      "1it [00:16, 16.08s/it]\u001b[A\n",
      "2it [00:32, 16.47s/it]\u001b[A\n",
      "3it [00:52, 17.82s/it]\u001b[A\n",
      "4it [01:10, 17.95s/it]\u001b[A\n",
      "5it [01:25, 17.11s/it]\u001b[A\n"
     ]
    },
    {
     "name": "stdout",
     "output_type": "stream",
     "text": [
      "Iteration: 12 - D1_DeSurv - Computing the metric on D2\n"
     ]
    },
    {
     "name": "stderr",
     "output_type": "stream",
     "text": [
      "\n",
      "0it [00:00, ?it/s]\u001b[A\n",
      "1it [00:19, 19.15s/it]\u001b[A\n",
      "2it [00:38, 19.24s/it]\u001b[A\n",
      "3it [00:59, 20.25s/it]\u001b[A\n",
      "4it [01:17, 19.36s/it]\u001b[A\n",
      "5it [01:33, 18.76s/it]\u001b[A\n",
      " 13%|█████████████▌                                                                                          | 13/100 [1:18:44<8:42:26, 360.30s/it]"
     ]
    },
    {
     "name": "stdout",
     "output_type": "stream",
     "text": [
      "Iteration: 13\n",
      "Iteration: 13 - coDeSurv - Computing the metric on D1\n"
     ]
    },
    {
     "name": "stderr",
     "output_type": "stream",
     "text": [
      "\n",
      "0it [00:00, ?it/s]\u001b[A\n",
      "1it [15:18, 918.32s/it]\u001b[A\n",
      "2it [15:37, 389.53s/it]\u001b[A\n",
      "3it [15:56, 220.28s/it]\u001b[A\n",
      "4it [31:14, 495.53s/it]\u001b[A\n",
      "5it [31:25, 377.13s/it]\u001b[A\n"
     ]
    },
    {
     "name": "stdout",
     "output_type": "stream",
     "text": [
      "Iteration: 13 - D1_DeSurv - Computing the metric on D1\n"
     ]
    },
    {
     "name": "stderr",
     "output_type": "stream",
     "text": [
      "\n",
      "0it [00:00, ?it/s]\u001b[A\n",
      "1it [00:19, 19.40s/it]\u001b[A\n",
      "2it [00:38, 19.16s/it]\u001b[A\n",
      "3it [15:59, 431.21s/it]\u001b[A\n",
      "4it [16:17, 267.92s/it]\u001b[A\n",
      "5it [16:32, 198.50s/it]\u001b[A\n"
     ]
    },
    {
     "name": "stdout",
     "output_type": "stream",
     "text": [
      "Iteration: 13 - coDeSurv - Computing the metric on D2\n"
     ]
    },
    {
     "name": "stderr",
     "output_type": "stream",
     "text": [
      "\n",
      "0it [00:00, ?it/s]\u001b[A\n",
      "1it [00:17, 17.95s/it]\u001b[A\n",
      "2it [00:37, 19.13s/it]\u001b[A\n",
      "3it [00:56, 18.82s/it]\u001b[A\n",
      "4it [01:11, 17.43s/it]\u001b[A\n",
      "5it [16:25, 197.17s/it]\u001b[A\n"
     ]
    },
    {
     "name": "stdout",
     "output_type": "stream",
     "text": [
      "Iteration: 13 - D1_DeSurv - Computing the metric on D2\n"
     ]
    },
    {
     "name": "stderr",
     "output_type": "stream",
     "text": [
      "\n",
      "0it [00:00, ?it/s]\u001b[A\n",
      "1it [00:21, 21.22s/it]\u001b[A\n",
      "2it [15:38, 548.22s/it]\u001b[A\n",
      "3it [15:58, 307.20s/it]\u001b[A\n",
      "4it [16:19, 194.01s/it]\u001b[A\n",
      "5it [16:33, 198.79s/it]\u001b[A\n",
      " 14%|██████████████▎                                                                                       | 14/100 [2:39:42<41:03:38, 1718.82s/it]"
     ]
    },
    {
     "name": "stdout",
     "output_type": "stream",
     "text": [
      "Iteration: 14\n",
      "Iteration: 14 - coDeSurv - Computing the metric on D1\n"
     ]
    },
    {
     "name": "stderr",
     "output_type": "stream",
     "text": [
      "\n",
      "0it [00:00, ?it/s]\u001b[A\n",
      "1it [00:16, 16.33s/it]\u001b[A\n",
      "2it [00:30, 15.16s/it]\u001b[A\n",
      "3it [00:49, 16.77s/it]\u001b[A\n",
      "4it [01:06, 16.93s/it]\u001b[A\n",
      "5it [01:23, 16.79s/it]\u001b[A\n"
     ]
    },
    {
     "name": "stdout",
     "output_type": "stream",
     "text": [
      "Iteration: 14 - D1_DeSurv - Computing the metric on D1\n"
     ]
    },
    {
     "name": "stderr",
     "output_type": "stream",
     "text": [
      "\n",
      "0it [00:00, ?it/s]\u001b[A\n",
      "1it [13:54, 834.38s/it]\u001b[A\n",
      "2it [14:13, 354.70s/it]\u001b[A\n",
      "3it [14:30, 200.73s/it]\u001b[A\n",
      "4it [14:51, 129.55s/it]\u001b[A\n",
      "5it [15:06, 181.38s/it]\u001b[A\n"
     ]
    },
    {
     "name": "stdout",
     "output_type": "stream",
     "text": [
      "Iteration: 14 - coDeSurv - Computing the metric on D2\n"
     ]
    },
    {
     "name": "stderr",
     "output_type": "stream",
     "text": [
      "\n",
      "0it [00:00, ?it/s]\u001b[A\n",
      "1it [00:15, 15.73s/it]\u001b[A\n",
      "2it [00:35, 18.15s/it]\u001b[A\n",
      "3it [00:54, 18.50s/it]\u001b[A\n",
      "4it [16:11, 373.08s/it]\u001b[A\n",
      "5it [16:26, 197.23s/it]\u001b[A\n"
     ]
    },
    {
     "name": "stdout",
     "output_type": "stream",
     "text": [
      "Iteration: 14 - D1_DeSurv - Computing the metric on D2\n"
     ]
    },
    {
     "name": "stderr",
     "output_type": "stream",
     "text": [
      "\n",
      "0it [00:00, ?it/s]\u001b[A\n",
      "1it [00:16, 16.77s/it]\u001b[A\n",
      "2it [00:37, 18.94s/it]\u001b[A\n",
      "3it [00:56, 19.30s/it]\u001b[A\n",
      "4it [01:18, 20.20s/it]\u001b[A\n",
      "5it [01:33, 18.72s/it]\u001b[A\n",
      " 15%|███████████████▎                                                                                      | 15/100 [3:14:12<43:05:12, 1824.86s/it]"
     ]
    },
    {
     "name": "stdout",
     "output_type": "stream",
     "text": [
      "Iteration: 15\n",
      "Iteration: 15 - coDeSurv - Computing the metric on D1\n"
     ]
    },
    {
     "name": "stderr",
     "output_type": "stream",
     "text": [
      "\n",
      "0it [00:00, ?it/s]\u001b[A\n",
      "1it [00:15, 15.41s/it]\u001b[A\n",
      "2it [15:31, 545.26s/it]\u001b[A\n",
      "3it [15:51, 305.28s/it]\u001b[A\n",
      "4it [16:08, 191.53s/it]\u001b[A\n",
      "5it [16:24, 196.85s/it]\u001b[A\n"
     ]
    },
    {
     "name": "stdout",
     "output_type": "stream",
     "text": [
      "Iteration: 15 - D1_DeSurv - Computing the metric on D1\n"
     ]
    },
    {
     "name": "stderr",
     "output_type": "stream",
     "text": [
      "\n",
      "0it [00:00, ?it/s]\u001b[A\n",
      "1it [00:18, 18.29s/it]\u001b[A\n",
      "2it [00:40, 20.34s/it]\u001b[A\n",
      "3it [00:58, 19.43s/it]\u001b[A\n",
      "4it [01:16, 18.77s/it]\u001b[A\n",
      "5it [01:32, 18.42s/it]\u001b[A\n"
     ]
    },
    {
     "name": "stdout",
     "output_type": "stream",
     "text": [
      "Iteration: 15 - coDeSurv - Computing the metric on D2\n"
     ]
    },
    {
     "name": "stderr",
     "output_type": "stream",
     "text": [
      "\n",
      "0it [00:00, ?it/s]\u001b[A\n",
      "1it [00:16, 16.36s/it]\u001b[A\n",
      "2it [00:35, 17.80s/it]\u001b[A\n",
      "3it [00:53, 17.92s/it]\u001b[A\n",
      "4it [01:09, 17.25s/it]\u001b[A\n",
      "5it [01:25, 17.02s/it]\u001b[A\n"
     ]
    },
    {
     "name": "stdout",
     "output_type": "stream",
     "text": [
      "Iteration: 15 - D1_DeSurv - Computing the metric on D2\n"
     ]
    },
    {
     "name": "stderr",
     "output_type": "stream",
     "text": [
      "\n",
      "0it [00:00, ?it/s]\u001b[A\n",
      "1it [00:18, 18.48s/it]\u001b[A\n",
      "2it [15:19, 537.43s/it]\u001b[A\n",
      "3it [15:41, 302.05s/it]\u001b[A\n",
      "4it [16:02, 191.26s/it]\u001b[A\n",
      "5it [16:19, 195.87s/it]\u001b[A\n",
      " 16%|████████████████▎                                                                                     | 16/100 [3:49:53<44:47:56, 1919.96s/it]"
     ]
    },
    {
     "name": "stdout",
     "output_type": "stream",
     "text": [
      "Iteration: 16\n",
      "Iteration: 16 - coDeSurv - Computing the metric on D1\n"
     ]
    },
    {
     "name": "stderr",
     "output_type": "stream",
     "text": [
      "\n",
      "0it [00:00, ?it/s]\u001b[A\n",
      "1it [00:16, 16.62s/it]\u001b[A\n",
      "2it [00:34, 17.18s/it]\u001b[A\n",
      "3it [00:53, 17.95s/it]\u001b[A\n",
      "4it [01:08, 17.13s/it]\u001b[A\n",
      "5it [01:24, 16.83s/it]\u001b[A\n"
     ]
    },
    {
     "name": "stdout",
     "output_type": "stream",
     "text": [
      "Iteration: 16 - D1_DeSurv - Computing the metric on D1\n"
     ]
    },
    {
     "name": "stderr",
     "output_type": "stream",
     "text": [
      "\n",
      "0it [00:00, ?it/s]\u001b[A\n",
      "1it [00:20, 20.04s/it]\u001b[A\n",
      "2it [00:40, 20.41s/it]\u001b[A\n",
      "3it [00:59, 19.72s/it]\u001b[A\n",
      "4it [01:15, 18.34s/it]\u001b[A\n",
      "5it [01:32, 18.50s/it]\u001b[A\n"
     ]
    },
    {
     "name": "stdout",
     "output_type": "stream",
     "text": [
      "Iteration: 16 - coDeSurv - Computing the metric on D2\n"
     ]
    },
    {
     "name": "stderr",
     "output_type": "stream",
     "text": [
      "\n",
      "0it [00:00, ?it/s]\u001b[A\n",
      "1it [00:23, 23.36s/it]\u001b[A\n",
      "2it [00:43, 21.67s/it]\u001b[A\n",
      "3it [01:00, 19.48s/it]\u001b[A\n",
      "4it [01:19, 19.13s/it]\u001b[A\n",
      "5it [01:32, 18.59s/it]\u001b[A\n"
     ]
    },
    {
     "name": "stdout",
     "output_type": "stream",
     "text": [
      "Iteration: 16 - D1_DeSurv - Computing the metric on D2\n"
     ]
    },
    {
     "name": "stderr",
     "output_type": "stream",
     "text": [
      "\n",
      "0it [00:00, ?it/s]\u001b[A\n",
      "1it [00:19, 19.54s/it]\u001b[A\n",
      "2it [00:40, 20.50s/it]\u001b[A\n",
      "3it [01:03, 21.62s/it]\u001b[A\n",
      "4it [01:23, 21.11s/it]\u001b[A\n",
      "5it [01:40, 20.07s/it]\u001b[A\n",
      " 17%|█████████████████▎                                                                                    | 17/100 [3:56:03<33:31:12, 1453.88s/it]"
     ]
    },
    {
     "name": "stdout",
     "output_type": "stream",
     "text": [
      "Iteration: 17\n",
      "Iteration: 17 - coDeSurv - Computing the metric on D1\n"
     ]
    },
    {
     "name": "stderr",
     "output_type": "stream",
     "text": [
      "\n",
      "0it [00:00, ?it/s]\u001b[A\n",
      "1it [00:17, 17.68s/it]\u001b[A\n",
      "2it [00:34, 17.10s/it]\u001b[A\n",
      "3it [00:54, 18.30s/it]\u001b[A\n",
      "4it [01:11, 18.10s/it]\u001b[A\n",
      "5it [01:27, 17.58s/it]\u001b[A\n"
     ]
    },
    {
     "name": "stdout",
     "output_type": "stream",
     "text": [
      "Iteration: 17 - D1_DeSurv - Computing the metric on D1\n"
     ]
    },
    {
     "name": "stderr",
     "output_type": "stream",
     "text": [
      "\n",
      "0it [00:00, ?it/s]\u001b[A\n",
      "1it [00:18, 18.17s/it]\u001b[A\n",
      "2it [00:37, 18.98s/it]\u001b[A\n",
      "3it [00:59, 20.28s/it]\u001b[A\n",
      "4it [01:19, 19.97s/it]\u001b[A\n",
      "5it [01:37, 19.42s/it]\u001b[A\n"
     ]
    },
    {
     "name": "stdout",
     "output_type": "stream",
     "text": [
      "Iteration: 17 - coDeSurv - Computing the metric on D2\n"
     ]
    },
    {
     "name": "stderr",
     "output_type": "stream",
     "text": [
      "\n",
      "0it [00:00, ?it/s]\u001b[A\n",
      "1it [00:18, 18.39s/it]\u001b[A\n",
      "2it [00:34, 16.89s/it]\u001b[A\n",
      "3it [00:53, 17.91s/it]\u001b[A\n",
      "4it [01:10, 17.68s/it]\u001b[A\n",
      "5it [01:26, 17.39s/it]\u001b[A\n"
     ]
    },
    {
     "name": "stdout",
     "output_type": "stream",
     "text": [
      "Iteration: 17 - D1_DeSurv - Computing the metric on D2\n"
     ]
    },
    {
     "name": "stderr",
     "output_type": "stream",
     "text": [
      "\n",
      "0it [00:00, ?it/s]\u001b[A\n",
      "1it [00:18, 18.72s/it]\u001b[A\n",
      "2it [00:36, 18.02s/it]\u001b[A\n",
      "3it [00:55, 18.79s/it]\u001b[A\n",
      "4it [01:18, 20.12s/it]\u001b[A\n",
      "5it [01:33, 18.80s/it]\u001b[A\n",
      " 18%|██████████████████▎                                                                                   | 18/100 [4:02:09<25:40:11, 1126.97s/it]"
     ]
    },
    {
     "name": "stdout",
     "output_type": "stream",
     "text": [
      "Iteration: 18\n",
      "Iteration: 18 - coDeSurv - Computing the metric on D1\n"
     ]
    },
    {
     "name": "stderr",
     "output_type": "stream",
     "text": [
      "\n",
      "0it [00:00, ?it/s]\u001b[A\n",
      "1it [00:17, 17.14s/it]\u001b[A\n",
      "2it [00:34, 17.46s/it]\u001b[A\n",
      "3it [00:53, 18.11s/it]\u001b[A\n",
      "4it [01:14, 19.26s/it]\u001b[A\n",
      "5it [01:28, 17.74s/it]\u001b[A\n"
     ]
    },
    {
     "name": "stdout",
     "output_type": "stream",
     "text": [
      "Iteration: 18 - D1_DeSurv - Computing the metric on D1\n"
     ]
    },
    {
     "name": "stderr",
     "output_type": "stream",
     "text": [
      "\n",
      "0it [00:00, ?it/s]\u001b[A\n",
      "1it [00:19, 19.94s/it]\u001b[A\n",
      "2it [00:41, 20.81s/it]\u001b[A\n",
      "3it [01:01, 20.43s/it]\u001b[A\n",
      "4it [01:18, 19.23s/it]\u001b[A\n",
      "5it [01:37, 19.48s/it]\u001b[A\n"
     ]
    },
    {
     "name": "stdout",
     "output_type": "stream",
     "text": [
      "Iteration: 18 - coDeSurv - Computing the metric on D2\n"
     ]
    },
    {
     "name": "stderr",
     "output_type": "stream",
     "text": [
      "\n",
      "0it [00:00, ?it/s]\u001b[A\n",
      "1it [00:17, 17.45s/it]\u001b[A\n",
      "2it [00:38, 19.36s/it]\u001b[A\n",
      "3it [00:57, 19.15s/it]\u001b[A\n",
      "4it [01:12, 17.66s/it]\u001b[A\n",
      "5it [01:26, 17.39s/it]\u001b[A\n"
     ]
    },
    {
     "name": "stdout",
     "output_type": "stream",
     "text": [
      "Iteration: 18 - D1_DeSurv - Computing the metric on D2\n"
     ]
    },
    {
     "name": "stderr",
     "output_type": "stream",
     "text": [
      "\n",
      "0it [00:00, ?it/s]\u001b[A\n",
      "1it [00:21, 21.43s/it]\u001b[A\n",
      "2it [00:40, 20.17s/it]\u001b[A\n",
      "3it [00:58, 19.06s/it]\u001b[A\n",
      "4it [01:19, 19.92s/it]\u001b[A\n",
      "5it [01:34, 18.82s/it]\u001b[A\n",
      " 19%|███████████████████▌                                                                                   | 19/100 [4:08:16<20:13:20, 898.77s/it]"
     ]
    },
    {
     "name": "stdout",
     "output_type": "stream",
     "text": [
      "Iteration: 19\n",
      "Iteration: 19 - coDeSurv - Computing the metric on D1\n"
     ]
    },
    {
     "name": "stderr",
     "output_type": "stream",
     "text": [
      "\n",
      "0it [00:00, ?it/s]\u001b[A\n",
      "1it [00:17, 17.68s/it]\u001b[A\n",
      "2it [00:31, 15.59s/it]\u001b[A\n",
      "3it [00:48, 16.05s/it]\u001b[A\n",
      "4it [01:09, 17.85s/it]\u001b[A\n",
      "5it [01:25, 17.08s/it]\u001b[A\n"
     ]
    },
    {
     "name": "stdout",
     "output_type": "stream",
     "text": [
      "Iteration: 19 - D1_DeSurv - Computing the metric on D1\n"
     ]
    },
    {
     "name": "stderr",
     "output_type": "stream",
     "text": [
      "\n",
      "0it [00:00, ?it/s]\u001b[A\n",
      "1it [00:18, 18.80s/it]\u001b[A\n",
      "2it [00:37, 18.70s/it]\u001b[A\n",
      "3it [00:58, 19.79s/it]\u001b[A\n",
      "4it [01:18, 19.80s/it]\u001b[A\n",
      "5it [01:35, 19.16s/it]\u001b[A\n"
     ]
    },
    {
     "name": "stdout",
     "output_type": "stream",
     "text": [
      "Iteration: 19 - coDeSurv - Computing the metric on D2\n"
     ]
    },
    {
     "name": "stderr",
     "output_type": "stream",
     "text": [
      "\n",
      "0it [00:00, ?it/s]\u001b[A\n",
      "1it [00:18, 18.73s/it]\u001b[A\n",
      "2it [00:37, 18.53s/it]\u001b[A\n",
      "3it [00:55, 18.41s/it]\u001b[A\n",
      "4it [01:12, 17.99s/it]\u001b[A\n",
      "5it [01:27, 17.58s/it]\u001b[A\n"
     ]
    },
    {
     "name": "stdout",
     "output_type": "stream",
     "text": [
      "Iteration: 19 - D1_DeSurv - Computing the metric on D2\n"
     ]
    },
    {
     "name": "stderr",
     "output_type": "stream",
     "text": [
      "\n",
      "0it [00:00, ?it/s]\u001b[A\n",
      "1it [00:17, 17.41s/it]\u001b[A\n",
      "2it [00:37, 19.15s/it]\u001b[A\n",
      "3it [00:57, 19.43s/it]\u001b[A\n",
      "4it [01:17, 19.75s/it]\u001b[A\n",
      "5it [01:34, 18.85s/it]\u001b[A\n",
      " 20%|████████████████████▌                                                                                  | 20/100 [4:14:20<16:24:00, 738.01s/it]"
     ]
    },
    {
     "name": "stdout",
     "output_type": "stream",
     "text": [
      "Iteration: 20\n",
      "Iteration: 20 - coDeSurv - Computing the metric on D1\n"
     ]
    },
    {
     "name": "stderr",
     "output_type": "stream",
     "text": [
      "\n",
      "0it [00:00, ?it/s]\u001b[A\n",
      "1it [00:16, 16.51s/it]\u001b[A\n",
      "2it [00:33, 16.76s/it]\u001b[A\n",
      "3it [00:52, 17.82s/it]\u001b[A\n",
      "4it [01:11, 18.18s/it]\u001b[A\n",
      "5it [01:26, 17.33s/it]\u001b[A\n"
     ]
    },
    {
     "name": "stdout",
     "output_type": "stream",
     "text": [
      "Iteration: 20 - D1_DeSurv - Computing the metric on D1\n"
     ]
    },
    {
     "name": "stderr",
     "output_type": "stream",
     "text": [
      "\n",
      "0it [00:00, ?it/s]\u001b[A\n",
      "1it [00:20, 20.52s/it]\u001b[A\n",
      "2it [00:39, 19.39s/it]\u001b[A\n",
      "3it [00:57, 18.77s/it]\u001b[A\n",
      "4it [01:19, 20.12s/it]\u001b[A\n",
      "5it [01:37, 19.42s/it]\u001b[A\n"
     ]
    },
    {
     "name": "stdout",
     "output_type": "stream",
     "text": [
      "Iteration: 20 - coDeSurv - Computing the metric on D2\n"
     ]
    },
    {
     "name": "stderr",
     "output_type": "stream",
     "text": [
      "\n",
      "0it [00:00, ?it/s]\u001b[A\n",
      "1it [00:20, 20.30s/it]\u001b[A\n",
      "2it [00:35, 17.37s/it]\u001b[A\n",
      "3it [00:53, 17.53s/it]\u001b[A\n",
      "4it [01:10, 17.29s/it]\u001b[A\n",
      "5it [01:25, 17.15s/it]\u001b[A\n"
     ]
    },
    {
     "name": "stdout",
     "output_type": "stream",
     "text": [
      "Iteration: 20 - D1_DeSurv - Computing the metric on D2\n"
     ]
    },
    {
     "name": "stderr",
     "output_type": "stream",
     "text": [
      "\n",
      "0it [00:00, ?it/s]\u001b[A\n",
      "1it [00:18, 18.42s/it]\u001b[A\n",
      "2it [00:36, 18.50s/it]\u001b[A\n",
      "3it [00:56, 18.94s/it]\u001b[A\n",
      "4it [01:16, 19.32s/it]\u001b[A\n",
      "5it [01:33, 18.70s/it]\u001b[A\n",
      " 21%|█████████████████████▋                                                                                 | 21/100 [4:20:23<13:43:30, 625.45s/it]"
     ]
    },
    {
     "name": "stdout",
     "output_type": "stream",
     "text": [
      "Iteration: 21\n",
      "Iteration: 21 - coDeSurv - Computing the metric on D1\n"
     ]
    },
    {
     "name": "stderr",
     "output_type": "stream",
     "text": [
      "\n",
      "0it [00:00, ?it/s]\u001b[A\n",
      "1it [00:16, 16.50s/it]\u001b[A\n",
      "2it [00:36, 18.81s/it]\u001b[A\n",
      "3it [00:55, 18.51s/it]\u001b[A\n",
      "4it [01:10, 17.14s/it]\u001b[A\n",
      "5it [01:24, 16.88s/it]\u001b[A\n"
     ]
    },
    {
     "name": "stdout",
     "output_type": "stream",
     "text": [
      "Iteration: 21 - D1_DeSurv - Computing the metric on D1\n"
     ]
    },
    {
     "name": "stderr",
     "output_type": "stream",
     "text": [
      "\n",
      "0it [00:00, ?it/s]\u001b[A\n",
      "1it [00:18, 18.40s/it]\u001b[A\n",
      "2it [00:36, 18.02s/it]\u001b[A\n",
      "3it [00:55, 18.50s/it]\u001b[A\n",
      "4it [01:15, 19.17s/it]\u001b[A\n",
      "5it [01:32, 18.49s/it]\u001b[A\n"
     ]
    },
    {
     "name": "stdout",
     "output_type": "stream",
     "text": [
      "Iteration: 21 - coDeSurv - Computing the metric on D2\n"
     ]
    },
    {
     "name": "stderr",
     "output_type": "stream",
     "text": [
      "\n",
      "0it [00:00, ?it/s]\u001b[A\n",
      "1it [00:18, 18.87s/it]\u001b[A\n",
      "2it [00:36, 18.27s/it]\u001b[A\n",
      "3it [00:54, 17.83s/it]\u001b[A\n",
      "4it [01:12, 17.96s/it]\u001b[A\n",
      "5it [01:28, 17.77s/it]\u001b[A\n"
     ]
    },
    {
     "name": "stdout",
     "output_type": "stream",
     "text": [
      "Iteration: 21 - D1_DeSurv - Computing the metric on D2\n"
     ]
    },
    {
     "name": "stderr",
     "output_type": "stream",
     "text": [
      "\n",
      "0it [00:00, ?it/s]\u001b[A\n",
      "1it [00:18, 18.82s/it]\u001b[A\n",
      "2it [00:37, 18.65s/it]\u001b[A\n",
      "3it [00:55, 18.24s/it]\u001b[A\n",
      "4it [01:15, 19.05s/it]\u001b[A\n",
      "5it [01:34, 18.97s/it]\u001b[A\n",
      " 22%|██████████████████████▋                                                                                | 22/100 [4:26:23<11:49:44, 545.95s/it]"
     ]
    },
    {
     "name": "stdout",
     "output_type": "stream",
     "text": [
      "Iteration: 22\n",
      "Iteration: 22 - coDeSurv - Computing the metric on D1\n"
     ]
    },
    {
     "name": "stderr",
     "output_type": "stream",
     "text": [
      "\n",
      "0it [00:00, ?it/s]\u001b[A\n",
      "1it [00:18, 18.47s/it]\u001b[A\n",
      "2it [00:37, 18.63s/it]\u001b[A\n",
      "3it [00:54, 17.88s/it]\u001b[A\n",
      "4it [01:10, 17.19s/it]\u001b[A\n",
      "5it [01:25, 17.07s/it]\u001b[A\n"
     ]
    },
    {
     "name": "stdout",
     "output_type": "stream",
     "text": [
      "Iteration: 22 - D1_DeSurv - Computing the metric on D1\n"
     ]
    },
    {
     "name": "stderr",
     "output_type": "stream",
     "text": [
      "\n",
      "0it [00:00, ?it/s]\u001b[A\n",
      "1it [00:19, 19.12s/it]\u001b[A\n",
      "2it [00:37, 18.86s/it]\u001b[A\n",
      "3it [00:58, 19.66s/it]\u001b[A\n",
      "4it [01:17, 19.34s/it]\u001b[A\n",
      "5it [01:34, 18.93s/it]\u001b[A\n"
     ]
    },
    {
     "name": "stdout",
     "output_type": "stream",
     "text": [
      "Iteration: 22 - coDeSurv - Computing the metric on D2\n"
     ]
    },
    {
     "name": "stderr",
     "output_type": "stream",
     "text": [
      "\n",
      "0it [00:00, ?it/s]\u001b[A\n",
      "1it [00:15, 15.47s/it]\u001b[A\n",
      "2it [00:35, 17.96s/it]\u001b[A\n",
      "3it [00:53, 18.28s/it]\u001b[A\n",
      "4it [01:15, 19.60s/it]\u001b[A\n",
      "5it [01:30, 18.19s/it]\u001b[A\n"
     ]
    },
    {
     "name": "stdout",
     "output_type": "stream",
     "text": [
      "Iteration: 22 - D1_DeSurv - Computing the metric on D2\n"
     ]
    },
    {
     "name": "stderr",
     "output_type": "stream",
     "text": [
      "\n",
      "0it [00:00, ?it/s]\u001b[A\n",
      "1it [00:18, 18.34s/it]\u001b[A\n",
      "2it [00:36, 18.37s/it]\u001b[A\n",
      "3it [00:56, 18.93s/it]\u001b[A\n",
      "4it [01:16, 19.37s/it]\u001b[A\n",
      "5it [01:36, 19.20s/it]\u001b[A\n",
      " 23%|███████████████████████▋                                                                               | 23/100 [4:32:30<10:31:43, 492.25s/it]"
     ]
    },
    {
     "name": "stdout",
     "output_type": "stream",
     "text": [
      "Iteration: 23\n",
      "Iteration: 23 - coDeSurv - Computing the metric on D1\n"
     ]
    },
    {
     "name": "stderr",
     "output_type": "stream",
     "text": [
      "\n",
      "0it [00:00, ?it/s]\u001b[A\n",
      "1it [00:19, 19.89s/it]\u001b[A\n",
      "2it [00:35, 17.58s/it]\u001b[A\n",
      "3it [00:52, 17.19s/it]\u001b[A\n",
      "4it [01:13, 18.84s/it]\u001b[A\n",
      "5it [01:28, 17.63s/it]\u001b[A\n"
     ]
    },
    {
     "name": "stdout",
     "output_type": "stream",
     "text": [
      "Iteration: 23 - D1_DeSurv - Computing the metric on D1\n"
     ]
    },
    {
     "name": "stderr",
     "output_type": "stream",
     "text": [
      "\n",
      "0it [00:00, ?it/s]\u001b[A\n",
      "1it [00:21, 21.80s/it]\u001b[A\n",
      "2it [00:40, 19.69s/it]\u001b[A\n",
      "3it [00:59, 19.73s/it]\u001b[A\n",
      "4it [01:15, 18.09s/it]\u001b[A\n",
      "5it [01:32, 18.56s/it]\u001b[A\n"
     ]
    },
    {
     "name": "stdout",
     "output_type": "stream",
     "text": [
      "Iteration: 23 - coDeSurv - Computing the metric on D2\n"
     ]
    },
    {
     "name": "stderr",
     "output_type": "stream",
     "text": [
      "\n",
      "0it [00:00, ?it/s]\u001b[A\n",
      "1it [00:16, 16.19s/it]\u001b[A\n",
      "2it [00:35, 18.15s/it]\u001b[A\n",
      "3it [00:52, 17.68s/it]\u001b[A\n",
      "4it [01:12, 18.42s/it]\u001b[A\n",
      "5it [01:28, 17.61s/it]\u001b[A\n"
     ]
    },
    {
     "name": "stdout",
     "output_type": "stream",
     "text": [
      "Iteration: 23 - D1_DeSurv - Computing the metric on D2\n"
     ]
    },
    {
     "name": "stderr",
     "output_type": "stream",
     "text": [
      "\n",
      "0it [00:00, ?it/s]\u001b[A\n",
      "1it [00:19, 19.03s/it]\u001b[A\n",
      "2it [00:39, 19.91s/it]\u001b[A\n",
      "3it [00:57, 19.24s/it]\u001b[A\n",
      "4it [01:16, 19.07s/it]\u001b[A\n",
      "5it [01:38, 19.71s/it]\u001b[A\n",
      " 24%|████████████████████████▉                                                                               | 24/100 [4:38:38<9:36:08, 454.85s/it]"
     ]
    },
    {
     "name": "stdout",
     "output_type": "stream",
     "text": [
      "Iteration: 24\n",
      "Iteration: 24 - coDeSurv - Computing the metric on D1\n"
     ]
    },
    {
     "name": "stderr",
     "output_type": "stream",
     "text": [
      "\n",
      "0it [00:00, ?it/s]\u001b[A\n",
      "1it [00:19, 19.38s/it]\u001b[A\n",
      "2it [00:39, 19.73s/it]\u001b[A\n",
      "3it [00:55, 18.03s/it]\u001b[A\n",
      "4it [01:13, 17.89s/it]\u001b[A\n",
      "5it [01:27, 17.53s/it]\u001b[A\n"
     ]
    },
    {
     "name": "stdout",
     "output_type": "stream",
     "text": [
      "Iteration: 24 - D1_DeSurv - Computing the metric on D1\n"
     ]
    },
    {
     "name": "stderr",
     "output_type": "stream",
     "text": [
      "\n",
      "0it [00:00, ?it/s]\u001b[A\n",
      "1it [00:20, 21.00s/it]\u001b[A\n",
      "2it [00:40, 19.99s/it]\u001b[A\n",
      "3it [00:55, 17.86s/it]\u001b[A\n",
      "4it [01:17, 19.27s/it]\u001b[A\n",
      "5it [01:34, 18.97s/it]\u001b[A\n"
     ]
    },
    {
     "name": "stdout",
     "output_type": "stream",
     "text": [
      "Iteration: 24 - coDeSurv - Computing the metric on D2\n"
     ]
    },
    {
     "name": "stderr",
     "output_type": "stream",
     "text": [
      "\n",
      "0it [00:00, ?it/s]\u001b[A\n",
      "1it [00:16, 16.84s/it]\u001b[A\n",
      "2it [00:35, 17.80s/it]\u001b[A\n",
      "3it [00:53, 18.04s/it]\u001b[A\n",
      "4it [01:14, 19.23s/it]\u001b[A\n",
      "5it [01:33, 18.63s/it]\u001b[A\n"
     ]
    },
    {
     "name": "stdout",
     "output_type": "stream",
     "text": [
      "Iteration: 24 - D1_DeSurv - Computing the metric on D2\n"
     ]
    },
    {
     "name": "stderr",
     "output_type": "stream",
     "text": [
      "\n",
      "0it [00:00, ?it/s]\u001b[A\n",
      "1it [00:21, 21.09s/it]\u001b[A\n",
      "2it [00:43, 21.78s/it]\u001b[A\n",
      "3it [01:01, 19.95s/it]\u001b[A\n",
      "4it [01:22, 20.68s/it]\u001b[A\n",
      "5it [01:42, 20.58s/it]\u001b[A\n",
      " 25%|██████████████████████████                                                                              | 25/100 [4:44:56<8:59:57, 431.96s/it]"
     ]
    },
    {
     "name": "stdout",
     "output_type": "stream",
     "text": [
      "Iteration: 25\n",
      "Iteration: 25 - coDeSurv - Computing the metric on D1\n"
     ]
    },
    {
     "name": "stderr",
     "output_type": "stream",
     "text": [
      "\n",
      "0it [00:00, ?it/s]\u001b[A\n",
      "1it [00:18, 18.85s/it]\u001b[A\n",
      "2it [00:35, 17.67s/it]\u001b[A\n",
      "3it [00:53, 17.66s/it]\u001b[A\n",
      "4it [01:14, 18.94s/it]\u001b[A\n",
      "5it [01:30, 18.19s/it]\u001b[A\n"
     ]
    },
    {
     "name": "stdout",
     "output_type": "stream",
     "text": [
      "Iteration: 25 - D1_DeSurv - Computing the metric on D1\n"
     ]
    },
    {
     "name": "stderr",
     "output_type": "stream",
     "text": [
      "\n",
      "0it [00:00, ?it/s]\u001b[A\n",
      "1it [00:21, 21.71s/it]\u001b[A\n",
      "2it [00:43, 21.87s/it]\u001b[A\n",
      "3it [01:01, 19.97s/it]\u001b[A\n",
      "4it [01:20, 19.54s/it]\u001b[A\n",
      "5it [01:38, 19.64s/it]\u001b[A\n"
     ]
    },
    {
     "name": "stdout",
     "output_type": "stream",
     "text": [
      "Iteration: 25 - coDeSurv - Computing the metric on D2\n"
     ]
    },
    {
     "name": "stderr",
     "output_type": "stream",
     "text": [
      "\n",
      "0it [00:00, ?it/s]\u001b[A\n",
      "1it [00:20, 20.88s/it]\u001b[A\n",
      "2it [00:38, 19.15s/it]\u001b[A\n",
      "3it [00:54, 17.51s/it]\u001b[A\n",
      "4it [01:13, 18.32s/it]\u001b[A\n",
      "5it [01:30, 18.01s/it]\u001b[A\n"
     ]
    },
    {
     "name": "stdout",
     "output_type": "stream",
     "text": [
      "Iteration: 25 - D1_DeSurv - Computing the metric on D2\n"
     ]
    },
    {
     "name": "stderr",
     "output_type": "stream",
     "text": [
      "\n",
      "0it [00:00, ?it/s]\u001b[A\n",
      "1it [00:18, 18.41s/it]\u001b[A\n",
      "2it [00:39, 20.18s/it]\u001b[A\n",
      "3it [01:03, 21.69s/it]\u001b[A\n",
      "4it [01:22, 20.65s/it]\u001b[A\n",
      "5it [01:39, 19.83s/it]\u001b[A\n",
      " 26%|███████████████████████████                                                                             | 26/100 [4:51:15<8:32:54, 415.88s/it]"
     ]
    },
    {
     "name": "stdout",
     "output_type": "stream",
     "text": [
      "Iteration: 26\n",
      "Iteration: 26 - coDeSurv - Computing the metric on D1\n"
     ]
    },
    {
     "name": "stderr",
     "output_type": "stream",
     "text": [
      "\n",
      "0it [00:00, ?it/s]\u001b[A\n",
      "1it [00:17, 17.26s/it]\u001b[A\n",
      "2it [00:35, 17.87s/it]\u001b[A\n",
      "3it [00:52, 17.35s/it]\u001b[A\n",
      "4it [01:13, 18.75s/it]\u001b[A\n",
      "5it [01:28, 17.78s/it]\u001b[A\n"
     ]
    },
    {
     "name": "stdout",
     "output_type": "stream",
     "text": [
      "Iteration: 26 - D1_DeSurv - Computing the metric on D1\n"
     ]
    },
    {
     "name": "stderr",
     "output_type": "stream",
     "text": [
      "\n",
      "0it [00:00, ?it/s]\u001b[A\n",
      "1it [00:21, 21.68s/it]\u001b[A\n",
      "2it [00:40, 20.02s/it]\u001b[A\n",
      "3it [00:59, 19.34s/it]\u001b[A\n",
      "4it [01:17, 19.11s/it]\u001b[A\n",
      "5it [01:36, 19.24s/it]\u001b[A\n"
     ]
    },
    {
     "name": "stdout",
     "output_type": "stream",
     "text": [
      "Iteration: 26 - coDeSurv - Computing the metric on D2\n"
     ]
    },
    {
     "name": "stderr",
     "output_type": "stream",
     "text": [
      "\n",
      "0it [00:00, ?it/s]\u001b[A\n",
      "1it [00:17, 17.63s/it]\u001b[A\n",
      "2it [00:34, 17.47s/it]\u001b[A\n",
      "3it [00:55, 18.80s/it]\u001b[A\n",
      "4it [01:11, 17.93s/it]\u001b[A\n",
      "5it [01:29, 17.85s/it]\u001b[A\n"
     ]
    },
    {
     "name": "stdout",
     "output_type": "stream",
     "text": [
      "Iteration: 26 - D1_DeSurv - Computing the metric on D2\n"
     ]
    },
    {
     "name": "stderr",
     "output_type": "stream",
     "text": [
      "\n",
      "0it [00:00, ?it/s]\u001b[A\n",
      "1it [00:18, 18.73s/it]\u001b[A\n",
      "2it [00:39, 20.14s/it]\u001b[A\n",
      "3it [01:02, 21.34s/it]\u001b[A\n",
      "4it [01:22, 20.61s/it]\u001b[A\n",
      "5it [01:38, 19.61s/it]\u001b[A\n",
      " 27%|████████████████████████████                                                                            | 27/100 [4:57:27<8:10:06, 402.83s/it]"
     ]
    },
    {
     "name": "stdout",
     "output_type": "stream",
     "text": [
      "Iteration: 27\n",
      "Iteration: 27 - coDeSurv - Computing the metric on D1\n"
     ]
    },
    {
     "name": "stderr",
     "output_type": "stream",
     "text": [
      "\n",
      "0it [00:00, ?it/s]\u001b[A\n",
      "1it [00:18, 18.13s/it]\u001b[A\n",
      "2it [00:35, 17.82s/it]\u001b[A\n",
      "3it [00:56, 19.00s/it]\u001b[A\n",
      "4it [01:13, 18.39s/it]\u001b[A\n",
      "5it [01:27, 17.52s/it]\u001b[A\n"
     ]
    },
    {
     "name": "stdout",
     "output_type": "stream",
     "text": [
      "Iteration: 27 - D1_DeSurv - Computing the metric on D1\n"
     ]
    },
    {
     "name": "stderr",
     "output_type": "stream",
     "text": [
      "\n",
      "0it [00:00, ?it/s]\u001b[A\n",
      "1it [00:20, 20.54s/it]\u001b[A\n",
      "2it [00:42, 21.20s/it]\u001b[A\n",
      "3it [01:00, 19.73s/it]\u001b[A\n",
      "4it [01:19, 19.43s/it]\u001b[A\n",
      "5it [01:37, 19.45s/it]\u001b[A\n"
     ]
    },
    {
     "name": "stdout",
     "output_type": "stream",
     "text": [
      "Iteration: 27 - coDeSurv - Computing the metric on D2\n"
     ]
    },
    {
     "name": "stderr",
     "output_type": "stream",
     "text": [
      "\n",
      "0it [00:00, ?it/s]\u001b[A\n",
      "1it [00:18, 18.76s/it]\u001b[A\n",
      "2it [00:37, 18.59s/it]\u001b[A\n",
      "3it [00:55, 18.54s/it]\u001b[A\n",
      "4it [01:14, 18.46s/it]\u001b[A\n",
      "5it [01:29, 17.96s/it]\u001b[A\n"
     ]
    },
    {
     "name": "stdout",
     "output_type": "stream",
     "text": [
      "Iteration: 27 - D1_DeSurv - Computing the metric on D2\n"
     ]
    },
    {
     "name": "stderr",
     "output_type": "stream",
     "text": [
      "\n",
      "0it [00:00, ?it/s]\u001b[A\n",
      "1it [00:18, 18.89s/it]\u001b[A\n",
      "2it [00:40, 20.29s/it]\u001b[A\n",
      "3it [00:59, 19.90s/it]\u001b[A\n",
      "4it [01:21, 20.81s/it]\u001b[A\n",
      "5it [01:39, 19.95s/it]\u001b[A\n",
      " 28%|█████████████████████████████                                                                           | 28/100 [5:03:42<7:53:11, 394.32s/it]"
     ]
    },
    {
     "name": "stdout",
     "output_type": "stream",
     "text": [
      "Iteration: 28\n",
      "Iteration: 28 - coDeSurv - Computing the metric on D1\n"
     ]
    },
    {
     "name": "stderr",
     "output_type": "stream",
     "text": [
      "\n",
      "0it [00:00, ?it/s]\u001b[A\n",
      "1it [00:16, 16.56s/it]\u001b[A\n",
      "2it [00:34, 17.53s/it]\u001b[A\n",
      "3it [00:53, 18.29s/it]\u001b[A\n",
      "4it [01:14, 19.29s/it]\u001b[A\n",
      "5it [01:27, 17.59s/it]\u001b[A\n"
     ]
    },
    {
     "name": "stdout",
     "output_type": "stream",
     "text": [
      "Iteration: 28 - D1_DeSurv - Computing the metric on D1\n"
     ]
    },
    {
     "name": "stderr",
     "output_type": "stream",
     "text": [
      "\n",
      "0it [00:00, ?it/s]\u001b[A\n",
      "1it [00:22, 22.18s/it]\u001b[A\n",
      "2it [00:41, 20.45s/it]\u001b[A\n",
      "3it [01:04, 21.44s/it]\u001b[A\n",
      "4it [01:22, 20.28s/it]\u001b[A\n",
      "5it [01:40, 20.00s/it]\u001b[A\n"
     ]
    },
    {
     "name": "stdout",
     "output_type": "stream",
     "text": [
      "Iteration: 28 - coDeSurv - Computing the metric on D2\n"
     ]
    },
    {
     "name": "stderr",
     "output_type": "stream",
     "text": [
      "\n",
      "0it [00:00, ?it/s]\u001b[A\n",
      "1it [00:16, 16.88s/it]\u001b[A\n",
      "2it [00:37, 18.80s/it]\u001b[A\n",
      "3it [00:58, 20.08s/it]\u001b[A\n",
      "4it [01:16, 19.04s/it]\u001b[A\n",
      "5it [01:29, 17.98s/it]\u001b[A\n"
     ]
    },
    {
     "name": "stdout",
     "output_type": "stream",
     "text": [
      "Iteration: 28 - D1_DeSurv - Computing the metric on D2\n"
     ]
    },
    {
     "name": "stderr",
     "output_type": "stream",
     "text": [
      "\n",
      "0it [00:00, ?it/s]\u001b[A\n",
      "1it [00:20, 20.88s/it]\u001b[A\n",
      "2it [00:41, 20.56s/it]\u001b[A\n",
      "3it [01:01, 20.38s/it]\u001b[A\n",
      "4it [01:21, 20.26s/it]\u001b[A\n",
      "5it [01:38, 19.62s/it]\u001b[A\n",
      " 29%|██████████████████████████████▏                                                                         | 29/100 [5:09:58<7:40:06, 388.82s/it]"
     ]
    },
    {
     "name": "stdout",
     "output_type": "stream",
     "text": [
      "Iteration: 29\n",
      "Iteration: 29 - coDeSurv - Computing the metric on D1\n"
     ]
    },
    {
     "name": "stderr",
     "output_type": "stream",
     "text": [
      "\n",
      "0it [00:00, ?it/s]\u001b[A\n",
      "1it [00:14, 14.87s/it]\u001b[A\n",
      "2it [00:33, 17.11s/it]\u001b[A\n",
      "3it [00:55, 19.29s/it]\u001b[A\n",
      "4it [01:13, 18.83s/it]\u001b[A\n",
      "5it [01:28, 17.73s/it]\u001b[A\n"
     ]
    },
    {
     "name": "stdout",
     "output_type": "stream",
     "text": [
      "Iteration: 29 - D1_DeSurv - Computing the metric on D1\n"
     ]
    },
    {
     "name": "stderr",
     "output_type": "stream",
     "text": [
      "\n",
      "0it [00:00, ?it/s]\u001b[A\n",
      "1it [00:18, 18.68s/it]\u001b[A\n",
      "2it [00:38, 19.11s/it]\u001b[A\n",
      "3it [00:55, 18.25s/it]\u001b[A\n",
      "4it [01:17, 19.72s/it]\u001b[A\n",
      "5it [01:36, 19.29s/it]\u001b[A\n"
     ]
    },
    {
     "name": "stdout",
     "output_type": "stream",
     "text": [
      "Iteration: 29 - coDeSurv - Computing the metric on D2\n"
     ]
    },
    {
     "name": "stderr",
     "output_type": "stream",
     "text": [
      "\n",
      "0it [00:00, ?it/s]\u001b[A\n",
      "1it [00:19, 19.51s/it]\u001b[A\n",
      "2it [00:36, 17.91s/it]\u001b[A\n",
      "3it [00:55, 18.33s/it]\u001b[A\n",
      "4it [01:12, 18.13s/it]\u001b[A\n",
      "5it [01:27, 17.56s/it]\u001b[A\n"
     ]
    },
    {
     "name": "stdout",
     "output_type": "stream",
     "text": [
      "Iteration: 29 - D1_DeSurv - Computing the metric on D2\n"
     ]
    },
    {
     "name": "stderr",
     "output_type": "stream",
     "text": [
      "\n",
      "0it [00:00, ?it/s]\u001b[A\n",
      "1it [00:19, 19.34s/it]\u001b[A\n",
      "2it [00:40, 20.34s/it]\u001b[A\n",
      "3it [01:01, 20.74s/it]\u001b[A\n",
      "4it [01:17, 19.02s/it]\u001b[A\n",
      "5it [01:34, 18.95s/it]\u001b[A\n",
      " 30%|███████████████████████████████▏                                                                        | 30/100 [5:16:05<7:26:13, 382.48s/it]"
     ]
    },
    {
     "name": "stdout",
     "output_type": "stream",
     "text": [
      "Iteration: 30\n",
      "Iteration: 30 - coDeSurv - Computing the metric on D1\n"
     ]
    },
    {
     "name": "stderr",
     "output_type": "stream",
     "text": [
      "\n",
      "0it [00:00, ?it/s]\u001b[A\n",
      "1it [00:17, 17.33s/it]\u001b[A\n",
      "2it [00:34, 17.23s/it]\u001b[A\n",
      "3it [00:52, 17.71s/it]\u001b[A\n",
      "4it [01:09, 17.33s/it]\u001b[A\n",
      "5it [01:25, 17.00s/it]\u001b[A\n"
     ]
    },
    {
     "name": "stdout",
     "output_type": "stream",
     "text": [
      "Iteration: 30 - D1_DeSurv - Computing the metric on D1\n"
     ]
    },
    {
     "name": "stderr",
     "output_type": "stream",
     "text": [
      "\n",
      "0it [00:00, ?it/s]\u001b[A\n",
      "1it [00:18, 18.19s/it]\u001b[A\n",
      "2it [00:37, 19.14s/it]\u001b[A\n",
      "3it [00:57, 19.24s/it]\u001b[A\n",
      "4it [01:19, 20.36s/it]\u001b[A\n",
      "5it [01:33, 18.61s/it]\u001b[A\n"
     ]
    },
    {
     "name": "stdout",
     "output_type": "stream",
     "text": [
      "Iteration: 30 - coDeSurv - Computing the metric on D2\n"
     ]
    },
    {
     "name": "stderr",
     "output_type": "stream",
     "text": [
      "\n",
      "0it [00:00, ?it/s]\u001b[A\n",
      "1it [00:15, 15.97s/it]\u001b[A\n",
      "2it [00:38, 19.54s/it]\u001b[A\n",
      "3it [00:55, 18.42s/it]\u001b[A\n",
      "4it [01:10, 17.37s/it]\u001b[A\n",
      "5it [01:25, 17.19s/it]\u001b[A\n"
     ]
    },
    {
     "name": "stdout",
     "output_type": "stream",
     "text": [
      "Iteration: 30 - D1_DeSurv - Computing the metric on D2\n"
     ]
    },
    {
     "name": "stderr",
     "output_type": "stream",
     "text": [
      "\n",
      "0it [00:00, ?it/s]\u001b[A\n",
      "1it [00:18, 18.26s/it]\u001b[A\n",
      "2it [00:37, 18.95s/it]\u001b[A\n",
      "3it [00:56, 18.84s/it]\u001b[A\n",
      "4it [01:18, 19.98s/it]\u001b[A\n",
      "5it [01:33, 18.77s/it]\u001b[A\n",
      " 31%|████████████████████████████████▏                                                                       | 31/100 [5:22:03<7:11:22, 375.11s/it]"
     ]
    },
    {
     "name": "stdout",
     "output_type": "stream",
     "text": [
      "Iteration: 31\n",
      "Iteration: 31 - coDeSurv - Computing the metric on D1\n"
     ]
    },
    {
     "name": "stderr",
     "output_type": "stream",
     "text": [
      "\n",
      "0it [00:00, ?it/s]\u001b[A\n",
      "1it [00:16, 16.79s/it]\u001b[A\n",
      "2it [00:34, 17.31s/it]\u001b[A\n",
      "3it [00:54, 18.34s/it]\u001b[A\n",
      "4it [01:09, 17.13s/it]\u001b[A\n",
      "5it [01:24, 16.99s/it]\u001b[A\n"
     ]
    },
    {
     "name": "stdout",
     "output_type": "stream",
     "text": [
      "Iteration: 31 - D1_DeSurv - Computing the metric on D1\n"
     ]
    },
    {
     "name": "stderr",
     "output_type": "stream",
     "text": [
      "\n",
      "0it [00:00, ?it/s]\u001b[A\n",
      "1it [00:16, 16.91s/it]\u001b[A\n",
      "2it [00:36, 18.58s/it]\u001b[A\n",
      "3it [00:55, 18.53s/it]\u001b[A\n",
      "4it [01:13, 18.46s/it]\u001b[A\n",
      "5it [01:32, 18.51s/it]\u001b[A\n"
     ]
    },
    {
     "name": "stdout",
     "output_type": "stream",
     "text": [
      "Iteration: 31 - coDeSurv - Computing the metric on D2\n"
     ]
    },
    {
     "name": "stderr",
     "output_type": "stream",
     "text": [
      "\n",
      "0it [00:00, ?it/s]\u001b[A\n",
      "1it [00:18, 18.62s/it]\u001b[A\n",
      "2it [00:35, 17.44s/it]\u001b[A\n",
      "3it [00:55, 18.81s/it]\u001b[A\n",
      "4it [01:10, 17.37s/it]\u001b[A\n",
      "5it [01:25, 17.13s/it]\u001b[A\n"
     ]
    },
    {
     "name": "stdout",
     "output_type": "stream",
     "text": [
      "Iteration: 31 - D1_DeSurv - Computing the metric on D2\n"
     ]
    },
    {
     "name": "stderr",
     "output_type": "stream",
     "text": [
      "\n",
      "0it [00:00, ?it/s]\u001b[A\n",
      "1it [00:19, 19.90s/it]\u001b[A\n",
      "2it [00:41, 21.01s/it]\u001b[A\n",
      "3it [01:01, 20.59s/it]\u001b[A\n",
      "4it [01:17, 18.68s/it]\u001b[A\n",
      "5it [01:33, 18.78s/it]\u001b[A\n",
      " 32%|█████████████████████████████████▎                                                                      | 32/100 [5:28:00<6:58:59, 369.70s/it]"
     ]
    },
    {
     "name": "stdout",
     "output_type": "stream",
     "text": [
      "Iteration: 32\n",
      "Iteration: 32 - coDeSurv - Computing the metric on D1\n"
     ]
    },
    {
     "name": "stderr",
     "output_type": "stream",
     "text": [
      "\n",
      "0it [00:00, ?it/s]\u001b[A\n",
      "1it [00:17, 17.61s/it]\u001b[A\n",
      "2it [00:36, 18.36s/it]\u001b[A\n",
      "3it [00:51, 16.62s/it]\u001b[A\n",
      "4it [01:08, 16.97s/it]\u001b[A\n",
      "5it [01:24, 16.93s/it]\u001b[A\n"
     ]
    },
    {
     "name": "stdout",
     "output_type": "stream",
     "text": [
      "Iteration: 32 - D1_DeSurv - Computing the metric on D1\n"
     ]
    },
    {
     "name": "stderr",
     "output_type": "stream",
     "text": [
      "\n",
      "0it [00:00, ?it/s]\u001b[A\n",
      "1it [00:19, 19.37s/it]\u001b[A\n",
      "2it [00:38, 19.10s/it]\u001b[A\n",
      "3it [00:56, 18.56s/it]\u001b[A\n",
      "4it [01:16, 19.40s/it]\u001b[A\n",
      "5it [01:33, 18.76s/it]\u001b[A\n"
     ]
    },
    {
     "name": "stdout",
     "output_type": "stream",
     "text": [
      "Iteration: 32 - coDeSurv - Computing the metric on D2\n"
     ]
    },
    {
     "name": "stderr",
     "output_type": "stream",
     "text": [
      "\n",
      "0it [00:00, ?it/s]\u001b[A\n",
      "1it [00:16, 16.51s/it]\u001b[A\n",
      "2it [00:32, 16.04s/it]\u001b[A\n",
      "3it [00:52, 17.99s/it]\u001b[A\n",
      "4it [01:09, 17.77s/it]\u001b[A\n",
      "5it [01:26, 17.36s/it]\u001b[A\n"
     ]
    },
    {
     "name": "stdout",
     "output_type": "stream",
     "text": [
      "Iteration: 32 - D1_DeSurv - Computing the metric on D2\n"
     ]
    },
    {
     "name": "stderr",
     "output_type": "stream",
     "text": [
      "\n",
      "0it [00:00, ?it/s]\u001b[A\n",
      "1it [00:18, 19.00s/it]\u001b[A\n",
      "2it [00:38, 19.42s/it]\u001b[A\n",
      "3it [00:57, 19.30s/it]\u001b[A\n",
      "4it [01:16, 19.21s/it]\u001b[A\n",
      "5it [01:35, 19.06s/it]\u001b[A\n",
      " 33%|██████████████████████████████████▎                                                                     | 33/100 [5:34:01<6:49:46, 366.96s/it]"
     ]
    },
    {
     "name": "stdout",
     "output_type": "stream",
     "text": [
      "Iteration: 33\n",
      "Iteration: 33 - coDeSurv - Computing the metric on D1\n"
     ]
    },
    {
     "name": "stderr",
     "output_type": "stream",
     "text": [
      "\n",
      "0it [00:00, ?it/s]\u001b[A\n",
      "1it [00:18, 18.32s/it]\u001b[A\n",
      "2it [00:33, 16.45s/it]\u001b[A\n",
      "3it [00:56, 19.55s/it]\u001b[A\n",
      "4it [01:12, 17.92s/it]\u001b[A\n",
      "5it [01:26, 17.23s/it]\u001b[A\n"
     ]
    },
    {
     "name": "stdout",
     "output_type": "stream",
     "text": [
      "Iteration: 33 - D1_DeSurv - Computing the metric on D1\n"
     ]
    },
    {
     "name": "stderr",
     "output_type": "stream",
     "text": [
      "\n",
      "0it [00:00, ?it/s]\u001b[A\n",
      "1it [00:16, 16.71s/it]\u001b[A\n",
      "2it [00:33, 17.02s/it]\u001b[A\n",
      "3it [00:54, 18.54s/it]\u001b[A\n",
      "4it [01:16, 20.01s/it]\u001b[A\n",
      "5it [01:34, 18.98s/it]\u001b[A\n"
     ]
    },
    {
     "name": "stdout",
     "output_type": "stream",
     "text": [
      "Iteration: 33 - coDeSurv - Computing the metric on D2\n"
     ]
    },
    {
     "name": "stderr",
     "output_type": "stream",
     "text": [
      "\n",
      "0it [00:00, ?it/s]\u001b[A\n",
      "1it [00:18, 18.05s/it]\u001b[A\n",
      "2it [00:37, 19.00s/it]\u001b[A\n",
      "3it [00:56, 18.68s/it]\u001b[A\n",
      "4it [01:13, 18.24s/it]\u001b[A\n",
      "5it [01:27, 17.54s/it]\u001b[A\n"
     ]
    },
    {
     "name": "stdout",
     "output_type": "stream",
     "text": [
      "Iteration: 33 - D1_DeSurv - Computing the metric on D2\n"
     ]
    },
    {
     "name": "stderr",
     "output_type": "stream",
     "text": [
      "\n",
      "0it [00:00, ?it/s]\u001b[A\n",
      "1it [00:18, 18.68s/it]\u001b[A\n",
      "2it [00:38, 19.47s/it]\u001b[A\n",
      "3it [00:56, 18.92s/it]\u001b[A\n",
      "4it [01:17, 19.37s/it]\u001b[A\n",
      "5it [01:36, 19.26s/it]\u001b[A\n",
      " 34%|███████████████████████████████████▎                                                                    | 34/100 [5:40:06<6:43:01, 366.39s/it]"
     ]
    },
    {
     "name": "stdout",
     "output_type": "stream",
     "text": [
      "Iteration: 34\n",
      "Iteration: 34 - coDeSurv - Computing the metric on D1\n"
     ]
    },
    {
     "name": "stderr",
     "output_type": "stream",
     "text": [
      "\n",
      "0it [00:00, ?it/s]\u001b[A\n",
      "1it [00:20, 20.13s/it]\u001b[A\n",
      "2it [00:36, 17.93s/it]\u001b[A\n",
      "3it [00:53, 17.48s/it]\u001b[A\n",
      "4it [01:09, 16.96s/it]\u001b[A\n",
      "5it [01:26, 17.36s/it]\u001b[A\n"
     ]
    },
    {
     "name": "stdout",
     "output_type": "stream",
     "text": [
      "Iteration: 34 - D1_DeSurv - Computing the metric on D1\n"
     ]
    },
    {
     "name": "stderr",
     "output_type": "stream",
     "text": [
      "\n",
      "0it [00:00, ?it/s]\u001b[A\n",
      "1it [00:23, 23.20s/it]\u001b[A\n",
      "2it [00:42, 21.05s/it]\u001b[A\n",
      "3it [01:00, 19.60s/it]\u001b[A\n",
      "4it [01:20, 19.68s/it]\u001b[A\n",
      "5it [01:35, 19.11s/it]\u001b[A\n"
     ]
    },
    {
     "name": "stdout",
     "output_type": "stream",
     "text": [
      "Iteration: 34 - coDeSurv - Computing the metric on D2\n"
     ]
    },
    {
     "name": "stderr",
     "output_type": "stream",
     "text": [
      "\n",
      "0it [00:00, ?it/s]\u001b[A\n",
      "1it [00:17, 17.53s/it]\u001b[A\n",
      "2it [00:33, 16.76s/it]\u001b[A\n",
      "3it [00:51, 17.40s/it]\u001b[A\n",
      "4it [01:11, 18.11s/it]\u001b[A\n",
      "5it [01:27, 17.45s/it]\u001b[A\n"
     ]
    },
    {
     "name": "stdout",
     "output_type": "stream",
     "text": [
      "Iteration: 34 - D1_DeSurv - Computing the metric on D2\n"
     ]
    },
    {
     "name": "stderr",
     "output_type": "stream",
     "text": [
      "\n",
      "0it [00:00, ?it/s]\u001b[A\n",
      "1it [00:21, 21.67s/it]\u001b[A\n",
      "2it [00:40, 19.77s/it]\u001b[A\n",
      "3it [00:59, 19.67s/it]\u001b[A\n",
      "4it [01:21, 20.52s/it]\u001b[A\n",
      "5it [01:35, 19.01s/it]\u001b[A\n",
      " 35%|████████████████████████████████████▍                                                                   | 35/100 [5:46:10<6:36:21, 365.87s/it]"
     ]
    },
    {
     "name": "stdout",
     "output_type": "stream",
     "text": [
      "Iteration: 35\n",
      "Iteration: 35 - coDeSurv - Computing the metric on D1\n"
     ]
    },
    {
     "name": "stderr",
     "output_type": "stream",
     "text": [
      "\n",
      "0it [00:00, ?it/s]\u001b[A\n",
      "1it [00:15, 16.00s/it]\u001b[A\n",
      "2it [00:33, 17.14s/it]\u001b[A\n",
      "3it [00:53, 18.09s/it]\u001b[A\n",
      "4it [01:09, 17.33s/it]\u001b[A\n",
      "5it [01:25, 17.09s/it]\u001b[A\n"
     ]
    },
    {
     "name": "stdout",
     "output_type": "stream",
     "text": [
      "Iteration: 35 - D1_DeSurv - Computing the metric on D1\n"
     ]
    },
    {
     "name": "stderr",
     "output_type": "stream",
     "text": [
      "\n",
      "0it [00:00, ?it/s]\u001b[A\n",
      "1it [00:17, 17.63s/it]\u001b[A\n",
      "2it [00:39, 20.05s/it]\u001b[A\n",
      "3it [00:56, 18.49s/it]\u001b[A\n",
      "4it [01:16, 19.41s/it]\u001b[A\n",
      "5it [01:33, 18.73s/it]\u001b[A\n"
     ]
    },
    {
     "name": "stdout",
     "output_type": "stream",
     "text": [
      "Iteration: 35 - coDeSurv - Computing the metric on D2\n"
     ]
    },
    {
     "name": "stderr",
     "output_type": "stream",
     "text": [
      "\n",
      "0it [00:00, ?it/s]\u001b[A\n",
      "1it [00:17, 17.63s/it]\u001b[A\n",
      "2it [00:34, 17.45s/it]\u001b[A\n",
      "3it [00:50, 16.76s/it]\u001b[A\n",
      "4it [01:09, 17.65s/it]\u001b[A\n",
      "5it [01:26, 17.27s/it]\u001b[A\n"
     ]
    },
    {
     "name": "stdout",
     "output_type": "stream",
     "text": [
      "Iteration: 35 - D1_DeSurv - Computing the metric on D2\n"
     ]
    },
    {
     "name": "stderr",
     "output_type": "stream",
     "text": [
      "\n",
      "0it [00:00, ?it/s]\u001b[A\n",
      "1it [00:21, 21.04s/it]\u001b[A\n",
      "2it [00:40, 20.24s/it]\u001b[A\n",
      "3it [01:00, 19.92s/it]\u001b[A\n",
      "4it [01:17, 19.01s/it]\u001b[A\n",
      "5it [01:34, 18.97s/it]\u001b[A\n",
      " 36%|█████████████████████████████████████▍                                                                  | 36/100 [5:52:11<6:28:30, 364.22s/it]"
     ]
    },
    {
     "name": "stdout",
     "output_type": "stream",
     "text": [
      "Iteration: 36\n",
      "Iteration: 36 - coDeSurv - Computing the metric on D1\n"
     ]
    },
    {
     "name": "stderr",
     "output_type": "stream",
     "text": [
      "\n",
      "0it [00:00, ?it/s]\u001b[A\n",
      "1it [00:18, 18.93s/it]\u001b[A\n",
      "2it [00:35, 17.57s/it]\u001b[A\n",
      "3it [00:49, 16.01s/it]\u001b[A\n",
      "4it [01:05, 16.06s/it]\u001b[A\n",
      "5it [01:25, 17.07s/it]\u001b[A\n"
     ]
    },
    {
     "name": "stdout",
     "output_type": "stream",
     "text": [
      "Iteration: 36 - D1_DeSurv - Computing the metric on D1\n"
     ]
    },
    {
     "name": "stderr",
     "output_type": "stream",
     "text": [
      "\n",
      "0it [00:00, ?it/s]\u001b[A\n",
      "1it [00:19, 19.89s/it]\u001b[A\n",
      "2it [00:36, 17.75s/it]\u001b[A\n",
      "3it [00:55, 18.57s/it]\u001b[A\n",
      "4it [01:15, 19.24s/it]\u001b[A\n",
      "5it [01:33, 18.71s/it]\u001b[A\n"
     ]
    },
    {
     "name": "stdout",
     "output_type": "stream",
     "text": [
      "Iteration: 36 - coDeSurv - Computing the metric on D2\n"
     ]
    },
    {
     "name": "stderr",
     "output_type": "stream",
     "text": [
      "\n",
      "0it [00:00, ?it/s]\u001b[A\n",
      "1it [00:18, 18.76s/it]\u001b[A\n",
      "2it [00:36, 18.33s/it]\u001b[A\n",
      "3it [00:54, 17.84s/it]\u001b[A\n",
      "4it [01:11, 17.66s/it]\u001b[A\n",
      "5it [01:26, 17.33s/it]\u001b[A\n"
     ]
    },
    {
     "name": "stdout",
     "output_type": "stream",
     "text": [
      "Iteration: 36 - D1_DeSurv - Computing the metric on D2\n"
     ]
    },
    {
     "name": "stderr",
     "output_type": "stream",
     "text": [
      "\n",
      "0it [00:00, ?it/s]\u001b[A\n",
      "1it [00:18, 18.46s/it]\u001b[A\n",
      "2it [00:36, 18.39s/it]\u001b[A\n",
      "3it [00:58, 19.74s/it]\u001b[A\n",
      "4it [01:16, 19.33s/it]\u001b[A\n",
      "5it [01:34, 19.00s/it]\u001b[A\n",
      " 37%|██████████████████████████████████████▍                                                                 | 37/100 [5:58:11<6:21:16, 363.12s/it]"
     ]
    },
    {
     "name": "stdout",
     "output_type": "stream",
     "text": [
      "Iteration: 37\n",
      "Iteration: 37 - coDeSurv - Computing the metric on D1\n"
     ]
    },
    {
     "name": "stderr",
     "output_type": "stream",
     "text": [
      "\n",
      "0it [00:00, ?it/s]\u001b[A\n",
      "1it [00:20, 20.65s/it]\u001b[A\n",
      "2it [00:37, 18.64s/it]\u001b[A\n",
      "3it [00:54, 17.59s/it]\u001b[A\n",
      "4it [01:11, 17.63s/it]\u001b[A\n",
      "5it [01:25, 17.08s/it]\u001b[A\n"
     ]
    },
    {
     "name": "stdout",
     "output_type": "stream",
     "text": [
      "Iteration: 37 - D1_DeSurv - Computing the metric on D1\n"
     ]
    },
    {
     "name": "stderr",
     "output_type": "stream",
     "text": [
      "\n",
      "0it [00:00, ?it/s]\u001b[A\n",
      "1it [00:20, 20.68s/it]\u001b[A\n",
      "2it [00:37, 18.45s/it]\u001b[A\n",
      "3it [15:59, 430.89s/it]\u001b[A\n",
      "4it [16:17, 268.04s/it]\u001b[A\n",
      "5it [31:36, 379.23s/it]\u001b[A\n"
     ]
    },
    {
     "name": "stdout",
     "output_type": "stream",
     "text": [
      "Iteration: 37 - coDeSurv - Computing the metric on D2\n"
     ]
    },
    {
     "name": "stderr",
     "output_type": "stream",
     "text": [
      "\n",
      "0it [00:00, ?it/s]\u001b[A\n",
      "1it [00:18, 18.03s/it]\u001b[A\n",
      "2it [00:37, 18.88s/it]\u001b[A\n",
      "3it [15:55, 429.44s/it]\u001b[A\n",
      "4it [16:14, 267.37s/it]\u001b[A\n",
      "5it [16:28, 197.71s/it]\u001b[A\n"
     ]
    },
    {
     "name": "stdout",
     "output_type": "stream",
     "text": [
      "Iteration: 37 - D1_DeSurv - Computing the metric on D2\n"
     ]
    },
    {
     "name": "stderr",
     "output_type": "stream",
     "text": [
      "\n",
      "0it [00:00, ?it/s]\u001b[A\n",
      "1it [15:21, 921.99s/it]\u001b[A\n",
      "2it [15:42, 391.85s/it]\u001b[A\n",
      "3it [31:02, 632.84s/it]\u001b[A\n",
      "4it [31:19, 389.66s/it]\u001b[A\n",
      "5it [31:36, 379.22s/it]\u001b[A\n",
      " 38%|██████████████████████████████████████▊                                                               | 38/100 [7:19:18<29:31:11, 1714.06s/it]"
     ]
    },
    {
     "name": "stdout",
     "output_type": "stream",
     "text": [
      "Iteration: 38\n",
      "Iteration: 38 - coDeSurv - Computing the metric on D1\n"
     ]
    },
    {
     "name": "stderr",
     "output_type": "stream",
     "text": [
      "\n",
      "0it [00:00, ?it/s]\u001b[A\n",
      "1it [00:19, 19.37s/it]\u001b[A\n",
      "2it [00:34, 16.83s/it]\u001b[A\n",
      "3it [00:51, 17.06s/it]\u001b[A\n",
      "4it [01:08, 17.07s/it]\u001b[A\n",
      "5it [01:25, 17.13s/it]\u001b[A\n"
     ]
    },
    {
     "name": "stdout",
     "output_type": "stream",
     "text": [
      "Iteration: 38 - D1_DeSurv - Computing the metric on D1\n"
     ]
    },
    {
     "name": "stderr",
     "output_type": "stream",
     "text": [
      "\n",
      "0it [00:00, ?it/s]\u001b[A\n",
      "1it [00:20, 20.28s/it]\u001b[A\n",
      "2it [15:05, 528.88s/it]\u001b[A\n",
      "3it [15:24, 296.40s/it]\u001b[A\n",
      "4it [15:43, 186.82s/it]\u001b[A\n",
      "5it [31:00, 372.15s/it]\u001b[A\n"
     ]
    },
    {
     "name": "stdout",
     "output_type": "stream",
     "text": [
      "Iteration: 38 - coDeSurv - Computing the metric on D2\n"
     ]
    },
    {
     "name": "stderr",
     "output_type": "stream",
     "text": [
      "\n",
      "0it [00:00, ?it/s]\u001b[A\n",
      "1it [00:22, 22.01s/it]\u001b[A\n",
      "2it [00:40, 19.99s/it]\u001b[A\n",
      "3it [15:57, 429.48s/it]\u001b[A\n",
      "4it [16:12, 266.08s/it]\u001b[A\n",
      "5it [16:28, 197.67s/it]\u001b[A\n"
     ]
    },
    {
     "name": "stdout",
     "output_type": "stream",
     "text": [
      "Iteration: 38 - D1_DeSurv - Computing the metric on D2\n"
     ]
    },
    {
     "name": "stderr",
     "output_type": "stream",
     "text": [
      "\n",
      "0it [00:00, ?it/s]\u001b[A\n",
      "1it [00:19, 19.86s/it]\u001b[A\n",
      "2it [00:40, 20.11s/it]\u001b[A\n",
      "3it [01:00, 20.04s/it]\u001b[A\n",
      "4it [01:19, 19.79s/it]\u001b[A\n",
      "5it [01:36, 19.29s/it]\u001b[A\n",
      " 39%|███████████████████████████████████████▊                                                              | 39/100 [8:09:49<35:44:21, 2109.21s/it]"
     ]
    },
    {
     "name": "stdout",
     "output_type": "stream",
     "text": [
      "Iteration: 39\n",
      "Iteration: 39 - coDeSurv - Computing the metric on D1\n"
     ]
    },
    {
     "name": "stderr",
     "output_type": "stream",
     "text": [
      "\n",
      "0it [00:00, ?it/s]\u001b[A\n",
      "1it [15:18, 918.33s/it]\u001b[A\n",
      "2it [15:37, 389.44s/it]\u001b[A\n",
      "3it [15:54, 219.44s/it]\u001b[A\n",
      "4it [16:11, 139.56s/it]\u001b[A\n",
      "5it [16:26, 197.37s/it]\u001b[A\n"
     ]
    },
    {
     "name": "stdout",
     "output_type": "stream",
     "text": [
      "Iteration: 39 - D1_DeSurv - Computing the metric on D1\n"
     ]
    },
    {
     "name": "stderr",
     "output_type": "stream",
     "text": [
      "\n",
      "0it [00:00, ?it/s]\u001b[A\n",
      "1it [00:21, 21.69s/it]\u001b[A\n",
      "2it [00:39, 19.15s/it]\u001b[A\n",
      "3it [00:57, 19.01s/it]\u001b[A\n",
      "4it [16:18, 374.81s/it]\u001b[A\n",
      "5it [16:35, 199.05s/it]\u001b[A\n"
     ]
    },
    {
     "name": "stdout",
     "output_type": "stream",
     "text": [
      "Iteration: 39 - coDeSurv - Computing the metric on D2\n"
     ]
    },
    {
     "name": "stderr",
     "output_type": "stream",
     "text": [
      "\n",
      "0it [00:00, ?it/s]\u001b[A\n",
      "1it [00:18, 18.59s/it]\u001b[A\n",
      "2it [00:38, 19.29s/it]\u001b[A\n",
      "3it [00:58, 19.49s/it]\u001b[A\n",
      "4it [01:12, 17.41s/it]\u001b[A\n",
      "5it [01:28, 17.64s/it]\u001b[A\n"
     ]
    },
    {
     "name": "stdout",
     "output_type": "stream",
     "text": [
      "Iteration: 39 - D1_DeSurv - Computing the metric on D2\n"
     ]
    },
    {
     "name": "stderr",
     "output_type": "stream",
     "text": [
      "\n",
      "0it [00:00, ?it/s]\u001b[A\n",
      "1it [00:20, 20.98s/it]\u001b[A\n",
      "2it [00:41, 20.55s/it]\u001b[A\n",
      "3it [01:02, 20.90s/it]\u001b[A\n",
      "4it [01:21, 20.11s/it]\u001b[A\n",
      "5it [01:40, 20.06s/it]\u001b[A\n",
      " 40%|████████████████████████████████████████▊                                                             | 40/100 [8:45:59<35:27:37, 2127.63s/it]"
     ]
    },
    {
     "name": "stdout",
     "output_type": "stream",
     "text": [
      "Iteration: 40\n",
      "Iteration: 40 - coDeSurv - Computing the metric on D1\n"
     ]
    },
    {
     "name": "stderr",
     "output_type": "stream",
     "text": [
      "\n",
      "0it [00:00, ?it/s]\u001b[A\n",
      "1it [00:17, 17.74s/it]\u001b[A\n",
      "2it [15:37, 548.60s/it]\u001b[A\n",
      "3it [15:55, 306.07s/it]\u001b[A\n",
      "4it [16:14, 192.91s/it]\u001b[A\n",
      "5it [16:30, 198.16s/it]\u001b[A\n"
     ]
    },
    {
     "name": "stdout",
     "output_type": "stream",
     "text": [
      "Iteration: 40 - D1_DeSurv - Computing the metric on D1\n"
     ]
    },
    {
     "name": "stderr",
     "output_type": "stream",
     "text": [
      "\n",
      "0it [00:00, ?it/s]\u001b[A\n",
      "1it [00:20, 20.30s/it]\u001b[A\n",
      "2it [00:40, 20.43s/it]\u001b[A\n",
      "3it [00:58, 19.35s/it]\u001b[A\n",
      "4it [16:19, 375.06s/it]\u001b[A\n",
      "5it [16:35, 199.10s/it]\u001b[A\n"
     ]
    },
    {
     "name": "stdout",
     "output_type": "stream",
     "text": [
      "Iteration: 40 - coDeSurv - Computing the metric on D2\n"
     ]
    },
    {
     "name": "stderr",
     "output_type": "stream",
     "text": [
      "\n",
      "0it [00:00, ?it/s]\u001b[A\n",
      "1it [00:18, 18.52s/it]\u001b[A\n",
      "2it [00:36, 18.00s/it]\u001b[A\n",
      "3it [00:53, 17.72s/it]\u001b[A\n",
      "4it [01:11, 17.72s/it]\u001b[A\n",
      "5it [01:27, 17.49s/it]\u001b[A\n"
     ]
    },
    {
     "name": "stdout",
     "output_type": "stream",
     "text": [
      "Iteration: 40 - D1_DeSurv - Computing the metric on D2\n"
     ]
    },
    {
     "name": "stderr",
     "output_type": "stream",
     "text": [
      "\n",
      "0it [00:00, ?it/s]\u001b[A\n",
      "1it [00:17, 17.99s/it]\u001b[A\n",
      "2it [15:37, 548.40s/it]\u001b[A\n",
      "3it [15:58, 307.31s/it]\u001b[A\n",
      "4it [16:19, 194.33s/it]\u001b[A\n",
      "5it [16:37, 199.44s/it]\u001b[A\n",
      " 41%|█████████████████████████████████████████▊                                                            | 41/100 [9:37:10<39:30:26, 2410.62s/it]"
     ]
    },
    {
     "name": "stdout",
     "output_type": "stream",
     "text": [
      "Iteration: 41\n",
      "Iteration: 41 - coDeSurv - Computing the metric on D1\n"
     ]
    },
    {
     "name": "stderr",
     "output_type": "stream",
     "text": [
      "\n",
      "0it [00:00, ?it/s]\u001b[A\n",
      "1it [00:17, 17.95s/it]\u001b[A\n",
      "2it [00:36, 18.34s/it]\u001b[A\n",
      "3it [00:55, 18.55s/it]\u001b[A\n",
      "4it [16:12, 373.49s/it]\u001b[A\n",
      "5it [16:26, 197.37s/it]\u001b[A\n"
     ]
    },
    {
     "name": "stdout",
     "output_type": "stream",
     "text": [
      "Iteration: 41 - D1_DeSurv - Computing the metric on D1\n"
     ]
    },
    {
     "name": "stderr",
     "output_type": "stream",
     "text": [
      "\n",
      "0it [00:00, ?it/s]\u001b[A\n",
      "1it [00:17, 17.94s/it]\u001b[A\n",
      "2it [15:40, 549.89s/it]\u001b[A\n",
      "3it [15:59, 307.52s/it]\u001b[A\n",
      "4it [16:18, 193.60s/it]\u001b[A\n",
      "5it [16:35, 199.16s/it]\u001b[A\n"
     ]
    },
    {
     "name": "stdout",
     "output_type": "stream",
     "text": [
      "Iteration: 41 - coDeSurv - Computing the metric on D2\n"
     ]
    },
    {
     "name": "stderr",
     "output_type": "stream",
     "text": [
      "\n",
      "0it [00:00, ?it/s]\u001b[A\n",
      "1it [00:17, 17.41s/it]\u001b[A\n",
      "2it [00:36, 18.54s/it]\u001b[A\n",
      "3it [00:54, 18.03s/it]\u001b[A\n",
      "4it [01:10, 17.25s/it]\u001b[A\n",
      "5it [01:27, 17.41s/it]\u001b[A\n"
     ]
    },
    {
     "name": "stdout",
     "output_type": "stream",
     "text": [
      "Iteration: 41 - D1_DeSurv - Computing the metric on D2\n"
     ]
    },
    {
     "name": "stderr",
     "output_type": "stream",
     "text": [
      "\n",
      "0it [00:00, ?it/s]\u001b[A\n",
      "1it [15:22, 922.40s/it]\u001b[A\n",
      "2it [15:42, 391.56s/it]\u001b[A\n",
      "3it [16:01, 221.40s/it]\u001b[A\n",
      "4it [16:19, 141.30s/it]\u001b[A\n",
      "5it [16:35, 199.05s/it]\u001b[A\n",
      " 42%|██████████████████████████████████████████▍                                                          | 42/100 [10:28:15<42:00:01, 2606.93s/it]"
     ]
    },
    {
     "name": "stdout",
     "output_type": "stream",
     "text": [
      "Iteration: 42\n",
      "Iteration: 42 - coDeSurv - Computing the metric on D1\n"
     ]
    },
    {
     "name": "stderr",
     "output_type": "stream",
     "text": [
      "\n",
      "0it [00:00, ?it/s]\u001b[A\n",
      "1it [00:19, 19.31s/it]\u001b[A\n",
      "2it [00:35, 17.44s/it]\u001b[A\n",
      "3it [15:53, 428.47s/it]\u001b[A\n",
      "4it [16:11, 266.71s/it]\u001b[A\n",
      "5it [16:25, 197.14s/it]\u001b[A\n"
     ]
    },
    {
     "name": "stdout",
     "output_type": "stream",
     "text": [
      "Iteration: 42 - D1_DeSurv - Computing the metric on D1\n"
     ]
    },
    {
     "name": "stderr",
     "output_type": "stream",
     "text": [
      "\n",
      "0it [00:00, ?it/s]\u001b[A\n",
      "1it [00:22, 22.62s/it]\u001b[A\n",
      "2it [00:41, 20.57s/it]\u001b[A\n",
      "3it [01:00, 19.59s/it]\u001b[A\n",
      "4it [01:17, 18.74s/it]\u001b[A\n",
      "5it [01:33, 18.68s/it]\u001b[A\n"
     ]
    },
    {
     "name": "stdout",
     "output_type": "stream",
     "text": [
      "Iteration: 42 - coDeSurv - Computing the metric on D2\n"
     ]
    },
    {
     "name": "stderr",
     "output_type": "stream",
     "text": [
      "\n",
      "0it [00:00, ?it/s]\u001b[A\n",
      "1it [00:15, 15.15s/it]\u001b[A\n",
      "2it [15:35, 547.50s/it]\u001b[A\n",
      "3it [15:51, 304.83s/it]\u001b[A\n",
      "4it [16:10, 191.88s/it]\u001b[A\n",
      "5it [16:26, 197.34s/it]\u001b[A\n"
     ]
    },
    {
     "name": "stdout",
     "output_type": "stream",
     "text": [
      "Iteration: 42 - D1_DeSurv - Computing the metric on D2\n"
     ]
    },
    {
     "name": "stderr",
     "output_type": "stream",
     "text": [
      "\n",
      "0it [00:00, ?it/s]\u001b[A\n",
      "1it [00:19, 19.61s/it]\u001b[A\n",
      "2it [00:40, 20.14s/it]\u001b[A\n",
      "3it [00:57, 18.75s/it]\u001b[A\n",
      "4it [16:18, 374.89s/it]\u001b[A\n",
      "5it [16:35, 199.08s/it]\u001b[A\n",
      " 43%|███████████████████████████████████████████▍                                                         | 43/100 [11:19:17<43:26:04, 2743.23s/it]"
     ]
    },
    {
     "name": "stdout",
     "output_type": "stream",
     "text": [
      "Iteration: 43\n",
      "Iteration: 43 - coDeSurv - Computing the metric on D1\n"
     ]
    },
    {
     "name": "stderr",
     "output_type": "stream",
     "text": [
      "\n",
      "0it [00:00, ?it/s]\u001b[A\n",
      "1it [00:14, 14.92s/it]\u001b[A\n",
      "2it [00:34, 17.64s/it]\u001b[A\n",
      "3it [00:52, 17.69s/it]\u001b[A\n",
      "4it [01:10, 17.73s/it]\u001b[A\n",
      "5it [01:25, 17.04s/it]\u001b[A\n"
     ]
    },
    {
     "name": "stdout",
     "output_type": "stream",
     "text": [
      "Iteration: 43 - D1_DeSurv - Computing the metric on D1\n"
     ]
    },
    {
     "name": "stderr",
     "output_type": "stream",
     "text": [
      "\n",
      "0it [00:00, ?it/s]\u001b[A\n",
      "1it [00:18, 18.59s/it]\u001b[A\n",
      "2it [11:58, 419.33s/it]\u001b[A\n",
      "3it [12:16, 236.10s/it]\u001b[A\n",
      "4it [12:36, 150.73s/it]\u001b[A\n",
      "5it [12:54, 154.91s/it]\u001b[A\n"
     ]
    },
    {
     "name": "stdout",
     "output_type": "stream",
     "text": [
      "Iteration: 43 - coDeSurv - Computing the metric on D2\n"
     ]
    },
    {
     "name": "stderr",
     "output_type": "stream",
     "text": [
      "\n",
      "0it [00:00, ?it/s]\u001b[A\n",
      "1it [00:16, 16.96s/it]\u001b[A\n",
      "2it [00:33, 16.88s/it]\u001b[A\n",
      "3it [00:49, 16.22s/it]\u001b[A\n",
      "4it [16:08, 372.67s/it]\u001b[A\n",
      "5it [16:27, 197.44s/it]\u001b[A\n"
     ]
    },
    {
     "name": "stdout",
     "output_type": "stream",
     "text": [
      "Iteration: 43 - D1_DeSurv - Computing the metric on D2\n"
     ]
    },
    {
     "name": "stderr",
     "output_type": "stream",
     "text": [
      "\n",
      "0it [00:00, ?it/s]\u001b[A\n",
      "1it [00:19, 19.36s/it]\u001b[A\n",
      "2it [00:36, 17.95s/it]\u001b[A\n",
      "3it [00:58, 19.68s/it]\u001b[A\n",
      "4it [01:20, 20.66s/it]\u001b[A\n",
      "5it [01:34, 18.95s/it]\u001b[A\n",
      " 44%|████████████████████████████████████████████▍                                                        | 44/100 [11:51:38<38:55:54, 2502.77s/it]"
     ]
    },
    {
     "name": "stdout",
     "output_type": "stream",
     "text": [
      "Iteration: 44\n",
      "Iteration: 44 - coDeSurv - Computing the metric on D1\n"
     ]
    },
    {
     "name": "stderr",
     "output_type": "stream",
     "text": [
      "\n",
      "0it [00:00, ?it/s]\u001b[A\n",
      "1it [15:16, 916.88s/it]\u001b[A\n",
      "2it [15:37, 389.59s/it]\u001b[A\n",
      "3it [15:51, 218.28s/it]\u001b[A\n",
      "4it [31:12, 495.42s/it]\u001b[A\n",
      "5it [31:26, 377.30s/it]\u001b[A\n"
     ]
    },
    {
     "name": "stdout",
     "output_type": "stream",
     "text": [
      "Iteration: 44 - D1_DeSurv - Computing the metric on D1\n"
     ]
    },
    {
     "name": "stderr",
     "output_type": "stream",
     "text": [
      "\n",
      "0it [00:00, ?it/s]\u001b[A\n",
      "1it [00:19, 19.65s/it]\u001b[A\n",
      "2it [00:40, 20.07s/it]\u001b[A\n",
      "3it [00:58, 19.50s/it]\u001b[A\n",
      "4it [01:16, 18.77s/it]\u001b[A\n",
      "5it [01:33, 18.74s/it]\u001b[A\n"
     ]
    },
    {
     "name": "stdout",
     "output_type": "stream",
     "text": [
      "Iteration: 44 - coDeSurv - Computing the metric on D2\n"
     ]
    },
    {
     "name": "stderr",
     "output_type": "stream",
     "text": [
      "\n",
      "0it [00:00, ?it/s]\u001b[A\n",
      "1it [00:16, 16.34s/it]\u001b[A\n",
      "2it [00:34, 17.44s/it]\u001b[A\n",
      "3it [00:53, 18.32s/it]\u001b[A\n",
      "4it [01:14, 19.20s/it]\u001b[A\n",
      "5it [01:29, 17.98s/it]\u001b[A\n"
     ]
    },
    {
     "name": "stdout",
     "output_type": "stream",
     "text": [
      "Iteration: 44 - D1_DeSurv - Computing the metric on D2\n"
     ]
    },
    {
     "name": "stderr",
     "output_type": "stream",
     "text": [
      "\n",
      "0it [00:00, ?it/s]\u001b[A\n",
      "1it [00:22, 22.74s/it]\u001b[A\n",
      "2it [00:41, 20.23s/it]\u001b[A\n",
      "3it [01:05, 22.06s/it]\u001b[A\n",
      "4it [01:27, 22.11s/it]\u001b[A\n",
      "5it [01:46, 21.39s/it]\u001b[A\n",
      " 45%|█████████████████████████████████████████████▍                                                       | 45/100 [12:27:55<36:44:39, 2405.07s/it]"
     ]
    },
    {
     "name": "stdout",
     "output_type": "stream",
     "text": [
      "Iteration: 45\n",
      "Iteration: 45 - coDeSurv - Computing the metric on D1\n"
     ]
    },
    {
     "name": "stderr",
     "output_type": "stream",
     "text": [
      "\n",
      "0it [00:00, ?it/s]\u001b[A\n",
      "1it [00:20, 20.15s/it]\u001b[A\n",
      "2it [00:40, 20.45s/it]\u001b[A\n",
      "3it [01:02, 21.03s/it]\u001b[A\n",
      "4it [01:22, 20.53s/it]\u001b[A\n",
      "5it [01:41, 20.34s/it]\u001b[A\n"
     ]
    },
    {
     "name": "stdout",
     "output_type": "stream",
     "text": [
      "Iteration: 45 - D1_DeSurv - Computing the metric on D1\n"
     ]
    },
    {
     "name": "stderr",
     "output_type": "stream",
     "text": [
      "\n",
      "0it [00:00, ?it/s]\u001b[A\n",
      "1it [00:25, 25.03s/it]\u001b[A\n",
      "2it [00:45, 22.64s/it]\u001b[A\n",
      "3it [01:08, 22.38s/it]\u001b[A\n",
      "4it [01:31, 22.78s/it]\u001b[A\n",
      "5it [01:54, 22.99s/it]\u001b[A\n"
     ]
    },
    {
     "name": "stdout",
     "output_type": "stream",
     "text": [
      "Iteration: 45 - coDeSurv - Computing the metric on D2\n"
     ]
    },
    {
     "name": "stderr",
     "output_type": "stream",
     "text": [
      "\n",
      "0it [00:00, ?it/s]\u001b[A\n",
      "1it [00:19, 19.36s/it]\u001b[A\n",
      "2it [00:43, 22.30s/it]\u001b[A\n",
      "3it [01:03, 20.95s/it]\u001b[A\n",
      "4it [01:25, 21.66s/it]\u001b[A\n",
      "5it [01:47, 21.54s/it]\u001b[A\n"
     ]
    },
    {
     "name": "stdout",
     "output_type": "stream",
     "text": [
      "Iteration: 45 - D1_DeSurv - Computing the metric on D2\n"
     ]
    },
    {
     "name": "stderr",
     "output_type": "stream",
     "text": [
      "\n",
      "0it [00:00, ?it/s]\u001b[A\n",
      "1it [00:23, 23.00s/it]\u001b[A\n",
      "2it [00:45, 22.71s/it]\u001b[A\n",
      "3it [01:11, 24.36s/it]\u001b[A\n",
      "4it [01:35, 24.05s/it]\u001b[A\n",
      "5it [01:59, 23.86s/it]\u001b[A\n",
      " 46%|██████████████████████████████████████████████▍                                                      | 46/100 [12:35:19<27:14:59, 1816.65s/it]"
     ]
    },
    {
     "name": "stdout",
     "output_type": "stream",
     "text": [
      "Iteration: 46\n",
      "Iteration: 46 - coDeSurv - Computing the metric on D1\n"
     ]
    },
    {
     "name": "stderr",
     "output_type": "stream",
     "text": [
      "\n",
      "0it [00:00, ?it/s]\u001b[A\n",
      "1it [15:22, 922.21s/it]\u001b[A\n",
      "2it [15:40, 390.57s/it]\u001b[A\n",
      "3it [15:57, 219.74s/it]\u001b[A\n",
      "4it [16:13, 139.54s/it]\u001b[A\n",
      "5it [16:28, 197.73s/it]\u001b[A\n"
     ]
    },
    {
     "name": "stdout",
     "output_type": "stream",
     "text": [
      "Iteration: 46 - D1_DeSurv - Computing the metric on D1\n"
     ]
    },
    {
     "name": "stderr",
     "output_type": "stream",
     "text": [
      "\n",
      "0it [00:00, ?it/s]\u001b[A\n",
      "1it [00:20, 20.11s/it]\u001b[A\n",
      "2it [00:38, 19.02s/it]\u001b[A\n",
      "3it [00:59, 20.04s/it]\u001b[A\n",
      "4it [01:18, 19.62s/it]\u001b[A\n",
      "5it [01:38, 19.64s/it]\u001b[A\n"
     ]
    },
    {
     "name": "stdout",
     "output_type": "stream",
     "text": [
      "Iteration: 46 - coDeSurv - Computing the metric on D2\n"
     ]
    },
    {
     "name": "stderr",
     "output_type": "stream",
     "text": [
      "\n",
      "0it [00:00, ?it/s]\u001b[A\n",
      "1it [15:16, 916.75s/it]\u001b[A\n",
      "2it [15:35, 388.59s/it]\u001b[A\n",
      "3it [15:53, 219.11s/it]\u001b[A\n",
      "4it [16:12, 140.38s/it]\u001b[A\n",
      "5it [16:27, 197.60s/it]\u001b[A\n"
     ]
    },
    {
     "name": "stdout",
     "output_type": "stream",
     "text": [
      "Iteration: 46 - D1_DeSurv - Computing the metric on D2\n"
     ]
    },
    {
     "name": "stderr",
     "output_type": "stream",
     "text": [
      "\n",
      "0it [00:00, ?it/s]\u001b[A\n",
      "1it [00:17, 17.49s/it]\u001b[A\n",
      "2it [00:37, 19.23s/it]\u001b[A\n",
      "3it [15:58, 430.98s/it]\u001b[A\n",
      "4it [16:18, 268.63s/it]\u001b[A\n",
      "5it [16:35, 199.03s/it]\u001b[A\n",
      " 47%|███████████████████████████████████████████████▍                                                     | 47/100 [13:26:29<32:16:51, 2192.66s/it]"
     ]
    },
    {
     "name": "stdout",
     "output_type": "stream",
     "text": [
      "Iteration: 47\n",
      "Iteration: 47 - coDeSurv - Computing the metric on D1\n"
     ]
    },
    {
     "name": "stderr",
     "output_type": "stream",
     "text": [
      "\n",
      "0it [00:00, ?it/s]\u001b[A\n",
      "1it [00:14, 14.73s/it]\u001b[A\n",
      "2it [00:32, 16.34s/it]\u001b[A\n",
      "3it [00:49, 16.60s/it]\u001b[A\n",
      "4it [01:06, 17.03s/it]\u001b[A\n",
      "5it [01:25, 17.02s/it]\u001b[A\n"
     ]
    },
    {
     "name": "stdout",
     "output_type": "stream",
     "text": [
      "Iteration: 47 - D1_DeSurv - Computing the metric on D1\n"
     ]
    },
    {
     "name": "stderr",
     "output_type": "stream",
     "text": [
      "\n",
      "0it [00:00, ?it/s]\u001b[A\n",
      "1it [05:46, 346.26s/it]\u001b[A\n",
      "2it [06:03, 152.78s/it]\u001b[A\n",
      "3it [06:24, 92.42s/it] \u001b[A\n",
      "4it [06:42, 63.07s/it]\u001b[A\n",
      "5it [06:59, 83.95s/it]\u001b[A\n"
     ]
    },
    {
     "name": "stdout",
     "output_type": "stream",
     "text": [
      "Iteration: 47 - coDeSurv - Computing the metric on D2\n"
     ]
    },
    {
     "name": "stderr",
     "output_type": "stream",
     "text": [
      "\n",
      "0it [00:00, ?it/s]\u001b[A\n",
      "1it [00:16, 16.63s/it]\u001b[A\n",
      "2it [00:34, 17.49s/it]\u001b[A\n",
      "3it [15:57, 430.96s/it]\u001b[A\n",
      "4it [16:14, 267.43s/it]\u001b[A\n",
      "5it [16:27, 197.48s/it]\u001b[A\n"
     ]
    },
    {
     "name": "stdout",
     "output_type": "stream",
     "text": [
      "Iteration: 47 - D1_DeSurv - Computing the metric on D2\n"
     ]
    },
    {
     "name": "stderr",
     "output_type": "stream",
     "text": [
      "\n",
      "0it [00:00, ?it/s]\u001b[A\n",
      "1it [00:18, 18.87s/it]\u001b[A\n",
      "2it [00:38, 19.55s/it]\u001b[A\n",
      "3it [00:57, 19.04s/it]\u001b[A\n",
      "4it [01:19, 20.40s/it]\u001b[A\n",
      "5it [16:35, 199.07s/it]\u001b[A\n",
      " 48%|████████████████████████████████████████████████▍                                                    | 48/100 [14:07:57<32:57:00, 2281.16s/it]"
     ]
    },
    {
     "name": "stdout",
     "output_type": "stream",
     "text": [
      "Iteration: 48\n",
      "Iteration: 48 - coDeSurv - Computing the metric on D1\n"
     ]
    },
    {
     "name": "stderr",
     "output_type": "stream",
     "text": [
      "\n",
      "0it [00:00, ?it/s]\u001b[A\n",
      "1it [00:18, 18.69s/it]\u001b[A\n",
      "2it [00:37, 19.03s/it]\u001b[A\n",
      "3it [00:55, 18.17s/it]\u001b[A\n",
      "4it [01:14, 18.67s/it]\u001b[A\n",
      "5it [01:26, 17.27s/it]\u001b[A\n"
     ]
    },
    {
     "name": "stdout",
     "output_type": "stream",
     "text": [
      "Iteration: 48 - D1_DeSurv - Computing the metric on D1\n"
     ]
    },
    {
     "name": "stderr",
     "output_type": "stream",
     "text": [
      "\n",
      "0it [00:00, ?it/s]\u001b[A\n",
      "1it [00:19, 19.74s/it]\u001b[A\n",
      "2it [00:39, 19.72s/it]\u001b[A\n",
      "3it [00:56, 18.54s/it]\u001b[A\n",
      "4it [16:17, 374.75s/it]\u001b[A\n",
      "5it [16:35, 199.18s/it]\u001b[A\n"
     ]
    },
    {
     "name": "stdout",
     "output_type": "stream",
     "text": [
      "Iteration: 48 - coDeSurv - Computing the metric on D2\n"
     ]
    },
    {
     "name": "stderr",
     "output_type": "stream",
     "text": [
      "\n",
      "0it [00:00, ?it/s]\u001b[A\n",
      "1it [00:16, 16.14s/it]\u001b[A\n",
      "2it [00:34, 17.62s/it]\u001b[A\n",
      "3it [00:51, 17.26s/it]\u001b[A\n",
      "4it [01:10, 18.02s/it]\u001b[A\n",
      "5it [01:27, 17.57s/it]\u001b[A\n"
     ]
    },
    {
     "name": "stdout",
     "output_type": "stream",
     "text": [
      "Iteration: 48 - D1_DeSurv - Computing the metric on D2\n"
     ]
    },
    {
     "name": "stderr",
     "output_type": "stream",
     "text": [
      "\n",
      "0it [00:00, ?it/s]\u001b[A\n",
      "1it [00:17, 17.67s/it]\u001b[A\n",
      "2it [00:40, 20.49s/it]\u001b[A\n",
      "3it [07:01, 185.20s/it]\u001b[A\n",
      "4it [07:42, 128.40s/it]\u001b[A\n",
      "5it [08:03, 96.69s/it] \u001b[A\n",
      " 49%|█████████████████████████████████████████████████▍                                                   | 49/100 [14:35:30<29:38:57, 2092.88s/it]"
     ]
    },
    {
     "name": "stdout",
     "output_type": "stream",
     "text": [
      "Iteration: 49\n",
      "Iteration: 49 - coDeSurv - Computing the metric on D1\n"
     ]
    },
    {
     "name": "stderr",
     "output_type": "stream",
     "text": [
      "\n",
      "0it [00:00, ?it/s]\u001b[A\n",
      "1it [00:16, 16.40s/it]\u001b[A\n",
      "2it [00:36, 18.52s/it]\u001b[A\n",
      "3it [01:00, 20.98s/it]\u001b[A\n",
      "4it [01:19, 20.09s/it]\u001b[A\n",
      "5it [01:35, 19.02s/it]\u001b[A\n"
     ]
    },
    {
     "name": "stdout",
     "output_type": "stream",
     "text": [
      "Iteration: 49 - D1_DeSurv - Computing the metric on D1\n"
     ]
    },
    {
     "name": "stderr",
     "output_type": "stream",
     "text": [
      "\n",
      "0it [00:00, ?it/s]\u001b[A\n",
      "1it [00:21, 21.04s/it]\u001b[A\n",
      "2it [00:41, 20.79s/it]\u001b[A\n",
      "3it [01:03, 21.24s/it]\u001b[A\n",
      "4it [01:21, 19.85s/it]\u001b[A\n",
      "5it [01:40, 20.11s/it]\u001b[A\n"
     ]
    },
    {
     "name": "stdout",
     "output_type": "stream",
     "text": [
      "Iteration: 49 - coDeSurv - Computing the metric on D2\n"
     ]
    },
    {
     "name": "stderr",
     "output_type": "stream",
     "text": [
      "\n",
      "0it [00:00, ?it/s]\u001b[A\n",
      "1it [00:20, 20.62s/it]\u001b[A\n",
      "2it [00:42, 21.52s/it]\u001b[A\n",
      "3it [01:01, 20.16s/it]\u001b[A\n",
      "4it [01:21, 20.19s/it]\u001b[A\n",
      "5it [01:37, 19.43s/it]\u001b[A\n"
     ]
    },
    {
     "name": "stdout",
     "output_type": "stream",
     "text": [
      "Iteration: 49 - D1_DeSurv - Computing the metric on D2\n"
     ]
    },
    {
     "name": "stderr",
     "output_type": "stream",
     "text": [
      "\n",
      "0it [00:00, ?it/s]\u001b[A\n",
      "1it [00:21, 21.19s/it]\u001b[A\n",
      "2it [00:41, 20.92s/it]\u001b[A\n",
      "3it [01:02, 20.68s/it]\u001b[A\n",
      "4it [01:21, 19.97s/it]\u001b[A\n",
      "5it [01:35, 19.09s/it]\u001b[A\n",
      " 50%|██████████████████████████████████████████████████▌                                                  | 50/100 [14:41:59<21:57:54, 1581.50s/it]"
     ]
    },
    {
     "name": "stdout",
     "output_type": "stream",
     "text": [
      "Iteration: 50\n",
      "Iteration: 50 - coDeSurv - Computing the metric on D1\n"
     ]
    },
    {
     "name": "stderr",
     "output_type": "stream",
     "text": [
      "\n",
      "0it [00:00, ?it/s]\u001b[A\n",
      "1it [00:17, 17.49s/it]\u001b[A\n",
      "2it [00:36, 18.59s/it]\u001b[A\n",
      "3it [00:53, 17.56s/it]\u001b[A\n",
      "4it [01:10, 17.39s/it]\u001b[A\n",
      "5it [01:25, 17.08s/it]\u001b[A\n"
     ]
    },
    {
     "name": "stdout",
     "output_type": "stream",
     "text": [
      "Iteration: 50 - D1_DeSurv - Computing the metric on D1\n"
     ]
    },
    {
     "name": "stderr",
     "output_type": "stream",
     "text": [
      "\n",
      "0it [00:00, ?it/s]\u001b[A\n",
      "1it [00:18, 18.18s/it]\u001b[A\n",
      "2it [00:38, 19.62s/it]\u001b[A\n",
      "3it [01:01, 20.81s/it]\u001b[A\n",
      "4it [01:18, 19.50s/it]\u001b[A\n",
      "5it [01:33, 18.78s/it]\u001b[A\n"
     ]
    },
    {
     "name": "stdout",
     "output_type": "stream",
     "text": [
      "Iteration: 50 - coDeSurv - Computing the metric on D2\n"
     ]
    },
    {
     "name": "stderr",
     "output_type": "stream",
     "text": [
      "\n",
      "0it [00:00, ?it/s]\u001b[A\n",
      "1it [00:20, 20.04s/it]\u001b[A\n",
      "2it [00:35, 17.64s/it]\u001b[A\n",
      "3it [00:51, 16.76s/it]\u001b[A\n",
      "4it [01:11, 18.08s/it]\u001b[A\n",
      "5it [01:26, 17.35s/it]\u001b[A\n"
     ]
    },
    {
     "name": "stdout",
     "output_type": "stream",
     "text": [
      "Iteration: 50 - D1_DeSurv - Computing the metric on D2\n"
     ]
    },
    {
     "name": "stderr",
     "output_type": "stream",
     "text": [
      "\n",
      "0it [00:00, ?it/s]\u001b[A\n",
      "1it [00:21, 21.20s/it]\u001b[A\n",
      "2it [00:39, 19.29s/it]\u001b[A\n",
      "3it [00:56, 18.57s/it]\u001b[A\n",
      "4it [01:16, 19.08s/it]\u001b[A\n",
      "5it [01:34, 18.96s/it]\u001b[A\n",
      " 51%|███████████████████████████████████████████████████▌                                                 | 51/100 [14:48:00<16:32:30, 1215.32s/it]"
     ]
    },
    {
     "name": "stdout",
     "output_type": "stream",
     "text": [
      "Iteration: 51\n",
      "Iteration: 51 - coDeSurv - Computing the metric on D1\n"
     ]
    },
    {
     "name": "stderr",
     "output_type": "stream",
     "text": [
      "\n",
      "0it [00:00, ?it/s]\u001b[A\n",
      "1it [00:18, 18.57s/it]\u001b[A\n",
      "2it [00:38, 19.58s/it]\u001b[A\n",
      "3it [00:54, 17.66s/it]\u001b[A\n",
      "4it [01:13, 18.18s/it]\u001b[A\n",
      "5it [01:25, 17.16s/it]\u001b[A\n"
     ]
    },
    {
     "name": "stdout",
     "output_type": "stream",
     "text": [
      "Iteration: 51 - D1_DeSurv - Computing the metric on D1\n"
     ]
    },
    {
     "name": "stderr",
     "output_type": "stream",
     "text": [
      "\n",
      "0it [00:00, ?it/s]\u001b[A\n",
      "1it [00:19, 19.43s/it]\u001b[A\n",
      "2it [00:38, 19.46s/it]\u001b[A\n",
      "3it [00:58, 19.50s/it]\u001b[A\n",
      "4it [01:18, 19.60s/it]\u001b[A\n",
      "5it [01:33, 18.72s/it]\u001b[A\n"
     ]
    },
    {
     "name": "stdout",
     "output_type": "stream",
     "text": [
      "Iteration: 51 - coDeSurv - Computing the metric on D2\n"
     ]
    },
    {
     "name": "stderr",
     "output_type": "stream",
     "text": [
      "\n",
      "0it [00:00, ?it/s]\u001b[A\n",
      "1it [00:19, 19.71s/it]\u001b[A\n",
      "2it [00:37, 18.66s/it]\u001b[A\n",
      "3it [00:56, 18.60s/it]\u001b[A\n",
      "4it [01:14, 18.68s/it]\u001b[A\n",
      "5it [01:26, 17.26s/it]\u001b[A\n"
     ]
    },
    {
     "name": "stdout",
     "output_type": "stream",
     "text": [
      "Iteration: 51 - D1_DeSurv - Computing the metric on D2\n"
     ]
    },
    {
     "name": "stderr",
     "output_type": "stream",
     "text": [
      "\n",
      "0it [00:00, ?it/s]\u001b[A\n",
      "1it [00:18, 18.78s/it]\u001b[A\n",
      "2it [00:36, 17.92s/it]\u001b[A\n",
      "3it [00:57, 19.52s/it]\u001b[A\n",
      "4it [01:15, 19.03s/it]\u001b[A\n",
      "5it [01:34, 18.97s/it]\u001b[A\n",
      " 52%|█████████████████████████████████████████████████████                                                 | 52/100 [14:54:00<12:47:06, 958.89s/it]"
     ]
    },
    {
     "name": "stdout",
     "output_type": "stream",
     "text": [
      "Iteration: 52\n",
      "Iteration: 52 - coDeSurv - Computing the metric on D1\n"
     ]
    },
    {
     "name": "stderr",
     "output_type": "stream",
     "text": [
      "\n",
      "0it [00:00, ?it/s]\u001b[A\n",
      "1it [00:17, 17.02s/it]\u001b[A\n",
      "2it [00:34, 17.14s/it]\u001b[A\n",
      "3it [00:49, 16.49s/it]\u001b[A\n",
      "4it [01:08, 17.30s/it]\u001b[A\n",
      "5it [01:25, 17.04s/it]\u001b[A\n"
     ]
    },
    {
     "name": "stdout",
     "output_type": "stream",
     "text": [
      "Iteration: 52 - D1_DeSurv - Computing the metric on D1\n"
     ]
    },
    {
     "name": "stderr",
     "output_type": "stream",
     "text": [
      "\n",
      "0it [00:00, ?it/s]\u001b[A\n",
      "1it [00:17, 17.62s/it]\u001b[A\n",
      "2it [00:38, 19.43s/it]\u001b[A\n",
      "3it [00:57, 19.50s/it]\u001b[A\n",
      "4it [01:16, 19.28s/it]\u001b[A\n",
      "5it [01:33, 18.63s/it]\u001b[A\n"
     ]
    },
    {
     "name": "stdout",
     "output_type": "stream",
     "text": [
      "Iteration: 52 - coDeSurv - Computing the metric on D2\n"
     ]
    },
    {
     "name": "stderr",
     "output_type": "stream",
     "text": [
      "\n",
      "0it [00:00, ?it/s]\u001b[A\n",
      "1it [00:19, 19.27s/it]\u001b[A\n",
      "2it [00:39, 19.66s/it]\u001b[A\n",
      "3it [00:55, 18.26s/it]\u001b[A\n",
      "4it [01:13, 17.91s/it]\u001b[A\n",
      "5it [01:26, 17.23s/it]\u001b[A\n"
     ]
    },
    {
     "name": "stdout",
     "output_type": "stream",
     "text": [
      "Iteration: 52 - D1_DeSurv - Computing the metric on D2\n"
     ]
    },
    {
     "name": "stderr",
     "output_type": "stream",
     "text": [
      "\n",
      "0it [00:00, ?it/s]\u001b[A\n",
      "1it [00:19, 19.97s/it]\u001b[A\n",
      "2it [00:39, 19.56s/it]\u001b[A\n",
      "3it [00:57, 19.19s/it]\u001b[A\n",
      "4it [01:18, 19.74s/it]\u001b[A\n",
      "5it [01:34, 18.94s/it]\u001b[A\n",
      " 53%|██████████████████████████████████████████████████████                                                | 53/100 [14:59:59<10:10:12, 778.99s/it]"
     ]
    },
    {
     "name": "stdout",
     "output_type": "stream",
     "text": [
      "Iteration: 53\n",
      "Iteration: 53 - coDeSurv - Computing the metric on D1\n"
     ]
    },
    {
     "name": "stderr",
     "output_type": "stream",
     "text": [
      "\n",
      "0it [00:00, ?it/s]\u001b[A\n",
      "1it [00:16, 16.37s/it]\u001b[A\n",
      "2it [00:33, 16.83s/it]\u001b[A\n",
      "3it [00:53, 18.49s/it]\u001b[A\n",
      "4it [01:10, 17.86s/it]\u001b[A\n",
      "5it [01:25, 17.06s/it]\u001b[A\n"
     ]
    },
    {
     "name": "stdout",
     "output_type": "stream",
     "text": [
      "Iteration: 53 - D1_DeSurv - Computing the metric on D1\n"
     ]
    },
    {
     "name": "stderr",
     "output_type": "stream",
     "text": [
      "\n",
      "0it [00:00, ?it/s]\u001b[A\n",
      "1it [00:17, 17.24s/it]\u001b[A\n",
      "2it [00:36, 18.71s/it]\u001b[A\n",
      "3it [00:57, 19.43s/it]\u001b[A\n",
      "4it [01:15, 19.11s/it]\u001b[A\n",
      "5it [01:33, 18.65s/it]\u001b[A\n"
     ]
    },
    {
     "name": "stdout",
     "output_type": "stream",
     "text": [
      "Iteration: 53 - coDeSurv - Computing the metric on D2\n"
     ]
    },
    {
     "name": "stderr",
     "output_type": "stream",
     "text": [
      "\n",
      "0it [00:00, ?it/s]\u001b[A\n",
      "1it [00:17, 17.25s/it]\u001b[A\n",
      "2it [00:36, 18.14s/it]\u001b[A\n",
      "3it [00:56, 19.05s/it]\u001b[A\n",
      "4it [01:13, 18.55s/it]\u001b[A\n",
      "5it [01:27, 17.42s/it]\u001b[A\n"
     ]
    },
    {
     "name": "stdout",
     "output_type": "stream",
     "text": [
      "Iteration: 53 - D1_DeSurv - Computing the metric on D2\n"
     ]
    },
    {
     "name": "stderr",
     "output_type": "stream",
     "text": [
      "\n",
      "0it [00:00, ?it/s]\u001b[A\n",
      "1it [00:17, 17.66s/it]\u001b[A\n",
      "2it [00:38, 19.60s/it]\u001b[A\n",
      "3it [00:57, 19.27s/it]\u001b[A\n",
      "4it [01:19, 20.18s/it]\u001b[A\n",
      "5it [01:34, 18.99s/it]\u001b[A\n",
      " 54%|███████████████████████████████████████████████████████▌                                               | 54/100 [15:06:00<8:21:00, 653.48s/it]"
     ]
    },
    {
     "name": "stdout",
     "output_type": "stream",
     "text": [
      "Iteration: 54\n",
      "Iteration: 54 - coDeSurv - Computing the metric on D1\n"
     ]
    },
    {
     "name": "stderr",
     "output_type": "stream",
     "text": [
      "\n",
      "0it [00:00, ?it/s]\u001b[A\n",
      "1it [00:17, 17.50s/it]\u001b[A\n",
      "2it [00:34, 17.12s/it]\u001b[A\n",
      "3it [00:49, 16.33s/it]\u001b[A\n",
      "4it [01:09, 17.55s/it]\u001b[A\n",
      "5it [01:25, 17.09s/it]\u001b[A\n"
     ]
    },
    {
     "name": "stdout",
     "output_type": "stream",
     "text": [
      "Iteration: 54 - D1_DeSurv - Computing the metric on D1\n"
     ]
    },
    {
     "name": "stderr",
     "output_type": "stream",
     "text": [
      "\n",
      "0it [00:00, ?it/s]\u001b[A\n",
      "1it [00:22, 22.91s/it]\u001b[A\n",
      "2it [00:43, 21.53s/it]\u001b[A\n",
      "3it [01:02, 20.60s/it]\u001b[A\n",
      "4it [01:18, 18.76s/it]\u001b[A\n",
      "5it [01:33, 18.79s/it]\u001b[A\n"
     ]
    },
    {
     "name": "stdout",
     "output_type": "stream",
     "text": [
      "Iteration: 54 - coDeSurv - Computing the metric on D2\n"
     ]
    },
    {
     "name": "stderr",
     "output_type": "stream",
     "text": [
      "\n",
      "0it [00:00, ?it/s]\u001b[A\n",
      "1it [00:17, 17.32s/it]\u001b[A\n",
      "2it [00:34, 17.24s/it]\u001b[A\n",
      "3it [00:52, 17.51s/it]\u001b[A\n",
      "4it [01:11, 18.25s/it]\u001b[A\n",
      "5it [01:26, 17.40s/it]\u001b[A\n"
     ]
    },
    {
     "name": "stdout",
     "output_type": "stream",
     "text": [
      "Iteration: 54 - D1_DeSurv - Computing the metric on D2\n"
     ]
    },
    {
     "name": "stderr",
     "output_type": "stream",
     "text": [
      "\n",
      "0it [00:00, ?it/s]\u001b[A\n",
      "1it [00:18, 18.43s/it]\u001b[A\n",
      "2it [00:36, 18.42s/it]\u001b[A\n",
      "3it [00:55, 18.67s/it]\u001b[A\n",
      "4it [01:16, 19.45s/it]\u001b[A\n",
      "5it [01:34, 18.99s/it]\u001b[A\n",
      " 55%|████████████████████████████████████████████████████████▋                                              | 55/100 [15:12:01<7:04:23, 565.85s/it]"
     ]
    },
    {
     "name": "stdout",
     "output_type": "stream",
     "text": [
      "Iteration: 55\n",
      "Iteration: 55 - coDeSurv - Computing the metric on D1\n"
     ]
    },
    {
     "name": "stderr",
     "output_type": "stream",
     "text": [
      "\n",
      "0it [00:00, ?it/s]\u001b[A\n",
      "1it [00:18, 18.30s/it]\u001b[A\n",
      "2it [00:38, 19.28s/it]\u001b[A\n",
      "3it [00:55, 18.34s/it]\u001b[A\n",
      "4it [01:10, 17.19s/it]\u001b[A\n",
      "5it [01:25, 17.08s/it]\u001b[A\n"
     ]
    },
    {
     "name": "stdout",
     "output_type": "stream",
     "text": [
      "Iteration: 55 - D1_DeSurv - Computing the metric on D1\n"
     ]
    },
    {
     "name": "stderr",
     "output_type": "stream",
     "text": [
      "\n",
      "0it [00:00, ?it/s]\u001b[A\n",
      "1it [00:18, 18.38s/it]\u001b[A\n",
      "2it [00:38, 19.56s/it]\u001b[A\n",
      "3it [00:57, 19.02s/it]\u001b[A\n",
      "4it [01:18, 19.95s/it]\u001b[A\n",
      "5it [01:33, 18.64s/it]\u001b[A\n"
     ]
    },
    {
     "name": "stdout",
     "output_type": "stream",
     "text": [
      "Iteration: 55 - coDeSurv - Computing the metric on D2\n"
     ]
    },
    {
     "name": "stderr",
     "output_type": "stream",
     "text": [
      "\n",
      "0it [00:00, ?it/s]\u001b[A\n",
      "1it [00:19, 19.16s/it]\u001b[A\n",
      "2it [00:37, 18.46s/it]\u001b[A\n",
      "3it [00:54, 17.89s/it]\u001b[A\n",
      "4it [01:11, 17.70s/it]\u001b[A\n",
      "5it [01:26, 17.33s/it]\u001b[A\n"
     ]
    },
    {
     "name": "stdout",
     "output_type": "stream",
     "text": [
      "Iteration: 55 - D1_DeSurv - Computing the metric on D2\n"
     ]
    },
    {
     "name": "stderr",
     "output_type": "stream",
     "text": [
      "\n",
      "0it [00:00, ?it/s]\u001b[A\n",
      "1it [00:19, 19.67s/it]\u001b[A\n",
      "2it [00:41, 20.89s/it]\u001b[A\n",
      "3it [00:57, 18.83s/it]\u001b[A\n",
      "4it [01:15, 18.25s/it]\u001b[A\n",
      "5it [01:34, 18.92s/it]\u001b[A\n",
      " 56%|█████████████████████████████████████████████████████████▋                                             | 56/100 [15:18:01<6:09:38, 504.05s/it]"
     ]
    },
    {
     "name": "stdout",
     "output_type": "stream",
     "text": [
      "Iteration: 56\n",
      "Iteration: 56 - coDeSurv - Computing the metric on D1\n"
     ]
    },
    {
     "name": "stderr",
     "output_type": "stream",
     "text": [
      "\n",
      "0it [00:00, ?it/s]\u001b[A\n",
      "1it [00:18, 18.51s/it]\u001b[A\n",
      "2it [00:34, 17.16s/it]\u001b[A\n",
      "3it [00:51, 16.85s/it]\u001b[A\n",
      "4it [01:09, 17.43s/it]\u001b[A\n",
      "5it [01:25, 17.06s/it]\u001b[A\n"
     ]
    },
    {
     "name": "stdout",
     "output_type": "stream",
     "text": [
      "Iteration: 56 - D1_DeSurv - Computing the metric on D1\n"
     ]
    },
    {
     "name": "stderr",
     "output_type": "stream",
     "text": [
      "\n",
      "0it [00:00, ?it/s]\u001b[A\n",
      "1it [00:17, 17.74s/it]\u001b[A\n",
      "2it [00:40, 20.75s/it]\u001b[A\n",
      "3it [00:58, 19.35s/it]\u001b[A\n",
      "4it [01:16, 19.06s/it]\u001b[A\n",
      "5it [01:33, 18.79s/it]\u001b[A\n"
     ]
    },
    {
     "name": "stdout",
     "output_type": "stream",
     "text": [
      "Iteration: 56 - coDeSurv - Computing the metric on D2\n"
     ]
    },
    {
     "name": "stderr",
     "output_type": "stream",
     "text": [
      "\n",
      "0it [00:00, ?it/s]\u001b[A\n",
      "1it [00:15, 15.89s/it]\u001b[A\n",
      "2it [00:33, 16.97s/it]\u001b[A\n",
      "3it [00:50, 16.97s/it]\u001b[A\n",
      "4it [01:09, 17.71s/it]\u001b[A\n",
      "5it [01:27, 17.42s/it]\u001b[A\n"
     ]
    },
    {
     "name": "stdout",
     "output_type": "stream",
     "text": [
      "Iteration: 56 - D1_DeSurv - Computing the metric on D2\n"
     ]
    },
    {
     "name": "stderr",
     "output_type": "stream",
     "text": [
      "\n",
      "0it [00:00, ?it/s]\u001b[A\n",
      "1it [00:17, 17.95s/it]\u001b[A\n",
      "2it [00:38, 19.48s/it]\u001b[A\n",
      "3it [00:57, 19.43s/it]\u001b[A\n",
      "4it [01:17, 19.43s/it]\u001b[A\n",
      "5it [01:34, 18.97s/it]\u001b[A\n",
      " 57%|██████████████████████████████████████████████████████████▋                                            | 57/100 [15:24:02<5:30:31, 461.21s/it]"
     ]
    },
    {
     "name": "stdout",
     "output_type": "stream",
     "text": [
      "Iteration: 57\n",
      "Iteration: 57 - coDeSurv - Computing the metric on D1\n"
     ]
    },
    {
     "name": "stderr",
     "output_type": "stream",
     "text": [
      "\n",
      "0it [00:00, ?it/s]\u001b[A\n",
      "1it [00:18, 18.82s/it]\u001b[A\n",
      "2it [00:37, 18.91s/it]\u001b[A\n",
      "3it [00:54, 17.99s/it]\u001b[A\n",
      "4it [01:11, 17.34s/it]\u001b[A\n",
      "5it [01:25, 17.08s/it]\u001b[A\n"
     ]
    },
    {
     "name": "stdout",
     "output_type": "stream",
     "text": [
      "Iteration: 57 - D1_DeSurv - Computing the metric on D1\n"
     ]
    },
    {
     "name": "stderr",
     "output_type": "stream",
     "text": [
      "\n",
      "0it [00:00, ?it/s]\u001b[A\n",
      "1it [00:17, 17.21s/it]\u001b[A\n",
      "2it [00:37, 19.31s/it]\u001b[A\n",
      "3it [00:54, 18.17s/it]\u001b[A\n",
      "4it [01:16, 19.57s/it]\u001b[A\n",
      "5it [01:32, 18.48s/it]\u001b[A\n"
     ]
    },
    {
     "name": "stdout",
     "output_type": "stream",
     "text": [
      "Iteration: 57 - coDeSurv - Computing the metric on D2\n"
     ]
    },
    {
     "name": "stderr",
     "output_type": "stream",
     "text": [
      "\n",
      "0it [00:00, ?it/s]\u001b[A\n",
      "1it [00:15, 15.79s/it]\u001b[A\n",
      "2it [00:31, 15.70s/it]\u001b[A\n",
      "3it [00:47, 16.07s/it]\u001b[A\n",
      "4it [01:09, 18.16s/it]\u001b[A\n",
      "5it [01:25, 17.13s/it]\u001b[A\n"
     ]
    },
    {
     "name": "stdout",
     "output_type": "stream",
     "text": [
      "Iteration: 57 - D1_DeSurv - Computing the metric on D2\n"
     ]
    },
    {
     "name": "stderr",
     "output_type": "stream",
     "text": [
      "\n",
      "0it [00:00, ?it/s]\u001b[A\n",
      "1it [00:18, 18.65s/it]\u001b[A\n",
      "2it [00:35, 17.53s/it]\u001b[A\n",
      "3it [00:56, 19.15s/it]\u001b[A\n",
      "4it [01:17, 19.94s/it]\u001b[A\n",
      "5it [01:33, 18.74s/it]\u001b[A\n",
      " 58%|███████████████████████████████████████████████████████████▋                                           | 58/100 [15:30:00<5:00:59, 429.99s/it]"
     ]
    },
    {
     "name": "stdout",
     "output_type": "stream",
     "text": [
      "Iteration: 58\n",
      "Iteration: 58 - coDeSurv - Computing the metric on D1\n"
     ]
    },
    {
     "name": "stderr",
     "output_type": "stream",
     "text": [
      "\n",
      "0it [00:00, ?it/s]\u001b[A\n",
      "1it [00:16, 16.98s/it]\u001b[A\n",
      "2it [00:32, 16.22s/it]\u001b[A\n",
      "3it [00:51, 17.57s/it]\u001b[A\n",
      "4it [01:07, 16.70s/it]\u001b[A\n",
      "5it [01:24, 16.90s/it]\u001b[A\n"
     ]
    },
    {
     "name": "stdout",
     "output_type": "stream",
     "text": [
      "Iteration: 58 - D1_DeSurv - Computing the metric on D1\n"
     ]
    },
    {
     "name": "stderr",
     "output_type": "stream",
     "text": [
      "\n",
      "0it [00:00, ?it/s]\u001b[A\n",
      "1it [00:20, 20.01s/it]\u001b[A\n",
      "2it [00:40, 20.41s/it]\u001b[A\n",
      "3it [01:00, 20.14s/it]\u001b[A\n",
      "4it [01:20, 20.19s/it]\u001b[A\n",
      "5it [01:36, 19.24s/it]\u001b[A\n"
     ]
    },
    {
     "name": "stdout",
     "output_type": "stream",
     "text": [
      "Iteration: 58 - coDeSurv - Computing the metric on D2\n"
     ]
    },
    {
     "name": "stderr",
     "output_type": "stream",
     "text": [
      "\n",
      "0it [00:00, ?it/s]\u001b[A\n",
      "1it [00:17, 17.63s/it]\u001b[A\n",
      "2it [00:36, 18.60s/it]\u001b[A\n",
      "3it [00:55, 18.72s/it]\u001b[A\n",
      "4it [01:11, 17.73s/it]\u001b[A\n",
      "5it [01:28, 17.62s/it]\u001b[A\n"
     ]
    },
    {
     "name": "stdout",
     "output_type": "stream",
     "text": [
      "Iteration: 58 - D1_DeSurv - Computing the metric on D2\n"
     ]
    },
    {
     "name": "stderr",
     "output_type": "stream",
     "text": [
      "\n",
      "0it [00:00, ?it/s]\u001b[A\n",
      "1it [00:17, 17.07s/it]\u001b[A\n",
      "2it [00:39, 20.14s/it]\u001b[A\n",
      "3it [00:59, 20.20s/it]\u001b[A\n",
      "4it [01:19, 20.04s/it]\u001b[A\n",
      "5it [01:35, 19.19s/it]\u001b[A\n",
      " 59%|████████████████████████████████████████████████████████████▊                                          | 59/100 [15:36:04<4:40:27, 410.42s/it]"
     ]
    },
    {
     "name": "stdout",
     "output_type": "stream",
     "text": [
      "Iteration: 59\n",
      "Iteration: 59 - coDeSurv - Computing the metric on D1\n"
     ]
    },
    {
     "name": "stderr",
     "output_type": "stream",
     "text": [
      "\n",
      "0it [00:00, ?it/s]\u001b[A\n",
      "1it [00:17, 17.98s/it]\u001b[A\n",
      "2it [00:33, 16.73s/it]\u001b[A\n",
      "3it [00:53, 17.89s/it]\u001b[A\n",
      "4it [01:09, 17.26s/it]\u001b[A\n",
      "5it [01:26, 17.27s/it]\u001b[A\n"
     ]
    },
    {
     "name": "stdout",
     "output_type": "stream",
     "text": [
      "Iteration: 59 - D1_DeSurv - Computing the metric on D1\n"
     ]
    },
    {
     "name": "stderr",
     "output_type": "stream",
     "text": [
      "\n",
      "0it [00:00, ?it/s]\u001b[A\n",
      "1it [00:20, 20.01s/it]\u001b[A\n",
      "2it [00:41, 20.78s/it]\u001b[A\n",
      "3it [01:00, 19.89s/it]\u001b[A\n",
      "4it [01:18, 19.09s/it]\u001b[A\n",
      "5it [01:34, 18.93s/it]\u001b[A\n"
     ]
    },
    {
     "name": "stdout",
     "output_type": "stream",
     "text": [
      "Iteration: 59 - coDeSurv - Computing the metric on D2\n"
     ]
    },
    {
     "name": "stderr",
     "output_type": "stream",
     "text": [
      "\n",
      "0it [00:00, ?it/s]\u001b[A\n",
      "1it [00:18, 18.25s/it]\u001b[A\n",
      "2it [00:37, 18.57s/it]\u001b[A\n",
      "3it [00:53, 17.72s/it]\u001b[A\n",
      "4it [01:11, 17.56s/it]\u001b[A\n",
      "5it [01:27, 17.60s/it]\u001b[A\n"
     ]
    },
    {
     "name": "stdout",
     "output_type": "stream",
     "text": [
      "Iteration: 59 - D1_DeSurv - Computing the metric on D2\n"
     ]
    },
    {
     "name": "stderr",
     "output_type": "stream",
     "text": [
      "\n",
      "0it [00:00, ?it/s]\u001b[A\n",
      "1it [00:22, 22.31s/it]\u001b[A\n",
      "2it [00:40, 20.13s/it]\u001b[A\n",
      "3it [01:00, 19.86s/it]\u001b[A\n",
      "4it [01:20, 20.00s/it]\u001b[A\n",
      "5it [01:36, 19.34s/it]\u001b[A\n",
      " 60%|█████████████████████████████████████████████████████████████▊                                         | 60/100 [15:42:10<4:24:39, 397.00s/it]"
     ]
    },
    {
     "name": "stdout",
     "output_type": "stream",
     "text": [
      "Iteration: 60\n",
      "Iteration: 60 - coDeSurv - Computing the metric on D1\n"
     ]
    },
    {
     "name": "stderr",
     "output_type": "stream",
     "text": [
      "\n",
      "0it [00:00, ?it/s]\u001b[A\n",
      "1it [00:15, 15.80s/it]\u001b[A\n",
      "2it [00:34, 17.49s/it]\u001b[A\n",
      "3it [00:51, 17.36s/it]\u001b[A\n",
      "4it [01:09, 17.55s/it]\u001b[A\n",
      "5it [01:26, 17.39s/it]\u001b[A\n"
     ]
    },
    {
     "name": "stdout",
     "output_type": "stream",
     "text": [
      "Iteration: 60 - D1_DeSurv - Computing the metric on D1\n"
     ]
    },
    {
     "name": "stderr",
     "output_type": "stream",
     "text": [
      "\n",
      "0it [00:00, ?it/s]\u001b[A\n",
      "1it [00:19, 19.47s/it]\u001b[A\n",
      "2it [00:37, 18.45s/it]\u001b[A\n",
      "3it [00:54, 18.11s/it]\u001b[A\n",
      "4it [01:17, 19.74s/it]\u001b[A\n",
      "5it [01:35, 19.05s/it]\u001b[A\n"
     ]
    },
    {
     "name": "stdout",
     "output_type": "stream",
     "text": [
      "Iteration: 60 - coDeSurv - Computing the metric on D2\n"
     ]
    },
    {
     "name": "stderr",
     "output_type": "stream",
     "text": [
      "\n",
      "0it [00:00, ?it/s]\u001b[A\n",
      "1it [00:18, 19.00s/it]\u001b[A\n",
      "2it [00:36, 17.89s/it]\u001b[A\n",
      "3it [00:55, 18.79s/it]\u001b[A\n",
      "4it [01:12, 17.81s/it]\u001b[A\n",
      "5it [01:27, 17.47s/it]\u001b[A\n"
     ]
    },
    {
     "name": "stdout",
     "output_type": "stream",
     "text": [
      "Iteration: 60 - D1_DeSurv - Computing the metric on D2\n"
     ]
    },
    {
     "name": "stderr",
     "output_type": "stream",
     "text": [
      "\n",
      "0it [00:00, ?it/s]\u001b[A\n",
      "1it [00:18, 18.48s/it]\u001b[A\n",
      "2it [00:38, 19.47s/it]\u001b[A\n",
      "3it [01:01, 21.03s/it]\u001b[A\n",
      "4it [01:17, 18.83s/it]\u001b[A\n",
      "5it [01:36, 19.25s/it]\u001b[A\n",
      " 61%|██████████████████████████████████████████████████████████████▊                                        | 61/100 [15:48:16<4:11:57, 387.64s/it]"
     ]
    },
    {
     "name": "stdout",
     "output_type": "stream",
     "text": [
      "Iteration: 61\n",
      "Iteration: 61 - coDeSurv - Computing the metric on D1\n"
     ]
    },
    {
     "name": "stderr",
     "output_type": "stream",
     "text": [
      "\n",
      "0it [00:00, ?it/s]\u001b[A\n",
      "1it [00:16, 16.80s/it]\u001b[A\n",
      "2it [00:35, 18.17s/it]\u001b[A\n",
      "3it [00:53, 17.80s/it]\u001b[A\n",
      "4it [01:11, 17.84s/it]\u001b[A\n",
      "5it [01:26, 17.21s/it]\u001b[A\n"
     ]
    },
    {
     "name": "stdout",
     "output_type": "stream",
     "text": [
      "Iteration: 61 - D1_DeSurv - Computing the metric on D1\n"
     ]
    },
    {
     "name": "stderr",
     "output_type": "stream",
     "text": [
      "\n",
      "0it [00:00, ?it/s]\u001b[A\n",
      "1it [00:20, 20.75s/it]\u001b[A\n",
      "2it [00:39, 19.82s/it]\u001b[A\n",
      "3it [00:59, 19.63s/it]\u001b[A\n",
      "4it [01:17, 19.13s/it]\u001b[A\n",
      "5it [01:34, 18.91s/it]\u001b[A\n"
     ]
    },
    {
     "name": "stdout",
     "output_type": "stream",
     "text": [
      "Iteration: 61 - coDeSurv - Computing the metric on D2\n"
     ]
    },
    {
     "name": "stderr",
     "output_type": "stream",
     "text": [
      "\n",
      "0it [00:00, ?it/s]\u001b[A\n",
      "1it [00:16, 16.96s/it]\u001b[A\n",
      "2it [00:34, 17.33s/it]\u001b[A\n",
      "3it [00:53, 17.87s/it]\u001b[A\n",
      "4it [01:10, 17.85s/it]\u001b[A\n",
      "5it [01:27, 17.44s/it]\u001b[A\n"
     ]
    },
    {
     "name": "stdout",
     "output_type": "stream",
     "text": [
      "Iteration: 61 - D1_DeSurv - Computing the metric on D2\n"
     ]
    },
    {
     "name": "stderr",
     "output_type": "stream",
     "text": [
      "\n",
      "0it [00:00, ?it/s]\u001b[A\n",
      "1it [00:16, 16.85s/it]\u001b[A\n",
      "2it [00:36, 18.49s/it]\u001b[A\n",
      "3it [00:59, 20.43s/it]\u001b[A\n",
      "4it [01:17, 19.50s/it]\u001b[A\n",
      "5it [01:36, 19.23s/it]\u001b[A\n",
      " 62%|███████████████████████████████████████████████████████████████▊                                       | 62/100 [15:54:20<4:01:00, 380.54s/it]"
     ]
    },
    {
     "name": "stdout",
     "output_type": "stream",
     "text": [
      "Iteration: 62\n",
      "Iteration: 62 - coDeSurv - Computing the metric on D1\n"
     ]
    },
    {
     "name": "stderr",
     "output_type": "stream",
     "text": [
      "\n",
      "0it [00:00, ?it/s]\u001b[A\n",
      "1it [00:16, 16.24s/it]\u001b[A\n",
      "2it [00:34, 17.37s/it]\u001b[A\n",
      "3it [00:50, 16.73s/it]\u001b[A\n",
      "4it [01:08, 17.43s/it]\u001b[A\n",
      "5it [01:25, 17.20s/it]\u001b[A\n"
     ]
    },
    {
     "name": "stdout",
     "output_type": "stream",
     "text": [
      "Iteration: 62 - D1_DeSurv - Computing the metric on D1\n"
     ]
    },
    {
     "name": "stderr",
     "output_type": "stream",
     "text": [
      "\n",
      "0it [00:00, ?it/s]\u001b[A\n",
      "1it [00:21, 21.54s/it]\u001b[A\n",
      "2it [00:43, 21.54s/it]\u001b[A\n",
      "3it [01:00, 19.47s/it]\u001b[A\n",
      "4it [01:20, 19.99s/it]\u001b[A\n",
      "5it [01:34, 18.95s/it]\u001b[A\n"
     ]
    },
    {
     "name": "stdout",
     "output_type": "stream",
     "text": [
      "Iteration: 62 - coDeSurv - Computing the metric on D2\n"
     ]
    },
    {
     "name": "stderr",
     "output_type": "stream",
     "text": [
      "\n",
      "0it [00:00, ?it/s]\u001b[A\n",
      "1it [00:17, 17.79s/it]\u001b[A\n",
      "2it [00:37, 18.98s/it]\u001b[A\n",
      "3it [00:55, 18.40s/it]\u001b[A\n",
      "4it [01:12, 17.78s/it]\u001b[A\n",
      "5it [01:27, 17.47s/it]\u001b[A\n"
     ]
    },
    {
     "name": "stdout",
     "output_type": "stream",
     "text": [
      "Iteration: 62 - D1_DeSurv - Computing the metric on D2\n"
     ]
    },
    {
     "name": "stderr",
     "output_type": "stream",
     "text": [
      "\n",
      "0it [00:00, ?it/s]\u001b[A\n",
      "1it [00:21, 21.08s/it]\u001b[A\n",
      "2it [00:37, 18.59s/it]\u001b[A\n",
      "3it [00:59, 19.73s/it]\u001b[A\n",
      "4it [01:17, 19.07s/it]\u001b[A\n",
      "5it [01:36, 19.27s/it]\u001b[A\n",
      " 63%|████████████████████████████████████████████████████████████████▉                                      | 63/100 [16:00:24<3:51:41, 375.71s/it]"
     ]
    },
    {
     "name": "stdout",
     "output_type": "stream",
     "text": [
      "Iteration: 63\n",
      "Iteration: 63 - coDeSurv - Computing the metric on D1\n"
     ]
    },
    {
     "name": "stderr",
     "output_type": "stream",
     "text": [
      "\n",
      "0it [00:00, ?it/s]\u001b[A\n",
      "1it [00:19, 19.10s/it]\u001b[A\n",
      "2it [00:39, 19.60s/it]\u001b[A\n",
      "3it [00:56, 18.54s/it]\u001b[A\n",
      "4it [01:13, 17.88s/it]\u001b[A\n",
      "5it [01:26, 17.28s/it]\u001b[A\n"
     ]
    },
    {
     "name": "stdout",
     "output_type": "stream",
     "text": [
      "Iteration: 63 - D1_DeSurv - Computing the metric on D1\n"
     ]
    },
    {
     "name": "stderr",
     "output_type": "stream",
     "text": [
      "\n",
      "0it [00:00, ?it/s]\u001b[A\n",
      "1it [00:22, 22.72s/it]\u001b[A\n",
      "2it [00:42, 20.90s/it]\u001b[A\n",
      "3it [01:01, 20.09s/it]\u001b[A\n",
      "4it [01:17, 18.64s/it]\u001b[A\n",
      "5it [01:34, 18.94s/it]\u001b[A\n"
     ]
    },
    {
     "name": "stdout",
     "output_type": "stream",
     "text": [
      "Iteration: 63 - coDeSurv - Computing the metric on D2\n"
     ]
    },
    {
     "name": "stderr",
     "output_type": "stream",
     "text": [
      "\n",
      "0it [00:00, ?it/s]\u001b[A\n",
      "1it [00:17, 17.97s/it]\u001b[A\n",
      "2it [00:37, 18.69s/it]\u001b[A\n",
      "3it [00:52, 17.33s/it]\u001b[A\n",
      "4it [01:11, 17.93s/it]\u001b[A\n",
      "5it [01:27, 17.52s/it]\u001b[A\n"
     ]
    },
    {
     "name": "stdout",
     "output_type": "stream",
     "text": [
      "Iteration: 63 - D1_DeSurv - Computing the metric on D2\n"
     ]
    },
    {
     "name": "stderr",
     "output_type": "stream",
     "text": [
      "\n",
      "0it [00:00, ?it/s]\u001b[A\n",
      "1it [00:19, 19.12s/it]\u001b[A\n",
      "2it [00:39, 19.64s/it]\u001b[A\n",
      "3it [00:59, 19.88s/it]\u001b[A\n",
      "4it [01:18, 19.57s/it]\u001b[A\n",
      "5it [01:35, 19.17s/it]\u001b[A\n",
      " 64%|█████████████████████████████████████████████████████████████████▉                                     | 64/100 [16:06:29<3:43:24, 372.36s/it]"
     ]
    },
    {
     "name": "stdout",
     "output_type": "stream",
     "text": [
      "Iteration: 64\n",
      "Iteration: 64 - coDeSurv - Computing the metric on D1\n"
     ]
    },
    {
     "name": "stderr",
     "output_type": "stream",
     "text": [
      "\n",
      "0it [00:00, ?it/s]\u001b[A\n",
      "1it [00:16, 16.98s/it]\u001b[A\n",
      "2it [00:33, 16.60s/it]\u001b[A\n",
      "3it [00:52, 17.70s/it]\u001b[A\n",
      "4it [01:09, 17.65s/it]\u001b[A\n",
      "5it [01:26, 17.24s/it]\u001b[A\n"
     ]
    },
    {
     "name": "stdout",
     "output_type": "stream",
     "text": [
      "Iteration: 64 - D1_DeSurv - Computing the metric on D1\n"
     ]
    },
    {
     "name": "stderr",
     "output_type": "stream",
     "text": [
      "\n",
      "0it [00:00, ?it/s]\u001b[A\n",
      "1it [00:19, 19.28s/it]\u001b[A\n",
      "2it [00:38, 18.97s/it]\u001b[A\n",
      "3it [00:56, 18.53s/it]\u001b[A\n",
      "4it [01:17, 19.65s/it]\u001b[A\n",
      "5it [01:34, 18.97s/it]\u001b[A\n"
     ]
    },
    {
     "name": "stdout",
     "output_type": "stream",
     "text": [
      "Iteration: 64 - coDeSurv - Computing the metric on D2\n"
     ]
    },
    {
     "name": "stderr",
     "output_type": "stream",
     "text": [
      "\n",
      "0it [00:00, ?it/s]\u001b[A\n",
      "1it [00:17, 17.48s/it]\u001b[A\n",
      "2it [00:36, 18.21s/it]\u001b[A\n",
      "3it [00:55, 18.85s/it]\u001b[A\n",
      "4it [01:13, 18.30s/it]\u001b[A\n",
      "5it [01:27, 17.54s/it]\u001b[A\n"
     ]
    },
    {
     "name": "stdout",
     "output_type": "stream",
     "text": [
      "Iteration: 64 - D1_DeSurv - Computing the metric on D2\n"
     ]
    },
    {
     "name": "stderr",
     "output_type": "stream",
     "text": [
      "\n",
      "0it [00:00, ?it/s]\u001b[A\n",
      "1it [00:19, 19.61s/it]\u001b[A\n",
      "2it [00:39, 19.65s/it]\u001b[A\n",
      "3it [00:56, 18.37s/it]\u001b[A\n",
      "4it [01:16, 19.31s/it]\u001b[A\n",
      "5it [01:36, 19.27s/it]\u001b[A\n",
      " 65%|██████████████████████████████████████████████████████████████████▉                                    | 65/100 [16:12:34<3:35:56, 370.19s/it]"
     ]
    },
    {
     "name": "stdout",
     "output_type": "stream",
     "text": [
      "Iteration: 65\n",
      "Iteration: 65 - coDeSurv - Computing the metric on D1\n"
     ]
    },
    {
     "name": "stderr",
     "output_type": "stream",
     "text": [
      "\n",
      "0it [00:00, ?it/s]\u001b[A\n",
      "1it [00:20, 20.41s/it]\u001b[A\n",
      "2it [00:38, 19.09s/it]\u001b[A\n",
      "3it [00:55, 17.97s/it]\u001b[A\n",
      "4it [01:11, 17.47s/it]\u001b[A\n",
      "5it [01:26, 17.38s/it]\u001b[A\n"
     ]
    },
    {
     "name": "stdout",
     "output_type": "stream",
     "text": [
      "Iteration: 65 - D1_DeSurv - Computing the metric on D1\n"
     ]
    },
    {
     "name": "stderr",
     "output_type": "stream",
     "text": [
      "\n",
      "0it [00:00, ?it/s]\u001b[A\n",
      "1it [00:19, 19.45s/it]\u001b[A\n",
      "2it [00:39, 19.62s/it]\u001b[A\n",
      "3it [00:58, 19.39s/it]\u001b[A\n",
      "4it [01:20, 20.51s/it]\u001b[A\n",
      "5it [01:35, 19.04s/it]\u001b[A\n"
     ]
    },
    {
     "name": "stdout",
     "output_type": "stream",
     "text": [
      "Iteration: 65 - coDeSurv - Computing the metric on D2\n"
     ]
    },
    {
     "name": "stderr",
     "output_type": "stream",
     "text": [
      "\n",
      "0it [00:00, ?it/s]\u001b[A\n",
      "1it [00:16, 16.60s/it]\u001b[A\n",
      "2it [00:36, 18.38s/it]\u001b[A\n",
      "3it [00:55, 18.93s/it]\u001b[A\n",
      "4it [01:11, 17.71s/it]\u001b[A\n",
      "5it [01:27, 17.50s/it]\u001b[A\n"
     ]
    },
    {
     "name": "stdout",
     "output_type": "stream",
     "text": [
      "Iteration: 65 - D1_DeSurv - Computing the metric on D2\n"
     ]
    },
    {
     "name": "stderr",
     "output_type": "stream",
     "text": [
      "\n",
      "0it [00:00, ?it/s]\u001b[A\n",
      "1it [00:16, 16.18s/it]\u001b[A\n",
      "2it [00:37, 19.20s/it]\u001b[A\n",
      "3it [00:57, 19.42s/it]\u001b[A\n",
      "4it [01:15, 19.17s/it]\u001b[A\n",
      "5it [01:35, 19.20s/it]\u001b[A\n",
      " 66%|███████████████████████████████████████████████████████████████████▉                                   | 66/100 [16:18:40<3:28:59, 368.82s/it]"
     ]
    },
    {
     "name": "stdout",
     "output_type": "stream",
     "text": [
      "Iteration: 66\n",
      "Iteration: 66 - coDeSurv - Computing the metric on D1\n"
     ]
    },
    {
     "name": "stderr",
     "output_type": "stream",
     "text": [
      "\n",
      "0it [00:00, ?it/s]\u001b[A\n",
      "1it [00:16, 16.25s/it]\u001b[A\n",
      "2it [00:34, 17.14s/it]\u001b[A\n",
      "3it [00:53, 18.29s/it]\u001b[A\n",
      "4it [01:11, 18.18s/it]\u001b[A\n",
      "5it [01:26, 17.27s/it]\u001b[A\n"
     ]
    },
    {
     "name": "stdout",
     "output_type": "stream",
     "text": [
      "Iteration: 66 - D1_DeSurv - Computing the metric on D1\n"
     ]
    },
    {
     "name": "stderr",
     "output_type": "stream",
     "text": [
      "\n",
      "0it [00:00, ?it/s]\u001b[A\n",
      "1it [00:19, 19.44s/it]\u001b[A\n",
      "2it [00:41, 20.73s/it]\u001b[A\n",
      "3it [01:00, 20.27s/it]\u001b[A\n",
      "4it [01:19, 19.67s/it]\u001b[A\n",
      "5it [01:34, 18.93s/it]\u001b[A\n"
     ]
    },
    {
     "name": "stdout",
     "output_type": "stream",
     "text": [
      "Iteration: 66 - coDeSurv - Computing the metric on D2\n"
     ]
    },
    {
     "name": "stderr",
     "output_type": "stream",
     "text": [
      "\n",
      "0it [00:00, ?it/s]\u001b[A\n",
      "1it [00:14, 14.83s/it]\u001b[A\n",
      "2it [00:31, 16.20s/it]\u001b[A\n",
      "3it [00:49, 16.59s/it]\u001b[A\n",
      "4it [01:08, 17.78s/it]\u001b[A\n",
      "5it [01:27, 17.46s/it]\u001b[A\n"
     ]
    },
    {
     "name": "stdout",
     "output_type": "stream",
     "text": [
      "Iteration: 66 - D1_DeSurv - Computing the metric on D2\n"
     ]
    },
    {
     "name": "stderr",
     "output_type": "stream",
     "text": [
      "\n",
      "0it [00:00, ?it/s]\u001b[A\n",
      "1it [00:18, 18.14s/it]\u001b[A\n",
      "2it [00:38, 19.35s/it]\u001b[A\n",
      "3it [00:58, 19.91s/it]\u001b[A\n",
      "4it [01:20, 20.47s/it]\u001b[A\n",
      "5it [01:36, 19.30s/it]\u001b[A\n",
      " 67%|█████████████████████████████████████████████████████████████████████                                  | 67/100 [16:24:44<3:22:11, 367.62s/it]"
     ]
    },
    {
     "name": "stdout",
     "output_type": "stream",
     "text": [
      "Iteration: 67\n",
      "Iteration: 67 - coDeSurv - Computing the metric on D1\n"
     ]
    },
    {
     "name": "stderr",
     "output_type": "stream",
     "text": [
      "\n",
      "0it [00:00, ?it/s]\u001b[A\n",
      "1it [00:18, 18.65s/it]\u001b[A\n",
      "2it [00:37, 18.60s/it]\u001b[A\n",
      "3it [00:55, 18.26s/it]\u001b[A\n",
      "4it [01:10, 17.18s/it]\u001b[A\n",
      "5it [01:26, 17.26s/it]\u001b[A\n"
     ]
    },
    {
     "name": "stdout",
     "output_type": "stream",
     "text": [
      "Iteration: 67 - D1_DeSurv - Computing the metric on D1\n"
     ]
    },
    {
     "name": "stderr",
     "output_type": "stream",
     "text": [
      "\n",
      "0it [00:00, ?it/s]\u001b[A\n",
      "1it [00:17, 17.81s/it]\u001b[A\n",
      "2it [00:39, 19.88s/it]\u001b[A\n",
      "3it [00:58, 19.71s/it]\u001b[A\n",
      "4it [01:17, 19.46s/it]\u001b[A\n",
      "5it [01:34, 18.98s/it]\u001b[A\n"
     ]
    },
    {
     "name": "stdout",
     "output_type": "stream",
     "text": [
      "Iteration: 67 - coDeSurv - Computing the metric on D2\n"
     ]
    },
    {
     "name": "stderr",
     "output_type": "stream",
     "text": [
      "\n",
      "0it [00:00, ?it/s]\u001b[A\n",
      "1it [00:17, 17.46s/it]\u001b[A\n",
      "2it [00:35, 17.96s/it]\u001b[A\n",
      "3it [00:54, 18.08s/it]\u001b[A\n",
      "4it [01:11, 17.79s/it]\u001b[A\n",
      "5it [01:27, 17.53s/it]\u001b[A\n"
     ]
    },
    {
     "name": "stdout",
     "output_type": "stream",
     "text": [
      "Iteration: 67 - D1_DeSurv - Computing the metric on D2\n"
     ]
    },
    {
     "name": "stderr",
     "output_type": "stream",
     "text": [
      "\n",
      "0it [00:00, ?it/s]\u001b[A\n",
      "1it [00:19, 19.39s/it]\u001b[A\n",
      "2it [00:37, 18.82s/it]\u001b[A\n",
      "3it [00:57, 19.17s/it]\u001b[A\n",
      "4it [01:16, 19.23s/it]\u001b[A\n",
      "5it [01:35, 19.16s/it]\u001b[A\n",
      " 68%|██████████████████████████████████████████████████████████████████████                                 | 68/100 [16:30:49<3:15:35, 366.73s/it]"
     ]
    },
    {
     "name": "stdout",
     "output_type": "stream",
     "text": [
      "Iteration: 68\n",
      "Iteration: 68 - coDeSurv - Computing the metric on D1\n"
     ]
    },
    {
     "name": "stderr",
     "output_type": "stream",
     "text": [
      "\n",
      "0it [00:00, ?it/s]\u001b[A\n",
      "1it [00:16, 16.20s/it]\u001b[A\n",
      "2it [00:35, 17.73s/it]\u001b[A\n",
      "3it [00:53, 18.13s/it]\u001b[A\n",
      "4it [01:09, 17.29s/it]\u001b[A\n",
      "5it [01:26, 17.32s/it]\u001b[A\n"
     ]
    },
    {
     "name": "stdout",
     "output_type": "stream",
     "text": [
      "Iteration: 68 - D1_DeSurv - Computing the metric on D1\n"
     ]
    },
    {
     "name": "stderr",
     "output_type": "stream",
     "text": [
      "\n",
      "0it [00:00, ?it/s]\u001b[A\n",
      "1it [00:17, 17.17s/it]\u001b[A\n",
      "2it [00:38, 19.56s/it]\u001b[A\n",
      "3it [00:59, 20.46s/it]\u001b[A\n",
      "4it [01:17, 19.30s/it]\u001b[A\n",
      "5it [01:35, 19.01s/it]\u001b[A\n"
     ]
    },
    {
     "name": "stdout",
     "output_type": "stream",
     "text": [
      "Iteration: 68 - coDeSurv - Computing the metric on D2\n"
     ]
    },
    {
     "name": "stderr",
     "output_type": "stream",
     "text": [
      "\n",
      "0it [00:00, ?it/s]\u001b[A\n",
      "1it [00:17, 17.66s/it]\u001b[A\n",
      "2it [00:33, 16.56s/it]\u001b[A\n",
      "3it [00:52, 17.54s/it]\u001b[A\n",
      "4it [01:13, 18.84s/it]\u001b[A\n",
      "5it [01:27, 17.57s/it]\u001b[A\n"
     ]
    },
    {
     "name": "stdout",
     "output_type": "stream",
     "text": [
      "Iteration: 68 - D1_DeSurv - Computing the metric on D2\n"
     ]
    },
    {
     "name": "stderr",
     "output_type": "stream",
     "text": [
      "\n",
      "0it [00:00, ?it/s]\u001b[A\n",
      "1it [00:20, 20.57s/it]\u001b[A\n",
      "2it [00:39, 19.84s/it]\u001b[A\n",
      "3it [00:57, 18.64s/it]\u001b[A\n",
      "4it [01:16, 18.88s/it]\u001b[A\n",
      "5it [01:36, 19.24s/it]\u001b[A\n",
      " 69%|███████████████████████████████████████████████████████████████████████                                | 69/100 [16:36:55<3:09:19, 366.43s/it]"
     ]
    },
    {
     "name": "stdout",
     "output_type": "stream",
     "text": [
      "Iteration: 69\n",
      "Iteration: 69 - coDeSurv - Computing the metric on D1\n"
     ]
    },
    {
     "name": "stderr",
     "output_type": "stream",
     "text": [
      "\n",
      "0it [00:00, ?it/s]\u001b[A\n",
      "1it [00:17, 17.88s/it]\u001b[A\n",
      "2it [00:35, 17.97s/it]\u001b[A\n",
      "3it [00:51, 16.91s/it]\u001b[A\n",
      "4it [01:10, 17.67s/it]\u001b[A\n",
      "5it [01:26, 17.25s/it]\u001b[A\n"
     ]
    },
    {
     "name": "stdout",
     "output_type": "stream",
     "text": [
      "Iteration: 69 - D1_DeSurv - Computing the metric on D1\n"
     ]
    },
    {
     "name": "stderr",
     "output_type": "stream",
     "text": [
      "\n",
      "0it [00:00, ?it/s]\u001b[A\n",
      "1it [00:20, 20.92s/it]\u001b[A\n",
      "2it [00:41, 20.59s/it]\u001b[A\n",
      "3it [00:58, 19.25s/it]\u001b[A\n",
      "4it [01:18, 19.23s/it]\u001b[A\n",
      "5it [01:34, 18.92s/it]\u001b[A\n"
     ]
    },
    {
     "name": "stdout",
     "output_type": "stream",
     "text": [
      "Iteration: 69 - coDeSurv - Computing the metric on D2\n"
     ]
    },
    {
     "name": "stderr",
     "output_type": "stream",
     "text": [
      "\n",
      "0it [00:00, ?it/s]\u001b[A\n",
      "1it [00:18, 18.03s/it]\u001b[A\n",
      "2it [00:33, 16.79s/it]\u001b[A\n",
      "3it [00:52, 17.77s/it]\u001b[A\n",
      "4it [01:11, 18.09s/it]\u001b[A\n",
      "5it [01:27, 17.51s/it]\u001b[A\n"
     ]
    },
    {
     "name": "stdout",
     "output_type": "stream",
     "text": [
      "Iteration: 69 - D1_DeSurv - Computing the metric on D2\n"
     ]
    },
    {
     "name": "stderr",
     "output_type": "stream",
     "text": [
      "\n",
      "0it [00:00, ?it/s]\u001b[A\n",
      "1it [00:18, 18.11s/it]\u001b[A\n",
      "2it [00:35, 17.79s/it]\u001b[A\n",
      "3it [00:55, 18.57s/it]\u001b[A\n",
      "4it [01:16, 19.85s/it]\u001b[A\n",
      "5it [01:35, 19.19s/it]\u001b[A\n",
      " 70%|████████████████████████████████████████████████████████████████████████                               | 70/100 [16:42:59<3:02:54, 365.81s/it]"
     ]
    },
    {
     "name": "stdout",
     "output_type": "stream",
     "text": [
      "Iteration: 70\n",
      "Iteration: 70 - coDeSurv - Computing the metric on D1\n"
     ]
    },
    {
     "name": "stderr",
     "output_type": "stream",
     "text": [
      "\n",
      "0it [00:00, ?it/s]\u001b[A\n",
      "1it [00:16, 16.83s/it]\u001b[A\n",
      "2it [00:32, 16.12s/it]\u001b[A\n",
      "3it [00:50, 17.12s/it]\u001b[A\n",
      "4it [01:09, 17.88s/it]\u001b[A\n",
      "5it [01:26, 17.22s/it]\u001b[A\n"
     ]
    },
    {
     "name": "stdout",
     "output_type": "stream",
     "text": [
      "Iteration: 70 - D1_DeSurv - Computing the metric on D1\n"
     ]
    },
    {
     "name": "stderr",
     "output_type": "stream",
     "text": [
      "\n",
      "0it [00:00, ?it/s]\u001b[A\n",
      "1it [00:19, 19.24s/it]\u001b[A\n",
      "2it [00:39, 19.64s/it]\u001b[A\n",
      "3it [00:57, 19.24s/it]\u001b[A\n",
      "4it [01:17, 19.47s/it]\u001b[A\n",
      "5it [01:34, 18.97s/it]\u001b[A\n"
     ]
    },
    {
     "name": "stdout",
     "output_type": "stream",
     "text": [
      "Iteration: 70 - coDeSurv - Computing the metric on D2\n"
     ]
    },
    {
     "name": "stderr",
     "output_type": "stream",
     "text": [
      "\n",
      "0it [00:00, ?it/s]\u001b[A\n",
      "1it [00:19, 19.53s/it]\u001b[A\n",
      "2it [00:36, 18.19s/it]\u001b[A\n",
      "3it [00:56, 18.68s/it]\u001b[A\n",
      "4it [01:14, 18.70s/it]\u001b[A\n",
      "5it [01:27, 17.54s/it]\u001b[A\n"
     ]
    },
    {
     "name": "stdout",
     "output_type": "stream",
     "text": [
      "Iteration: 70 - D1_DeSurv - Computing the metric on D2\n"
     ]
    },
    {
     "name": "stderr",
     "output_type": "stream",
     "text": [
      "\n",
      "0it [00:00, ?it/s]\u001b[A\n",
      "1it [00:23, 23.56s/it]\u001b[A\n",
      "2it [00:40, 19.74s/it]\u001b[A\n",
      "3it [01:00, 19.90s/it]\u001b[A\n",
      "4it [01:20, 19.71s/it]\u001b[A\n",
      "5it [01:36, 19.30s/it]\u001b[A\n",
      " 71%|█████████████████████████████████████████████████████████████████████████▏                             | 71/100 [16:49:04<2:56:43, 365.63s/it]"
     ]
    },
    {
     "name": "stdout",
     "output_type": "stream",
     "text": [
      "Iteration: 71\n",
      "Iteration: 71 - coDeSurv - Computing the metric on D1\n"
     ]
    },
    {
     "name": "stderr",
     "output_type": "stream",
     "text": [
      "\n",
      "0it [00:00, ?it/s]\u001b[A\n",
      "1it [00:17, 17.21s/it]\u001b[A\n",
      "2it [00:33, 16.91s/it]\u001b[A\n",
      "3it [00:53, 17.93s/it]\u001b[A\n",
      "4it [01:11, 18.15s/it]\u001b[A\n",
      "5it [01:26, 17.29s/it]\u001b[A\n"
     ]
    },
    {
     "name": "stdout",
     "output_type": "stream",
     "text": [
      "Iteration: 71 - D1_DeSurv - Computing the metric on D1\n"
     ]
    },
    {
     "name": "stderr",
     "output_type": "stream",
     "text": [
      "\n",
      "0it [00:00, ?it/s]\u001b[A\n",
      "1it [00:21, 21.82s/it]\u001b[A\n",
      "2it [00:39, 19.56s/it]\u001b[A\n",
      "3it [00:59, 19.82s/it]\u001b[A\n",
      "4it [01:18, 19.29s/it]\u001b[A\n",
      "5it [01:34, 18.95s/it]\u001b[A\n"
     ]
    },
    {
     "name": "stdout",
     "output_type": "stream",
     "text": [
      "Iteration: 71 - coDeSurv - Computing the metric on D2\n"
     ]
    },
    {
     "name": "stderr",
     "output_type": "stream",
     "text": [
      "\n",
      "0it [00:00, ?it/s]\u001b[A\n",
      "1it [00:18, 18.48s/it]\u001b[A\n",
      "2it [00:36, 18.25s/it]\u001b[A\n",
      "3it [00:53, 17.54s/it]\u001b[A\n",
      "4it [01:10, 17.56s/it]\u001b[A\n",
      "5it [01:27, 17.41s/it]\u001b[A\n"
     ]
    },
    {
     "name": "stdout",
     "output_type": "stream",
     "text": [
      "Iteration: 71 - D1_DeSurv - Computing the metric on D2\n"
     ]
    },
    {
     "name": "stderr",
     "output_type": "stream",
     "text": [
      "\n",
      "0it [00:00, ?it/s]\u001b[A\n",
      "1it [00:19, 19.03s/it]\u001b[A\n",
      "2it [00:38, 19.26s/it]\u001b[A\n",
      "3it [00:57, 19.11s/it]\u001b[A\n",
      "4it [01:20, 20.54s/it]\u001b[A\n",
      "5it [01:35, 19.02s/it]\u001b[A\n",
      " 72%|██████████████████████████████████████████████████████████████████████████▏                            | 72/100 [16:55:08<2:50:18, 364.95s/it]"
     ]
    },
    {
     "name": "stdout",
     "output_type": "stream",
     "text": [
      "Iteration: 72\n",
      "Iteration: 72 - coDeSurv - Computing the metric on D1\n"
     ]
    },
    {
     "name": "stderr",
     "output_type": "stream",
     "text": [
      "\n",
      "0it [00:00, ?it/s]\u001b[A\n",
      "1it [00:19, 19.80s/it]\u001b[A\n",
      "2it [00:38, 19.07s/it]\u001b[A\n",
      "3it [00:54, 17.74s/it]\u001b[A\n",
      "4it [01:11, 17.64s/it]\u001b[A\n",
      "5it [01:25, 17.15s/it]\u001b[A\n"
     ]
    },
    {
     "name": "stdout",
     "output_type": "stream",
     "text": [
      "Iteration: 72 - D1_DeSurv - Computing the metric on D1\n"
     ]
    },
    {
     "name": "stderr",
     "output_type": "stream",
     "text": [
      "\n",
      "0it [00:00, ?it/s]\u001b[A\n",
      "1it [00:19, 19.14s/it]\u001b[A\n",
      "2it [00:36, 18.36s/it]\u001b[A\n",
      "3it [00:56, 19.11s/it]\u001b[A\n",
      "4it [01:17, 19.76s/it]\u001b[A\n",
      "5it [01:34, 18.91s/it]\u001b[A\n"
     ]
    },
    {
     "name": "stdout",
     "output_type": "stream",
     "text": [
      "Iteration: 72 - coDeSurv - Computing the metric on D2\n"
     ]
    },
    {
     "name": "stderr",
     "output_type": "stream",
     "text": [
      "\n",
      "0it [00:00, ?it/s]\u001b[A\n",
      "1it [00:17, 17.68s/it]\u001b[A\n",
      "2it [00:36, 18.37s/it]\u001b[A\n",
      "3it [00:52, 17.21s/it]\u001b[A\n",
      "4it [01:09, 17.02s/it]\u001b[A\n",
      "5it [01:27, 17.52s/it]\u001b[A\n"
     ]
    },
    {
     "name": "stdout",
     "output_type": "stream",
     "text": [
      "Iteration: 72 - D1_DeSurv - Computing the metric on D2\n"
     ]
    },
    {
     "name": "stderr",
     "output_type": "stream",
     "text": [
      "\n",
      "0it [00:00, ?it/s]\u001b[A\n",
      "1it [00:17, 17.27s/it]\u001b[A\n",
      "2it [00:36, 18.50s/it]\u001b[A\n",
      "3it [00:57, 19.65s/it]\u001b[A\n",
      "4it [01:18, 20.13s/it]\u001b[A\n",
      "5it [01:36, 19.28s/it]\u001b[A\n",
      " 73%|███████████████████████████████████████████████████████████████████████████▏                           | 73/100 [17:01:12<2:44:08, 364.76s/it]"
     ]
    },
    {
     "name": "stdout",
     "output_type": "stream",
     "text": [
      "Iteration: 73\n",
      "Iteration: 73 - coDeSurv - Computing the metric on D1\n"
     ]
    },
    {
     "name": "stderr",
     "output_type": "stream",
     "text": [
      "\n",
      "0it [00:00, ?it/s]\u001b[A\n",
      "1it [00:17, 17.42s/it]\u001b[A\n",
      "2it [00:33, 16.81s/it]\u001b[A\n",
      "3it [00:52, 17.64s/it]\u001b[A\n",
      "4it [01:09, 17.57s/it]\u001b[A\n",
      "5it [01:26, 17.30s/it]\u001b[A\n"
     ]
    },
    {
     "name": "stdout",
     "output_type": "stream",
     "text": [
      "Iteration: 73 - D1_DeSurv - Computing the metric on D1\n"
     ]
    },
    {
     "name": "stderr",
     "output_type": "stream",
     "text": [
      "\n",
      "0it [00:00, ?it/s]\u001b[A\n",
      "1it [00:20, 20.74s/it]\u001b[A\n",
      "2it [00:41, 20.98s/it]\u001b[A\n",
      "3it [00:59, 19.50s/it]\u001b[A\n",
      "4it [01:21, 20.44s/it]\u001b[A\n",
      "5it [01:34, 18.96s/it]\u001b[A\n"
     ]
    },
    {
     "name": "stdout",
     "output_type": "stream",
     "text": [
      "Iteration: 73 - coDeSurv - Computing the metric on D2\n"
     ]
    },
    {
     "name": "stderr",
     "output_type": "stream",
     "text": [
      "\n",
      "0it [00:00, ?it/s]\u001b[A\n",
      "1it [00:18, 18.19s/it]\u001b[A\n",
      "2it [00:35, 17.58s/it]\u001b[A\n",
      "3it [00:52, 17.48s/it]\u001b[A\n",
      "4it [01:11, 18.14s/it]\u001b[A\n",
      "5it [01:27, 17.51s/it]\u001b[A\n"
     ]
    },
    {
     "name": "stdout",
     "output_type": "stream",
     "text": [
      "Iteration: 73 - D1_DeSurv - Computing the metric on D2\n"
     ]
    },
    {
     "name": "stderr",
     "output_type": "stream",
     "text": [
      "\n",
      "0it [00:00, ?it/s]\u001b[A\n",
      "1it [00:14, 14.49s/it]\u001b[A\n",
      "2it [00:35, 18.26s/it]\u001b[A\n",
      "3it [00:59, 20.97s/it]\u001b[A\n",
      "4it [01:18, 20.09s/it]\u001b[A\n",
      "5it [01:36, 19.34s/it]\u001b[A\n",
      " 74%|████████████████████████████████████████████████████████████████████████████▏                          | 74/100 [17:07:18<2:38:10, 365.01s/it]"
     ]
    },
    {
     "name": "stdout",
     "output_type": "stream",
     "text": [
      "Iteration: 74\n",
      "Iteration: 74 - coDeSurv - Computing the metric on D1\n"
     ]
    },
    {
     "name": "stderr",
     "output_type": "stream",
     "text": [
      "\n",
      "0it [00:00, ?it/s]\u001b[A\n",
      "1it [00:16, 16.82s/it]\u001b[A\n",
      "2it [00:33, 16.55s/it]\u001b[A\n",
      "3it [00:50, 17.02s/it]\u001b[A\n",
      "4it [01:09, 17.78s/it]\u001b[A\n",
      "5it [01:26, 17.33s/it]\u001b[A\n"
     ]
    },
    {
     "name": "stdout",
     "output_type": "stream",
     "text": [
      "Iteration: 74 - D1_DeSurv - Computing the metric on D1\n"
     ]
    },
    {
     "name": "stderr",
     "output_type": "stream",
     "text": [
      "\n",
      "0it [00:00, ?it/s]\u001b[A\n",
      "1it [00:18, 18.78s/it]\u001b[A\n",
      "2it [00:37, 18.96s/it]\u001b[A\n",
      "3it [00:59, 20.24s/it]\u001b[A\n",
      "4it [01:20, 20.53s/it]\u001b[A\n",
      "5it [01:34, 18.87s/it]\u001b[A\n"
     ]
    },
    {
     "name": "stdout",
     "output_type": "stream",
     "text": [
      "Iteration: 74 - coDeSurv - Computing the metric on D2\n"
     ]
    },
    {
     "name": "stderr",
     "output_type": "stream",
     "text": [
      "\n",
      "0it [00:00, ?it/s]\u001b[A\n",
      "1it [00:17, 17.14s/it]\u001b[A\n",
      "2it [00:33, 16.49s/it]\u001b[A\n",
      "3it [00:53, 18.45s/it]\u001b[A\n",
      "4it [01:12, 18.49s/it]\u001b[A\n",
      "5it [01:27, 17.53s/it]\u001b[A\n"
     ]
    },
    {
     "name": "stdout",
     "output_type": "stream",
     "text": [
      "Iteration: 74 - D1_DeSurv - Computing the metric on D2\n"
     ]
    },
    {
     "name": "stderr",
     "output_type": "stream",
     "text": [
      "\n",
      "0it [00:00, ?it/s]\u001b[A\n",
      "1it [00:22, 22.04s/it]\u001b[A\n",
      "2it [00:40, 19.93s/it]\u001b[A\n",
      "3it [00:57, 18.47s/it]\u001b[A\n",
      "4it [01:20, 20.44s/it]\u001b[A\n",
      "5it [01:35, 19.19s/it]\u001b[A\n",
      " 75%|█████████████████████████████████████████████████████████████████████████████▎                         | 75/100 [17:13:22<2:32:02, 364.88s/it]"
     ]
    },
    {
     "name": "stdout",
     "output_type": "stream",
     "text": [
      "Iteration: 75\n",
      "Iteration: 75 - coDeSurv - Computing the metric on D1\n"
     ]
    },
    {
     "name": "stderr",
     "output_type": "stream",
     "text": [
      "\n",
      "0it [00:00, ?it/s]\u001b[A\n",
      "1it [00:19, 19.19s/it]\u001b[A\n",
      "2it [00:36, 18.14s/it]\u001b[A\n",
      "3it [00:53, 17.42s/it]\u001b[A\n",
      "4it [01:09, 17.08s/it]\u001b[A\n",
      "5it [01:26, 17.22s/it]\u001b[A\n"
     ]
    },
    {
     "name": "stdout",
     "output_type": "stream",
     "text": [
      "Iteration: 75 - D1_DeSurv - Computing the metric on D1\n"
     ]
    },
    {
     "name": "stderr",
     "output_type": "stream",
     "text": [
      "\n",
      "0it [00:00, ?it/s]\u001b[A\n",
      "1it [00:17, 17.65s/it]\u001b[A\n",
      "2it [00:38, 19.70s/it]\u001b[A\n",
      "3it [00:58, 19.72s/it]\u001b[A\n",
      "4it [01:17, 19.46s/it]\u001b[A\n",
      "5it [01:36, 19.30s/it]\u001b[A\n"
     ]
    },
    {
     "name": "stdout",
     "output_type": "stream",
     "text": [
      "Iteration: 75 - coDeSurv - Computing the metric on D2\n"
     ]
    },
    {
     "name": "stderr",
     "output_type": "stream",
     "text": [
      "\n",
      "0it [00:00, ?it/s]\u001b[A\n",
      "1it [00:15, 15.73s/it]\u001b[A\n",
      "2it [00:33, 16.87s/it]\u001b[A\n",
      "3it [00:51, 17.57s/it]\u001b[A\n",
      "4it [01:11, 18.51s/it]\u001b[A\n",
      "5it [01:27, 17.56s/it]\u001b[A\n"
     ]
    },
    {
     "name": "stdout",
     "output_type": "stream",
     "text": [
      "Iteration: 75 - D1_DeSurv - Computing the metric on D2\n"
     ]
    },
    {
     "name": "stderr",
     "output_type": "stream",
     "text": [
      "\n",
      "0it [00:00, ?it/s]\u001b[A\n",
      "1it [00:19, 19.92s/it]\u001b[A\n",
      "2it [00:38, 19.14s/it]\u001b[A\n",
      "3it [01:00, 20.32s/it]\u001b[A\n",
      "4it [01:19, 20.00s/it]\u001b[A\n",
      "5it [01:35, 19.17s/it]\u001b[A\n",
      " 76%|██████████████████████████████████████████████████████████████████████████████▎                        | 76/100 [17:19:28<2:26:07, 365.31s/it]"
     ]
    },
    {
     "name": "stdout",
     "output_type": "stream",
     "text": [
      "Iteration: 76\n",
      "Iteration: 76 - coDeSurv - Computing the metric on D1\n"
     ]
    },
    {
     "name": "stderr",
     "output_type": "stream",
     "text": [
      "\n",
      "0it [00:00, ?it/s]\u001b[A\n",
      "1it [00:15, 15.26s/it]\u001b[A\n",
      "2it [00:34, 17.53s/it]\u001b[A\n",
      "3it [00:52, 17.79s/it]\u001b[A\n",
      "4it [01:08, 17.08s/it]\u001b[A\n",
      "5it [01:26, 17.24s/it]\u001b[A\n"
     ]
    },
    {
     "name": "stdout",
     "output_type": "stream",
     "text": [
      "Iteration: 76 - D1_DeSurv - Computing the metric on D1\n"
     ]
    },
    {
     "name": "stderr",
     "output_type": "stream",
     "text": [
      "\n",
      "0it [00:00, ?it/s]\u001b[A\n",
      "1it [00:18, 18.54s/it]\u001b[A\n",
      "2it [00:35, 17.76s/it]\u001b[A\n",
      "3it [00:54, 18.39s/it]\u001b[A\n",
      "4it [01:16, 19.63s/it]\u001b[A\n",
      "5it [01:34, 18.94s/it]\u001b[A\n"
     ]
    },
    {
     "name": "stdout",
     "output_type": "stream",
     "text": [
      "Iteration: 76 - coDeSurv - Computing the metric on D2\n"
     ]
    },
    {
     "name": "stderr",
     "output_type": "stream",
     "text": [
      "\n",
      "0it [00:00, ?it/s]\u001b[A\n",
      "1it [00:18, 18.23s/it]\u001b[A\n",
      "2it [00:36, 18.54s/it]\u001b[A\n",
      "3it [00:55, 18.41s/it]\u001b[A\n",
      "4it [01:13, 18.20s/it]\u001b[A\n",
      "5it [01:27, 17.53s/it]\u001b[A\n"
     ]
    },
    {
     "name": "stdout",
     "output_type": "stream",
     "text": [
      "Iteration: 76 - D1_DeSurv - Computing the metric on D2\n"
     ]
    },
    {
     "name": "stderr",
     "output_type": "stream",
     "text": [
      "\n",
      "0it [00:00, ?it/s]\u001b[A\n",
      "1it [00:17, 17.84s/it]\u001b[A\n",
      "2it [00:37, 19.00s/it]\u001b[A\n",
      "3it [00:59, 20.51s/it]\u001b[A\n",
      "4it [01:17, 19.51s/it]\u001b[A\n",
      "5it [01:35, 19.15s/it]\u001b[A\n",
      " 77%|███████████████████████████████████████████████████████████████████████████████▎                       | 77/100 [17:25:33<2:19:55, 365.01s/it]"
     ]
    },
    {
     "name": "stdout",
     "output_type": "stream",
     "text": [
      "Iteration: 77\n",
      "Iteration: 77 - coDeSurv - Computing the metric on D1\n"
     ]
    },
    {
     "name": "stderr",
     "output_type": "stream",
     "text": [
      "\n",
      "0it [00:00, ?it/s]\u001b[A\n",
      "1it [00:16, 16.81s/it]\u001b[A\n",
      "2it [00:34, 17.44s/it]\u001b[A\n",
      "3it [00:53, 18.11s/it]\u001b[A\n",
      "4it [01:11, 18.06s/it]\u001b[A\n",
      "5it [01:26, 17.24s/it]\u001b[A\n"
     ]
    },
    {
     "name": "stdout",
     "output_type": "stream",
     "text": [
      "Iteration: 77 - D1_DeSurv - Computing the metric on D1\n"
     ]
    },
    {
     "name": "stderr",
     "output_type": "stream",
     "text": [
      "\n",
      "0it [00:00, ?it/s]\u001b[A\n",
      "1it [00:18, 18.58s/it]\u001b[A\n",
      "2it [00:41, 21.09s/it]\u001b[A\n",
      "3it [00:58, 19.26s/it]\u001b[A\n",
      "4it [01:17, 19.06s/it]\u001b[A\n",
      "5it [01:35, 19.00s/it]\u001b[A\n"
     ]
    },
    {
     "name": "stdout",
     "output_type": "stream",
     "text": [
      "Iteration: 77 - coDeSurv - Computing the metric on D2\n"
     ]
    },
    {
     "name": "stderr",
     "output_type": "stream",
     "text": [
      "\n",
      "0it [00:00, ?it/s]\u001b[A\n",
      "1it [00:18, 18.77s/it]\u001b[A\n",
      "2it [00:35, 17.37s/it]\u001b[A\n",
      "3it [00:53, 17.74s/it]\u001b[A\n",
      "4it [01:11, 17.91s/it]\u001b[A\n",
      "5it [01:27, 17.49s/it]\u001b[A\n"
     ]
    },
    {
     "name": "stdout",
     "output_type": "stream",
     "text": [
      "Iteration: 77 - D1_DeSurv - Computing the metric on D2\n"
     ]
    },
    {
     "name": "stderr",
     "output_type": "stream",
     "text": [
      "\n",
      "0it [00:00, ?it/s]\u001b[A\n",
      "1it [00:23, 23.12s/it]\u001b[A\n",
      "2it [00:41, 20.50s/it]\u001b[A\n",
      "3it [01:02, 20.57s/it]\u001b[A\n",
      "4it [01:19, 19.37s/it]\u001b[A\n",
      "5it [01:36, 19.24s/it]\u001b[A\n",
      " 78%|████████████████████████████████████████████████████████████████████████████████▎                      | 78/100 [17:31:38<2:13:49, 364.97s/it]"
     ]
    },
    {
     "name": "stdout",
     "output_type": "stream",
     "text": [
      "Iteration: 78\n",
      "Iteration: 78 - coDeSurv - Computing the metric on D1\n"
     ]
    },
    {
     "name": "stderr",
     "output_type": "stream",
     "text": [
      "\n",
      "0it [00:00, ?it/s]\u001b[A\n",
      "1it [00:17, 17.32s/it]\u001b[A\n",
      "2it [00:34, 17.02s/it]\u001b[A\n",
      "3it [00:52, 17.86s/it]\u001b[A\n",
      "4it [01:09, 17.46s/it]\u001b[A\n",
      "5it [01:26, 17.22s/it]\u001b[A\n"
     ]
    },
    {
     "name": "stdout",
     "output_type": "stream",
     "text": [
      "Iteration: 78 - D1_DeSurv - Computing the metric on D1\n"
     ]
    },
    {
     "name": "stderr",
     "output_type": "stream",
     "text": [
      "\n",
      "0it [00:00, ?it/s]\u001b[A\n",
      "1it [00:18, 18.61s/it]\u001b[A\n",
      "2it [00:35, 17.74s/it]\u001b[A\n",
      "3it [00:59, 20.44s/it]\u001b[A\n",
      "4it [01:18, 19.93s/it]\u001b[A\n",
      "5it [01:35, 19.05s/it]\u001b[A\n"
     ]
    },
    {
     "name": "stdout",
     "output_type": "stream",
     "text": [
      "Iteration: 78 - coDeSurv - Computing the metric on D2\n"
     ]
    },
    {
     "name": "stderr",
     "output_type": "stream",
     "text": [
      "\n",
      "0it [00:00, ?it/s]\u001b[A\n",
      "1it [00:18, 18.45s/it]\u001b[A\n",
      "2it [00:34, 17.30s/it]\u001b[A\n",
      "3it [00:51, 16.98s/it]\u001b[A\n",
      "4it [01:10, 17.64s/it]\u001b[A\n",
      "5it [01:27, 17.54s/it]\u001b[A\n"
     ]
    },
    {
     "name": "stdout",
     "output_type": "stream",
     "text": [
      "Iteration: 78 - D1_DeSurv - Computing the metric on D2\n"
     ]
    },
    {
     "name": "stderr",
     "output_type": "stream",
     "text": [
      "\n",
      "0it [00:00, ?it/s]\u001b[A\n",
      "1it [00:16, 16.26s/it]\u001b[A\n",
      "2it [00:37, 18.92s/it]\u001b[A\n",
      "3it [00:57, 19.50s/it]\u001b[A\n",
      "4it [01:18, 20.07s/it]\u001b[A\n",
      "5it [01:36, 19.21s/it]\u001b[A\n",
      " 79%|█████████████████████████████████████████████████████████████████████████████████▎                     | 79/100 [17:37:43<2:07:45, 365.00s/it]"
     ]
    },
    {
     "name": "stdout",
     "output_type": "stream",
     "text": [
      "Iteration: 79\n",
      "Iteration: 79 - coDeSurv - Computing the metric on D1\n"
     ]
    },
    {
     "name": "stderr",
     "output_type": "stream",
     "text": [
      "\n",
      "0it [00:00, ?it/s]\u001b[A\n",
      "1it [00:17, 17.42s/it]\u001b[A\n",
      "2it [00:34, 17.22s/it]\u001b[A\n",
      "3it [00:50, 16.83s/it]\u001b[A\n",
      "4it [01:09, 17.62s/it]\u001b[A\n",
      "5it [01:26, 17.24s/it]\u001b[A\n"
     ]
    },
    {
     "name": "stdout",
     "output_type": "stream",
     "text": [
      "Iteration: 79 - D1_DeSurv - Computing the metric on D1\n"
     ]
    },
    {
     "name": "stderr",
     "output_type": "stream",
     "text": [
      "\n",
      "0it [00:00, ?it/s]\u001b[A\n",
      "1it [00:19, 19.06s/it]\u001b[A\n",
      "2it [00:36, 18.34s/it]\u001b[A\n",
      "3it [00:56, 18.72s/it]\u001b[A\n",
      "4it [01:18, 20.26s/it]\u001b[A\n",
      "5it [01:34, 18.82s/it]\u001b[A\n"
     ]
    },
    {
     "name": "stdout",
     "output_type": "stream",
     "text": [
      "Iteration: 79 - coDeSurv - Computing the metric on D2\n"
     ]
    },
    {
     "name": "stderr",
     "output_type": "stream",
     "text": [
      "\n",
      "0it [00:00, ?it/s]\u001b[A\n",
      "1it [00:18, 18.81s/it]\u001b[A\n",
      "2it [00:38, 19.06s/it]\u001b[A\n",
      "3it [00:55, 18.38s/it]\u001b[A\n",
      "4it [01:13, 18.37s/it]\u001b[A\n",
      "5it [01:27, 17.50s/it]\u001b[A\n"
     ]
    },
    {
     "name": "stdout",
     "output_type": "stream",
     "text": [
      "Iteration: 79 - D1_DeSurv - Computing the metric on D2\n"
     ]
    },
    {
     "name": "stderr",
     "output_type": "stream",
     "text": [
      "\n",
      "0it [00:00, ?it/s]\u001b[A\n",
      "1it [00:18, 18.42s/it]\u001b[A\n",
      "2it [00:39, 20.14s/it]\u001b[A\n",
      "3it [01:00, 20.50s/it]\u001b[A\n",
      "4it [01:18, 19.32s/it]\u001b[A\n",
      "5it [01:36, 19.23s/it]\u001b[A\n",
      " 80%|██████████████████████████████████████████████████████████████████████████████████▍                    | 80/100 [17:43:47<2:01:33, 364.69s/it]"
     ]
    },
    {
     "name": "stdout",
     "output_type": "stream",
     "text": [
      "Iteration: 80\n",
      "Iteration: 80 - coDeSurv - Computing the metric on D1\n"
     ]
    },
    {
     "name": "stderr",
     "output_type": "stream",
     "text": [
      "\n",
      "0it [00:00, ?it/s]\u001b[A\n",
      "1it [00:19, 19.86s/it]\u001b[A\n",
      "2it [00:38, 19.37s/it]\u001b[A\n",
      "3it [00:55, 18.19s/it]\u001b[A\n",
      "4it [01:12, 17.45s/it]\u001b[A\n",
      "5it [01:26, 17.22s/it]\u001b[A\n"
     ]
    },
    {
     "name": "stdout",
     "output_type": "stream",
     "text": [
      "Iteration: 80 - D1_DeSurv - Computing the metric on D1\n"
     ]
    },
    {
     "name": "stderr",
     "output_type": "stream",
     "text": [
      "\n",
      "0it [00:00, ?it/s]\u001b[A\n",
      "1it [00:21, 21.75s/it]\u001b[A\n",
      "2it [00:42, 21.00s/it]\u001b[A\n",
      "3it [01:01, 20.40s/it]\u001b[A\n",
      "4it [01:20, 19.55s/it]\u001b[A\n",
      "5it [01:34, 18.89s/it]\u001b[A\n"
     ]
    },
    {
     "name": "stdout",
     "output_type": "stream",
     "text": [
      "Iteration: 80 - coDeSurv - Computing the metric on D2\n"
     ]
    },
    {
     "name": "stderr",
     "output_type": "stream",
     "text": [
      "\n",
      "0it [00:00, ?it/s]\u001b[A\n",
      "1it [00:18, 18.53s/it]\u001b[A\n",
      "2it [00:35, 17.65s/it]\u001b[A\n",
      "3it [00:55, 18.52s/it]\u001b[A\n",
      "4it [01:11, 17.70s/it]\u001b[A\n",
      "5it [01:27, 17.45s/it]\u001b[A\n"
     ]
    },
    {
     "name": "stdout",
     "output_type": "stream",
     "text": [
      "Iteration: 80 - D1_DeSurv - Computing the metric on D2\n"
     ]
    },
    {
     "name": "stderr",
     "output_type": "stream",
     "text": [
      "\n",
      "0it [00:00, ?it/s]\u001b[A\n",
      "1it [00:18, 18.46s/it]\u001b[A\n",
      "2it [00:38, 19.51s/it]\u001b[A\n",
      "3it [01:00, 20.65s/it]\u001b[A\n",
      "4it [01:19, 19.79s/it]\u001b[A\n",
      "5it [01:36, 19.27s/it]\u001b[A\n",
      " 81%|███████████████████████████████████████████████████████████████████████████████████▍                   | 81/100 [17:49:51<1:55:26, 364.54s/it]"
     ]
    },
    {
     "name": "stdout",
     "output_type": "stream",
     "text": [
      "Iteration: 81\n",
      "Iteration: 81 - coDeSurv - Computing the metric on D1\n"
     ]
    },
    {
     "name": "stderr",
     "output_type": "stream",
     "text": [
      "\n",
      "0it [00:00, ?it/s]\u001b[A\n",
      "1it [00:17, 17.12s/it]\u001b[A\n",
      "2it [00:35, 17.96s/it]\u001b[A\n",
      "3it [00:51, 16.93s/it]\u001b[A\n",
      "4it [01:11, 18.13s/it]\u001b[A\n",
      "5it [01:26, 17.28s/it]\u001b[A\n"
     ]
    },
    {
     "name": "stdout",
     "output_type": "stream",
     "text": [
      "Iteration: 81 - D1_DeSurv - Computing the metric on D1\n"
     ]
    },
    {
     "name": "stderr",
     "output_type": "stream",
     "text": [
      "\n",
      "0it [00:00, ?it/s]\u001b[A\n",
      "1it [00:17, 17.66s/it]\u001b[A\n",
      "2it [00:36, 18.16s/it]\u001b[A\n",
      "3it [00:55, 18.58s/it]\u001b[A\n",
      "4it [01:14, 18.82s/it]\u001b[A\n",
      "5it [01:34, 18.90s/it]\u001b[A\n"
     ]
    },
    {
     "name": "stdout",
     "output_type": "stream",
     "text": [
      "Iteration: 81 - coDeSurv - Computing the metric on D2\n"
     ]
    },
    {
     "name": "stderr",
     "output_type": "stream",
     "text": [
      "\n",
      "0it [00:00, ?it/s]\u001b[A\n",
      "1it [00:16, 16.56s/it]\u001b[A\n",
      "2it [00:34, 17.63s/it]\u001b[A\n",
      "3it [00:51, 17.24s/it]\u001b[A\n",
      "4it [01:09, 17.62s/it]\u001b[A\n",
      "5it [01:27, 17.51s/it]\u001b[A\n"
     ]
    },
    {
     "name": "stdout",
     "output_type": "stream",
     "text": [
      "Iteration: 81 - D1_DeSurv - Computing the metric on D2\n"
     ]
    },
    {
     "name": "stderr",
     "output_type": "stream",
     "text": [
      "\n",
      "0it [00:00, ?it/s]\u001b[A\n",
      "1it [00:20, 20.96s/it]\u001b[A\n",
      "2it [00:38, 19.10s/it]\u001b[A\n",
      "3it [00:57, 18.84s/it]\u001b[A\n",
      "4it [01:17, 19.34s/it]\u001b[A\n",
      "5it [01:36, 19.21s/it]\u001b[A\n",
      " 82%|████████████████████████████████████████████████████████████████████████████████████▍                  | 82/100 [17:55:55<1:49:21, 364.53s/it]"
     ]
    },
    {
     "name": "stdout",
     "output_type": "stream",
     "text": [
      "Iteration: 82\n",
      "Iteration: 82 - coDeSurv - Computing the metric on D1\n"
     ]
    },
    {
     "name": "stderr",
     "output_type": "stream",
     "text": [
      "\n",
      "0it [00:00, ?it/s]\u001b[A\n",
      "1it [00:17, 17.62s/it]\u001b[A\n",
      "2it [00:36, 18.11s/it]\u001b[A\n",
      "3it [00:53, 18.02s/it]\u001b[A\n",
      "4it [01:12, 18.10s/it]\u001b[A\n",
      "5it [01:26, 17.26s/it]\u001b[A\n"
     ]
    },
    {
     "name": "stdout",
     "output_type": "stream",
     "text": [
      "Iteration: 82 - D1_DeSurv - Computing the metric on D1\n"
     ]
    },
    {
     "name": "stderr",
     "output_type": "stream",
     "text": [
      "\n",
      "0it [00:00, ?it/s]\u001b[A\n",
      "1it [00:20, 20.51s/it]\u001b[A\n",
      "2it [00:38, 18.87s/it]\u001b[A\n",
      "3it [00:58, 19.55s/it]\u001b[A\n",
      "4it [01:16, 19.02s/it]\u001b[A\n",
      "5it [01:34, 18.95s/it]\u001b[A\n"
     ]
    },
    {
     "name": "stdout",
     "output_type": "stream",
     "text": [
      "Iteration: 82 - coDeSurv - Computing the metric on D2\n"
     ]
    },
    {
     "name": "stderr",
     "output_type": "stream",
     "text": [
      "\n",
      "0it [00:00, ?it/s]\u001b[A\n",
      "1it [00:16, 16.16s/it]\u001b[A\n",
      "2it [00:35, 17.74s/it]\u001b[A\n",
      "3it [00:54, 18.33s/it]\u001b[A\n",
      "4it [01:12, 18.40s/it]\u001b[A\n",
      "5it [01:27, 17.54s/it]\u001b[A\n"
     ]
    },
    {
     "name": "stdout",
     "output_type": "stream",
     "text": [
      "Iteration: 82 - D1_DeSurv - Computing the metric on D2\n"
     ]
    },
    {
     "name": "stderr",
     "output_type": "stream",
     "text": [
      "\n",
      "0it [00:00, ?it/s]\u001b[A\n",
      "1it [00:20, 20.60s/it]\u001b[A\n",
      "2it [00:42, 21.46s/it]\u001b[A\n",
      "3it [01:01, 20.43s/it]\u001b[A\n",
      "4it [01:18, 19.12s/it]\u001b[A\n",
      "5it [01:36, 19.28s/it]\u001b[A\n",
      " 83%|█████████████████████████████████████████████████████████████████████████████████████▍                 | 83/100 [18:02:01<1:43:20, 364.71s/it]"
     ]
    },
    {
     "name": "stdout",
     "output_type": "stream",
     "text": [
      "Iteration: 83\n",
      "Iteration: 83 - coDeSurv - Computing the metric on D1\n"
     ]
    },
    {
     "name": "stderr",
     "output_type": "stream",
     "text": [
      "\n",
      "0it [00:00, ?it/s]\u001b[A\n",
      "1it [00:16, 16.17s/it]\u001b[A\n",
      "2it [00:34, 17.57s/it]\u001b[A\n",
      "3it [00:54, 18.62s/it]\u001b[A\n",
      "4it [01:11, 17.80s/it]\u001b[A\n",
      "5it [01:26, 17.26s/it]\u001b[A\n"
     ]
    },
    {
     "name": "stdout",
     "output_type": "stream",
     "text": [
      "Iteration: 83 - D1_DeSurv - Computing the metric on D1\n"
     ]
    },
    {
     "name": "stderr",
     "output_type": "stream",
     "text": [
      "\n",
      "0it [00:00, ?it/s]\u001b[A\n",
      "1it [00:21, 21.24s/it]\u001b[A\n",
      "2it [00:41, 20.41s/it]\u001b[A\n",
      "3it [00:59, 19.31s/it]\u001b[A\n",
      "4it [01:17, 19.03s/it]\u001b[A\n",
      "5it [01:35, 19.03s/it]\u001b[A\n"
     ]
    },
    {
     "name": "stdout",
     "output_type": "stream",
     "text": [
      "Iteration: 83 - coDeSurv - Computing the metric on D2\n"
     ]
    },
    {
     "name": "stderr",
     "output_type": "stream",
     "text": [
      "\n",
      "0it [00:00, ?it/s]\u001b[A\n",
      "1it [00:17, 17.22s/it]\u001b[A\n",
      "2it [00:36, 18.51s/it]\u001b[A\n",
      "3it [00:52, 17.29s/it]\u001b[A\n",
      "4it [01:10, 17.68s/it]\u001b[A\n",
      "5it [01:27, 17.56s/it]\u001b[A\n"
     ]
    },
    {
     "name": "stdout",
     "output_type": "stream",
     "text": [
      "Iteration: 83 - D1_DeSurv - Computing the metric on D2\n"
     ]
    },
    {
     "name": "stderr",
     "output_type": "stream",
     "text": [
      "\n",
      "0it [00:00, ?it/s]\u001b[A\n",
      "1it [00:20, 20.91s/it]\u001b[A\n",
      "2it [00:40, 20.18s/it]\u001b[A\n",
      "3it [00:59, 19.61s/it]\u001b[A\n",
      "4it [01:19, 19.88s/it]\u001b[A\n",
      "5it [01:35, 19.13s/it]\u001b[A\n",
      " 84%|██████████████████████████████████████████████████████████████████████████████████████▌                | 84/100 [18:08:05<1:37:16, 364.78s/it]"
     ]
    },
    {
     "name": "stdout",
     "output_type": "stream",
     "text": [
      "Iteration: 84\n",
      "Iteration: 84 - coDeSurv - Computing the metric on D1\n"
     ]
    },
    {
     "name": "stderr",
     "output_type": "stream",
     "text": [
      "\n",
      "0it [00:00, ?it/s]\u001b[A\n",
      "1it [00:18, 18.67s/it]\u001b[A\n",
      "2it [00:35, 17.82s/it]\u001b[A\n",
      "3it [00:51, 16.63s/it]\u001b[A\n",
      "4it [01:07, 16.64s/it]\u001b[A\n",
      "5it [01:24, 16.91s/it]\u001b[A\n"
     ]
    },
    {
     "name": "stdout",
     "output_type": "stream",
     "text": [
      "Iteration: 84 - D1_DeSurv - Computing the metric on D1\n"
     ]
    },
    {
     "name": "stderr",
     "output_type": "stream",
     "text": [
      "\n",
      "0it [00:00, ?it/s]\u001b[A\n",
      "1it [00:14, 15.00s/it]\u001b[A\n",
      "2it [00:35, 18.43s/it]\u001b[A\n",
      "3it [00:54, 18.39s/it]\u001b[A\n",
      "4it [01:16, 19.96s/it]\u001b[A\n",
      "5it [01:32, 18.52s/it]\u001b[A\n"
     ]
    },
    {
     "name": "stdout",
     "output_type": "stream",
     "text": [
      "Iteration: 84 - coDeSurv - Computing the metric on D2\n"
     ]
    },
    {
     "name": "stderr",
     "output_type": "stream",
     "text": [
      "\n",
      "0it [00:00, ?it/s]\u001b[A\n",
      "1it [00:14, 14.90s/it]\u001b[A\n",
      "2it [00:33, 17.17s/it]\u001b[A\n",
      "3it [00:50, 17.03s/it]\u001b[A\n",
      "4it [01:09, 17.76s/it]\u001b[A\n",
      "5it [01:25, 17.05s/it]\u001b[A\n"
     ]
    },
    {
     "name": "stdout",
     "output_type": "stream",
     "text": [
      "Iteration: 84 - D1_DeSurv - Computing the metric on D2\n"
     ]
    },
    {
     "name": "stderr",
     "output_type": "stream",
     "text": [
      "\n",
      "0it [00:00, ?it/s]\u001b[A\n",
      "1it [00:19, 19.76s/it]\u001b[A\n",
      "2it [00:38, 19.43s/it]\u001b[A\n",
      "3it [00:57, 19.00s/it]\u001b[A\n",
      "4it [01:16, 18.96s/it]\u001b[A\n",
      "5it [01:33, 18.75s/it]\u001b[A\n",
      " 85%|███████████████████████████████████████████████████████████████████████████████████████▌               | 85/100 [18:14:02<1:30:33, 362.21s/it]"
     ]
    },
    {
     "name": "stdout",
     "output_type": "stream",
     "text": [
      "Iteration: 85\n",
      "Iteration: 85 - coDeSurv - Computing the metric on D1\n"
     ]
    },
    {
     "name": "stderr",
     "output_type": "stream",
     "text": [
      "\n",
      "0it [00:00, ?it/s]\u001b[A\n",
      "1it [00:15, 15.97s/it]\u001b[A\n",
      "2it [00:36, 18.81s/it]\u001b[A\n",
      "3it [00:52, 17.41s/it]\u001b[A\n",
      "4it [01:08, 16.93s/it]\u001b[A\n",
      "5it [01:24, 16.90s/it]\u001b[A\n"
     ]
    },
    {
     "name": "stdout",
     "output_type": "stream",
     "text": [
      "Iteration: 85 - D1_DeSurv - Computing the metric on D1\n"
     ]
    },
    {
     "name": "stderr",
     "output_type": "stream",
     "text": [
      "\n",
      "0it [00:00, ?it/s]\u001b[A\n",
      "1it [00:18, 18.27s/it]\u001b[A\n",
      "2it [00:36, 18.32s/it]\u001b[A\n",
      "3it [00:56, 18.95s/it]\u001b[A\n",
      "4it [01:14, 18.74s/it]\u001b[A\n",
      "5it [01:31, 18.36s/it]\u001b[A\n"
     ]
    },
    {
     "name": "stdout",
     "output_type": "stream",
     "text": [
      "Iteration: 85 - coDeSurv - Computing the metric on D2\n"
     ]
    },
    {
     "name": "stderr",
     "output_type": "stream",
     "text": [
      "\n",
      "0it [00:00, ?it/s]\u001b[A\n",
      "1it [00:19, 19.40s/it]\u001b[A\n",
      "2it [00:35, 17.53s/it]\u001b[A\n",
      "3it [00:52, 17.26s/it]\u001b[A\n",
      "4it [01:08, 16.82s/it]\u001b[A\n",
      "5it [01:25, 17.07s/it]\u001b[A\n"
     ]
    },
    {
     "name": "stdout",
     "output_type": "stream",
     "text": [
      "Iteration: 85 - D1_DeSurv - Computing the metric on D2\n"
     ]
    },
    {
     "name": "stderr",
     "output_type": "stream",
     "text": [
      "\n",
      "0it [00:00, ?it/s]\u001b[A\n",
      "1it [00:18, 18.57s/it]\u001b[A\n",
      "2it [00:37, 18.65s/it]\u001b[A\n",
      "3it [00:55, 18.34s/it]\u001b[A\n",
      "4it [01:17, 19.71s/it]\u001b[A\n",
      "5it [01:33, 18.68s/it]\u001b[A\n",
      " 86%|████████████████████████████████████████████████████████████████████████████████████████▌              | 86/100 [18:19:57<1:24:01, 360.08s/it]"
     ]
    },
    {
     "name": "stdout",
     "output_type": "stream",
     "text": [
      "Iteration: 86\n",
      "Iteration: 86 - coDeSurv - Computing the metric on D1\n"
     ]
    },
    {
     "name": "stderr",
     "output_type": "stream",
     "text": [
      "\n",
      "0it [00:00, ?it/s]\u001b[A\n",
      "1it [00:17, 17.55s/it]\u001b[A\n",
      "2it [00:37, 18.85s/it]\u001b[A\n",
      "3it [00:54, 18.01s/it]\u001b[A\n",
      "4it [01:10, 17.29s/it]\u001b[A\n",
      "5it [01:24, 16.84s/it]\u001b[A\n"
     ]
    },
    {
     "name": "stdout",
     "output_type": "stream",
     "text": [
      "Iteration: 86 - D1_DeSurv - Computing the metric on D1\n"
     ]
    },
    {
     "name": "stderr",
     "output_type": "stream",
     "text": [
      "\n",
      "0it [00:00, ?it/s]\u001b[A\n",
      "1it [00:17, 17.30s/it]\u001b[A\n",
      "2it [00:36, 18.49s/it]\u001b[A\n",
      "3it [00:54, 18.28s/it]\u001b[A\n",
      "4it [01:12, 18.24s/it]\u001b[A\n",
      "5it [01:32, 18.46s/it]\u001b[A\n"
     ]
    },
    {
     "name": "stdout",
     "output_type": "stream",
     "text": [
      "Iteration: 86 - coDeSurv - Computing the metric on D2\n"
     ]
    },
    {
     "name": "stderr",
     "output_type": "stream",
     "text": [
      "\n",
      "0it [00:00, ?it/s]\u001b[A\n",
      "1it [00:16, 16.96s/it]\u001b[A\n",
      "2it [00:33, 16.96s/it]\u001b[A\n",
      "3it [00:52, 17.52s/it]\u001b[A\n",
      "4it [01:08, 17.01s/it]\u001b[A\n",
      "5it [01:25, 17.10s/it]\u001b[A\n"
     ]
    },
    {
     "name": "stdout",
     "output_type": "stream",
     "text": [
      "Iteration: 86 - D1_DeSurv - Computing the metric on D2\n"
     ]
    },
    {
     "name": "stderr",
     "output_type": "stream",
     "text": [
      "\n",
      "0it [00:00, ?it/s]\u001b[A\n",
      "1it [00:21, 21.30s/it]\u001b[A\n",
      "2it [00:40, 20.27s/it]\u001b[A\n",
      "3it [00:58, 19.16s/it]\u001b[A\n",
      "4it [01:17, 19.00s/it]\u001b[A\n",
      "5it [01:33, 18.72s/it]\u001b[A\n",
      " 87%|█████████████████████████████████████████████████████████████████████████████████████████▌             | 87/100 [18:25:52<1:17:43, 358.73s/it]"
     ]
    },
    {
     "name": "stdout",
     "output_type": "stream",
     "text": [
      "Iteration: 87\n",
      "Iteration: 87 - coDeSurv - Computing the metric on D1\n"
     ]
    },
    {
     "name": "stderr",
     "output_type": "stream",
     "text": [
      "\n",
      "0it [00:00, ?it/s]\u001b[A\n",
      "1it [00:15, 15.62s/it]\u001b[A\n",
      "2it [00:32, 16.45s/it]\u001b[A\n",
      "3it [00:49, 16.86s/it]\u001b[A\n",
      "4it [01:07, 17.28s/it]\u001b[A\n",
      "5it [01:24, 16.88s/it]\u001b[A\n"
     ]
    },
    {
     "name": "stdout",
     "output_type": "stream",
     "text": [
      "Iteration: 87 - D1_DeSurv - Computing the metric on D1\n"
     ]
    },
    {
     "name": "stderr",
     "output_type": "stream",
     "text": [
      "\n",
      "0it [00:00, ?it/s]\u001b[A\n",
      "1it [00:17, 17.34s/it]\u001b[A\n",
      "2it [00:37, 19.27s/it]\u001b[A\n",
      "3it [00:54, 18.21s/it]\u001b[A\n",
      "4it [01:12, 17.90s/it]\u001b[A\n",
      "5it [01:32, 18.43s/it]\u001b[A\n"
     ]
    },
    {
     "name": "stdout",
     "output_type": "stream",
     "text": [
      "Iteration: 87 - coDeSurv - Computing the metric on D2\n"
     ]
    },
    {
     "name": "stderr",
     "output_type": "stream",
     "text": [
      "\n",
      "0it [00:00, ?it/s]\u001b[A\n",
      "1it [00:15, 15.63s/it]\u001b[A\n",
      "2it [00:34, 17.73s/it]\u001b[A\n",
      "3it [00:51, 17.27s/it]\u001b[A\n",
      "4it [01:09, 17.55s/it]\u001b[A\n",
      "5it [01:25, 17.09s/it]\u001b[A\n"
     ]
    },
    {
     "name": "stdout",
     "output_type": "stream",
     "text": [
      "Iteration: 87 - D1_DeSurv - Computing the metric on D2\n"
     ]
    },
    {
     "name": "stderr",
     "output_type": "stream",
     "text": [
      "\n",
      "0it [00:00, ?it/s]\u001b[A\n",
      "1it [00:17, 17.09s/it]\u001b[A\n",
      "2it [00:38, 19.85s/it]\u001b[A\n",
      "3it [00:56, 18.76s/it]\u001b[A\n",
      "4it [01:15, 19.10s/it]\u001b[A\n",
      "5it [01:33, 18.70s/it]\u001b[A\n",
      " 88%|██████████████████████████████████████████████████████████████████████████████████████████▋            | 88/100 [18:31:48<1:11:33, 357.76s/it]"
     ]
    },
    {
     "name": "stdout",
     "output_type": "stream",
     "text": [
      "Iteration: 88\n",
      "Iteration: 88 - coDeSurv - Computing the metric on D1\n"
     ]
    },
    {
     "name": "stderr",
     "output_type": "stream",
     "text": [
      "\n",
      "0it [00:00, ?it/s]\u001b[A\n",
      "1it [00:15, 15.69s/it]\u001b[A\n",
      "2it [00:34, 17.32s/it]\u001b[A\n",
      "3it [00:52, 17.71s/it]\u001b[A\n",
      "4it [01:09, 17.41s/it]\u001b[A\n",
      "5it [01:24, 16.90s/it]\u001b[A\n"
     ]
    },
    {
     "name": "stdout",
     "output_type": "stream",
     "text": [
      "Iteration: 88 - D1_DeSurv - Computing the metric on D1\n"
     ]
    },
    {
     "name": "stderr",
     "output_type": "stream",
     "text": [
      "\n",
      "0it [00:00, ?it/s]\u001b[A\n",
      "1it [00:19, 19.79s/it]\u001b[A\n",
      "2it [00:38, 19.07s/it]\u001b[A\n",
      "3it [00:57, 19.12s/it]\u001b[A\n",
      "4it [01:16, 19.04s/it]\u001b[A\n",
      "5it [01:32, 18.45s/it]\u001b[A\n"
     ]
    },
    {
     "name": "stdout",
     "output_type": "stream",
     "text": [
      "Iteration: 88 - coDeSurv - Computing the metric on D2\n"
     ]
    },
    {
     "name": "stderr",
     "output_type": "stream",
     "text": [
      "\n",
      "0it [00:00, ?it/s]\u001b[A\n",
      "1it [00:19, 19.18s/it]\u001b[A\n",
      "2it [00:34, 16.73s/it]\u001b[A\n",
      "3it [00:51, 17.20s/it]\u001b[A\n",
      "4it [01:11, 17.94s/it]\u001b[A\n",
      "5it [01:25, 17.06s/it]\u001b[A\n"
     ]
    },
    {
     "name": "stdout",
     "output_type": "stream",
     "text": [
      "Iteration: 88 - D1_DeSurv - Computing the metric on D2\n"
     ]
    },
    {
     "name": "stderr",
     "output_type": "stream",
     "text": [
      "\n",
      "0it [00:00, ?it/s]\u001b[A\n",
      "1it [00:20, 20.87s/it]\u001b[A\n",
      "2it [00:39, 19.49s/it]\u001b[A\n",
      "3it [00:59, 19.90s/it]\u001b[A\n",
      "4it [01:19, 19.82s/it]\u001b[A\n",
      "5it [01:33, 18.67s/it]\u001b[A\n",
      " 89%|███████████████████████████████████████████████████████████████████████████████████████████▋           | 89/100 [18:37:43<1:05:27, 357.06s/it]"
     ]
    },
    {
     "name": "stdout",
     "output_type": "stream",
     "text": [
      "Iteration: 89\n",
      "Iteration: 89 - coDeSurv - Computing the metric on D1\n"
     ]
    },
    {
     "name": "stderr",
     "output_type": "stream",
     "text": [
      "\n",
      "0it [00:00, ?it/s]\u001b[A\n",
      "1it [00:17, 17.82s/it]\u001b[A\n",
      "2it [00:34, 17.41s/it]\u001b[A\n",
      "3it [00:53, 17.96s/it]\u001b[A\n",
      "4it [01:10, 17.56s/it]\u001b[A\n",
      "5it [01:24, 16.85s/it]\u001b[A\n"
     ]
    },
    {
     "name": "stdout",
     "output_type": "stream",
     "text": [
      "Iteration: 89 - D1_DeSurv - Computing the metric on D1\n"
     ]
    },
    {
     "name": "stderr",
     "output_type": "stream",
     "text": [
      "\n",
      "0it [00:00, ?it/s]\u001b[A\n",
      "1it [00:18, 18.53s/it]\u001b[A\n",
      "2it [00:39, 19.74s/it]\u001b[A\n",
      "3it [00:58, 19.77s/it]\u001b[A\n",
      "4it [01:19, 20.19s/it]\u001b[A\n",
      "5it [01:32, 18.52s/it]\u001b[A\n"
     ]
    },
    {
     "name": "stdout",
     "output_type": "stream",
     "text": [
      "Iteration: 89 - coDeSurv - Computing the metric on D2\n"
     ]
    },
    {
     "name": "stderr",
     "output_type": "stream",
     "text": [
      "\n",
      "0it [00:00, ?it/s]\u001b[A\n",
      "1it [00:18, 18.62s/it]\u001b[A\n",
      "2it [00:36, 17.95s/it]\u001b[A\n",
      "3it [00:53, 17.48s/it]\u001b[A\n",
      "4it [01:09, 17.25s/it]\u001b[A\n",
      "5it [01:25, 17.02s/it]\u001b[A\n"
     ]
    },
    {
     "name": "stdout",
     "output_type": "stream",
     "text": [
      "Iteration: 89 - D1_DeSurv - Computing the metric on D2\n"
     ]
    },
    {
     "name": "stderr",
     "output_type": "stream",
     "text": [
      "\n",
      "0it [00:00, ?it/s]\u001b[A\n",
      "1it [00:18, 18.54s/it]\u001b[A\n",
      "2it [00:38, 19.34s/it]\u001b[A\n",
      "3it [00:57, 19.16s/it]\u001b[A\n",
      "4it [01:16, 19.30s/it]\u001b[A\n",
      "5it [01:33, 18.73s/it]\u001b[A\n",
      " 90%|██████████████████████████████████████████████████████████████████████████████████████████████▌          | 90/100 [18:43:39<59:26, 356.63s/it]"
     ]
    },
    {
     "name": "stdout",
     "output_type": "stream",
     "text": [
      "Iteration: 90\n",
      "Iteration: 90 - coDeSurv - Computing the metric on D1\n"
     ]
    },
    {
     "name": "stderr",
     "output_type": "stream",
     "text": [
      "\n",
      "0it [00:00, ?it/s]\u001b[A\n",
      "1it [00:16, 16.80s/it]\u001b[A\n",
      "2it [00:33, 16.73s/it]\u001b[A\n",
      "3it [00:51, 17.10s/it]\u001b[A\n",
      "4it [01:08, 17.09s/it]\u001b[A\n",
      "5it [01:24, 16.89s/it]\u001b[A\n"
     ]
    },
    {
     "name": "stdout",
     "output_type": "stream",
     "text": [
      "Iteration: 90 - D1_DeSurv - Computing the metric on D1\n"
     ]
    },
    {
     "name": "stderr",
     "output_type": "stream",
     "text": [
      "\n",
      "0it [00:00, ?it/s]\u001b[A\n",
      "1it [00:16, 16.08s/it]\u001b[A\n",
      "2it [00:37, 19.34s/it]\u001b[A\n",
      "3it [00:56, 19.09s/it]\u001b[A\n",
      "4it [01:14, 18.65s/it]\u001b[A\n",
      "5it [01:32, 18.43s/it]\u001b[A\n"
     ]
    },
    {
     "name": "stdout",
     "output_type": "stream",
     "text": [
      "Iteration: 90 - coDeSurv - Computing the metric on D2\n"
     ]
    },
    {
     "name": "stderr",
     "output_type": "stream",
     "text": [
      "\n",
      "0it [00:00, ?it/s]\u001b[A\n",
      "1it [00:17, 17.32s/it]\u001b[A\n",
      "2it [00:36, 18.28s/it]\u001b[A\n",
      "3it [00:52, 17.35s/it]\u001b[A\n",
      "4it [01:11, 18.06s/it]\u001b[A\n",
      "5it [01:25, 17.12s/it]\u001b[A\n"
     ]
    },
    {
     "name": "stdout",
     "output_type": "stream",
     "text": [
      "Iteration: 90 - D1_DeSurv - Computing the metric on D2\n"
     ]
    },
    {
     "name": "stderr",
     "output_type": "stream",
     "text": [
      "\n",
      "0it [00:00, ?it/s]\u001b[A\n",
      "1it [00:20, 20.26s/it]\u001b[A\n",
      "2it [00:38, 18.98s/it]\u001b[A\n",
      "3it [01:00, 20.34s/it]\u001b[A\n",
      "4it [01:16, 18.86s/it]\u001b[A\n",
      "5it [01:34, 18.90s/it]\u001b[A\n",
      " 91%|███████████████████████████████████████████████████████████████████████████████████████████████▌         | 91/100 [18:49:36<53:29, 356.65s/it]"
     ]
    },
    {
     "name": "stdout",
     "output_type": "stream",
     "text": [
      "Iteration: 91\n",
      "Iteration: 91 - coDeSurv - Computing the metric on D1\n"
     ]
    },
    {
     "name": "stderr",
     "output_type": "stream",
     "text": [
      "\n",
      "0it [00:00, ?it/s]\u001b[A\n",
      "1it [00:15, 15.06s/it]\u001b[A\n",
      "2it [00:33, 16.89s/it]\u001b[A\n",
      "3it [00:51, 17.51s/it]\u001b[A\n",
      "4it [01:08, 17.17s/it]\u001b[A\n",
      "5it [01:24, 16.91s/it]\u001b[A\n"
     ]
    },
    {
     "name": "stdout",
     "output_type": "stream",
     "text": [
      "Iteration: 91 - D1_DeSurv - Computing the metric on D1\n"
     ]
    },
    {
     "name": "stderr",
     "output_type": "stream",
     "text": [
      "\n",
      "0it [00:00, ?it/s]\u001b[A\n",
      "1it [00:17, 17.89s/it]\u001b[A\n",
      "2it [00:37, 19.07s/it]\u001b[A\n",
      "3it [00:56, 18.90s/it]\u001b[A\n",
      "4it [01:15, 19.12s/it]\u001b[A\n",
      "5it [01:32, 18.45s/it]\u001b[A\n"
     ]
    },
    {
     "name": "stdout",
     "output_type": "stream",
     "text": [
      "Iteration: 91 - coDeSurv - Computing the metric on D2\n"
     ]
    },
    {
     "name": "stderr",
     "output_type": "stream",
     "text": [
      "\n",
      "0it [00:00, ?it/s]\u001b[A\n",
      "1it [00:17, 17.27s/it]\u001b[A\n",
      "2it [00:35, 18.12s/it]\u001b[A\n",
      "3it [00:54, 18.38s/it]\u001b[A\n",
      "4it [01:08, 16.77s/it]\u001b[A\n",
      "5it [01:25, 17.14s/it]\u001b[A\n"
     ]
    },
    {
     "name": "stdout",
     "output_type": "stream",
     "text": [
      "Iteration: 91 - D1_DeSurv - Computing the metric on D2\n"
     ]
    },
    {
     "name": "stderr",
     "output_type": "stream",
     "text": [
      "\n",
      "0it [00:00, ?it/s]\u001b[A\n",
      "1it [00:18, 18.05s/it]\u001b[A\n",
      "2it [00:34, 16.84s/it]\u001b[A\n",
      "3it [00:54, 18.55s/it]\u001b[A\n",
      "4it [01:12, 18.14s/it]\u001b[A\n",
      "5it [01:33, 18.69s/it]\u001b[A\n",
      " 92%|████████████████████████████████████████████████████████████████████████████████████████████████▌        | 92/100 [18:55:32<47:31, 356.43s/it]"
     ]
    },
    {
     "name": "stdout",
     "output_type": "stream",
     "text": [
      "Iteration: 92\n",
      "Iteration: 92 - coDeSurv - Computing the metric on D1\n"
     ]
    },
    {
     "name": "stderr",
     "output_type": "stream",
     "text": [
      "\n",
      "0it [00:00, ?it/s]\u001b[A\n",
      "1it [00:16, 16.77s/it]\u001b[A\n",
      "2it [00:37, 19.24s/it]\u001b[A\n",
      "3it [00:53, 17.78s/it]\u001b[A\n",
      "4it [01:10, 17.21s/it]\u001b[A\n",
      "5it [01:24, 16.91s/it]\u001b[A\n"
     ]
    },
    {
     "name": "stdout",
     "output_type": "stream",
     "text": [
      "Iteration: 92 - D1_DeSurv - Computing the metric on D1\n"
     ]
    },
    {
     "name": "stderr",
     "output_type": "stream",
     "text": [
      "\n",
      "0it [00:00, ?it/s]\u001b[A\n",
      "1it [00:19, 19.53s/it]\u001b[A\n",
      "2it [00:38, 19.00s/it]\u001b[A\n",
      "3it [00:56, 18.72s/it]\u001b[A\n",
      "4it [01:17, 19.56s/it]\u001b[A\n",
      "5it [01:32, 18.47s/it]\u001b[A\n"
     ]
    },
    {
     "name": "stdout",
     "output_type": "stream",
     "text": [
      "Iteration: 92 - coDeSurv - Computing the metric on D2\n"
     ]
    },
    {
     "name": "stderr",
     "output_type": "stream",
     "text": [
      "\n",
      "0it [00:00, ?it/s]\u001b[A\n",
      "1it [00:17, 17.15s/it]\u001b[A\n",
      "2it [00:36, 18.16s/it]\u001b[A\n",
      "3it [00:54, 18.14s/it]\u001b[A\n",
      "4it [01:10, 17.56s/it]\u001b[A\n",
      "5it [01:25, 17.15s/it]\u001b[A\n"
     ]
    },
    {
     "name": "stdout",
     "output_type": "stream",
     "text": [
      "Iteration: 92 - D1_DeSurv - Computing the metric on D2\n"
     ]
    },
    {
     "name": "stderr",
     "output_type": "stream",
     "text": [
      "\n",
      "0it [00:00, ?it/s]\u001b[A\n",
      "1it [00:20, 20.57s/it]\u001b[A\n",
      "2it [00:40, 20.37s/it]\u001b[A\n",
      "3it [00:57, 18.86s/it]\u001b[A\n",
      "4it [01:16, 18.74s/it]\u001b[A\n",
      "5it [01:33, 18.78s/it]\u001b[A\n",
      " 93%|█████████████████████████████████████████████████████████████████████████████████████████████████▋       | 93/100 [19:01:28<41:35, 356.45s/it]"
     ]
    },
    {
     "name": "stdout",
     "output_type": "stream",
     "text": [
      "Iteration: 93\n",
      "Iteration: 93 - coDeSurv - Computing the metric on D1\n"
     ]
    },
    {
     "name": "stderr",
     "output_type": "stream",
     "text": [
      "\n",
      "0it [00:00, ?it/s]\u001b[A\n",
      "1it [00:16, 16.78s/it]\u001b[A\n",
      "2it [00:34, 17.17s/it]\u001b[A\n",
      "3it [00:52, 17.74s/it]\u001b[A\n",
      "4it [01:10, 17.85s/it]\u001b[A\n",
      "5it [01:24, 16.92s/it]\u001b[A\n"
     ]
    },
    {
     "name": "stdout",
     "output_type": "stream",
     "text": [
      "Iteration: 93 - D1_DeSurv - Computing the metric on D1\n"
     ]
    },
    {
     "name": "stderr",
     "output_type": "stream",
     "text": [
      "\n",
      "0it [00:00, ?it/s]\u001b[A\n",
      "1it [00:16, 16.86s/it]\u001b[A\n",
      "2it [00:35, 17.97s/it]\u001b[A\n",
      "3it [00:54, 18.42s/it]\u001b[A\n",
      "4it [01:17, 20.14s/it]\u001b[A\n",
      "5it [01:32, 18.48s/it]\u001b[A\n"
     ]
    },
    {
     "name": "stdout",
     "output_type": "stream",
     "text": [
      "Iteration: 93 - coDeSurv - Computing the metric on D2\n"
     ]
    },
    {
     "name": "stderr",
     "output_type": "stream",
     "text": [
      "\n",
      "0it [00:00, ?it/s]\u001b[A\n",
      "1it [00:17, 17.34s/it]\u001b[A\n",
      "2it [00:32, 16.34s/it]\u001b[A\n",
      "3it [00:49, 16.40s/it]\u001b[A\n",
      "4it [01:08, 17.49s/it]\u001b[A\n",
      "5it [01:25, 17.10s/it]\u001b[A\n"
     ]
    },
    {
     "name": "stdout",
     "output_type": "stream",
     "text": [
      "Iteration: 93 - D1_DeSurv - Computing the metric on D2\n"
     ]
    },
    {
     "name": "stderr",
     "output_type": "stream",
     "text": [
      "\n",
      "0it [00:00, ?it/s]\u001b[A\n",
      "1it [00:16, 16.72s/it]\u001b[A\n",
      "2it [00:35, 17.95s/it]\u001b[A\n",
      "3it [00:58, 20.07s/it]\u001b[A\n",
      "4it [01:17, 19.71s/it]\u001b[A\n",
      "5it [01:33, 18.71s/it]\u001b[A\n",
      " 94%|██████████████████████████████████████████████████████████████████████████████████████████████████▋      | 94/100 [19:07:24<35:37, 356.33s/it]"
     ]
    },
    {
     "name": "stdout",
     "output_type": "stream",
     "text": [
      "Iteration: 94\n",
      "Iteration: 94 - coDeSurv - Computing the metric on D1\n"
     ]
    },
    {
     "name": "stderr",
     "output_type": "stream",
     "text": [
      "\n",
      "0it [00:00, ?it/s]\u001b[A\n",
      "1it [00:15, 15.60s/it]\u001b[A\n",
      "2it [00:30, 15.48s/it]\u001b[A\n",
      "3it [00:48, 16.38s/it]\u001b[A\n",
      "4it [01:07, 17.26s/it]\u001b[A\n",
      "5it [01:24, 16.87s/it]\u001b[A\n"
     ]
    },
    {
     "name": "stdout",
     "output_type": "stream",
     "text": [
      "Iteration: 94 - D1_DeSurv - Computing the metric on D1\n"
     ]
    },
    {
     "name": "stderr",
     "output_type": "stream",
     "text": [
      "\n",
      "0it [00:00, ?it/s]\u001b[A\n",
      "1it [00:21, 21.89s/it]\u001b[A\n",
      "2it [00:39, 19.57s/it]\u001b[A\n",
      "3it [00:59, 19.75s/it]\u001b[A\n",
      "4it [01:15, 17.97s/it]\u001b[A\n",
      "5it [01:32, 18.49s/it]\u001b[A\n"
     ]
    },
    {
     "name": "stdout",
     "output_type": "stream",
     "text": [
      "Iteration: 94 - coDeSurv - Computing the metric on D2\n"
     ]
    },
    {
     "name": "stderr",
     "output_type": "stream",
     "text": [
      "\n",
      "0it [00:00, ?it/s]\u001b[A\n",
      "1it [00:17, 17.70s/it]\u001b[A\n",
      "2it [00:36, 18.16s/it]\u001b[A\n",
      "3it [00:54, 18.30s/it]\u001b[A\n",
      "4it [01:11, 17.53s/it]\u001b[A\n",
      "5it [01:25, 17.06s/it]\u001b[A\n"
     ]
    },
    {
     "name": "stdout",
     "output_type": "stream",
     "text": [
      "Iteration: 94 - D1_DeSurv - Computing the metric on D2\n"
     ]
    },
    {
     "name": "stderr",
     "output_type": "stream",
     "text": [
      "\n",
      "0it [00:00, ?it/s]\u001b[A\n",
      "1it [00:17, 17.71s/it]\u001b[A\n",
      "2it [00:37, 18.81s/it]\u001b[A\n",
      "3it [00:56, 19.03s/it]\u001b[A\n",
      "4it [01:15, 19.17s/it]\u001b[A\n",
      "5it [01:33, 18.69s/it]\u001b[A\n",
      " 95%|███████████████████████████████████████████████████████████████████████████████████████████████████▊     | 95/100 [19:13:20<29:40, 356.10s/it]"
     ]
    },
    {
     "name": "stdout",
     "output_type": "stream",
     "text": [
      "Iteration: 95\n",
      "Iteration: 95 - coDeSurv - Computing the metric on D1\n"
     ]
    },
    {
     "name": "stderr",
     "output_type": "stream",
     "text": [
      "\n",
      "0it [00:00, ?it/s]\u001b[A\n",
      "1it [00:17, 17.66s/it]\u001b[A\n",
      "2it [00:35, 17.47s/it]\u001b[A\n",
      "3it [00:51, 17.19s/it]\u001b[A\n",
      "4it [01:07, 16.78s/it]\u001b[A\n",
      "5it [01:24, 16.88s/it]\u001b[A\n"
     ]
    },
    {
     "name": "stdout",
     "output_type": "stream",
     "text": [
      "Iteration: 95 - D1_DeSurv - Computing the metric on D1\n"
     ]
    },
    {
     "name": "stderr",
     "output_type": "stream",
     "text": [
      "\n",
      "0it [00:00, ?it/s]\u001b[A\n",
      "1it [00:19, 19.08s/it]\u001b[A\n",
      "2it [00:38, 19.11s/it]\u001b[A\n",
      "3it [00:56, 18.78s/it]\u001b[A\n",
      "4it [01:16, 19.39s/it]\u001b[A\n",
      "5it [01:32, 18.46s/it]\u001b[A\n"
     ]
    },
    {
     "name": "stdout",
     "output_type": "stream",
     "text": [
      "Iteration: 95 - coDeSurv - Computing the metric on D2\n"
     ]
    },
    {
     "name": "stderr",
     "output_type": "stream",
     "text": [
      "\n",
      "0it [00:00, ?it/s]\u001b[A\n",
      "1it [00:16, 16.30s/it]\u001b[A\n",
      "2it [00:38, 19.89s/it]\u001b[A\n",
      "3it [00:55, 18.45s/it]\u001b[A\n",
      "4it [01:12, 17.77s/it]\u001b[A\n",
      "5it [01:25, 17.13s/it]\u001b[A\n"
     ]
    },
    {
     "name": "stdout",
     "output_type": "stream",
     "text": [
      "Iteration: 95 - D1_DeSurv - Computing the metric on D2\n"
     ]
    },
    {
     "name": "stderr",
     "output_type": "stream",
     "text": [
      "\n",
      "0it [00:00, ?it/s]\u001b[A\n",
      "1it [00:18, 18.08s/it]\u001b[A\n",
      "2it [00:37, 18.82s/it]\u001b[A\n",
      "3it [00:55, 18.25s/it]\u001b[A\n",
      "4it [01:16, 19.45s/it]\u001b[A\n",
      "5it [01:33, 18.75s/it]\u001b[A\n",
      " 96%|████████████████████████████████████████████████████████████████████████████████████████████████████▊    | 96/100 [19:19:16<23:44, 356.10s/it]"
     ]
    },
    {
     "name": "stdout",
     "output_type": "stream",
     "text": [
      "Iteration: 96\n",
      "Iteration: 96 - coDeSurv - Computing the metric on D1\n"
     ]
    },
    {
     "name": "stderr",
     "output_type": "stream",
     "text": [
      "\n",
      "0it [00:00, ?it/s]\u001b[A\n",
      "1it [00:17, 17.50s/it]\u001b[A\n",
      "2it [00:34, 17.17s/it]\u001b[A\n",
      "3it [00:52, 17.80s/it]\u001b[A\n",
      "4it [01:09, 17.29s/it]\u001b[A\n",
      "5it [01:24, 16.90s/it]\u001b[A\n"
     ]
    },
    {
     "name": "stdout",
     "output_type": "stream",
     "text": [
      "Iteration: 96 - D1_DeSurv - Computing the metric on D1\n"
     ]
    },
    {
     "name": "stderr",
     "output_type": "stream",
     "text": [
      "\n",
      "0it [00:00, ?it/s]\u001b[A\n",
      "1it [00:18, 18.59s/it]\u001b[A\n",
      "2it [00:38, 19.18s/it]\u001b[A\n",
      "3it [00:55, 18.14s/it]\u001b[A\n",
      "4it [01:17, 19.76s/it]\u001b[A\n",
      "5it [01:32, 18.44s/it]\u001b[A\n"
     ]
    },
    {
     "name": "stdout",
     "output_type": "stream",
     "text": [
      "Iteration: 96 - coDeSurv - Computing the metric on D2\n"
     ]
    },
    {
     "name": "stderr",
     "output_type": "stream",
     "text": [
      "\n",
      "0it [00:00, ?it/s]\u001b[A\n",
      "1it [00:17, 17.38s/it]\u001b[A\n",
      "2it [00:34, 17.48s/it]\u001b[A\n",
      "3it [00:53, 17.91s/it]\u001b[A\n",
      "4it [01:10, 17.64s/it]\u001b[A\n",
      "5it [01:25, 17.12s/it]\u001b[A\n"
     ]
    },
    {
     "name": "stdout",
     "output_type": "stream",
     "text": [
      "Iteration: 96 - D1_DeSurv - Computing the metric on D2\n"
     ]
    },
    {
     "name": "stderr",
     "output_type": "stream",
     "text": [
      "\n",
      "0it [00:00, ?it/s]\u001b[A\n",
      "1it [00:20, 20.45s/it]\u001b[A\n",
      "2it [00:39, 19.90s/it]\u001b[A\n",
      "3it [00:58, 19.19s/it]\u001b[A\n",
      "4it [01:17, 19.18s/it]\u001b[A\n",
      "5it [01:33, 18.68s/it]\u001b[A\n",
      " 97%|█████████████████████████████████████████████████████████████████████████████████████████████████████▊   | 97/100 [19:25:11<17:47, 355.99s/it]"
     ]
    },
    {
     "name": "stdout",
     "output_type": "stream",
     "text": [
      "Iteration: 97\n",
      "Iteration: 97 - coDeSurv - Computing the metric on D1\n"
     ]
    },
    {
     "name": "stderr",
     "output_type": "stream",
     "text": [
      "\n",
      "0it [00:00, ?it/s]\u001b[A\n",
      "1it [00:15, 15.45s/it]\u001b[A\n",
      "2it [00:32, 16.13s/it]\u001b[A\n",
      "3it [00:50, 17.36s/it]\u001b[A\n",
      "4it [01:09, 17.78s/it]\u001b[A\n",
      "5it [01:24, 16.87s/it]\u001b[A\n"
     ]
    },
    {
     "name": "stdout",
     "output_type": "stream",
     "text": [
      "Iteration: 97 - D1_DeSurv - Computing the metric on D1\n"
     ]
    },
    {
     "name": "stderr",
     "output_type": "stream",
     "text": [
      "\n",
      "0it [00:00, ?it/s]\u001b[A\n",
      "1it [00:18, 18.97s/it]\u001b[A\n",
      "2it [00:37, 18.94s/it]\u001b[A\n",
      "3it [00:58, 19.87s/it]\u001b[A\n",
      "4it [01:16, 19.16s/it]\u001b[A\n",
      "5it [01:32, 18.44s/it]\u001b[A\n"
     ]
    },
    {
     "name": "stdout",
     "output_type": "stream",
     "text": [
      "Iteration: 97 - coDeSurv - Computing the metric on D2\n"
     ]
    },
    {
     "name": "stderr",
     "output_type": "stream",
     "text": [
      "\n",
      "0it [00:00, ?it/s]\u001b[A\n",
      "1it [00:15, 15.98s/it]\u001b[A\n",
      "2it [00:34, 17.71s/it]\u001b[A\n",
      "3it [00:52, 17.82s/it]\u001b[A\n",
      "4it [01:11, 18.20s/it]\u001b[A\n",
      "5it [01:25, 17.10s/it]\u001b[A\n"
     ]
    },
    {
     "name": "stdout",
     "output_type": "stream",
     "text": [
      "Iteration: 97 - D1_DeSurv - Computing the metric on D2\n"
     ]
    },
    {
     "name": "stderr",
     "output_type": "stream",
     "text": [
      "\n",
      "0it [00:00, ?it/s]\u001b[A\n",
      "1it [00:18, 18.65s/it]\u001b[A\n",
      "2it [00:37, 18.57s/it]\u001b[A\n",
      "3it [00:55, 18.40s/it]\u001b[A\n",
      "4it [01:17, 19.68s/it]\u001b[A\n",
      "5it [01:33, 18.70s/it]\u001b[A\n",
      " 98%|██████████████████████████████████████████████████████████████████████████████████████████████████████▉  | 98/100 [19:31:07<11:51, 355.85s/it]"
     ]
    },
    {
     "name": "stdout",
     "output_type": "stream",
     "text": [
      "Iteration: 98\n",
      "Iteration: 98 - coDeSurv - Computing the metric on D1\n"
     ]
    },
    {
     "name": "stderr",
     "output_type": "stream",
     "text": [
      "\n",
      "0it [00:00, ?it/s]\u001b[A\n",
      "1it [00:17, 17.35s/it]\u001b[A\n",
      "2it [00:35, 17.81s/it]\u001b[A\n",
      "3it [00:51, 16.97s/it]\u001b[A\n",
      "4it [01:09, 17.40s/it]\u001b[A\n",
      "5it [01:24, 16.89s/it]\u001b[A\n"
     ]
    },
    {
     "name": "stdout",
     "output_type": "stream",
     "text": [
      "Iteration: 98 - D1_DeSurv - Computing the metric on D1\n"
     ]
    },
    {
     "name": "stderr",
     "output_type": "stream",
     "text": [
      "\n",
      "0it [00:00, ?it/s]\u001b[A\n",
      "1it [00:21, 21.78s/it]\u001b[A\n",
      "2it [00:40, 20.24s/it]\u001b[A\n",
      "3it [00:56, 17.89s/it]\u001b[A\n",
      "4it [01:15, 18.56s/it]\u001b[A\n",
      "5it [01:32, 18.45s/it]\u001b[A\n"
     ]
    },
    {
     "name": "stdout",
     "output_type": "stream",
     "text": [
      "Iteration: 98 - coDeSurv - Computing the metric on D2\n"
     ]
    },
    {
     "name": "stderr",
     "output_type": "stream",
     "text": [
      "\n",
      "0it [00:00, ?it/s]\u001b[A\n",
      "1it [00:16, 16.97s/it]\u001b[A\n",
      "2it [00:33, 16.50s/it]\u001b[A\n",
      "3it [00:50, 16.99s/it]\u001b[A\n",
      "4it [01:10, 17.90s/it]\u001b[A\n",
      "5it [01:25, 17.04s/it]\u001b[A\n"
     ]
    },
    {
     "name": "stdout",
     "output_type": "stream",
     "text": [
      "Iteration: 98 - D1_DeSurv - Computing the metric on D2\n"
     ]
    },
    {
     "name": "stderr",
     "output_type": "stream",
     "text": [
      "\n",
      "0it [00:00, ?it/s]\u001b[A\n",
      "1it [00:19, 19.43s/it]\u001b[A\n",
      "2it [00:37, 18.90s/it]\u001b[A\n",
      "3it [00:58, 19.57s/it]\u001b[A\n",
      "4it [01:18, 19.64s/it]\u001b[A\n",
      "5it [01:33, 18.75s/it]\u001b[A\n",
      " 99%|███████████████████████████████████████████████████████████████████████████████████████████████████████▉ | 99/100 [19:37:03<05:55, 355.80s/it]"
     ]
    },
    {
     "name": "stdout",
     "output_type": "stream",
     "text": [
      "Iteration: 99\n",
      "Iteration: 99 - coDeSurv - Computing the metric on D1\n"
     ]
    },
    {
     "name": "stderr",
     "output_type": "stream",
     "text": [
      "\n",
      "0it [00:00, ?it/s]\u001b[A\n",
      "1it [00:17, 17.08s/it]\u001b[A\n",
      "2it [00:33, 16.82s/it]\u001b[A\n",
      "3it [00:51, 17.47s/it]\u001b[A\n",
      "4it [01:07, 16.73s/it]\u001b[A\n",
      "5it [01:24, 16.89s/it]\u001b[A\n"
     ]
    },
    {
     "name": "stdout",
     "output_type": "stream",
     "text": [
      "Iteration: 99 - D1_DeSurv - Computing the metric on D1\n"
     ]
    },
    {
     "name": "stderr",
     "output_type": "stream",
     "text": [
      "\n",
      "0it [00:00, ?it/s]\u001b[A\n",
      "1it [00:20, 20.25s/it]\u001b[A\n",
      "2it [00:39, 19.91s/it]\u001b[A\n",
      "3it [00:59, 19.67s/it]\u001b[A\n",
      "4it [01:16, 18.68s/it]\u001b[A\n",
      "5it [01:32, 18.49s/it]\u001b[A\n"
     ]
    },
    {
     "name": "stdout",
     "output_type": "stream",
     "text": [
      "Iteration: 99 - coDeSurv - Computing the metric on D2\n"
     ]
    },
    {
     "name": "stderr",
     "output_type": "stream",
     "text": [
      "\n",
      "0it [00:00, ?it/s]\u001b[A\n",
      "1it [00:18, 18.16s/it]\u001b[A\n",
      "2it [00:35, 17.77s/it]\u001b[A\n",
      "3it [00:54, 18.05s/it]\u001b[A\n",
      "4it [01:12, 18.30s/it]\u001b[A\n",
      "5it [01:25, 17.12s/it]\u001b[A\n"
     ]
    },
    {
     "name": "stdout",
     "output_type": "stream",
     "text": [
      "Iteration: 99 - D1_DeSurv - Computing the metric on D2\n"
     ]
    },
    {
     "name": "stderr",
     "output_type": "stream",
     "text": [
      "\n",
      "0it [00:00, ?it/s]\u001b[A\n",
      "1it [00:17, 17.19s/it]\u001b[A\n",
      "2it [00:34, 17.49s/it]\u001b[A\n",
      "3it [00:53, 18.08s/it]\u001b[A\n",
      "4it [01:15, 19.38s/it]\u001b[A\n",
      "5it [01:33, 18.67s/it]\u001b[A\n",
      "100%|████████████████████████████████████████████████████████████████████████████████████████████████████████| 100/100 [19:42:59<00:00, 709.79s/it]\n"
     ]
    }
   ],
   "source": [
    "for i in tq.tqdm(range(iterations)):\n",
    "    print(f\"Iteration: {i}\")\n",
    "    for data_type in [\"D1\", \"D2\"]:\n",
    "        \n",
    "        print(f\"Iteration: {i} - coDeSurv - Computing the metric on {data_type}\")\n",
    "        models[\"coDeSurv\"][f\"consistency_{data_type}\"].append(\n",
    "            compute_timediff(model, data_loader_test, n_sample = 50, df_type = data_type, verbose = True)\n",
    "        )\n",
    "        \n",
    "        print(f\"Iteration: {i} - D1_DeSurv - Computing the metric on {data_type}\")\n",
    "        models[\"D1_DeSurv\"][f\"consistency_{data_type}\"].append(\n",
    "            compute_timediff(model_v3, data_loader_test, n_sample = 50, df_type = data_type, verbose = True)\n",
    "        )\n"
   ]
  },
  {
   "cell_type": "code",
   "execution_count": 94,
   "id": "c403dbcf",
   "metadata": {},
   "outputs": [
    {
     "name": "stdout",
     "output_type": "stream",
     "text": [
      "coDeSurv - consistency_D1\n",
      "7.4501 0.0828\n",
      "coDeSurv - consistency_D2\n",
      "24.9821 0.2328\n",
      "D1_DeSurv - consistency_D1\n",
      "16.1302 0.1304\n",
      "D1_DeSurv - consistency_D2\n",
      "29.7855 0.2828\n"
     ]
    }
   ],
   "source": [
    "for k, v in models.items():\n",
    "    for key, value in v.items():\n",
    "        print(f\"{k} - {key}\")\n",
    "        print(np.round(np.mean(value[:50]), 4), np.round(np.std(value[:50]),4))\n"
   ]
  },
  {
   "cell_type": "markdown",
   "id": "f4b99511",
   "metadata": {},
   "source": [
    "## Predictive accuracy"
   ]
  },
  {
   "cell_type": "markdown",
   "id": "ecd5a315",
   "metadata": {},
   "source": [
    "We first fix the dataset to be used for the evaluation. This is to ensure that we use the same dataset to compare both similarity and predictive accuracy of each model."
   ]
  },
  {
   "cell_type": "markdown",
   "id": "abfb8a30",
   "metadata": {},
   "source": [
    "## Likelihood"
   ]
  },
  {
   "cell_type": "code",
   "execution_count": 107,
   "id": "b5ca6a50",
   "metadata": {},
   "outputs": [],
   "source": [
    "lik_v1 = model.compute_lik(data_id_test[x_label].values, data_id_test[t_label].values, data_id_test[e_label].values)\n",
    "lik_v1_d2 = model.compute_lik(data_ood_test[x_label].values, data_ood_test[t_label].values, data_ood_test[e_label].values)"
   ]
  },
  {
   "cell_type": "code",
   "execution_count": 108,
   "id": "0f8c9ed8",
   "metadata": {},
   "outputs": [],
   "source": [
    "lik_v2 = model_v2.compute_lik(data_id_test[x_label].values, data_id_test[t_label].values, data_id_test[e_label].values)\n",
    "lik_v2_d2 = model_v2.compute_lik(data_ood_test[x_label].values, data_ood_test[t_label].values, data_ood_test[e_label].values)"
   ]
  },
  {
   "cell_type": "code",
   "execution_count": 109,
   "id": "b53e04ce",
   "metadata": {},
   "outputs": [],
   "source": [
    "lik_v3 = model_v3.compute_lik(data_id_test[x_label].values, data_id_test[t_label].values, data_id_test[e_label].values)\n",
    "lik_v3_d2 = model_v3.compute_lik(data_ood_test[x_label].values, data_ood_test[t_label].values, data_ood_test[e_label].values)"
   ]
  },
  {
   "cell_type": "code",
   "execution_count": 110,
   "id": "93c74c14",
   "metadata": {},
   "outputs": [
    {
     "name": "stdout",
     "output_type": "stream",
     "text": [
      "Predictive accuracy: log-likelihood\n",
      "Dataset: D1\n",
      "D1: Consistent DeSurv: -5.56215238571167, DeSurv (D1 & D2): -2.147939920425415, DeSurv (D1): -7.948879718780518\n"
     ]
    }
   ],
   "source": [
    "print(\"Predictive accuracy: log-likelihood\")\n",
    "print(\"Dataset: D1\")\n",
    "print(f\"D1: Consistent DeSurv: {lik_v1}, DeSurv (D1 & D2): {lik_v2}, DeSurv (D1): {lik_v3}\")"
   ]
  },
  {
   "cell_type": "code",
   "execution_count": 111,
   "id": "001a5a29",
   "metadata": {},
   "outputs": [
    {
     "name": "stdout",
     "output_type": "stream",
     "text": [
      "Predictive accuracy: log-likelihood\n",
      "Dataset: D2\n",
      "D1: Consistent DeSurv: -6.077365398406982, DeSurv (D1 & D2): -1.0702356100082397, DeSurv (D1): -7.182504653930664\n"
     ]
    }
   ],
   "source": [
    "print(\"Predictive accuracy: log-likelihood\")\n",
    "print(\"Dataset: D2\")\n",
    "print(f\"D1: Consistent DeSurv: {lik_v1_d2}, DeSurv (D1 & D2): {lik_v2_d2}, DeSurv (D1): {lik_v3_d2}\")"
   ]
  },
  {
   "cell_type": "code",
   "execution_count": 112,
   "id": "7a4d52e1",
   "metadata": {},
   "outputs": [
    {
     "data": {
      "text/plain": [
       "(-5.726801521106317, -6.7750116305129495)"
      ]
     },
     "execution_count": 112,
     "metadata": {},
     "output_type": "execute_result"
    }
   ],
   "source": [
    "aft.score(data_id_test[[t_label] + [e_label] + x_label]), aft.score(data_ood_test[[t_label] + [e_label] + x_label])"
   ]
  },
  {
   "cell_type": "markdown",
   "id": "51a1b436",
   "metadata": {},
   "source": [
    "## C-index"
   ]
  },
  {
   "cell_type": "code",
   "execution_count": 113,
   "id": "de5c2cba",
   "metadata": {},
   "outputs": [],
   "source": [
    "def compute_cidx( model_name, df ):\n",
    "    res = 0\n",
    "    if model_name == \"baseline\":\n",
    "        res = concordance_index_censored(df[\"Censor\"] == 1.0, df[\"Duration\"], -aft.predict_median(df))\n",
    "    \n",
    "    elif model_name == \"coDeSurv\":\n",
    "        res = concordance_index_censored(df[\"Censor\"] == 1.0, \n",
    "                           df[\"Duration\"], -predict_cif(model, df).detach().numpy())\n",
    "    elif model_name == \"DeSurv\":\n",
    "        res = concordance_index_censored( df[\"Censor\"] == 1.0, \n",
    "                           df[\"Duration\"], -predict_cif(model_v2, df).detach().numpy())\n",
    "    else:\n",
    "        res = concordance_index_censored(df[\"Censor\"] == 1.0, \n",
    "                           df[\"Duration\"], -predict_cif(model_v3, df).detach().numpy())\n",
    "    \n",
    "    return res"
   ]
  },
  {
   "cell_type": "code",
   "execution_count": 114,
   "id": "311e95fd",
   "metadata": {},
   "outputs": [],
   "source": [
    "def show_cidx(model_name):\n",
    "    cidx_d1, cidx_d2 = compute_cidx(model_name, data_id_test), compute_cidx(model_name, data_ood_test)\n",
    "    \n",
    "    print(f\"{model_name}\")\n",
    "    print(f\"D1: {cidx_d1[0]}, D2: {cidx_d2[0]} \\n\")"
   ]
  },
  {
   "cell_type": "code",
   "execution_count": 115,
   "id": "65191e12",
   "metadata": {},
   "outputs": [
    {
     "name": "stdout",
     "output_type": "stream",
     "text": [
      "Predictive accuracy: c-index\n",
      "baseline\n",
      "D1: 0.7871732146541307, D2: 0.6639752513534416 \n",
      "\n",
      "coDeSurv\n",
      "D1: 0.8555070883315158, D2: 0.900123743232792 \n",
      "\n",
      "DeSurv\n",
      "D1: 0.5997671608358631, D2: 0.7638051044083527 \n",
      "\n",
      "D1_DeSurv\n",
      "D1: 0.8518671343098824, D2: 0.8491260634184068 \n",
      "\n"
     ]
    }
   ],
   "source": [
    "print(\"Predictive accuracy: c-index\")\n",
    "\n",
    "for model_name in [\"baseline\", \"coDeSurv\", \"DeSurv\", \"D1_DeSurv\"]:\n",
    "    show_cidx(model_name)"
   ]
  },
  {
   "cell_type": "markdown",
   "id": "b42b12e3",
   "metadata": {},
   "source": [
    "## multiple runs"
   ]
  },
  {
   "cell_type": "code",
   "execution_count": null,
   "id": "b8f942e5",
   "metadata": {},
   "outputs": [],
   "source": []
  },
  {
   "cell_type": "code",
   "execution_count": null,
   "id": "ca69c88c",
   "metadata": {},
   "outputs": [],
   "source": [
    "models = {\"coDeSurv\":defaultdict(list), \"D1_DeSurv\":defaultdict(list)}\n",
    "iterations = 1"
   ]
  },
  {
   "cell_type": "code",
   "execution_count": null,
   "id": "b7d30a7c",
   "metadata": {},
   "outputs": [],
   "source": [
    "n_epochs = 1\n",
    "\n",
    "for i in tq.tqdm(range(iterations)):\n",
    "    for model_name in models.keys():\n",
    "        \n",
    "        # First, train each model\n",
    "        if model_name == \"coDeSurv\":\n",
    "            model = ConsistentDeSurv(\n",
    "            lr, xdim, hidden_dim, baseline=aft, nonlinearity=nn.ReLU, device=\"cpu\", n=15, df_columns = x_label\n",
    "            )\n",
    "            \n",
    "            model.optimize(\n",
    "            data_loader_train,\n",
    "            n_sample=50,\n",
    "            n_epochs=n_epochs,\n",
    "            logging_freq=1,\n",
    "            data_loader_val=data_loader_val,\n",
    "            max_wait=20,\n",
    "            pretrain_epochs = 0,\n",
    "            verbose=True,\n",
    "            )\n",
    "\n",
    "        if model_name == \"D1_DeSurv\":\n",
    "            model = DeSurv(\n",
    "                lr, xdim, hidden_dim, baseline=aft, nonlinearity=nn.ReLU, device=\"cpu\", n=15, df_columns = x_label\n",
    "            )\n",
    " \n",
    "            model.optimize(\n",
    "            data_loader_train_d1,\n",
    "            n_sample=50,\n",
    "            n_epochs=n_epochs,\n",
    "            logging_freq=1,\n",
    "            data_loader_val=data_loader_val_d1,\n",
    "            max_wait=20,\n",
    "            )\n",
    "        \n",
    "        \n",
    "        # Second, evaluate each model.\n",
    "        # Consistency\n",
    "        consis_d1 = compute_timediff(model, data_loader_test, n_sample = 50, df_type = \"D1\", verbose = True)\n",
    "        models[model_name][\"consistency_d1\"].append(consis_d1)\n",
    "        \n",
    "        consis_d2 = compute_timediff(model, data_loader_test, n_sample = 50, df_type = \"D2\", verbose = True)\n",
    "        models[model_name][\"consistency_d2\"].append(consis_d2)\n",
    "        \n",
    "        # C-index\n",
    "        \n",
    "        cidx_d1 = concordance_index_censored(data_id_test[\"Censor\"] == 1.0, \n",
    "                           data_id_test[\"Duration\"], -predict_cif(model, data_id_test).detach().numpy())\n",
    "        \n",
    "        models[model_name][\"cidx_d1\"].append(cidx_d1)\n",
    "        \n",
    "        cidx_d2 = concordance_index_censored(data_ood_test[\"Censor\"] == 1.0, \n",
    "                           data_ood_test[\"Duration\"], -predict_cif(model, data_ood_test).detach().numpy())\n",
    "        \n",
    "        models[model_name][\"cidx_d2\"].append(cidx_d2)\n",
    "        \n",
    "        \n",
    "        # Likelihood\n",
    "        lik_d1 = model.compute_lik(data_id_test[x_label].values, data_id_test[t_label].values, data_id_test[e_label].values)\n",
    "        models[model_name][\"lik_d1\"].append(lik_d1)\n",
    "        \n",
    "        lik_d2 = model.compute_lik(data_ood_test[x_label].values, data_ood_test[t_label].values, data_ood_test[e_label].values)\n",
    "        models[model_name][\"lik_d2\"].append(lik_d2)\n",
    "        \n",
    "    "
   ]
  },
  {
   "cell_type": "code",
   "execution_count": null,
   "id": "27cfebbf",
   "metadata": {},
   "outputs": [],
   "source": []
  },
  {
   "cell_type": "markdown",
   "id": "7a5f39a5",
   "metadata": {},
   "source": [
    "## Qualitative Assessment: visualise the predicted survival curves across different models"
   ]
  },
  {
   "cell_type": "code",
   "execution_count": 151,
   "id": "e5fa3ff0",
   "metadata": {},
   "outputs": [],
   "source": [
    "def gather_predictions( df, method ):\n",
    "    baseline_surv = aft.predict_survival_function(df, times = np.linspace(0, 2, 200))\n",
    "    surv = method.predict_surv_df(torch.tensor(df[x_label].values, dtype=torch.float32).clone().detach(),\n",
    "                        np.linspace(0, 2, 200))\n",
    "    \n",
    "    return baseline_surv, surv\n",
    "\n",
    "def plot_surv(baseline_surv, surv, df, idx, model_name = \"DeSurv\"):\n",
    "    \n",
    "    plt.plot(surv.iloc[:, idx], label = model_name)\n",
    "    plt.plot(baseline_surv.iloc[:, idx], color = 'grey', label = \"Baseline\")\n",
    "    \n",
    "#     plt.axvline(df[\"Duration\"].iloc[idx], label = \"Censor: %d\" % df[\"Censor\"].iloc[idx], color = 'black')\n",
    "    plt.legend()\n",
    "    plt.xlabel(\"Durations\")\n",
    "    plt.ylabel(\"Survival Probabilities\")\n",
    "    plt.show()\n",
    "\n",
    "def plot_surv_joint(baseline_surv, joint_survs, df, idx, figsize = (8, 5)):\n",
    "    \n",
    "    plt.figure(figsize = figsize)\n",
    "    colors = sns.color_palette(\"hls\", len(joint_survs))\n",
    "    for i, (model_name, model) in enumerate(joint_survs.items()):\n",
    "        plt.plot(model.iloc[:, idx], color = colors[i], label = model_name)\n",
    "    \n",
    "    plt.plot(baseline_surv.iloc[:, idx], color = 'grey', label = \"Baseline\")\n",
    "    \n",
    "#     plt.axvline(df[\"Duration\"].iloc[idx], label = \"Censor: %d\" % df[\"Censor\"].iloc[idx], color = 'black')\n",
    "    plt.legend()\n",
    "    plt.xlabel(\"Durations\")\n",
    "    plt.ylabel(\"Survival Probabilities\")\n",
    "    plt.savefig(\"images/traj_simulated\", dpi = 400)\n",
    "    plt.show()"
   ]
  },
  {
   "cell_type": "code",
   "execution_count": 117,
   "id": "3426b91a",
   "metadata": {},
   "outputs": [
    {
     "name": "stderr",
     "output_type": "stream",
     "text": [
      "/Users/woojungkim/Documents/2024/Oxford/code/Continuous-Predictions/experiments/model/coDeSurv.py:198: UserWarning: To copy construct from a tensor, it is recommended to use sourceTensor.clone().detach() or sourceTensor.clone().detach().requires_grad_(True), rather than torch.tensor(sourceTensor).\n",
      "  x_ = torch.tensor(np.repeat(x_test, [t_eval.size] * x_test.shape[0], axis=0), dtype=torch.float32)\n",
      "/Users/woojungkim/Documents/2024/Oxford/code/Continuous-Predictions/experiments/model/DeSurv.py:196: UserWarning: To copy construct from a tensor, it is recommended to use sourceTensor.clone().detach() or sourceTensor.clone().detach().requires_grad_(True), rather than torch.tensor(sourceTensor).\n",
      "  x_ = torch.tensor(np.repeat(x_test, [t_eval.size] * x_test.shape[0], axis=0), dtype=torch.float32)\n",
      "/Users/woojungkim/Documents/2024/Oxford/code/Continuous-Predictions/experiments/model/DeSurv.py:196: UserWarning: To copy construct from a tensor, it is recommended to use sourceTensor.clone().detach() or sourceTensor.clone().detach().requires_grad_(True), rather than torch.tensor(sourceTensor).\n",
      "  x_ = torch.tensor(np.repeat(x_test, [t_eval.size] * x_test.shape[0], axis=0), dtype=torch.float32)\n"
     ]
    }
   ],
   "source": [
    "d1_baseline_surv, d1_surv = gather_predictions(d1_data, model)\n",
    "d1_baseline_surv_v2, d1_surv_v2 = gather_predictions(d1_data, model_v2)\n",
    "d1_baseline_surv_v3, d1_surv_v3 = gather_predictions(d1_data, model_v3)"
   ]
  },
  {
   "cell_type": "code",
   "execution_count": 118,
   "id": "2f48c859",
   "metadata": {},
   "outputs": [],
   "source": [
    "d1_joint_surv = {\"coDeSurv\": d1_surv, \"d1_DeSurv\": d1_surv_v3}"
   ]
  },
  {
   "cell_type": "code",
   "execution_count": 119,
   "id": "04ba3e4a",
   "metadata": {},
   "outputs": [
    {
     "name": "stderr",
     "output_type": "stream",
     "text": [
      "/Users/woojungkim/Documents/2024/Oxford/code/Continuous-Predictions/experiments/model/coDeSurv.py:198: UserWarning: To copy construct from a tensor, it is recommended to use sourceTensor.clone().detach() or sourceTensor.clone().detach().requires_grad_(True), rather than torch.tensor(sourceTensor).\n",
      "  x_ = torch.tensor(np.repeat(x_test, [t_eval.size] * x_test.shape[0], axis=0), dtype=torch.float32)\n",
      "/Users/woojungkim/Documents/2024/Oxford/code/Continuous-Predictions/experiments/model/DeSurv.py:196: UserWarning: To copy construct from a tensor, it is recommended to use sourceTensor.clone().detach() or sourceTensor.clone().detach().requires_grad_(True), rather than torch.tensor(sourceTensor).\n",
      "  x_ = torch.tensor(np.repeat(x_test, [t_eval.size] * x_test.shape[0], axis=0), dtype=torch.float32)\n",
      "/Users/woojungkim/Documents/2024/Oxford/code/Continuous-Predictions/experiments/model/DeSurv.py:196: UserWarning: To copy construct from a tensor, it is recommended to use sourceTensor.clone().detach() or sourceTensor.clone().detach().requires_grad_(True), rather than torch.tensor(sourceTensor).\n",
      "  x_ = torch.tensor(np.repeat(x_test, [t_eval.size] * x_test.shape[0], axis=0), dtype=torch.float32)\n"
     ]
    }
   ],
   "source": [
    "d2_baseline_surv, d2_surv = gather_predictions(d2_data, model)\n",
    "d2_baseline_surv_v2, d2_surv_v2 = gather_predictions(d2_data, model_v2)\n",
    "d2_baseline_surv_v3, d2_surv_v3 = gather_predictions(d2_data, model_v3)"
   ]
  },
  {
   "cell_type": "code",
   "execution_count": 120,
   "id": "52399966",
   "metadata": {},
   "outputs": [],
   "source": [
    "d2_joint_surv = {\"coDeSurv\": d2_surv, \"d1_DeSurv\": d2_surv_v3}"
   ]
  },
  {
   "cell_type": "code",
   "execution_count": 121,
   "id": "8c5635ab",
   "metadata": {},
   "outputs": [
    {
     "data": {
      "image/png": "[encoded data removed]",
      "text/plain": [
       "<Figure size 576x360 with 1 Axes>"
      ]
     },
     "metadata": {
      "needs_background": "light"
     },
     "output_type": "display_data"
    }
   ],
   "source": [
    "plot_surv_joint(d1_baseline_surv, d1_joint_surv, d1_data, 8)"
   ]
  },
  {
   "cell_type": "code",
   "execution_count": 122,
   "id": "3ae22be0",
   "metadata": {},
   "outputs": [
    {
     "data": {
      "image/png": "[encoded data removed]",
      "text/plain": [
       "<Figure size 576x360 with 1 Axes>"
      ]
     },
     "metadata": {
      "needs_background": "light"
     },
     "output_type": "display_data"
    }
   ],
   "source": [
    "plot_surv_joint(d2_baseline_surv, d2_joint_surv, d2_data, 3)"
   ]
  },
  {
   "cell_type": "code",
   "execution_count": 123,
   "id": "96761f64",
   "metadata": {},
   "outputs": [
    {
     "data": {
      "image/png": "[encoded data removed]",
      "text/plain": [
       "<Figure size 576x360 with 1 Axes>"
      ]
     },
     "metadata": {
      "needs_background": "light"
     },
     "output_type": "display_data"
    }
   ],
   "source": [
    "plot_surv_joint(d2_baseline_surv, d2_joint_surv, data_ood_test, 25)"
   ]
  },
  {
   "cell_type": "code",
   "execution_count": 143,
   "id": "4aedb0bd",
   "metadata": {},
   "outputs": [],
   "source": [
    "coDeSurv_D3_df = pd.read_csv('data/sim_trajectory_d3.json', index_col = 0)"
   ]
  },
  {
   "cell_type": "code",
   "execution_count": 152,
   "id": "542b2e2e",
   "metadata": {},
   "outputs": [],
   "source": [
    "d2_joint_surv = {\"coDeSurv*\": d2_surv, \"DeSurv\": d2_surv_v3, \"coDeSurv\": coDeSurv_D3_df}"
   ]
  },
  {
   "cell_type": "code",
   "execution_count": 157,
   "id": "4be67c71",
   "metadata": {},
   "outputs": [
    {
     "data": {
      "image/png": "[encoded data removed]",
      "text/plain": [
       "<Figure size 504x360 with 1 Axes>"
      ]
     },
     "metadata": {
      "needs_background": "light"
     },
     "output_type": "display_data"
    }
   ],
   "source": [
    "plot_surv_joint(d2_baseline_surv, d2_joint_surv, data_ood_test, 21, figsize = (7, 5))"
   ]
  },
  {
   "cell_type": "code",
   "execution_count": null,
   "id": "ce984115",
   "metadata": {},
   "outputs": [],
   "source": []
  }
 ],
 "metadata": {
  "kernelspec": {
   "display_name": "Python 3 (ipykernel)",
   "language": "python",
   "name": "python3"
  },
  "language_info": {
   "codemirror_mode": {
    "name": "ipython",
    "version": 3
   },
   "file_extension": ".py",
   "mimetype": "text/x-python",
   "name": "python",
   "nbconvert_exporter": "python",
   "pygments_lexer": "ipython3",
   "version": "3.9.16"
  }
 },
 "nbformat": 4,
 "nbformat_minor": 5
}
