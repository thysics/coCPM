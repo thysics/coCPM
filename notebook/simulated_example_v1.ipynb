{
 "cells": [
  {
   "cell_type": "markdown",
   "id": "8af6f1be",
   "metadata": {},
   "source": [
    "## Purpose\n",
    "\n",
    "This notebook considers simluated example as in EX05. Here, we train coDeSurv with simulated ***out-of-distribution*** dataset (OOD). We define OOD as a set of covariates drawn from H1 whose pdf value is below 1% of the total sample (#10,000). \n",
    "\n",
    "\n",
    "## Covariates\n",
    "We have a 2-dimensional covariate vector $\\mathbf{x} = [x_1, x_2]$. The first three covariates, $x_1$, $x_2$ are drawn from a bivariate normal distribution.\n",
    "\n",
    "- In **dataset H1**\n",
    "$$\\mathbf{x} \\sim \\text{Normal}(\\mathbf{0}, I)$$\n",
    "\n",
    "\n",
    "### Dataset\n",
    "\n",
    "Given $\\mathbf{x}_{i} \\sim \\text{H1}$, we categorize them into two datasets:\n",
    "\n",
    "- **In-distribution dataset (ID)**\n",
    "    $$\n",
    "    \\{\\mathbf{x}_{i} \\mid p_{H1}(x_i) > \\alpha\\}\n",
    "    $$\n",
    "\n",
    "- **Out-of-distribution dataset (OOD)**\n",
    "    $$\n",
    "    \\{\\mathbf{x}_{i} \\mid p_{H1}(x_i) \\leq \\alpha\\}\n",
    "    $$\n",
    "\n",
    "where $p_{H1}(\\cdot)$ denotes probability density function (pdf) of (standard) bivariate normal as in H1, and $\\alpha = P_{(0.01)}$, such that $P_{\\beta}$ is defined as the $\\beta$-quantile of the PDF of each covariate $x_{i} \\sim \\text{H1}$. Specifically, $D_{\\beta}$ is the value for which:\n",
    "\n",
    "$$\n",
    "P(p_{H1}(x) \\leq P_{\\beta}) = \\beta \\quad \\forall \\mathbf{x} \\sim P_{H1}\n",
    "$$\n",
    "\n",
    "In other words, the in-distribution dataset contains samples that likely to occur under covariate distribution H1, while the out-of-distribution dataset contains samples that rarely occur under H1.\n",
    "\n",
    "### Data Generating Processes (DGP)\n",
    "\n",
    "Given covariates, we generate time-to-event ($t$), following DGP:\n",
    "\n",
    "- **DGP: G**\n",
    "    $$ \\ln Y = \\sum_{j=1}^{2}w_{2j}x_{j} + w_{23}x_{1}x_{2} + w_{24}(x_{1} + x_{2} - 0.5)^{2} + \\frac{Z}{3}, \\quad Z \\sim \\text{Gumbel}(0, 1)$$\n",
    "    \n",
    "    - Here, the weights $\\mathbf{w}_{2} = [0.2, 0.15, -0.1, -0.1]$.\n",
    "    \n",
    "## Methods\n",
    "\n",
    "### Training & Test set\n",
    "\n",
    "For training, we use the following dataset:\n",
    "\n",
    "- ID_Train (D1): $\\{t_{i}, \\mathbf{x}_{i}\\}_{i=1}^{1000}$ such that $t \\sim G(\\mathbf{x})$, $\\mathbf{x} \\sim P_{H1}$\n",
    "- OOD_Train (D2): $\\{t_{i}, \\mathbf{x}_{i}: P_{H1}(\\mathbf{x}_{i}) \\leq P_{0.05}\\}_{i=1}^{86}$ such that $t \\sim G(\\mathbf{x})$, $\\mathbf{x} \\sim P_{H2}$,\n",
    "\n",
    "\n",
    "For testing, we use the test set created in EX05.\n",
    "\n",
    "### Models\n",
    "\n",
    "We train four models: the AFT Weibull model (AFT), DeSurv with consistency constraint (coDeSurv) and DeSurvs each of which is trained on D1 (D1_DeSurv) and D1&2 (DeSurv).\n",
    "\n",
    "Note that:\n",
    "\n",
    "\t1.The AFT model is trained using only D1.\n",
    "    2.DeSurv is trained trained on D1.\n",
    "\t3.coDeSurv is trained on both D1 (and D2).\n",
    "\n",
    "### Training\n",
    "\n",
    "To train coDeSurv, we carry out stochastic gradient descent using Adam to minimise the objective consisting of likelihood and (consistency) regularisation term:\n",
    "\n",
    "$$\\Big[\\sum_{i: s_{i} = 1}\\log p_{\\boldsymbol{\\theta}}(t_i|\\mathbf{x}_i) + \\sum_{i: s_i = 0}(\\log (1- F_{\\boldsymbol{\\theta}}(t_{i}|\\mathbf{x}_i))\\Big] + \\Big[\\mathbb{E}_{\\mathbf{x} \\sim {\\mathcal X_{D2}}} \\mathbb{E}_{t \\sim p_{\\boldsymbol{\\theta}}(t)} [ (F_\\theta(t|\\mathbf{x}) - \\hat{F}(t|\\mathbf{x}) )^2  ]\\Big]$$\n",
    "\n",
    "where $s \\in \\{0, 1\\}$ denotes time-to-event indicator. The gradient of the regularisation term is estimated using the Score function estimator. \n",
    "\n",
    "Hyperparameters are set as follows: the number of epochs (300), the network architecture (1-hidden layer with 8 hidden units), and learning rate (0.001). When training coDeSurv, we pre-train the model for 20 epochs without regularisation term, and then introduce it to the training objective afterward.\n",
    "\n",
    "### Evaluation\n",
    "\n",
    "We test each model's predictive performance and consistency based on the test set (D1* and D2*). Predictive performance is measured in terms of log-likelihood and concordance index. The consistency is computed based on a Monte Carlo estimate of the following quantity: \n",
    "\n",
    "$$\\mathbb{E}_{\\mathbf{x} \\sim {\\mathcal X}} \\mathbb{E}_{t \\sim p_{\\theta}(t)} [ (F_\\theta(t|\\mathbf{x}) - \\hat{F}(t|\\mathbf{x}) )^2  ]$$\n",
    "\n",
    "where $\\mathcal X \\in \\{\\mathcal X_{D1*}, \\mathcal X_{D2*}\\}$\n",
    "\n",
    "## Outcome\n",
    "\n",
    "This notebook demonstrates that:\n",
    "\n",
    "\t1. coDeSurv's predicted survival curves are closer to the baseline model than D1_DeSurv on both D1 and D2.\n",
    "    2. In D1, DeSurv (D1 & D2) results in a closer prediction than coDeSurv.\n",
    "    3. DeSurv (D1 & D2) results in the best predictive performance in terms of LIK and C-index.\n",
    "    \n",
    "    \n",
    "\n",
    "## Appendix\n",
    "\n",
    "- **DGP G1**\n",
    "    $$ \\ln Y = \\sum_{j=1}^{2} w_{1j} x_j + \\frac{Z}{3}, \\quad Z \\sim \\text{Gumbel}(0, 1) $$\n",
    "    \n",
    "    - Here, the weights $\\mathbf{w}_1 = [0.2, 0.15]$.\n",
    "\n",
    "**Note: In the end, we didn't simulate time-to-events from G1. Given t ~ G1, baseline model's predictive performance is more accurate in D2 than D1 even if it is trained only on D1.**"
   ]
  },
  {
   "cell_type": "code",
   "execution_count": 1,
   "id": "0b0db56d",
   "metadata": {},
   "outputs": [],
   "source": [
    "import numpy as np\n",
    "import torch\n",
    "import torch.nn as nn\n",
    "import pandas as pd\n",
    "import matplotlib.pylab as plt\n",
    "import seaborn as sns\n",
    "import tqdm as tq\n",
    "import pickle\n",
    "\n",
    "\n",
    "from sklearn.model_selection import train_test_split\n",
    "from scipy.stats import multivariate_normal\n",
    "from torch.utils.data import TensorDataset, DataLoader\n",
    "from torch.nn.functional import softplus, softmax\n",
    "\n",
    "\n",
    "from torch.distributions import Distribution\n",
    "from scipy.optimize import root_scalar\n",
    "\n",
    "from lifelines import WeibullAFTFitter, KaplanMeierFitter\n",
    "\n",
    "from sksurv.metrics import concordance_index_censored\n",
    "\n",
    "from typing import Union, List, Tuple\n",
    "\n",
    "from model.coDeSurv import ConsistentDeSurv\n",
    "from model.DeSurv import DeSurv\n",
    "from model.utils import F_theta"
   ]
  },
  {
   "cell_type": "markdown",
   "id": "9ad67477",
   "metadata": {},
   "source": [
    "## Simulating data"
   ]
  },
  {
   "cell_type": "code",
   "execution_count": 2,
   "id": "87ac6819",
   "metadata": {},
   "outputs": [],
   "source": [
    "class DGP:\n",
    "    \"\"\"\n",
    "    Weibull Accelerated Failure Time (AFT) model for generating synthetic data.\n",
    "\n",
    "    Methods:\n",
    "        gumbel_samples(N: int) -> np.ndarray:\n",
    "            Generate Gumbel(0,1) samples.\n",
    "        \n",
    "        generate_ood(X: np.ndarray, k: float, weights: np.ndarray, censoring_rate: float = 0.0) -> Tuple[np.ndarray, np.ndarray]:\n",
    "            Generate out-of-distribution (OOD) data.\n",
    "        \n",
    "        generate_indist(X: np.ndarray, k: float, weights: np.ndarray, censoring_rate: float = 0.0) -> Tuple[np.ndarray, np.ndarray]:\n",
    "            Generate in-distribution (ID) data.\n",
    "    \"\"\"\n",
    "\n",
    "    def __init__(self) -> None:\n",
    "        pass\n",
    "\n",
    "    def gumbel_samples(self, N: int) -> np.ndarray:\n",
    "        \"\"\"\n",
    "        Generate Gumbel(0,1) samples.\n",
    "\n",
    "        Args:\n",
    "            N (int): Number of samples to generate.\n",
    "\n",
    "        Returns:\n",
    "            np.ndarray: Array of Gumbel(0,1) samples.\n",
    "        \"\"\"\n",
    "        # Generate uniform random samples\n",
    "        U = np.random.uniform(size=N)\n",
    "\n",
    "        # Transform to Gumbel(0,1) distribution\n",
    "        return -np.log(-np.log(U))\n",
    "    \n",
    "    def log_normal_samples(self, N: int, mean: float, sigma: float) -> np.ndarray:\n",
    "        \"\"\"\n",
    "        Generate log-normal samples.\n",
    "\n",
    "        Args:\n",
    "            N (int): Number of samples to generate.\n",
    "            mean (float): Mean of the underlying normal distribution.\n",
    "            sigma (float): Standard deviation of the underlying normal distribution.\n",
    "\n",
    "        Returns:\n",
    "            np.ndarray: Array of log-normal samples.\n",
    "        \"\"\"\n",
    "        # Generate normal random samples\n",
    "        normal_samples = np.random.normal(loc=mean, scale=sigma, size=N)\n",
    "\n",
    "        # Transform to log-normal distribution\n",
    "        log_normal_samples = np.exp(normal_samples)\n",
    "\n",
    "        return log_normal_samples\n",
    "    \n",
    "    def generate_covariates(self, type: str = \"H1\", N: int = 1000):\n",
    "        \n",
    "        if type == \"H1\":\n",
    "            res = np.random.normal(0, 1, size=(N, 2))\n",
    "        else:\n",
    "            # Define the mean vector (all zeros)\n",
    "            mean_ = [-1, 1]\n",
    "\n",
    "            # Define the covariance matrix\n",
    "            cov_matrix = np.array([\n",
    "                [1.0, 0.0],\n",
    "                [0.0, 1.0],\n",
    "            ])\n",
    "\n",
    "            # Generate samples from the multivariate normal distribution\n",
    "            res = np.random.multivariate_normal(mean_, cov_matrix, size=N)\n",
    "            \n",
    "        return res\n",
    "    \n",
    "    def generate_survival_time(self, X:np.ndarray, k:float, weights: np.ndarray, censoring_rate: float, type: str = \"H1\") -> Tuple[np.ndarray, np.ndarray]:\n",
    "        assert type in [\"G1\" , \"G2\"], \"You must choose either type G1 or G2.\"\n",
    "        \n",
    "        N = X.shape[0]\n",
    "        Z = self.gumbel_samples(N=N)\n",
    "        Y = np.zeros(N)\n",
    "        event_indicator = np.ones(N)\n",
    "        \n",
    "        if type == \"G1\":\n",
    "            assert len(weights) == 2, \"In type G1, weights must have 2-dimension.\"\n",
    "            for i in range(N):\n",
    "                ln_Y = (weights * X[i]).sum() + 1 / k * Z[i]\n",
    "                Y[i] = np.exp(ln_Y)\n",
    "        else:\n",
    "            assert len(weights) == 4, \"In type G2, weights must have 4-dimension.\"\n",
    "            \n",
    "            for i in range(N):\n",
    "                ln_Y = (weights[:2] * X[i]).sum() + weights[2] * (X[i, 0] * X[i, 1]) + weights[3] * (X[i, 0] + X[i, 1] - 0.5) ** 2 + 1 / k * Z[i]\n",
    "                Y[i] = np.exp(ln_Y)\n",
    "        \n",
    "        if censoring_rate > 0:\n",
    "            num_censored = int(N * censoring_rate)\n",
    "            censored_indices = np.random.choice(N, num_censored, replace=False)\n",
    "\n",
    "            for idx in censored_indices:\n",
    "                event_indicator[idx] = 0\n",
    "                Y[idx] = np.random.uniform(0, Y[idx])\n",
    "        \n",
    "        return Y, event_indicator\n",
    "        "
   ]
  },
  {
   "cell_type": "code",
   "execution_count": 3,
   "id": "3f0cd5ef",
   "metadata": {},
   "outputs": [],
   "source": [
    "random_seed = 13\n",
    "torch.manual_seed(random_seed)\n",
    "np.random.seed(random_seed)"
   ]
  },
  {
   "cell_type": "code",
   "execution_count": 4,
   "id": "057b9f25",
   "metadata": {},
   "outputs": [],
   "source": [
    "x_label = [\"x1\", \"x2\"]\n",
    "t_label = \"Duration\"\n",
    "e_label = \"Censor\"\n",
    "o_label = \"OOD\""
   ]
  },
  {
   "cell_type": "code",
   "execution_count": 5,
   "id": "6203f756",
   "metadata": {},
   "outputs": [],
   "source": [
    "N = 1000"
   ]
  },
  {
   "cell_type": "markdown",
   "id": "2d53959a",
   "metadata": {},
   "source": [
    "## Simulating covariates"
   ]
  },
  {
   "cell_type": "code",
   "execution_count": 6,
   "id": "3b905580",
   "metadata": {},
   "outputs": [],
   "source": [
    "dgp = DGP()"
   ]
  },
  {
   "cell_type": "code",
   "execution_count": 7,
   "id": "1e8e999c",
   "metadata": {},
   "outputs": [],
   "source": [
    "x_h1 = dgp.generate_covariates(type = \"H1\", N = 20000)"
   ]
  },
  {
   "cell_type": "markdown",
   "id": "7d192d7e",
   "metadata": {},
   "source": [
    "### Define ID & OOD"
   ]
  },
  {
   "cell_type": "code",
   "execution_count": 8,
   "id": "d5c331ac",
   "metadata": {},
   "outputs": [],
   "source": [
    "def compute_pdf(data):\n",
    "    \"\"\"\n",
    "    Compute the probability density function (PDF) values for a given N x 2 numpy array.\n",
    "    Each row of the array is assumed to be drawn from a bivariate normal distribution with mean 0 and variance 1.\n",
    "\n",
    "    Parameters:\n",
    "    data (numpy.ndarray): N x 2 array where each row represents a 2D point.\n",
    "\n",
    "    Returns:\n",
    "    numpy.ndarray: N-dimensional array containing the PDF values for each point.\n",
    "    \"\"\"\n",
    "    # Define the mean and covariance matrix for the bivariate normal distribution\n",
    "    mean = np.array([0, 0])  # Mean vector [0, 0]\n",
    "    cov = np.array([[1, 0], [0, 1]])  # Covariance matrix (identity matrix for independent variables)\n",
    "\n",
    "    # Create a multivariate normal distribution object\n",
    "    rv = multivariate_normal(mean, cov)\n",
    "\n",
    "    # Compute the PDF values for each point in the input data\n",
    "    pdf_values = rv.pdf(data)\n",
    "\n",
    "    return pdf_values\n",
    "\n",
    "\n",
    "def create_ood_indicator(arr, pdf = True, threshold = None):\n",
    "    \"\"\"\n",
    "    Takes an N x D numpy array and returns a binary N x 1 numpy array.\n",
    "    Each entry is 0 if the Euclidean distance of the n-th dimension is less than the 90th percentile,\n",
    "    and 1 if it exceeds that.\n",
    "\n",
    "    Parameters:\n",
    "        arr (numpy.ndarray): An N x D numpy array.\n",
    "\n",
    "    Returns:\n",
    "        numpy.ndarray: An N x 1 binary numpy array.\n",
    "    \"\"\"\n",
    "    if pdf:\n",
    "        distances = compute_pdf(arr)\n",
    "    else:\n",
    "        # Compute the Euclidean distance of each row from the origin\n",
    "        distances = np.linalg.norm(arr, axis=1)\n",
    "\n",
    "    if threshold is None:\n",
    "        # Find the 90th percentile of the distances\n",
    "        threshold = np.percentile(distances, 90)\n",
    "    \n",
    "    if pdf:\n",
    "        binary_array = (distances <= threshold).astype(int)\n",
    "    else:\n",
    "        # Create a binary array based on the threshold\n",
    "        binary_array = (distances >= threshold).astype(int)\n",
    "\n",
    "    return binary_array\n",
    "\n"
   ]
  },
  {
   "cell_type": "code",
   "execution_count": 9,
   "id": "f19e4fc5",
   "metadata": {},
   "outputs": [],
   "source": [
    "thres = np.percentile(compute_pdf(x_h1), 1)"
   ]
  },
  {
   "cell_type": "code",
   "execution_count": 10,
   "id": "bc93d288",
   "metadata": {},
   "outputs": [],
   "source": [
    "ood_indicator = create_ood_indicator(x_h1, threshold = thres)"
   ]
  },
  {
   "cell_type": "code",
   "execution_count": 11,
   "id": "ff5218f6",
   "metadata": {},
   "outputs": [],
   "source": [
    "x_ood = x_h1[ood_indicator == 1.]\n",
    "x_id = x_h1[ood_indicator == 0.]"
   ]
  },
  {
   "cell_type": "code",
   "execution_count": 12,
   "id": "d9358e00",
   "metadata": {},
   "outputs": [
    {
     "data": {
      "image/png": "[encoded data removed]",
      "text/plain": [
       "<Figure size 864x360 with 2 Axes>"
      ]
     },
     "metadata": {
      "needs_background": "light"
     },
     "output_type": "display_data"
    }
   ],
   "source": [
    "fig, axs = plt.subplots(nrows = 1, ncols = 2, figsize = (12, 5))\n",
    "\n",
    "axs[0].scatter(*x_h1.T, color = \"black\", label = \"ID\", alpha = 0.3)\n",
    "axs[0].set_title(\"Training set: H1\")\n",
    "\n",
    "axs[1].scatter(*x_ood.T, color = \"tab:red\", label = \"OOD\")\n",
    "axs[1].scatter(*x_id.T, color = \"tab:grey\", alpha = 0.01,)\n",
    "axs[1].set_title(\"Training set: H2\")\n",
    "\n",
    "for ax in axs.ravel():\n",
    "    ax.set_xlim([-6, 6])\n",
    "    ax.set_ylim([-6, 6])\n",
    "    ax.axvline(0, linestyle = \"--\", color = 'black')\n",
    "    ax.axhline(0, linestyle = \"--\", color = 'black')\n",
    "    ax.set_xlabel(\"x1\")\n",
    "    ax.set_ylabel(\"x2\")\n",
    "    ax.legend()\n",
    "    \n",
    "plt.show()\n"
   ]
  },
  {
   "cell_type": "code",
   "execution_count": 13,
   "id": "5a2625ab",
   "metadata": {},
   "outputs": [],
   "source": [
    "np.random.seed(13)\n",
    "train_idx = np.random.choice(np.arange(x_id.shape[0]), 1000)\n",
    "test_idx = np.random.choice(np.arange(x_ood.shape[0]), 200)"
   ]
  },
  {
   "cell_type": "code",
   "execution_count": 14,
   "id": "dc19d0e7",
   "metadata": {},
   "outputs": [],
   "source": [
    "x_id_train = x_id[train_idx]\n",
    "x_ood_train = x_ood[test_idx]"
   ]
  },
  {
   "cell_type": "markdown",
   "id": "008fd7d8",
   "metadata": {},
   "source": [
    "## Simulating time-to-events"
   ]
  },
  {
   "cell_type": "code",
   "execution_count": 15,
   "id": "cfa5ae1c",
   "metadata": {},
   "outputs": [],
   "source": [
    "y_h1, s_h1 = dgp.generate_survival_time(X = x_id_train, k = 3, weights = [0.2, 0.5, -0.1, -0.4], censoring_rate = 0.3, type = \"G2\")"
   ]
  },
  {
   "cell_type": "code",
   "execution_count": 16,
   "id": "32eefe90",
   "metadata": {},
   "outputs": [],
   "source": [
    "y_ood, s_ood = dgp.generate_survival_time(X = x_ood_train, k = 3, weights = [0.2, 0.5, -0.1, -0.4], censoring_rate = 0.3, type = \"G2\")\n"
   ]
  },
  {
   "cell_type": "markdown",
   "id": "6ea45460",
   "metadata": {},
   "source": [
    "## Creating dataset: ID & OOD"
   ]
  },
  {
   "cell_type": "code",
   "execution_count": 17,
   "id": "29860a4c",
   "metadata": {},
   "outputs": [],
   "source": [
    "data_id_train = pd.read_csv(\"data/sim_train\")"
   ]
  },
  {
   "cell_type": "code",
   "execution_count": 18,
   "id": "0278768a",
   "metadata": {},
   "outputs": [],
   "source": [
    "data_id_train = data_id_train.iloc[:, 1:]"
   ]
  },
  {
   "cell_type": "markdown",
   "id": "550a9822",
   "metadata": {},
   "source": [
    "### Split OOD dataset into training and test set"
   ]
  },
  {
   "cell_type": "code",
   "execution_count": 19,
   "id": "1eb36dce",
   "metadata": {},
   "outputs": [],
   "source": [
    "random_state = 13"
   ]
  },
  {
   "cell_type": "code",
   "execution_count": 20,
   "id": "8e0f79af",
   "metadata": {},
   "outputs": [],
   "source": [
    "data_ood_train = pd.DataFrame(\n",
    "    np.column_stack([y_ood, s_ood, x_ood_train]), columns=[\"Duration\", \"Censor\", \"x1\", \"x2\"]\n",
    ")"
   ]
  },
  {
   "cell_type": "code",
   "execution_count": 21,
   "id": "e6659445",
   "metadata": {},
   "outputs": [
    {
     "data": {
      "text/plain": [
       "((200, 4), (1000, 4))"
      ]
     },
     "execution_count": 21,
     "metadata": {},
     "output_type": "execute_result"
    }
   ],
   "source": [
    "data_ood_train.shape, data_id_train.shape"
   ]
  },
  {
   "cell_type": "markdown",
   "id": "f0055c19",
   "metadata": {},
   "source": [
    "## Normalise the duration column\n",
    "\n",
    "1. Remove outliers (i.e., $t_{j} \\quad s.t. \\quad t_{j} >= t_{(99)}$)\n",
    "\n",
    "2. Normalise the value by min-max\n",
    "\n",
    "This steps is necessary to avoid numerical instability of the optimisation step. "
   ]
  },
  {
   "cell_type": "code",
   "execution_count": 22,
   "id": "8f673265",
   "metadata": {},
   "outputs": [],
   "source": [
    "def drop_high_duration(df: pd.DataFrame) -> pd.DataFrame:\n",
    "    # Calculate the 99th percentile for the 'duration' column\n",
    "    percentile_99 = df['Duration'].quantile(0.99)\n",
    "    \n",
    "    # Filter out rows where 'duration' is greater than the 99th percentile\n",
    "    df_filtered = df[df['Duration'] <= percentile_99]\n",
    "    \n",
    "    return df_filtered"
   ]
  },
  {
   "cell_type": "code",
   "execution_count": 23,
   "id": "95a695cc",
   "metadata": {},
   "outputs": [],
   "source": [
    "d1_data = drop_high_duration(data_id_train)\n",
    "d2_data = drop_high_duration(data_ood_train)"
   ]
  },
  {
   "cell_type": "code",
   "execution_count": 24,
   "id": "773d4088",
   "metadata": {},
   "outputs": [],
   "source": [
    "def normalize_column(df, ref_df, column_name):\n",
    "    \"\"\"\n",
    "    Normalize the specified column in the DataFrame to be between 0 and 1.\n",
    "\n",
    "    Parameters:\n",
    "    df (pd.DataFrame): The input DataFrame.\n",
    "    ref_df (pd.DataFrame): The reference DataFrame.\n",
    "    column_name (str): The column to be normalized.\n",
    "\n",
    "    Returns:\n",
    "    pd.DataFrame: The DataFrame with the normalized column.\n",
    "    \"\"\"\n",
    "    df = df.copy()  # To avoid modifying the original DataFrame\n",
    "    min_value = ref_df[column_name].min()\n",
    "    max_value = ref_df[column_name].max()\n",
    "    df[column_name] = (df[column_name] - min_value) / (max_value - min_value)\n",
    "    df[column_name] += 1e-8\n",
    "    return df"
   ]
  },
  {
   "cell_type": "code",
   "execution_count": 25,
   "id": "0216ae7d",
   "metadata": {},
   "outputs": [],
   "source": [
    "d1_data = normalize_column(d1_data, d1_data, \"Duration\")\n",
    "d2_data = normalize_column(d2_data, d1_data, \"Duration\")"
   ]
  },
  {
   "cell_type": "markdown",
   "id": "ffa4bc55",
   "metadata": {},
   "source": [
    "## Comparison: D1 and D2"
   ]
  },
  {
   "cell_type": "code",
   "execution_count": 26,
   "id": "08f34db0",
   "metadata": {},
   "outputs": [],
   "source": [
    "import pandas as pd\n",
    "import matplotlib.pyplot as plt\n",
    "import numpy as np\n",
    "\n",
    "def plot_duration_hist_and_cdf(d1_data: pd.DataFrame, d2_data: pd.DataFrame):\n",
    "    # Extract 'Duration' columns and sort them for both datasets\n",
    "    d1_duration = d1_data['Duration'].sort_values()\n",
    "    d2_duration = d2_data['Duration'].sort_values()\n",
    "    \n",
    "    # Create subplots: 1 row, 2 columns\n",
    "    fig, (ax1, ax2) = plt.subplots(1, 2, figsize=(14, 6))\n",
    "\n",
    "    # Plot the histogram on the left subplot\n",
    "    ax1.hist(d1_duration, bins=30, color='red', alpha=0.4, label='D1', edgecolor='black')\n",
    "    ax1.hist(d2_duration, bins=30, color='blue', alpha=0.4, label='D2', edgecolor='black')\n",
    "    \n",
    "    ax1.set_xlabel('Duration')\n",
    "    ax1.set_ylabel('Frequency')\n",
    "    ax1.set_title('Histogram of Duration')\n",
    "    ax1.legend()\n",
    "\n",
    "    # Compute empirical CDFs\n",
    "    d1_n = len(d1_duration)\n",
    "    d2_n = len(d2_duration)\n",
    "    \n",
    "    d1_y_vals = np.arange(1, d1_n + 1) / d1_n\n",
    "    d2_y_vals = np.arange(1, d2_n + 1) / d2_n\n",
    "    \n",
    "    # Plot the empirical CDF on the right subplot\n",
    "    ax2.plot(d1_duration.values, d1_y_vals, marker='.', linestyle='none', color='red', label='D1')\n",
    "    ax2.plot(d2_duration.values, d2_y_vals, marker='.', linestyle='none', color='blue', label='D2')\n",
    "\n",
    "    ax2.set_xlabel('Duration')\n",
    "    ax2.set_ylabel('Empirical CDF')\n",
    "    ax2.set_title('Empirical CDF of Duration')\n",
    "    ax2.legend()\n",
    "\n",
    "    # Adjust layout for a cleaner appearance\n",
    "    plt.tight_layout()\n",
    "\n",
    "    # Show the plot\n",
    "    plt.show()\n"
   ]
  },
  {
   "cell_type": "code",
   "execution_count": 27,
   "id": "f65e03cc",
   "metadata": {},
   "outputs": [
    {
     "data": {
      "image/png": "[encoded data removed]",
      "text/plain": [
       "<Figure size 1008x432 with 2 Axes>"
      ]
     },
     "metadata": {
      "needs_background": "light"
     },
     "output_type": "display_data"
    }
   ],
   "source": [
    "plot_duration_hist_and_cdf(d1_data, d2_data)"
   ]
  },
  {
   "cell_type": "markdown",
   "id": "1cce83dc",
   "metadata": {},
   "source": [
    "\n",
    "## Baseline model: AFT"
   ]
  },
  {
   "cell_type": "code",
   "execution_count": 28,
   "id": "af3a7e33",
   "metadata": {},
   "outputs": [
    {
     "name": "stdout",
     "output_type": "stream",
     "text": [
      "Optimization terminated successfully    (Exit mode 0)\n",
      "            Current function value: -0.4080187055991744\n",
      "            Iterations: 10\n",
      "            Function evaluations: 11\n",
      "            Gradient evaluations: 10\n",
      " message: Optimization terminated successfully\n",
      " success: True\n",
      "  status: 0\n",
      "     fun: -0.4080187055991744\n",
      "       x: [ 6.347e-01  8.139e-01 -1.469e+00  2.694e-01]\n",
      "     nit: 10\n",
      "     jac: [ 6.482e-07 -1.007e-06 -1.195e-07  5.001e-07]\n",
      "    nfev: 11\n",
      "    njev: 10\n"
     ]
    },
    {
     "data": {
      "text/html": [
       "<div>\n",
       "<style scoped>\n",
       "    .dataframe tbody tr th:only-of-type {\n",
       "        vertical-align: middle;\n",
       "    }\n",
       "\n",
       "    .dataframe tbody tr th {\n",
       "        vertical-align: top;\n",
       "    }\n",
       "\n",
       "    .dataframe thead th {\n",
       "        text-align: right;\n",
       "    }\n",
       "</style>\n",
       "<table border=\"1\" class=\"dataframe\">\n",
       "  <tbody>\n",
       "    <tr>\n",
       "      <th>model</th>\n",
       "      <td>lifelines.WeibullAFTFitter</td>\n",
       "    </tr>\n",
       "    <tr>\n",
       "      <th>duration col</th>\n",
       "      <td>'Duration'</td>\n",
       "    </tr>\n",
       "    <tr>\n",
       "      <th>event col</th>\n",
       "      <td>'Censor'</td>\n",
       "    </tr>\n",
       "    <tr>\n",
       "      <th>number of observations</th>\n",
       "      <td>990</td>\n",
       "    </tr>\n",
       "    <tr>\n",
       "      <th>number of events observed</th>\n",
       "      <td>690</td>\n",
       "    </tr>\n",
       "    <tr>\n",
       "      <th>log-likelihood</th>\n",
       "      <td>403.939</td>\n",
       "    </tr>\n",
       "    <tr>\n",
       "      <th>time fit was run</th>\n",
       "      <td>2024-10-10 15:02:36 UTC</td>\n",
       "    </tr>\n",
       "  </tbody>\n",
       "</table>\n",
       "</div><table border=\"1\" class=\"dataframe\">\n",
       "  <thead>\n",
       "    <tr style=\"text-align: right;\">\n",
       "      <th style=\"min-width: 12px;\"></th>\n",
       "      <th style=\"min-width: 12px;\"></th>\n",
       "      <th style=\"min-width: 12px;\">coef</th>\n",
       "      <th style=\"min-width: 12px;\">exp(coef)</th>\n",
       "      <th style=\"min-width: 12px;\">se(coef)</th>\n",
       "      <th style=\"min-width: 12px;\">coef lower 95%</th>\n",
       "      <th style=\"min-width: 12px;\">coef upper 95%</th>\n",
       "      <th style=\"min-width: 12px;\">exp(coef) lower 95%</th>\n",
       "      <th style=\"min-width: 12px;\">exp(coef) upper 95%</th>\n",
       "      <th style=\"min-width: 12px;\">cmp to</th>\n",
       "      <th style=\"min-width: 12px;\">z</th>\n",
       "      <th style=\"min-width: 12px;\">p</th>\n",
       "      <th style=\"min-width: 12px;\">-log2(p)</th>\n",
       "    </tr>\n",
       "  </thead>\n",
       "  <tbody>\n",
       "    <tr>\n",
       "      <th rowspan=\"3\" valign=\"top\">lambda_</th>\n",
       "      <th>x1</th>\n",
       "      <td>0.646</td>\n",
       "      <td>1.908</td>\n",
       "      <td>0.043</td>\n",
       "      <td>0.561</td>\n",
       "      <td>0.731</td>\n",
       "      <td>1.753</td>\n",
       "      <td>2.077</td>\n",
       "      <td>0.000</td>\n",
       "      <td>14.909</td>\n",
       "      <td>&lt;0.0005</td>\n",
       "      <td>164.569</td>\n",
       "    </tr>\n",
       "    <tr>\n",
       "      <th>x2</th>\n",
       "      <td>0.822</td>\n",
       "      <td>2.276</td>\n",
       "      <td>0.042</td>\n",
       "      <td>0.739</td>\n",
       "      <td>0.905</td>\n",
       "      <td>2.094</td>\n",
       "      <td>2.472</td>\n",
       "      <td>0.000</td>\n",
       "      <td>19.419</td>\n",
       "      <td>&lt;0.0005</td>\n",
       "      <td>276.628</td>\n",
       "    </tr>\n",
       "    <tr>\n",
       "      <th>Intercept</th>\n",
       "      <td>-1.469</td>\n",
       "      <td>0.230</td>\n",
       "      <td>0.029</td>\n",
       "      <td>-1.526</td>\n",
       "      <td>-1.411</td>\n",
       "      <td>0.217</td>\n",
       "      <td>0.244</td>\n",
       "      <td>0.000</td>\n",
       "      <td>-49.994</td>\n",
       "      <td>&lt;0.0005</td>\n",
       "      <td>inf</td>\n",
       "    </tr>\n",
       "    <tr>\n",
       "      <th>rho_</th>\n",
       "      <th>Intercept</th>\n",
       "      <td>0.269</td>\n",
       "      <td>1.309</td>\n",
       "      <td>0.029</td>\n",
       "      <td>0.213</td>\n",
       "      <td>0.326</td>\n",
       "      <td>1.237</td>\n",
       "      <td>1.385</td>\n",
       "      <td>0.000</td>\n",
       "      <td>9.333</td>\n",
       "      <td>&lt;0.0005</td>\n",
       "      <td>66.402</td>\n",
       "    </tr>\n",
       "  </tbody>\n",
       "</table><br><div>\n",
       "<style scoped>\n",
       "    .dataframe tbody tr th:only-of-type {\n",
       "        vertical-align: middle;\n",
       "    }\n",
       "\n",
       "    .dataframe tbody tr th {\n",
       "        vertical-align: top;\n",
       "    }\n",
       "\n",
       "    .dataframe thead th {\n",
       "        text-align: right;\n",
       "    }\n",
       "</style>\n",
       "<table border=\"1\" class=\"dataframe\">\n",
       "  <tbody>\n",
       "    <tr>\n",
       "      <th>Concordance</th>\n",
       "      <td>0.777</td>\n",
       "    </tr>\n",
       "    <tr>\n",
       "      <th>AIC</th>\n",
       "      <td>-799.877</td>\n",
       "    </tr>\n",
       "    <tr>\n",
       "      <th>log-likelihood ratio test</th>\n",
       "      <td>363.740 on 2 df</td>\n",
       "    </tr>\n",
       "    <tr>\n",
       "      <th>-log2(p) of ll-ratio test</th>\n",
       "      <td>262.383</td>\n",
       "    </tr>\n",
       "  </tbody>\n",
       "</table>\n",
       "</div>"
      ],
      "text/latex": [
       "\\begin{tabular}{llrrrrrrrrrrr}\n",
       " &  & coef & exp(coef) & se(coef) & coef lower 95% & coef upper 95% & exp(coef) lower 95% & exp(coef) upper 95% & cmp to & z & p & -log2(p) \\\\\n",
       "param & covariate &  &  &  &  &  &  &  &  &  &  &  \\\\\n",
       "\\multirow[c]{3}{*}{lambda_} & x1 & 0.646 & 1.908 & 0.043 & 0.561 & 0.731 & 1.753 & 2.077 & 0.000 & 14.909 & 0.000 & 164.569 \\\\\n",
       " & x2 & 0.822 & 2.276 & 0.042 & 0.739 & 0.905 & 2.094 & 2.472 & 0.000 & 19.419 & 0.000 & 276.628 \\\\\n",
       " & Intercept & -1.469 & 0.230 & 0.029 & -1.526 & -1.411 & 0.217 & 0.244 & 0.000 & -49.994 & 0.000 & inf \\\\\n",
       "rho_ & Intercept & 0.269 & 1.309 & 0.029 & 0.213 & 0.326 & 1.237 & 1.385 & 0.000 & 9.333 & 0.000 & 66.402 \\\\\n",
       "\\end{tabular}\n"
      ],
      "text/plain": [
       "<lifelines.WeibullAFTFitter: fitted with 990 total observations, 300 right-censored observations>\n",
       "             duration col = 'Duration'\n",
       "                event col = 'Censor'\n",
       "   number of observations = 990\n",
       "number of events observed = 690\n",
       "           log-likelihood = 403.939\n",
       "         time fit was run = 2024-10-10 15:02:36 UTC\n",
       "\n",
       "---\n",
       "                    coef exp(coef)  se(coef)  coef lower 95%  coef upper 95% exp(coef) lower 95% exp(coef) upper 95%\n",
       "param   covariate                                                                                                   \n",
       "lambda_ x1         0.646     1.908     0.043           0.561           0.731               1.753               2.077\n",
       "        x2         0.822     2.276     0.042           0.739           0.905               2.094               2.472\n",
       "        Intercept -1.469     0.230     0.029          -1.526          -1.411               0.217               0.244\n",
       "rho_    Intercept  0.269     1.309     0.029           0.213           0.326               1.237               1.385\n",
       "\n",
       "                   cmp to       z       p  -log2(p)\n",
       "param   covariate                                  \n",
       "lambda_ x1          0.000  14.909 <0.0005   164.569\n",
       "        x2          0.000  19.419 <0.0005   276.628\n",
       "        Intercept   0.000 -49.994 <0.0005       inf\n",
       "rho_    Intercept   0.000   9.333 <0.0005    66.402\n",
       "---\n",
       "Concordance = 0.777\n",
       "AIC = -799.877\n",
       "log-likelihood ratio test = 363.740 on 2 df\n",
       "-log2(p) of ll-ratio test = 262.383"
      ]
     },
     "metadata": {},
     "output_type": "display_data"
    }
   ],
   "source": [
    "aft = WeibullAFTFitter()\n",
    "aft.fit(d1_data[[t_label] + [e_label] + x_label], duration_col=\"Duration\", event_col=\"Censor\", show_progress = True)\n",
    "\n",
    "aft.print_summary(3)  # access the results using aft.summary"
   ]
  },
  {
   "cell_type": "markdown",
   "id": "90e376a1",
   "metadata": {},
   "source": [
    "## Evaluation (using training dataset: D1)"
   ]
  },
  {
   "cell_type": "code",
   "execution_count": 29,
   "id": "187180b3",
   "metadata": {
    "scrolled": true
   },
   "outputs": [
    {
     "data": {
      "text/plain": [
       "(0.7772862519458511, 236679, 67815, 0, 0)"
      ]
     },
     "execution_count": 29,
     "metadata": {},
     "output_type": "execute_result"
    }
   ],
   "source": [
    "concordance_index_censored(d1_data[\"Censor\"] == 1.0, d1_data[\"Duration\"], -aft.predict_median(d1_data))"
   ]
  },
  {
   "cell_type": "markdown",
   "id": "61c16042",
   "metadata": {},
   "source": [
    "## Evaluation (using test dataset: D2)"
   ]
  },
  {
   "cell_type": "code",
   "execution_count": 30,
   "id": "2c39aecd",
   "metadata": {},
   "outputs": [
    {
     "data": {
      "text/plain": [
       "(0.7001973135007968, 9202, 3926, 49, 0)"
      ]
     },
     "execution_count": 30,
     "metadata": {},
     "output_type": "execute_result"
    }
   ],
   "source": [
    "concordance_index_censored(d2_data[\"Censor\"] == 1.0, d2_data[\"Duration\"], -aft.predict_median(d2_data))"
   ]
  },
  {
   "cell_type": "markdown",
   "id": "45afcf40",
   "metadata": {},
   "source": [
    "### To check whether .predict_survival_function does what I believe it does."
   ]
  },
  {
   "cell_type": "code",
   "execution_count": 31,
   "id": "14d4ee0e",
   "metadata": {},
   "outputs": [
    {
     "data": {
      "image/png": "[encoded data removed]",
      "text/plain": [
       "<Figure size 1440x504 with 1 Axes>"
      ]
     },
     "metadata": {
      "needs_background": "light"
     },
     "output_type": "display_data"
    }
   ],
   "source": [
    "plt.figure(figsize=(20, 7))\n",
    "plt.bar(\n",
    "    np.arange(50),\n",
    "    torch.diagonal(\n",
    "        torch.tensor(\n",
    "            aft.predict_survival_function(\n",
    "                df=d2_data, times=d2_data[\"Duration\"]\n",
    "            ).values\n",
    "        )\n",
    "    )[:50],\n",
    "    label = \"Survival distribution\"\n",
    ")\n",
    "plt.scatter(np.arange(50), d2_data[\"Censor\"].values[:50], label = \"Censored\")\n",
    "plt.ylabel(\"Event indicator\")\n",
    "plt.xlabel(\"Observations\")\n",
    "plt.legend(\"upper right\")\n",
    "plt.tight_layout()\n",
    "plt.show()"
   ]
  },
  {
   "cell_type": "markdown",
   "id": "296173d3",
   "metadata": {},
   "source": [
    "The circle represents the event indicator, indicating whether a subject experienced the event. The bar shows the predicted survival function. The graph above demonstrates that the trained model makes reasonable predictions, as the event indicator being 1 frequently aligns with a relatively low predicted survival function."
   ]
  },
  {
   "cell_type": "markdown",
   "id": "07c11939",
   "metadata": {},
   "source": [
    "## Define necessary UDF"
   ]
  },
  {
   "cell_type": "code",
   "execution_count": 32,
   "id": "f9ea7328",
   "metadata": {},
   "outputs": [],
   "source": [
    "def split_dataframe(df, train_size=0.8, val_size=0.2, random_state=None):\n",
    "    \"\"\"\n",
    "    Splits the DataFrame into train, validation, and test sets.\n",
    "\n",
    "    Parameters:\n",
    "    df (pd.DataFrame): The DataFrame to split.\n",
    "    train_size (float): Proportion of the data to be used for the training set.\n",
    "    val_size (float): Proportion of the data to be used for the validation set.\n",
    "    random_state (int, optional): Random seed for reproducibility.\n",
    "\n",
    "    Returns:\n",
    "    tuple: A tuple containing the train, validation, and test DataFrames.\n",
    "    \"\"\"\n",
    "    assert train_size + val_size == 1, \"Proportions must sum to 1.\"\n",
    "\n",
    "    # Split the DataFrame into train and remaining sets\n",
    "    df_train, df_val = train_test_split(\n",
    "        df, train_size=train_size, random_state=random_state\n",
    "    )\n",
    "\n",
    "    return df_train, df_val"
   ]
  },
  {
   "cell_type": "code",
   "execution_count": 33,
   "id": "a93fe6a8",
   "metadata": {},
   "outputs": [],
   "source": [
    "def split_df(df, x_label, t_label, e_label, o_label):\n",
    "    return (\n",
    "        df[x_label].values,\n",
    "        df[t_label].values,\n",
    "        df[e_label].values,\n",
    "        df[o_label].values,\n",
    "    )"
   ]
  },
  {
   "cell_type": "code",
   "execution_count": 34,
   "id": "041ce82b",
   "metadata": {},
   "outputs": [],
   "source": [
    "def predict_cif( method, df ):\n",
    "    x_cov = torch.tensor(df[x_label].values, dtype = torch.float32)\n",
    "    t = torch.tensor(df[t_label].values, dtype = torch.float32)\n",
    "    \n",
    "    cif = method.predict(x_cov, t)\n",
    "    \n",
    "    return cif"
   ]
  },
  {
   "cell_type": "code",
   "execution_count": 35,
   "id": "bff4dba8",
   "metadata": {},
   "outputs": [],
   "source": [
    "def compute_timediff( model, data_loader_val, n_sample, df_type, verbose ):\n",
    "    \n",
    "    if df_type == \"D1\":\n",
    "        idx_in = 1.0\n",
    "        idx_ood = 0.0\n",
    "    else:\n",
    "        idx_in = 0.0\n",
    "        idx_ood = 1.0\n",
    "    \n",
    "\n",
    "    reg_loss = 0\n",
    "    for batch_idx, (x, t, k, o) in tq.tqdm(enumerate(data_loader_val)):\n",
    "        argsort_t = torch.argsort(t)\n",
    "        x_ = x[argsort_t, :].to(model.device)\n",
    "        t_ = t[argsort_t].to(model.device)\n",
    "        k_ = k[argsort_t].to(model.device)\n",
    "        o_ = o[argsort_t].to(model.device)\n",
    "\n",
    "        # Split x_ into in-distribution and out-of-distribution\n",
    "        x_in = x_[o_ == idx_in]\n",
    "        t_in = t_[o_ == idx_in]\n",
    "        k_in = k_[o_ == idx_in]\n",
    "\n",
    "        x_ood = x_[o_ == idx_ood]\n",
    "        t_ood = t_[o_ == idx_ood]\n",
    "        k_ood = k_[o_ == idx_ood]\n",
    "        \n",
    "        regloss = 0.0\n",
    "        if x_ood.shape[0] > 0:\n",
    "            _, regloss_ = model.regularisation(x=x_ood, verbose = verbose, n_sample=n_sample)\n",
    "            regloss = regloss_.item()\n",
    "            \n",
    "        reg_loss += regloss\n",
    "\n",
    "    return reg_loss"
   ]
  },
  {
   "cell_type": "markdown",
   "id": "450d75ea",
   "metadata": {},
   "source": [
    "## coDeSurv: DeSurv with consistency constraint."
   ]
  },
  {
   "cell_type": "markdown",
   "id": "adf70891",
   "metadata": {},
   "source": [
    "Data preparation step includes:\n",
    "1. Split training data (i.e. D1 and D2) into train and validation set\n",
    "2. Apply likelihood-based training w.r.t. D1 while regularising the model using the baseline based on D2.\n",
    "3. Generate test set (D1 and D2) using the data generating process and use them for the final evaluation"
   ]
  },
  {
   "cell_type": "markdown",
   "id": "2e57e153",
   "metadata": {},
   "source": [
    "First, we create train_data by combining the D1 and D2 generated above. Recall that we require indicator for the source of data (i.e., out-of-distribution / in-distribution) to determine which objective function to optimise depending on the source of D1 data will be used for consistency regularsation whereas the D2 data will be used for likelihood term. Note that the baseline model was trained on D2 and tested on D1. "
   ]
  },
  {
   "cell_type": "code",
   "execution_count": 36,
   "id": "a3059ecd",
   "metadata": {},
   "outputs": [],
   "source": [
    "d1_data[o_label] = 0.0\n",
    "d2_data[o_label] = 1.0"
   ]
  },
  {
   "cell_type": "code",
   "execution_count": 37,
   "id": "84b706f4",
   "metadata": {},
   "outputs": [],
   "source": [
    "train_data = pd.concat([d1_data, d2_data], axis=0)"
   ]
  },
  {
   "cell_type": "code",
   "execution_count": 38,
   "id": "f1902c0e",
   "metadata": {},
   "outputs": [],
   "source": [
    "df_train, df_val = split_dataframe(train_data)"
   ]
  },
  {
   "cell_type": "code",
   "execution_count": 39,
   "id": "c0fec5d5",
   "metadata": {},
   "outputs": [],
   "source": [
    "x_train, t_train, e_train, o_train = split_df(\n",
    "    df_train, x_label, t_label, e_label, o_label\n",
    ")\n",
    "x_val, t_val, e_val, o_val = split_df(df_val, x_label, t_label, e_label, o_label)"
   ]
  },
  {
   "cell_type": "code",
   "execution_count": 40,
   "id": "0440e428",
   "metadata": {},
   "outputs": [],
   "source": [
    "batch_size = 128"
   ]
  },
  {
   "cell_type": "code",
   "execution_count": 41,
   "id": "4e12f892",
   "metadata": {},
   "outputs": [],
   "source": [
    "dataset_train = TensorDataset(\n",
    "    *[\n",
    "        torch.tensor(u, dtype=dtype_)\n",
    "        for u, dtype_ in [\n",
    "            (x_train, torch.float32),\n",
    "            (t_train, torch.float32),\n",
    "            (e_train, torch.long),\n",
    "            (o_train, torch.long),\n",
    "        ]\n",
    "    ]\n",
    ")\n",
    "data_loader_train = DataLoader(\n",
    "    dataset_train, batch_size=batch_size, pin_memory=True, shuffle=True, drop_last=True\n",
    ")\n",
    "\n",
    "dataset_val = TensorDataset(\n",
    "    *[\n",
    "        torch.tensor(u, dtype=dtype_)\n",
    "        for u, dtype_ in [\n",
    "            (x_val, torch.float32),\n",
    "            (t_val, torch.float32),\n",
    "            (e_val, torch.long),\n",
    "            (o_val, torch.long),\n",
    "        ]\n",
    "    ]\n",
    ")\n",
    "data_loader_val = DataLoader(\n",
    "    dataset_val, batch_size=batch_size, pin_memory=True, shuffle=True\n",
    ")"
   ]
  },
  {
   "cell_type": "markdown",
   "id": "acc9e470",
   "metadata": {},
   "source": [
    "In this section, we train the model. During training, you might encounter error messages such as “Error occurred with tensor([0.9990]). Retrying…”. This error indicates that the numerical solver, which is required during the sampling step from the predicted survival time CDF, fails to converge because the simulated failure time is very close to 1. When this occurs, we simply re-sample the survival time from the CDF.\n",
    "\n",
    "Note: it seems that this error can occur for the value not close to 1 as well. It would be important to investigate why this happens, and figure out how to make this operation more robust."
   ]
  },
  {
   "cell_type": "code",
   "execution_count": 42,
   "id": "63d0f1d3",
   "metadata": {},
   "outputs": [],
   "source": [
    "hidden_dim = 8\n",
    "training = False\n",
    "lr = 1e-3\n",
    "n_epochs = 300\n",
    "\n",
    "xdim = x_train.shape[1]\n"
   ]
  },
  {
   "cell_type": "code",
   "execution_count": 78,
   "id": "f322b59a",
   "metadata": {
    "scrolled": true
   },
   "outputs": [
    {
     "name": "stdout",
     "output_type": "stream",
     "text": [
      "CondODENet: cpu specified, cpu used\n"
     ]
    }
   ],
   "source": [
    "model = ConsistentDeSurv(\n",
    "    lr, xdim, hidden_dim, baseline=aft, nonlinearity=nn.ReLU, device=\"cpu\", n=15, df_columns = x_label\n",
    ")\n",
    " \n",
    "if training:\n",
    "    model.optimize(\n",
    "        data_loader_train,\n",
    "        n_sample=50,\n",
    "        n_epochs=n_epochs,\n",
    "        logging_freq=1,\n",
    "        data_loader_val=data_loader_val,\n",
    "        max_wait=20,\n",
    "        pretrain_epochs = 20,\n",
    "        verbose=True,\n",
    "    )\n",
    "    torch.save(model.state_dict(), \"desurv_consistent_ex05_d3_correct\")\n",
    "    model.eval()\n",
    "else:\n",
    "    state_dict = torch.load(\"desurv_consistent_ex05_d3_correct\")\n",
    "    model.load_state_dict(state_dict)\n",
    "    model.eval()"
   ]
  },
  {
   "cell_type": "markdown",
   "id": "1f1a1117",
   "metadata": {},
   "source": [
    "## Evaluation"
   ]
  },
  {
   "cell_type": "markdown",
   "id": "6d88aaee",
   "metadata": {},
   "source": [
    "1. C-index\n",
    "2. Log-likelihood\n",
    "3. Expected discrepancy between survival trajectories"
   ]
  },
  {
   "cell_type": "markdown",
   "id": "b67aa7bc",
   "metadata": {},
   "source": [
    "### Prepare test set"
   ]
  },
  {
   "cell_type": "code",
   "execution_count": 79,
   "id": "14cc18bd",
   "metadata": {},
   "outputs": [],
   "source": [
    "test_data = pd.read_csv(\"data/sim_test\")"
   ]
  },
  {
   "cell_type": "code",
   "execution_count": 80,
   "id": "695bc53d",
   "metadata": {},
   "outputs": [],
   "source": [
    "data_id_test = test_data[test_data[\"OOD\"] == 0.0]\n",
    "data_ood_test = test_data[test_data[\"OOD\"] == 1.0]"
   ]
  },
  {
   "cell_type": "code",
   "execution_count": 81,
   "id": "a9adb546",
   "metadata": {},
   "outputs": [
    {
     "data": {
      "text/plain": [
       "((312, 6), (312, 6))"
      ]
     },
     "execution_count": 81,
     "metadata": {},
     "output_type": "execute_result"
    }
   ],
   "source": [
    "data_id_test.shape, data_ood_test.shape"
   ]
  },
  {
   "cell_type": "code",
   "execution_count": 82,
   "id": "75a3940e",
   "metadata": {},
   "outputs": [],
   "source": [
    "x_test, t_test, e_test, o_test = split_df(test_data, x_label, t_label, e_label, o_label)\n",
    "\n",
    "dataset_test = TensorDataset(\n",
    "    *[\n",
    "        torch.tensor(u, dtype=dtype_)\n",
    "        for u, dtype_ in [\n",
    "            (x_test, torch.float32),\n",
    "            (t_test, torch.float32),\n",
    "            (e_test, torch.long),\n",
    "            (o_test, torch.long),\n",
    "        ]\n",
    "    ]\n",
    ")\n",
    "\n",
    "data_loader_test = DataLoader(\n",
    "    dataset_test, batch_size=batch_size, pin_memory=True, shuffle=True\n",
    ")"
   ]
  },
  {
   "cell_type": "markdown",
   "id": "a1ca87bd",
   "metadata": {},
   "source": [
    "## Quantitative Assessment"
   ]
  },
  {
   "cell_type": "code",
   "execution_count": 83,
   "id": "e78c461b",
   "metadata": {},
   "outputs": [
    {
     "name": "stderr",
     "output_type": "stream",
     "text": [
      "0it [00:03, ?it/s]\n",
      "\n",
      "KeyboardInterrupt\n",
      "\n"
     ]
    }
   ],
   "source": [
    "loss_v1_d1 = compute_timediff(model, data_loader_test, n_sample = 50, df_type = \"D1\", verbose = True)"
   ]
  },
  {
   "cell_type": "code",
   "execution_count": null,
   "id": "8d39bd6f",
   "metadata": {},
   "outputs": [],
   "source": [
    "print(\"Similarity across survival trajectories\")\n",
    "print(\"Dataset: D1\")\n",
    "print(f\"coDeSurv: {loss_v1_d1}\")"
   ]
  },
  {
   "cell_type": "code",
   "execution_count": null,
   "id": "dacb6460",
   "metadata": {},
   "outputs": [],
   "source": [
    "loss_v1_d2 = compute_timediff(model, data_loader_test, n_sample = 50, df_type = \"D2\", verbose = True)"
   ]
  },
  {
   "cell_type": "code",
   "execution_count": null,
   "id": "3a1e3b3d",
   "metadata": {},
   "outputs": [],
   "source": [
    "print(\"Similarity across survival trajectories\")\n",
    "print(\"Dataset: D2\")\n",
    "print(f\"coDeSurv: {loss_v1_d2}\")"
   ]
  },
  {
   "cell_type": "markdown",
   "id": "11ea3005",
   "metadata": {},
   "source": [
    "### Multiple iterations over consistency metrics"
   ]
  },
  {
   "cell_type": "code",
   "execution_count": null,
   "id": "ba88b9dd",
   "metadata": {},
   "outputs": [],
   "source": [
    "from collections import defaultdict\n",
    "import tqdm as tq"
   ]
  },
  {
   "cell_type": "code",
   "execution_count": null,
   "id": "b42d0986",
   "metadata": {},
   "outputs": [],
   "source": [
    "models = {\"coDeSurv_D3\":defaultdict(list)}\n",
    "iterations = 50"
   ]
  },
  {
   "cell_type": "code",
   "execution_count": null,
   "id": "fd4251b6",
   "metadata": {},
   "outputs": [],
   "source": [
    "for i in range(iterations):\n",
    "    print(f\"Iteration: {i}\")\n",
    "    for data_type in [\"D1\", \"D2\"]:\n",
    "        \n",
    "        print(f\"Iteration: {i} - coDeSurv_D3 - Computing the metric on {data_type}\")\n",
    "        models[\"coDeSurv_D3\"][f\"consistency_{data_type}\"].append(\n",
    "            compute_timediff(model, data_loader_test, n_sample = 50, df_type = data_type, verbose = True)\n",
    "        )\n"
   ]
  },
  {
   "cell_type": "code",
   "execution_count": null,
   "id": "f3ba04d8",
   "metadata": {},
   "outputs": [],
   "source": [
    "for k, v in models.items():\n",
    "    for key, value in v.items():\n",
    "        print(f\"{k} - {key}\")\n",
    "        print(np.round(np.mean(value[:50]), 4), np.round(np.std(value[:50]),4))\n"
   ]
  },
  {
   "cell_type": "markdown",
   "id": "f4b99511",
   "metadata": {},
   "source": [
    "## Predictive accuracy"
   ]
  },
  {
   "cell_type": "markdown",
   "id": "ecd5a315",
   "metadata": {},
   "source": [
    "We first fix the dataset to be used for the evaluation. This is to ensure that we use the same dataset to compare both similarity and predictive accuracy of each model."
   ]
  },
  {
   "cell_type": "markdown",
   "id": "abfb8a30",
   "metadata": {},
   "source": [
    "## Likelihood"
   ]
  },
  {
   "cell_type": "code",
   "execution_count": 84,
   "id": "b5ca6a50",
   "metadata": {},
   "outputs": [],
   "source": [
    "lik_v1 = model.compute_lik(data_id_test[x_label].values, data_id_test[t_label].values, data_id_test[e_label].values)\n",
    "lik_v1_d2 = model.compute_lik(data_ood_test[x_label].values, data_ood_test[t_label].values, data_ood_test[e_label].values)"
   ]
  },
  {
   "cell_type": "code",
   "execution_count": 85,
   "id": "93c74c14",
   "metadata": {},
   "outputs": [
    {
     "name": "stdout",
     "output_type": "stream",
     "text": [
      "Predictive accuracy: log-likelihood\n",
      "Dataset: D1\n",
      "D1: Consistent DeSurv: -6.2666802406311035\n"
     ]
    }
   ],
   "source": [
    "print(\"Predictive accuracy: log-likelihood\")\n",
    "print(\"Dataset: D1\")\n",
    "print(f\"D1: Consistent DeSurv: {lik_v1}\")"
   ]
  },
  {
   "cell_type": "code",
   "execution_count": 86,
   "id": "001a5a29",
   "metadata": {},
   "outputs": [
    {
     "name": "stdout",
     "output_type": "stream",
     "text": [
      "Predictive accuracy: log-likelihood\n",
      "Dataset: D2\n",
      "D1: Consistent DeSurv: -6.317348957061768\n"
     ]
    }
   ],
   "source": [
    "print(\"Predictive accuracy: log-likelihood\")\n",
    "print(\"Dataset: D2\")\n",
    "print(f\"D1: Consistent DeSurv: {lik_v1_d2}\")"
   ]
  },
  {
   "cell_type": "code",
   "execution_count": 87,
   "id": "28225ac1",
   "metadata": {},
   "outputs": [
    {
     "data": {
      "text/plain": [
       "(-5.726801521106306, -6.775011630512932)"
      ]
     },
     "execution_count": 87,
     "metadata": {},
     "output_type": "execute_result"
    }
   ],
   "source": [
    "aft.score(data_id_test), aft.score(data_ood_test)"
   ]
  },
  {
   "cell_type": "markdown",
   "id": "51a1b436",
   "metadata": {},
   "source": [
    "## C-index"
   ]
  },
  {
   "cell_type": "code",
   "execution_count": 88,
   "id": "de5c2cba",
   "metadata": {},
   "outputs": [],
   "source": [
    "def compute_cidx( model_name, df ):\n",
    "    res = 0\n",
    "    if model_name == \"baseline\":\n",
    "        res = concordance_index_censored(df[\"Censor\"] == 1.0, df[\"Duration\"], -aft.predict_median(df))\n",
    "    \n",
    "    elif model_name == \"coDeSurv\":\n",
    "        res = concordance_index_censored(df[\"Censor\"] == 1.0, \n",
    "                           df[\"Duration\"], -predict_cif(model, df).detach().numpy())\n",
    "    elif model_name == \"DeSurv\":\n",
    "        res = concordance_index_censored( df[\"Censor\"] == 1.0, \n",
    "                           df[\"Duration\"], -predict_cif(model_v2, df).detach().numpy())\n",
    "    else:\n",
    "        res = concordance_index_censored(df[\"Censor\"] == 1.0, \n",
    "                           df[\"Duration\"], -predict_cif(model_v3, df).detach().numpy())\n",
    "    \n",
    "    return res"
   ]
  },
  {
   "cell_type": "code",
   "execution_count": 89,
   "id": "311e95fd",
   "metadata": {},
   "outputs": [],
   "source": [
    "def show_cidx(model_name):\n",
    "    cidx_d1, cidx_d2 = compute_cidx(model_name, data_id_test), compute_cidx(model_name, data_ood_test)\n",
    "    \n",
    "    print(f\"{model_name}\")\n",
    "    print(f\"D1: {cidx_d1[0]}, D2: {cidx_d2[0]} \\n\")"
   ]
  },
  {
   "cell_type": "code",
   "execution_count": 90,
   "id": "65191e12",
   "metadata": {},
   "outputs": [
    {
     "name": "stdout",
     "output_type": "stream",
     "text": [
      "Predictive accuracy: c-index\n",
      "baseline\n",
      "D1: 0.7871732146541307, D2: 0.6639752513534416 \n",
      "\n",
      "coDeSurv\n",
      "D1: 0.8139644551858293, D2: 0.8653982985305491 \n",
      "\n"
     ]
    }
   ],
   "source": [
    "print(\"Predictive accuracy: c-index\")\n",
    "\n",
    "for model_name in [\"baseline\",\"coDeSurv\"]:\n",
    "    show_cidx(model_name)"
   ]
  },
  {
   "cell_type": "markdown",
   "id": "7a5f39a5",
   "metadata": {},
   "source": [
    "## Qualitative Assessment: visualise the predicted survival curves across different models"
   ]
  },
  {
   "cell_type": "code",
   "execution_count": 91,
   "id": "e5fa3ff0",
   "metadata": {},
   "outputs": [],
   "source": [
    "def gather_predictions( df, method ):\n",
    "    baseline_surv = aft.predict_survival_function(df, times = np.linspace(0, 2, 200))\n",
    "    surv = method.predict_surv_df(torch.tensor(df[x_label].values, dtype=torch.float32).clone().detach(),\n",
    "                        np.linspace(0, 2, 200))\n",
    "    \n",
    "    return baseline_surv, surv\n",
    "\n",
    "def plot_surv(baseline_surv, surv, df, idx, model_name = \"DeSurv\"):\n",
    "    \n",
    "    plt.plot(surv.iloc[:, idx], label = model_name)\n",
    "    plt.plot(baseline_surv.iloc[:, idx], color = 'grey', label = \"Baseline\")\n",
    "    \n",
    "#     plt.axvline(df[\"Duration\"].iloc[idx], label = \"Censor: %d\" % df[\"Censor\"].iloc[idx], color = 'black')\n",
    "    plt.legend()\n",
    "    plt.xlabel(\"Durations\")\n",
    "    plt.ylabel(\"Survival Probabilities\")\n",
    "    plt.show()\n",
    "\n",
    "def plot_surv_joint(baseline_surv, joint_survs, df, idx, figsize = (8, 5)):\n",
    "    \n",
    "    plt.figure(figsize = figsize)\n",
    "    colors = sns.color_palette(\"hls\", len(joint_survs))\n",
    "    for i, (model_name, model) in enumerate(joint_survs.items()):\n",
    "        plt.plot(model.iloc[:, idx], color = colors[i], label = model_name)\n",
    "    \n",
    "    plt.plot(baseline_surv.iloc[:, idx], color = 'grey', label = \"Baseline\")\n",
    "    \n",
    "#     plt.axvline(df[\"Duration\"].iloc[idx], label = \"Censor: %d\" % df[\"Censor\"].iloc[idx], color = 'black')\n",
    "    plt.legend()\n",
    "    plt.xlabel(\"Durations\")\n",
    "    plt.ylabel(\"Survival Probabilities\")\n",
    "    plt.show()"
   ]
  },
  {
   "cell_type": "code",
   "execution_count": 92,
   "id": "3426b91a",
   "metadata": {},
   "outputs": [
    {
     "name": "stderr",
     "output_type": "stream",
     "text": [
      "/Users/woojungkim/Documents/2024/Oxford/code/Continuous-Predictions/experiments/model/coDeSurv.py:198: UserWarning: To copy construct from a tensor, it is recommended to use sourceTensor.clone().detach() or sourceTensor.clone().detach().requires_grad_(True), rather than torch.tensor(sourceTensor).\n",
      "  x_ = torch.tensor(np.repeat(x_test, [t_eval.size] * x_test.shape[0], axis=0), dtype=torch.float32)\n"
     ]
    }
   ],
   "source": [
    "d1_baseline_surv, d1_surv = gather_predictions(d1_data, model)"
   ]
  },
  {
   "cell_type": "code",
   "execution_count": 93,
   "id": "2f48c859",
   "metadata": {},
   "outputs": [],
   "source": [
    "d1_joint_surv = {\"coDeSurv\": d1_surv}"
   ]
  },
  {
   "cell_type": "code",
   "execution_count": 94,
   "id": "04ba3e4a",
   "metadata": {},
   "outputs": [
    {
     "name": "stderr",
     "output_type": "stream",
     "text": [
      "/Users/woojungkim/Documents/2024/Oxford/code/Continuous-Predictions/experiments/model/coDeSurv.py:198: UserWarning: To copy construct from a tensor, it is recommended to use sourceTensor.clone().detach() or sourceTensor.clone().detach().requires_grad_(True), rather than torch.tensor(sourceTensor).\n",
      "  x_ = torch.tensor(np.repeat(x_test, [t_eval.size] * x_test.shape[0], axis=0), dtype=torch.float32)\n"
     ]
    }
   ],
   "source": [
    "d2_baseline_surv, d2_surv = gather_predictions(d2_data, model)"
   ]
  },
  {
   "cell_type": "code",
   "execution_count": 95,
   "id": "52399966",
   "metadata": {},
   "outputs": [],
   "source": [
    "d2_joint_surv = {\"coDeSurv\": d2_surv}"
   ]
  },
  {
   "cell_type": "code",
   "execution_count": 96,
   "id": "8c5635ab",
   "metadata": {},
   "outputs": [
    {
     "data": {
      "image/png": "[encoded data removed]",
      "text/plain": [
       "<Figure size 576x360 with 1 Axes>"
      ]
     },
     "metadata": {
      "needs_background": "light"
     },
     "output_type": "display_data"
    }
   ],
   "source": [
    "plot_surv_joint(d1_baseline_surv, d1_joint_surv, d1_data, 8)"
   ]
  },
  {
   "cell_type": "code",
   "execution_count": 99,
   "id": "3ae22be0",
   "metadata": {},
   "outputs": [
    {
     "data": {
      "image/png": "[encoded data removed]",
      "text/plain": [
       "<Figure size 576x360 with 1 Axes>"
      ]
     },
     "metadata": {
      "needs_background": "light"
     },
     "output_type": "display_data"
    }
   ],
   "source": [
    "plot_surv_joint(d2_baseline_surv, d2_joint_surv, data_ood_test, 18)"
   ]
  },
  {
   "cell_type": "markdown",
   "id": "aa2554d5",
   "metadata": {},
   "source": [
    "### Save the data"
   ]
  },
  {
   "cell_type": "code",
   "execution_count": 102,
   "id": "28096d02",
   "metadata": {},
   "outputs": [],
   "source": [
    "d2_joint_surv[\"coDeSurv\"].to_csv('data/sim_trajectory_d3.json')"
   ]
  },
  {
   "cell_type": "code",
   "execution_count": null,
   "id": "229dfea3",
   "metadata": {},
   "outputs": [],
   "source": []
  }
 ],
 "metadata": {
  "kernelspec": {
   "display_name": "Python 3 (ipykernel)",
   "language": "python",
   "name": "python3"
  },
  "language_info": {
   "codemirror_mode": {
    "name": "ipython",
    "version": 3
   },
   "file_extension": ".py",
   "mimetype": "text/x-python",
   "name": "python",
   "nbconvert_exporter": "python",
   "pygments_lexer": "ipython3",
   "version": "3.9.16"
  }
 },
 "nbformat": 4,
 "nbformat_minor": 5
}
